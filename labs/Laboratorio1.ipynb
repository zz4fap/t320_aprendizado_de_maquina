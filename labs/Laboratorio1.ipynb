{
 "cells": [
  {
   "cell_type": "markdown",
   "metadata": {},
   "source": [
    "# Laboratório #1\n",
    "\n",
    "### Instruções\n",
    "\n",
    "1. Quando você terminar os exercícios do laboratório, vá ao menu do Jupyter ou Colab e selecione a opção para fazer download do notebook.\n",
    "    * Os notebooks tem extensão .ipynb. \n",
    "    * Este deve ser o arquivo que você irá entregar.\n",
    "    * No Jupyter vá até a opção **File** -> **Download as** -> **Notebook (.ipynb)**.\n",
    "    * No Colab vá até a opção **File** -> **Download .ipynb**.\n",
    "2. Após o download do notebook, vá até a aba de tarefas do MS Teams, localize a tarefa referente a este laboratório e faça o upload do seu notebook. Veja que há uma opção de anexar arquivos à tarefa.\n",
    "3. Não se esqueça de colocar seu **nome** e **matrícula** na célula de texto abaixo."
   ]
  },
  {
   "cell_type": "markdown",
   "metadata": {},
   "source": [
    "**Nome**:\n",
    "\n",
    "**Matrícula**:"
   ]
  },
  {
   "cell_type": "markdown",
   "metadata": {},
   "source": [
    "## Exercícios"
   ]
  },
  {
   "cell_type": "markdown",
   "metadata": {},
   "source": [
    "#### 1)  Neste exercício, você deve encontrar a função discriminante, $g(x)$, calcular o erro de predição e plotar as regiões de decisão.\n",
    "\n",
    "1. Execute a célula abaixo e analise a figura gerada. A figura mostra os exemplos de duas classes."
   ]
  },
  {
   "cell_type": "code",
   "execution_count": 2,
   "metadata": {},
   "outputs": [
    {
     "data": {
      "image/png": "[encoded data removed]",
      "text/plain": [
       "<Figure size 360x360 with 1 Axes>"
      ]
     },
     "metadata": {
      "needs_background": "light"
     },
     "output_type": "display_data"
    }
   ],
   "source": [
    "# importing libraries\n",
    "import numpy as np\n",
    "import matplotlib.pyplot as plt\n",
    "\n",
    "# Exemplos pertencentes a duas classes (atributos).\n",
    "X = np.array([\n",
    "    [1,1],[-1,1],[-1,-1],[1,-1],[0,1.5],[-1.25,0],[0,-1.5],[1.25,0],\n",
    "    [2,2],[-2,2],[-2,-2],[2,-2],[0,2.5],[0,-2.5],[-2.25,0],[2.25,0]\n",
    "])\n",
    "\n",
    "# Classes as quais os exemplos pertencem (rótulos).\n",
    "y = np.array([0,0,0,0,0,0,0,0,1,1,1,1,1,1,1,1])\n",
    "\n",
    "axis1 = np.argwhere(y==0)\n",
    "axis2 = np.argwhere(y==1)\n",
    "\n",
    "plt.figure(figsize=(5,5))\n",
    "plt.plot(X[axis1,0],X[axis1,1], '.', markersize=10, label='Classe 0')\n",
    "plt.plot(X[axis2,0],X[axis2,1], 'r^', markersize=10, label='Classe 1')\n",
    "plt.xlabel('$x_1$', fontsize=14)\n",
    "plt.ylabel('$x_2$', fontsize=14)\n",
    "plt.grid()\n",
    "plt.legend()\n",
    "plt.show()"
   ]
  },
  {
   "cell_type": "markdown",
   "metadata": {},
   "source": [
    " 2. Depois de analisar a figura acima, responda:\n",
    " \n",
    "+ Qual tipo de função discriminante (linear ou não linear) seria necesária para se separar estas duas classes?\n",
    "+ Qual formato esta função discriminante deve ter (ou seja, qual tipo de equação)?"
   ]
  },
  {
   "cell_type": "markdown",
   "metadata": {},
   "source": [
    "<span style=\"color:blue\">Escreva aqui a resposta do exercício.</span>\n",
    "\n",
    "**Resposta**"
   ]
  },
  {
   "cell_type": "markdown",
   "metadata": {},
   "source": [
    "3. Encontre a função discriminante, $g(x)$, e crie uma função chamada `predict` para classificar os exemplos acima.\n",
    "\n",
    "**DICA**\n",
    "+ Para resolver este item, se baseie no código do seguinte exemplo: [encontrando_pesos_da_função_discriminante.ipynb](https://colab.research.google.com/github/zz4fap/t320_aprendizado_de_maquina/blob/main/notebooks/classificação/encontrando_pesos_da_função_discriminante.ipynb)."
   ]
  },
  {
   "cell_type": "code",
   "execution_count": 2,
   "metadata": {},
   "outputs": [],
   "source": [
    "# Digite aqui o código do exercício."
   ]
  },
  {
   "cell_type": "markdown",
   "metadata": {},
   "source": [
    "4. Calcule o erro de predição e verifique que seu classificador tem 100% de acurácia, ou seja, não comete nenhum erro.\n",
    "\n",
    "**DICA**\n",
    "+ Para resolver este item, se baseie no código do seguinte exemplo: [encontrando_pesos_da_função_discriminante.ipynb](https://colab.research.google.com/github/zz4fap/t320_aprendizado_de_maquina/blob/main/notebooks/classificação/encontrando_pesos_da_função_discriminante.ipynb)."
   ]
  },
  {
   "cell_type": "code",
   "execution_count": 1,
   "metadata": {},
   "outputs": [],
   "source": [
    "# Digite aqui o código do exercício."
   ]
  },
  {
   "cell_type": "markdown",
   "metadata": {},
   "source": [
    "5. Crie uma figura mostrando as regiões de decisão.\n",
    "\n",
    "**DICAS**\n",
    "+ Para resolver este item, se baseie no código do seguinte exemplo: [encontrando_pesos_da_função_discriminante.ipynb](https://colab.research.google.com/github/zz4fap/t320_aprendizado_de_maquina/blob/main/notebooks/classificação/encontrando_pesos_da_função_discriminante.ipynb).\n",
    "+ Você irá precisar alterar os valores mínimos e máximos dos eixos x e y, i.e., `x_min`, `x_max`, `y_min` e `y_max`."
   ]
  },
  {
   "cell_type": "code",
   "execution_count": 2,
   "metadata": {},
   "outputs": [],
   "source": [
    "# Digite aqui o código do exercício."
   ]
  },
  {
   "cell_type": "markdown",
   "metadata": {},
   "source": [
    "#### 2) Neste exercício, você deve encontrar as funções discriminantes que separam as classes abaixo, calcular o erro de predição e plotar as regiões de decisão.\n",
    "\n",
    "1. Execute a célula abaixo e analise a figura gerada. A figura mostra os exemplos de **três classes**."
   ]
  },
  {
   "cell_type": "code",
   "execution_count": 5,
   "metadata": {},
   "outputs": [
    {
     "data": {
      "image/png": "[encoded data removed]",
      "text/plain": [
       "<Figure size 432x288 with 1 Axes>"
      ]
     },
     "metadata": {
      "needs_background": "light"
     },
     "output_type": "display_data"
    }
   ],
   "source": [
    "# importing libraries\n",
    "import numpy as np\n",
    "import matplotlib.pyplot as plt\n",
    "\n",
    "# Exemplos pertencentes a três classes.\n",
    "X = np.array([\n",
    "    [0.5,0.5],[0.5,1.5],[1.5,0.5],[1,1],\n",
    "    [0.5,3.5],[1.5,2.5],[1.5,3.5],[2.5,3.5],\n",
    "    [2.5,1.5],[3.5,0.5],[3.5,1.5],[3.5,2.5]\n",
    "])\n",
    "\n",
    "# Classes as quais os exemplos pertencem.\n",
    "y = np.array([0,0,0,0,1,1,1,1,2,2,2,2])\n",
    "\n",
    "axis1 = np.argwhere(y==0)\n",
    "axis2 = np.argwhere(y==1)\n",
    "axis3 = np.argwhere(y==2)\n",
    "\n",
    "plt.plot(X[axis1,0],X[axis1,1], '.', markersize=10, label='Classe 0')\n",
    "plt.plot(X[axis2,0],X[axis2,1], 'r^', markersize=10, label='Classe 1')\n",
    "plt.plot(X[axis3,0],X[axis3,1], 'gs', markersize=10, label='Classe 2')\n",
    "plt.xlabel('$x_1$', fontsize=14)\n",
    "plt.ylabel('$x_2$', fontsize=14)\n",
    "plt.xlim(0,4)\n",
    "plt.ylim(0,4)\n",
    "plt.grid()\n",
    "plt.legend()\n",
    "plt.show()"
   ]
  },
  {
   "cell_type": "markdown",
   "metadata": {},
   "source": [
    " 2. Depois de analisar a figura acima, responda:\n",
    " \n",
    "+ Quantas funções discriminantes são necessárias para se separar estas três classes?\n",
    "+ Quais tipos de funções discriminantes (linear ou não linear) seriam necessárias para se separar estas classes. Pense em funções simples, ou seja, sem muita complexidade.\n",
    "+ Qual formato estas funções discriminantes devem ter?"
   ]
  },
  {
   "cell_type": "markdown",
   "metadata": {},
   "source": [
    "<span style=\"color:blue\">Escreva aqui a resposta do exercício.</span>\n",
    "\n",
    "**Resposta**"
   ]
  },
  {
   "cell_type": "markdown",
   "metadata": {},
   "source": [
    "3. Encontre as funções discriminantes, $g_1(x)$ e $g_2(x)$, e crie uma função chamada `predict` para classificar os exemplos acima.\n",
    "\n",
    "**DICAS**\n",
    "+ Para resolver este item, se baseie no código do seguinte exemplo: [encontrando_pesos_da_função_discriminante.ipynb](https://colab.research.google.com/github/zz4fap/t320_aprendizado_de_maquina/blob/main/notebooks/classificação/encontrando_pesos_da_função_discriminante.ipynb).\n",
    "+ Você vai precisar realizar duas classificações, ou seja, dois `if`s, para poder separar os exemplos de todas as classes. Use uma das funções discriminantes para separar os exemplos entre uma classe e outra classe que é a junção (união) das duas restantes, em seguida, use a segunda função discriminante para separar os exemplos das duas classes que foram classificadas como pertencentes à mesma classe pela primeira função discriminante."
   ]
  },
  {
   "cell_type": "code",
   "execution_count": 6,
   "metadata": {},
   "outputs": [],
   "source": [
    "# Digite aqui o código do exercício."
   ]
  },
  {
   "cell_type": "markdown",
   "metadata": {},
   "source": [
    "4. Calcule o erro de predição e verifique que seu classificador tem 100% de acurácia, ou seja, não comete nenhum erro.\n",
    "\n",
    "**DICA**\n",
    "+ Para resolver este item, se baseie no código do seguinte exemplo: [encontrando_pesos_da_função_discriminante.ipynb](https://colab.research.google.com/github/zz4fap/t320_aprendizado_de_maquina/blob/main/notebooks/classificação/encontrando_pesos_da_função_discriminante.ipynb)."
   ]
  },
  {
   "cell_type": "code",
   "execution_count": 3,
   "metadata": {},
   "outputs": [],
   "source": [
    "# Digite aqui o código do exercício."
   ]
  },
  {
   "cell_type": "markdown",
   "metadata": {},
   "source": [
    "5. Crie uma figura mostrando as regiões de decisão.\n",
    "\n",
    "**DICAS**\n",
    "+ Para resolver este item, se baseie no código do seguinte exemplo: [encontrando_pesos_da_função_discriminante.ipynb](https://colab.research.google.com/github/zz4fap/t320_aprendizado_de_maquina/blob/main/notebooks/classificação/encontrando_pesos_da_função_discriminante.ipynb)."
   ]
  },
  {
   "cell_type": "code",
   "execution_count": 4,
   "metadata": {},
   "outputs": [],
   "source": [
    "# Digite aqui o código do exercício."
   ]
  }
 ],
 "metadata": {
  "kernelspec": {
   "display_name": "Python 3",
   "language": "python",
   "name": "python3"
  },
  "language_info": {
   "codemirror_mode": {
    "name": "ipython",
    "version": 3
   },
   "file_extension": ".py",
   "mimetype": "text/x-python",
   "name": "python",
   "nbconvert_exporter": "python",
   "pygments_lexer": "ipython3",
   "version": "3.7.7"
  }
 },
 "nbformat": 4,
 "nbformat_minor": 4
}
