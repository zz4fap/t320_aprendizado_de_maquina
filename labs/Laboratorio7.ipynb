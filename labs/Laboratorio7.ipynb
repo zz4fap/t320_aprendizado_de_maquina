{
 "cells": [
  {
   "cell_type": "markdown",
   "metadata": {},
   "source": [
    "# Laboratório #7\n",
    "\n",
    "### Instruções\n",
    "\n",
    "1. Quando você terminar os exercícios do laboratório, vá ao menu do Jupyter ou Colab e selecione a opção para fazer download do notebook.\n",
    "    * Os notebooks tem extensão .ipynb. \n",
    "    * Este deve ser o arquivo que você irá entregar.\n",
    "    * No Jupyter vá até a opção **File** -> **Download as** -> **Notebook (.ipynb)**.\n",
    "    * No Colab vá até a opção **File** -> **Download .ipynb**.\n",
    "2. Após o download do notebook, vá até a aba de tarefas do MS Teams, localize a tarefa referente a este laboratório e faça o upload do seu notebook. Veja que há uma opção de anexar arquivos à tarefa."
   ]
  },
  {
   "cell_type": "markdown",
   "metadata": {},
   "source": [
    "**Nome**:\n",
    "\n",
    "**Matrícula**:"
   ]
  },
  {
   "cell_type": "markdown",
   "metadata": {},
   "source": [
    "## Exercícios"
   ]
  },
  {
   "cell_type": "markdown",
   "metadata": {},
   "source": [
    "#### 1)  Neste exercício, você irá investigar o uso de MLPs para a aproximação universal de funções. Você irá utilizar uma MLP com funções de ativação sigmóide para obter mapeamento um-para-um, para a função abaixo.\n",
    "\n",
    "$$f(x)= \\frac{1}{x}, 1 \\leq x \\leq 100$$\n",
    "\n",
    "De posse da definição da função, faça o seguinte:"
   ]
  },
  {
   "cell_type": "markdown",
   "metadata": {},
   "source": [
    "1. Gere os exemplos da função e na sequência os plote.\n",
    "\n",
    "**DICAS**:\n",
    "\n",
    "+ Gere $N=1000$ exemplos desta função.\n",
    "+ Use a função `linspace` da biblioteca `numpy` pra gerar os valores no intervalo definido para esta função.\n",
    "+ Não se esqueça de fazer um `reshape` para que `x` seja um vetor coluna com $N$ linhas e 1 coluna.\n",
    "+ Não se esqueça de importar todos os módulos necessários."
   ]
  },
  {
   "cell_type": "code",
   "execution_count": 1,
   "metadata": {},
   "outputs": [],
   "source": [
    "# Digite aqui o código do exercício."
   ]
  },
  {
   "cell_type": "markdown",
   "metadata": {},
   "source": [
    "2. Divida o conjunto total de exemplos em 70% para treinamento e 30% para validação."
   ]
  },
  {
   "cell_type": "code",
   "execution_count": 2,
   "metadata": {},
   "outputs": [],
   "source": [
    "# Digite aqui o código do exercício."
   ]
  },
  {
   "cell_type": "markdown",
   "metadata": {},
   "source": [
    "3. Use validação cruzada (`GridSearchCV`) e o conjunto de treinamento para treinar um `MLPRegressor`, com uma única camada escondida de tal forma que o modelo aproxime a função.\n",
    "\n",
    "**DICAS**:\n",
    "\n",
    "+ Use **uma única camada escondida**, mas com um número variável de nós escondidos.\n",
    "+ Use **grid search** com alguns valores para encontrar o número ótimo de nós na camada escondida e da semente do gerador pseudo-aleatório. Use inicialmente os mesmos valores usados no exemplo mencionado abaixo.\n",
    "+ O treinamento pode ser um demorado, então pegue um café e tenha paciência.\n",
    "+ Use os mesmos valores de hiperparâmetros utilizados no notebook de exemplo `function_approximation.ipynb`.\n",
    "+ Use um número de folds para o k-Fold igual a 10.\n",
    "+ Para resolver este item, se baseie no código do seguinte exemplo: [function_approximation.ipynb](https://colab.research.google.com/github/zz4fap/t320_aprendizado_de_maquina/blob/main/notebooks/mlp/function_approximation.ipynb)."
   ]
  },
  {
   "cell_type": "code",
   "execution_count": 3,
   "metadata": {},
   "outputs": [],
   "source": [
    "# Digite aqui o código do exercício."
   ]
  },
  {
   "cell_type": "markdown",
   "metadata": {},
   "source": [
    "4. Após o treinamento, imprima quais foram os melhores valores encontrados pela validação cruzada.\n",
    "\n",
    "**DICAS**:\n",
    "    \n",
    "+ Para resolver este item, se baseie no código do seguinte exemplo: [function_approximation.ipynb](https://colab.research.google.com/github/zz4fap/t320_aprendizado_de_maquina/blob/main/notebooks/mlp/function_approximation.ipynb)."
   ]
  },
  {
   "cell_type": "code",
   "execution_count": 4,
   "metadata": {},
   "outputs": [],
   "source": [
    "# Digite aqui o código do exercício."
   ]
  },
  {
   "cell_type": "markdown",
   "metadata": {},
   "source": [
    "5. Avalie a precisão da aproximação feita pela rede MLP usando o conjunto de validação e apresente uma figura comparando a predição feita pela MLP com os dados originais.\n",
    "\n",
    "**DICAS**:\n",
    "\n",
    "+ Para resolver este item, se baseie no código do seguinte exemplo: [function_approximation.ipynb](https://colab.research.google.com/github/zz4fap/t320_aprendizado_de_maquina/blob/main/notebooks/mlp/function_approximation.ipynb)."
   ]
  },
  {
   "cell_type": "code",
   "execution_count": 5,
   "metadata": {},
   "outputs": [],
   "source": [
    "# Digite aqui o código do exercício."
   ]
  },
  {
   "cell_type": "markdown",
   "metadata": {},
   "source": [
    "#### 2)  Neste exercício, você irá investigar o uso de MLPs para a aproximação universal de funções. Você irá utilizar uma MLP com funções de ativação sigmóide para obter mapeamento um-para-um, para a função abaixo.\n",
    "\n",
    "$$f(x)= \\log_{10}(x), 1 \\leq x \\leq 10,$$\n",
    "\n",
    "De posse da definição da função, faça o seguinte:"
   ]
  },
  {
   "cell_type": "markdown",
   "metadata": {},
   "source": [
    "1. Gere os exemplos da função e na sequência os plote.\n",
    "\n",
    "**DICAS**:\n",
    "\n",
    "+ Gere $N=1000$ exemplos desta função.\n",
    "+ Use a função `linspace` da biblioteca `numpy` pra gerar os valores no intervalo definido para esta função.\n",
    "+ Não se esqueça de fazer um `reshape` para que `x` seja um vetor coluna com $N$ linhas e 1 coluna.\n",
    "+ Não se esqueça de importar todos os módulos necessários."
   ]
  },
  {
   "cell_type": "code",
   "execution_count": 6,
   "metadata": {},
   "outputs": [],
   "source": [
    "# Digite aqui o código do exercício."
   ]
  },
  {
   "cell_type": "markdown",
   "metadata": {},
   "source": [
    "2. Divida o conjunto total de exemplos em 70% para treinamento e 30% para validação."
   ]
  },
  {
   "cell_type": "code",
   "execution_count": 7,
   "metadata": {},
   "outputs": [],
   "source": [
    "# Digite aqui o código do exercício."
   ]
  },
  {
   "cell_type": "markdown",
   "metadata": {},
   "source": [
    "3. Use validação cruzada (`GridSearchCV`) e o conjunto de treinamento para treinar um `MLPRegressor`, com uma única camada escondida de tal forma que o modelo aproxime a função.\n",
    "\n",
    "**DICAS**:\n",
    "\n",
    "+ Use **uma única camada escondida**, mas com um número variável de nós escondidos.\n",
    "+ Use **grid search** com alguns valores para encontrar o número ótimo de nós na camada escondida e da semente do gerador pseudo-aleatório. Use inicialmente os mesmos valores usados no exemplo mencionado abaixo.\n",
    "+ O treinamento pode ser um demorado, então pegue um café e tenha paciência.\n",
    "+ Use os mesmos valores de hiperparâmetros utilizados no notebook de exemplo `function_approximation.ipynb`.\n",
    "+ Use um número de folds para o k-Fold igual a 10.\n",
    "+ Para resolver este item, se baseie no código do seguinte exemplo: [function_approximation.ipynb](https://colab.research.google.com/github/zz4fap/t320_aprendizado_de_maquina/blob/main/notebooks/mlp/function_approximation.ipynb)."
   ]
  },
  {
   "cell_type": "code",
   "execution_count": 8,
   "metadata": {},
   "outputs": [],
   "source": [
    "# Digite aqui o código do exercício."
   ]
  },
  {
   "cell_type": "markdown",
   "metadata": {},
   "source": [
    "4. Após o treinamento, imprima quais foram os melhores valores encontrados pela validação cruzada.\n",
    "\n",
    "**DICAS**:\n",
    "    \n",
    "+ Para resolver este item, se baseie no código do seguinte exemplo: [function_approximation.ipynb](https://colab.research.google.com/github/zz4fap/t320_aprendizado_de_maquina/blob/main/notebooks/mlp/function_approximation.ipynb)."
   ]
  },
  {
   "cell_type": "code",
   "execution_count": 9,
   "metadata": {},
   "outputs": [],
   "source": [
    "# Digite aqui o código do exercício."
   ]
  },
  {
   "cell_type": "markdown",
   "metadata": {},
   "source": [
    "5. Avalie a precisão da aproximação feita pela rede MLP usando o conjunto de validação e apresente uma figura comparando a predição feita pela MLP treinadas com os dados originais.\n",
    "\n",
    "**DICAS**:\n",
    "\n",
    "+ Para resolver este item, se baseie no código do seguinte exemplo: [function_approximation.ipynb](https://colab.research.google.com/github/zz4fap/t320_aprendizado_de_maquina/blob/main/notebooks/mlp/function_approximation.ipynb)."
   ]
  },
  {
   "cell_type": "code",
   "execution_count": 10,
   "metadata": {},
   "outputs": [],
   "source": [
    "# Digite aqui o código do exercício."
   ]
  },
  {
   "cell_type": "markdown",
   "metadata": {},
   "source": [
    "#### 3)  Neste exercício, você irá investigar o uso de MLPs para a aproximação universal de funções. Você irá utilizar uma MLP com funções de ativação sigmóide para obter mapeamento um-para-um, para a função abaixo.\n",
    "\n",
    "$$f(x)= \\exp(-x), 1 \\leq x \\leq 10$$\n",
    "\n",
    "De posse da definição da função, faça o seguinte:"
   ]
  },
  {
   "cell_type": "markdown",
   "metadata": {},
   "source": [
    "1. Gere os exemplos da função e na sequência os plote.\n",
    "\n",
    "**DICAS**:\n",
    "\n",
    "+ Gere $N=1000$ exemplos desta função.\n",
    "+ Use a função `linspace` da biblioteca `numpy` pra gerar os valores no intervalo definido para esta função.\n",
    "+ Não se esqueça de fazer um `reshape` para que `x` seja um vetor coluna com $N$ linhas e 1 coluna.\n",
    "+ Não se esqueça de importar todos os módulos necessários."
   ]
  },
  {
   "cell_type": "code",
   "execution_count": 11,
   "metadata": {},
   "outputs": [],
   "source": [
    "# Digite aqui o código do exercício."
   ]
  },
  {
   "cell_type": "markdown",
   "metadata": {},
   "source": [
    "2. Divida o conjunto total de exemplos em 70% para treinamento e 30% para validação."
   ]
  },
  {
   "cell_type": "code",
   "execution_count": 12,
   "metadata": {},
   "outputs": [],
   "source": [
    "# Digite aqui o código do exercício."
   ]
  },
  {
   "cell_type": "markdown",
   "metadata": {},
   "source": [
    "3. Use validação cruzada (`GridSearchCV`) e o conjunto de treinamento para treinar um `MLPRegressor`, com uma única camada escondida de tal forma que o modelo aproxime a função.\n",
    "\n",
    "**DICAS**:\n",
    "\n",
    "+ Use **uma única camada escondida**, mas com um número variável de nós escondidos.\n",
    "+ Use **grid search** com alguns valores para encontrar o número ótimo de nós na camada escondida e da semente do gerador pseudo-aleatório. Use inicialmente os mesmos valores usados no exemplo mencionado abaixo.\n",
    "+ O treinamento pode ser um demorado, então pegue um café e tenha paciência.\n",
    "+ Use os mesmos valores de hiperparâmetros utilizados no notebook de exemplo `function_approximation.ipynb`.\n",
    "+ Use um número de folds para o k-Fold igual a 10.\n",
    "+ Para resolver este item, se baseie no código do seguinte exemplo: [function_approximation.ipynb](https://colab.research.google.com/github/zz4fap/t320_aprendizado_de_maquina/blob/main/notebooks/mlp/function_approximation.ipynb)."
   ]
  },
  {
   "cell_type": "code",
   "execution_count": 13,
   "metadata": {},
   "outputs": [],
   "source": [
    "# Digite aqui o código do exercício."
   ]
  },
  {
   "cell_type": "markdown",
   "metadata": {},
   "source": [
    "4. Após o treinamento, imprima quais foram os melhores valores encontrados pela validação cruzada.\n",
    "\n",
    "**DICAS**:\n",
    "    \n",
    "+ Para resolver este item, se baseie no código do seguinte exemplo: [function_approximation.ipynb](https://colab.research.google.com/github/zz4fap/t320_aprendizado_de_maquina/blob/main/notebooks/mlp/function_approximation.ipynb)."
   ]
  },
  {
   "cell_type": "code",
   "execution_count": 14,
   "metadata": {},
   "outputs": [],
   "source": [
    "# Digite aqui o código do exercício."
   ]
  },
  {
   "cell_type": "markdown",
   "metadata": {},
   "source": [
    "5. Avalie a precisão da aproximação feita pela rede MLP usando o conjunto de validação e apresente uma figura comparando a predição feita pela MLP treinadas com os dados originais.\n",
    "\n",
    "**DICAS**:\n",
    "\n",
    "+ Para resolver este item, se baseie no código do seguinte exemplo: [function_approximation.ipynb](https://colab.research.google.com/github/zz4fap/t320_aprendizado_de_maquina/blob/main/notebooks/mlp/function_approximation.ipynb)."
   ]
  },
  {
   "cell_type": "code",
   "execution_count": 15,
   "metadata": {},
   "outputs": [],
   "source": [
    "# Digite aqui o código do exercício."
   ]
  },
  {
   "cell_type": "markdown",
   "metadata": {},
   "source": [
    "#### 4)  Neste exercício, você irá investigar o uso de MLPs para a aproximação universal de funções. Você irá utilizar uma MLP com funções de ativação sigmóide para obter mapeamento um-para-um, para a função abaixo.\n",
    "\n",
    "$$f(x)= \\sin(x), 0 \\leq x \\leq 2\\pi$$\n",
    "\n",
    "De posse da definição da função, faça o seguinte:"
   ]
  },
  {
   "cell_type": "markdown",
   "metadata": {},
   "source": [
    "1. Gere os exemplos da função e na sequência os plote.\n",
    "\n",
    "**DICAS**:\n",
    "\n",
    "+ Gere $N=1000$ exemplos desta função.\n",
    "+ Use a função `linspace` da biblioteca `numpy` pra gerar os valores no intervalo definido para esta função.\n",
    "+ Não se esqueça de fazer um `reshape` para que `x` seja um vetor coluna com $N$ linhas e 1 coluna.\n",
    "+ Não se esqueça de importar todos os módulos necessários."
   ]
  },
  {
   "cell_type": "code",
   "execution_count": 16,
   "metadata": {},
   "outputs": [],
   "source": [
    "# Digite aqui o código do exercício."
   ]
  },
  {
   "cell_type": "markdown",
   "metadata": {},
   "source": [
    "2. Divida o conjunto total de exemplos em 70% para treinamento e 30% para validação."
   ]
  },
  {
   "cell_type": "code",
   "execution_count": 17,
   "metadata": {},
   "outputs": [],
   "source": [
    "# Digite aqui o código do exercício."
   ]
  },
  {
   "cell_type": "markdown",
   "metadata": {},
   "source": [
    "3. Use validação cruzada (`GridSearchCV`) e o conjunto de treinamento para treinar um `MLPRegressor`, com uma única camada escondida de tal forma que o modelo aproxime a função.\n",
    "\n",
    "**DICAS**:\n",
    "\n",
    "+ Use **uma única camada escondida**, mas com um número variável de nós escondidos.\n",
    "+ Use **grid search** com alguns valores para encontrar o número ótimo de nós na camada escondida e da semente do gerador pseudo-aleatório. Use inicialmente os mesmos valores usados no exemplo mencionado abaixo.\n",
    "+ O treinamento pode ser um demorado, então pegue um café e tenha paciência.\n",
    "+ Use os mesmos valores de hiperparâmetros utilizados no notebook de exemplo `function_approximation.ipynb`.\n",
    "+ Use um número de folds para o k-Fold igual a 10.\n",
    "+ Para resolver este item, se baseie no código do seguinte exemplo: [function_approximation.ipynb](https://colab.research.google.com/github/zz4fap/t320_aprendizado_de_maquina/blob/main/notebooks/mlp/function_approximation.ipynb)."
   ]
  },
  {
   "cell_type": "code",
   "execution_count": 18,
   "metadata": {},
   "outputs": [],
   "source": [
    "# Digite aqui o código do exercício."
   ]
  },
  {
   "cell_type": "markdown",
   "metadata": {},
   "source": [
    "4. Após o treinamento, imprima quais foram os melhores valores encontrados pela validação cruzada.\n",
    "\n",
    "**DICAS**:\n",
    "    \n",
    "+ Para resolver este item, se baseie no código do seguinte exemplo: [function_approximation.ipynb](https://colab.research.google.com/github/zz4fap/t320_aprendizado_de_maquina/blob/main/notebooks/mlp/function_approximation.ipynb)."
   ]
  },
  {
   "cell_type": "code",
   "execution_count": 19,
   "metadata": {},
   "outputs": [],
   "source": [
    "# Digite aqui o código do exercício."
   ]
  },
  {
   "cell_type": "markdown",
   "metadata": {},
   "source": [
    "5. Avalie a precisão da aproximação feita pela rede MLP usando o conjunto de validação e apresente uma figura comparando a predição feita pela MLP treinadas com os dados originais.\n",
    "\n",
    "**DICAS**:\n",
    "\n",
    "+ Para resolver este item, se baseie no código do seguinte exemplo: [function_approximation.ipynb](https://colab.research.google.com/github/zz4fap/t320_aprendizado_de_maquina/blob/main/notebooks/mlp/function_approximation.ipynb)."
   ]
  },
  {
   "cell_type": "code",
   "execution_count": 20,
   "metadata": {},
   "outputs": [],
   "source": [
    "# Digite aqui o código do exercício."
   ]
  },
  {
   "cell_type": "markdown",
   "metadata": {},
   "source": [
    "#### 5)  O que você pode concluir após realizar estes vários mapeamentos com uma MLP com uma camada escondida?"
   ]
  },
  {
   "cell_type": "markdown",
   "metadata": {},
   "source": [
    "<span style=\"color:blue\">Escreva aqui a resposta do exercício.</span>\n",
    "\n",
    "**Resposta**"
   ]
  }
 ],
 "metadata": {
  "kernelspec": {
   "display_name": "Python 3",
   "language": "python",
   "name": "python3"
  },
  "language_info": {
   "codemirror_mode": {
    "name": "ipython",
    "version": 3
   },
   "file_extension": ".py",
   "mimetype": "text/x-python",
   "name": "python",
   "nbconvert_exporter": "python",
   "pygments_lexer": "ipython3",
   "version": "3.7.7"
  }
 },
 "nbformat": 4,
 "nbformat_minor": 4
}
