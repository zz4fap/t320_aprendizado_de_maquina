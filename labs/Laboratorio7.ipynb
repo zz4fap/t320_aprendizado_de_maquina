{
  "cells": [
    {
      "cell_type": "markdown",
      "metadata": {
        "id": "3YBg4xNgMJB2"
      },
      "source": [
        "# Laboratório #7\n",
        "\n",
        "### Instruções\n",
        "\n",
        "1. Antes de começar, você deve clicar na opção \"Copiar para o Drive\" na barra superior do Colab. Depois de clicar nela, verifique se você está trabalhando nessa versão do notebook para que seu trabalho seja salvo.\n",
        "2. Quando você terminar os exercícios do laboratório, vá ao menu do Colab ou Jupyter e selecione a opção para fazer download do notebook.\n",
        "    * Os notebooks tem extensão .ipynb.\n",
        "    * Este deve ser o arquivo que você irá entregar.\n",
        "    * No Colab vá até a opção **File** -> **Download .ipynb**.\n",
        "    * No Jupyter vá até a opção **File** -> **Download as** -> **Notebook (.ipynb)**.\n",
        "3. Após o download do notebook, vá até a aba de tarefas do MS Teams, localize a tarefa referente a este laboratório e faça o upload do seu notebook. Veja que há uma opção de anexar arquivos à tarefa.\n",
        "4. Não se esqueça de colocar seu **nome** e **matrícula** na célula de texto abaixo."
      ]
    },
    {
      "cell_type": "markdown",
      "metadata": {
        "id": "Hj0enZhHMJB3"
      },
      "source": [
        "**Nome**:\n",
        "\n",
        "**Matrícula**:"
      ]
    },
    {
      "cell_type": "markdown",
      "metadata": {
        "id": "KVT7C8eiMJB3"
      },
      "source": [
        "## Exercícios"
      ]
    },
    {
      "cell_type": "markdown",
      "metadata": {
        "id": "UGAEPznRMJB4"
      },
      "source": [
        "#### 1)  Neste exercício, você irá investigar o uso de redes MLP para a aproximação universal de funções. Você irá utilizar uma rede MLP com neurônios com funções de ativação sigmóide para encontrar uma aproximação para a função abaixo.\n",
        "\n",
        "$$f(x)= \\frac{1}{x}, 1 \\leq x \\leq 100.$$\n",
        "\n",
        "De posse da definição da função, faça o seguinte:"
      ]
    },
    {
      "cell_type": "markdown",
      "metadata": {
        "id": "k1NcFzxgMJB4"
      },
      "source": [
        "1. Gere os exemplos da função e na sequência os plote.\n",
        "\n",
        "**DICAS**:\n",
        "\n",
        "+ Gere $N=1000$ exemplos desta função.\n",
        "+ Use a função `linspace` da biblioteca `numpy` para gerar os valores no intervalo definido para esta função.\n",
        "+ Não se esqueça de fazer um `reshape` para que `x` seja um vetor coluna com $N$ linhas e 1 coluna.\n",
        "+ Não se esqueça de importar todos os módulos necessários.\n",
        "+ Para resolver este item, se baseie no código do seguinte exemplo: [function_approximation_regression.ipynb](https://colab.research.google.com/github/zz4fap/t320_aprendizado_de_maquina/blob/main/notebooks/mlp/function_approximation_regression.ipynb)."
      ]
    },
    {
      "cell_type": "code",
      "execution_count": null,
      "metadata": {
        "id": "czlb5sRbMJB4"
      },
      "outputs": [],
      "source": [
        "# Digite aqui o código do exercício."
      ]
    },
    {
      "cell_type": "markdown",
      "metadata": {
        "id": "fDurYIYWMJB4"
      },
      "source": [
        "2. Divida o conjunto total de exemplos em 70% para treinamento e 30% para validação."
      ]
    },
    {
      "cell_type": "code",
      "execution_count": null,
      "metadata": {
        "id": "ssoR-XAqMJB4"
      },
      "outputs": [],
      "source": [
        "# Digite aqui o código do exercício."
      ]
    },
    {
      "cell_type": "markdown",
      "metadata": {
        "id": "a4UJIARRMJB5"
      },
      "source": [
        "3. Use validação cruzada (`GridSearchCV`) e o conjunto de treinamento para treinar um `MLPRegressor`, com **uma única camada escondida** de tal forma que o modelo aproxime a função.\n",
        "\n",
        "**DICAS**:\n",
        "\n",
        "+ Use **uma única camada escondida**, mas com um número variável de nós escondidos.\n",
        "+ Use **grid search** para encontrar o número ótimo:\n",
        "    * de **nós na camada escondida** (`hidden_layer_sizes`),\n",
        "    * da **semente do gerador pseudo-aleatório** (`random_state`).\n",
        "+ Use os seguintes valores para criar o dicionário de hiperparâmetros a serem testados pelo grid search:\n",
        "    * `hidden_layer_sizes`: [(2,), (4,), (8,), (10,), (15,), (20,), (40,), (50,), (100,)]\n",
        "    * `random_state`: [0, 1, 13, 17, 42, 51, 69, 81, 89, 99]\n",
        "+ Os seguintes parâmetros terão valores fixos, ou seja, não iremos variá-los com o grid search e, portanto, devem ser configurados durante o instanciamento da classe `MLPRegressor`:\n",
        "    * Função de ativação dos neurônios: `activation='logistic'`,\n",
        "    * Número máximo de iterações: `max_iter=5000`,\n",
        "    * Otimizador: `solver='lbfgs'`\n",
        "\n",
        "+ Configure a instancia do objeto da classe `GridSearchCV` com os seguintes parâmetros:\n",
        "  * Faça `cv=10` para definir o número de *folds* para o k-Fold usado com o grid search.\n",
        "  * Faça `scoring=neg_mean_squared_error` para definir métrica usada para avaliar o desempenho do modelo no conjunto de testes.\n",
        "  * Faça `n_jobs=-1` para paralelizar a execução dos treinamentos e testes e tornar a busca mais rápida.\n",
        "\n",
        "+ Para resolver este item, se baseie no código do seguinte exemplo:  [function_approximation_regression.ipynb](https://colab.research.google.com/github/zz4fap/t320_aprendizado_de_maquina/blob/main/notebooks/mlp/function_approximation_regression.ipynb).\n",
        "+ O treinamento pode ser um pouco demorado, então pegue um café e tenha paciência."
      ]
    },
    {
      "cell_type": "code",
      "execution_count": null,
      "metadata": {
        "id": "8aWmJ4DyMJB5"
      },
      "outputs": [],
      "source": [
        "# Digite aqui o código do exercício."
      ]
    },
    {
      "cell_type": "markdown",
      "metadata": {
        "id": "zJFY7NydMJB5"
      },
      "source": [
        "4. Após o treinamento, imprima quais foram os melhores valores encontrados pelo grid search.\n",
        "\n",
        "**DICAS**:\n",
        "    \n",
        "+ Para resolver este item, se baseie no código do seguinte exemplo: [function_approximation_regression.ipynb](https://colab.research.google.com/github/zz4fap/t320_aprendizado_de_maquina/blob/main/notebooks/mlp/function_approximation_regression.ipynb)."
      ]
    },
    {
      "cell_type": "code",
      "execution_count": null,
      "metadata": {
        "id": "NTGagjrXMJB5"
      },
      "outputs": [],
      "source": [
        "# Digite aqui o código do exercício."
      ]
    },
    {
      "cell_type": "markdown",
      "metadata": {
        "id": "0RVrZ_WbMJB5"
      },
      "source": [
        "5. Avalie a precisão da aproximação feita pela rede MLP **usando o conjunto de validação** e apresente uma figura comparando a predição feita pela rede MLP com os dados originais.\n",
        "\n",
        "**DICAS**:\n",
        "\n",
        "+ A precisão da aproximação deve ser calculada através do erro quadrático médio (MSE).\n",
        "+ Para resolver este item, se baseie no código do seguinte exemplo:  [function_approximation_regression.ipynb](https://colab.research.google.com/github/zz4fap/t320_aprendizado_de_maquina/blob/main/notebooks/mlp/function_approximation_regression.ipynb)."
      ]
    },
    {
      "cell_type": "code",
      "execution_count": null,
      "metadata": {
        "id": "sV62QDdiMJB5"
      },
      "outputs": [],
      "source": [
        "# Digite aqui o código do exercício."
      ]
    },
    {
      "cell_type": "markdown",
      "metadata": {
        "id": "r-UPbjMRMJB5"
      },
      "source": [
        "#### 2)  Neste exercício, você irá investigar o uso de MLPs para a aproximação universal de funções. Você irá utilizar uma rede MLP com neurônios com funções de ativação sigmóide para encontrar uma aproximação para a função abaixo.\n",
        "\n",
        "$$f(x)= \\log_{10}(x), 1 \\leq x \\leq 10.$$\n",
        "\n",
        "De posse da definição da função, faça o seguinte:"
      ]
    },
    {
      "cell_type": "markdown",
      "metadata": {
        "id": "YVowD65rMJB5"
      },
      "source": [
        "1. Gere os exemplos da função e na sequência os plote.\n",
        "\n",
        "**DICAS**:\n",
        "\n",
        "+ Gere $N=1000$ exemplos desta função.\n",
        "+ Use a função `linspace` da biblioteca `numpy` para gerar os valores no intervalo definido para esta função.\n",
        "+ Não se esqueça de fazer um `reshape` para que `x` seja um vetor coluna com $N$ linhas e 1 coluna.\n",
        "+ Não se esqueça de importar todos os módulos necessários."
      ]
    },
    {
      "cell_type": "code",
      "execution_count": null,
      "metadata": {
        "id": "nRhB2w_aMJB5"
      },
      "outputs": [],
      "source": [
        "# Digite aqui o código do exercício."
      ]
    },
    {
      "cell_type": "markdown",
      "metadata": {
        "id": "xxoC1kX9MJB5"
      },
      "source": [
        "2. Divida o conjunto total de exemplos em 70% para treinamento e 30% para validação."
      ]
    },
    {
      "cell_type": "code",
      "execution_count": null,
      "metadata": {
        "id": "62vlB9PPMJB6"
      },
      "outputs": [],
      "source": [
        "# Digite aqui o código do exercício."
      ]
    },
    {
      "cell_type": "markdown",
      "metadata": {
        "id": "-2i_5T5QMJB6"
      },
      "source": [
        "3. Use validação cruzada (`GridSearchCV`) e o conjunto de treinamento para treinar um `MLPRegressor`, com **uma única camada escondida** de tal forma que o modelo aproxime a função.\n",
        "\n",
        "**DICAS**:\n",
        "\n",
        "+ Use **uma única camada escondida**, mas com um número variável de nós escondidos.\n",
        "+ Use **grid search** para encontrar o número ótimo:\n",
        "    * de **nós na camada escondida** (`hidden_layer_sizes`),\n",
        "    * da **semente do gerador pseudo-aleatório** (`random_state`).\n",
        "+ Use os seguintes valores para criar o dicionário de hiperparâmetros a serem testados pelo grid search:\n",
        "    * `hidden_layer_sizes`: [(2,), (4,), (8,), (10,), (15,), (20,), (40,), (50,), (100,)]\n",
        "    * `random_state`: [0, 1, 13, 17, 42, 51, 69, 81, 89, 99]\n",
        "\n",
        "+ Os seguintes parâmetros terão valores fixos, ou seja, não iremos variá-los com o grid search e, portanto, devem ser configurados durante o instanciamento da classe `MLPRegressor`:\n",
        "    * Função de ativação dos neurônios: `activation='logistic'`,\n",
        "    * Número máximo de iterações: `max_iter=5000`,\n",
        "    * Otimizador: `solver='lbfgs'`\n",
        "\n",
        "+ Configure a instancia do objeto da classe `GridSearchCV` com os seguintes parâmetros:\n",
        "  * Faça `cv=10` para definir o número de *folds* para o k-Fold usado com o grid search.\n",
        "  * Faça `scoring=neg_mean_squared_error` para definir métrica usada para avaliar o desempenho do modelo no conjunto de testes.\n",
        "  * Faça `n_jobs=-1` para paralelizar a execução dos treinamentos e testes e tornar a busca mais rápida.\n",
        "\n",
        "+ Para resolver este item, se baseie no código do seguinte exemplo:  [function_approximation_regression.ipynb](https://colab.research.google.com/github/zz4fap/t320_aprendizado_de_maquina/blob/main/notebooks/mlp/function_approximation_regression.ipynb).\n",
        "\n",
        "+ O treinamento pode ser um pouco demorado, então pegue um café e tenha paciência."
      ]
    },
    {
      "cell_type": "code",
      "execution_count": null,
      "metadata": {
        "id": "zcr5aMBNMJB6"
      },
      "outputs": [],
      "source": [
        "# Digite aqui o código do exercício."
      ]
    },
    {
      "cell_type": "markdown",
      "metadata": {
        "id": "gdknjxQ0MJB6"
      },
      "source": [
        "4. Após o treinamento, imprima quais foram os melhores valores encontrados pela validação cruzada.\n",
        "\n",
        "**DICAS**:\n",
        "    \n",
        "+ Para resolver este item, se baseie no código do seguinte exemplo: [function_approximation_regression.ipynb](https://colab.research.google.com/github/zz4fap/t320_aprendizado_de_maquina/blob/main/notebooks/mlp/function_approximation_regression.ipynb)."
      ]
    },
    {
      "cell_type": "code",
      "execution_count": null,
      "metadata": {
        "id": "r4_bVjI0MJB6"
      },
      "outputs": [],
      "source": [
        "# Digite aqui o código do exercício."
      ]
    },
    {
      "cell_type": "markdown",
      "metadata": {
        "id": "xg8pcDjBMJB6"
      },
      "source": [
        "5. Avalie a precisão da aproximação feita pela rede MLP **usando o conjunto de validação** e apresente uma figura comparando a predição feita pela rede MLP com os dados originais.\n",
        "\n",
        "**DICAS**:\n",
        "\n",
        "+ A precisão da aproximação é calculada através do erro quadrático médio (MSE).\n",
        "+ Para resolver este item, se baseie no código do seguinte exemplo:  [function_approximation_regression.ipynb](https://colab.research.google.com/github/zz4fap/t320_aprendizado_de_maquina/blob/main/notebooks/mlp/function_approximation_regression.ipynb)."
      ]
    },
    {
      "cell_type": "code",
      "execution_count": null,
      "metadata": {
        "id": "l7txTCNwMJB6"
      },
      "outputs": [],
      "source": [
        "# Digite aqui o código do exercício."
      ]
    },
    {
      "cell_type": "markdown",
      "metadata": {
        "id": "hqq0SZTPMJB6"
      },
      "source": [
        "#### 3)  Neste exercício, você irá investigar o uso de MLPs para a aproximação universal de funções. Você irá utilizar uma rede MLP com neurônios com funções de ativação sigmóide para encontrar uma aproximação para a função abaixo.\n",
        "\n",
        "$$f(x)= \\exp(-x), 1 \\leq x \\leq 10.$$\n",
        "\n",
        "De posse da definição da função, faça o seguinte:"
      ]
    },
    {
      "cell_type": "markdown",
      "metadata": {
        "id": "Vi3sOPrTMJB6"
      },
      "source": [
        "1. Gere os exemplos da função e na sequência os plote.\n",
        "\n",
        "**DICAS**:\n",
        "\n",
        "+ Gere $N=1000$ exemplos desta função.\n",
        "+ Use a função `linspace` da biblioteca `numpy` para gerar os valores no intervalo definido para esta função.\n",
        "+ Não se esqueça de fazer um `reshape` para que `x` seja um vetor coluna com $N$ linhas e 1 coluna.\n",
        "+ Não se esqueça de importar todos os módulos necessários."
      ]
    },
    {
      "cell_type": "code",
      "execution_count": null,
      "metadata": {
        "id": "9vTQRsjXMJB6"
      },
      "outputs": [],
      "source": [
        "# Digite aqui o código do exercício."
      ]
    },
    {
      "cell_type": "markdown",
      "metadata": {
        "id": "o4WtTV6TMJB6"
      },
      "source": [
        "2. Divida o conjunto total de exemplos em 70% para treinamento e 30% para validação."
      ]
    },
    {
      "cell_type": "code",
      "execution_count": null,
      "metadata": {
        "id": "_OFIbRlUMJB6"
      },
      "outputs": [],
      "source": [
        "# Digite aqui o código do exercício."
      ]
    },
    {
      "cell_type": "markdown",
      "metadata": {
        "id": "HImvPV40MJB6"
      },
      "source": [
        "3. Use validação cruzada (`GridSearchCV`) e o conjunto de treinamento para treinar um `MLPRegressor`, com **uma única camada escondida** de tal forma que o modelo aproxime a função.\n",
        "\n",
        "**DICAS**:\n",
        "\n",
        "+ Use **uma única camada escondida**, mas com um número variável de nós escondidos.\n",
        "+ Use **grid search** para encontrar o número ótimo:\n",
        "    * de **nós na camada escondida** (`hidden_layer_sizes`),\n",
        "    * da **semente do gerador pseudo-aleatório** (`random_state`).\n",
        "+ Use os seguintes valores para criar o dicionário de hiperparâmetros a serem testados pelo grid search:\n",
        "    * `hidden_layer_sizes`: [(2,), (4,), (8,), (10,), (15,), (20,), (40,), (50,), (100,)]\n",
        "    * `random_state`: [0, 1, 13, 17, 42, 51, 69, 81, 89, 99]\n",
        "\n",
        "+ Os seguintes parâmetros terão valores fixos, ou seja, não iremos variá-los com o grid search e, portanto, devem ser configurados durante o instanciamento da classe `MLPRegressor`:\n",
        "    * Função de ativação dos neurônios: `activation='logistic'`,\n",
        "    * Número máximo de iterações: `max_iter=5000`,\n",
        "    * Otimizador: `solver='lbfgs'`\n",
        "\n",
        "+ Configure a instancia do objeto da classe `GridSearchCV` com os seguintes parâmetros:\n",
        "  * Faça `cv=10` para definir o número de *folds* para o k-Fold usado com o grid search.\n",
        "  * Faça `scoring=neg_mean_squared_error` para definir métrica usada para avaliar o desempenho do modelo no conjunto de testes.\n",
        "  * Faça `n_jobs=-1` para paralelizar a execução dos treinamentos e testes e tornar a busca mais rápida.\n",
        "\n",
        "\n",
        "+ Para resolver este item, se baseie no código do seguinte exemplo:  [function_approximation_regression.ipynb](https://colab.research.google.com/github/zz4fap/t320_aprendizado_de_maquina/blob/main/notebooks/mlp/function_approximation_regression.ipynb).\n",
        "\n",
        "+ O treinamento pode ser um pouco demorado, então pegue um café e tenha paciência."
      ]
    },
    {
      "cell_type": "code",
      "execution_count": null,
      "metadata": {
        "id": "_tqnEEDeMJB7"
      },
      "outputs": [],
      "source": [
        "# Digite aqui o código do exercício."
      ]
    },
    {
      "cell_type": "markdown",
      "metadata": {
        "id": "sXQ2Jx9iMJB7"
      },
      "source": [
        "4. Após o treinamento, imprima quais foram os melhores valores encontrados pela validação cruzada.\n",
        "\n",
        "**DICAS**:\n",
        "    \n",
        "+ Para resolver este item, se baseie no código do seguinte exemplo: [function_approximation_regression.ipynb](https://colab.research.google.com/github/zz4fap/t320_aprendizado_de_maquina/blob/main/notebooks/mlp/function_approximation_regression.ipynb)."
      ]
    },
    {
      "cell_type": "code",
      "execution_count": null,
      "metadata": {
        "id": "UlMYImCZMJB7"
      },
      "outputs": [],
      "source": [
        "# Digite aqui o código do exercício."
      ]
    },
    {
      "cell_type": "markdown",
      "metadata": {
        "id": "ZbIJUSbmMJB7"
      },
      "source": [
        "5. Avalie a precisão da aproximação feita pela rede MLP **usando o conjunto de validação** e apresente uma figura comparando a predição feita pela rede MLP com os dados originais.\n",
        "\n",
        "**DICAS**:\n",
        "\n",
        "+ A precisão da aproximação é calculada através do erro quadrático médio (MSE).\n",
        "+ Para resolver este item, se baseie no código do seguinte exemplo:  [function_approximation_regression.ipynb](https://colab.research.google.com/github/zz4fap/t320_aprendizado_de_maquina/blob/main/notebooks/mlp/function_approximation_regression.ipynb)."
      ]
    },
    {
      "cell_type": "code",
      "execution_count": null,
      "metadata": {
        "id": "g6cXE5L_MJB7"
      },
      "outputs": [],
      "source": [
        "# Digite aqui o código do exercício."
      ]
    },
    {
      "cell_type": "markdown",
      "metadata": {
        "id": "VKM69re-MJB7"
      },
      "source": [
        "#### 4)  Neste exercício, você irá investigar o uso de MLPs para a aproximação universal de funções. Você irá utilizar uma rede MLP com neurônios com funções de ativação sigmóide para encontrar uma aproximação para a função abaixo.\n",
        "\n",
        "$$f(x)= \\sin(x), 0 \\leq x \\leq 2\\pi.$$\n",
        "\n",
        "De posse da definição da função, faça o seguinte:"
      ]
    },
    {
      "cell_type": "markdown",
      "metadata": {
        "id": "6TgYZdTMMJB7"
      },
      "source": [
        "1. Gere os exemplos da função e na sequência os plote.\n",
        "\n",
        "**DICAS**:\n",
        "\n",
        "+ Gere $N=1000$ exemplos desta função.\n",
        "+ Use a função `linspace` da biblioteca `numpy` para gerar os valores no intervalo definido para esta função.\n",
        "+ Não se esqueça de fazer um `reshape` para que `x` seja um vetor coluna com $N$ linhas e 1 coluna.\n",
        "+ Não se esqueça de importar todos os módulos necessários."
      ]
    },
    {
      "cell_type": "code",
      "execution_count": null,
      "metadata": {
        "id": "zGsjNDNLMJB7"
      },
      "outputs": [],
      "source": [
        "# Digite aqui o código do exercício."
      ]
    },
    {
      "cell_type": "markdown",
      "metadata": {
        "id": "2XoGKgCOMJB-"
      },
      "source": [
        "2. Divida o conjunto total de exemplos em 70% para treinamento e 30% para validação."
      ]
    },
    {
      "cell_type": "code",
      "execution_count": null,
      "metadata": {
        "id": "PDCZ5FFgMJB_"
      },
      "outputs": [],
      "source": [
        "# Digite aqui o código do exercício."
      ]
    },
    {
      "cell_type": "markdown",
      "metadata": {
        "id": "DlS8sqXGMJB_"
      },
      "source": [
        "3. Use validação cruzada (`GridSearchCV`) e o conjunto de treinamento para treinar um `MLPRegressor`, com **uma única camada escondida** de tal forma que o modelo aproxime a função.\n",
        "\n",
        "**DICAS**:\n",
        "\n",
        "+ Use **uma única camada escondida**, mas com um número variável de nós escondidos.\n",
        "+ Use **grid search** para encontrar o número ótimo:\n",
        "    * de **nós na camada escondida** (`hidden_layer_sizes`),\n",
        "    * da **semente do gerador pseudo-aleatório** (`random_state`).\n",
        "+ Use os seguintes valores para criar o dicionário de hiperparâmetros a serem testados pelo grid search:\n",
        "    * `hidden_layer_sizes`: [(2,), (4,), (8,), (10,), (15,), (20,), (40,), (50,), (100,)]\n",
        "    * `random_state`: [0, 1, 13, 17, 42, 51, 69, 81, 89, 99]\n",
        "\n",
        "+ Os seguintes parâmetros terão valores fixos, ou seja, não iremos variá-los com o grid search e, portanto, devem ser configurados durante o instanciamento da classe `MLPRegressor`:\n",
        "    * Função de ativação dos neurônios: `activation='logistic'`,\n",
        "    * Número máximo de iterações: `max_iter=5000`,\n",
        "    * Otimizador: `solver='lbfgs'`\n",
        "\n",
        "+ Configure a instancia do objeto da classe `GridSearchCV` com os seguintes parâmetros:\n",
        "  * Faça `cv=10` para definir o número de *folds* para o k-Fold usado com o grid search.\n",
        "  * Faça `scoring=neg_mean_squared_error` para definir métrica usada para avaliar o desempenho do modelo no conjunto de testes.\n",
        "  * Faça `n_jobs=-1` para paralelizar a execução dos treinamentos e testes e tornar a busca mais rápida.\n",
        "\n",
        "+ Para resolver este item, se baseie no código do seguinte exemplo:  [function_approximation_regression.ipynb](https://colab.research.google.com/github/zz4fap/t320_aprendizado_de_maquina/blob/main/notebooks/mlp/function_approximation_regression.ipynb).\n",
        "\n",
        "+ O treinamento pode ser um pouco demorado, então pegue um café e tenha paciência."
      ]
    },
    {
      "cell_type": "code",
      "execution_count": null,
      "metadata": {
        "id": "e37veu_IMJB_"
      },
      "outputs": [],
      "source": [
        "# Digite aqui o código do exercício."
      ]
    },
    {
      "cell_type": "markdown",
      "metadata": {
        "id": "BpG8VoYmMJB_"
      },
      "source": [
        "4. Após o treinamento, imprima quais foram os melhores valores encontrados pela validação cruzada.\n",
        "\n",
        "**DICAS**:\n",
        "    \n",
        "+ Para resolver este item, se baseie no código do seguinte exemplo: [function_approximation_regression.ipynb](https://colab.research.google.com/github/zz4fap/t320_aprendizado_de_maquina/blob/main/notebooks/mlp/function_approximation_regression.ipynb)."
      ]
    },
    {
      "cell_type": "code",
      "execution_count": null,
      "metadata": {
        "id": "AmUYRQFIMJB_"
      },
      "outputs": [],
      "source": [
        "# Digite aqui o código do exercício."
      ]
    },
    {
      "cell_type": "markdown",
      "metadata": {
        "id": "T6dP4S47MJB_"
      },
      "source": [
        "5. Avalie a precisão da aproximação feita pela rede MLP **usando o conjunto de validação** e apresente uma figura comparando a predição feita pela rede MLP com os dados originais.\n",
        "\n",
        "**DICAS**:\n",
        "\n",
        "+ A precisão da aproximação é calculada através do erro quadrático médio (MSE).\n",
        "+ Para resolver este item, se baseie no código do seguinte exemplo:  [function_approximation_regression.ipynb](https://colab.research.google.com/github/zz4fap/t320_aprendizado_de_maquina/blob/main/notebooks/mlp/function_approximation_regression.ipynb)."
      ]
    },
    {
      "cell_type": "code",
      "execution_count": null,
      "metadata": {
        "id": "qICjaX8BMJB_"
      },
      "outputs": [],
      "source": [
        "# Digite aqui o código do exercício."
      ]
    },
    {
      "cell_type": "markdown",
      "metadata": {
        "id": "RZAIj82BMJB_"
      },
      "source": [
        "#### 5)  O que você pode concluir após realizar estes vários mapeamentos com uma rede MLP com uma camada escondida?"
      ]
    },
    {
      "cell_type": "markdown",
      "metadata": {
        "id": "4Bf7D4DaMJB_"
      },
      "source": [
        "<span style=\"color:blue\">Escreva aqui a resposta do exercício.</span>\n",
        "\n",
        "**Resposta**"
      ]
    }
  ],
  "metadata": {
    "kernelspec": {
      "display_name": "Python 3 (ipykernel)",
      "language": "python",
      "name": "python3"
    },
    "language_info": {
      "codemirror_mode": {
        "name": "ipython",
        "version": 3
      },
      "file_extension": ".py",
      "mimetype": "text/x-python",
      "name": "python",
      "nbconvert_exporter": "python",
      "pygments_lexer": "ipython3",
      "version": "3.9.13"
    },
    "colab": {
      "provenance": []
    }
  },
  "nbformat": 4,
  "nbformat_minor": 0
}