{
 "cells": [
  {
   "cell_type": "markdown",
   "metadata": {},
   "source": [
    "# Projeto 1 (2S2021)\n",
    "\n",
    "### Instruções\n",
    "\n",
    "1. Quando você terminar os exercícios do projeto, vá até o menu do Jupyter ou Colab e selecione a opção para fazer download do notebook.\n",
    "    * Os notebooks tem extensão .ipynb. \n",
    "    * Este deve ser o arquivo que você irá entregar.\n",
    "    * No Jupyter vá até a opção **File** -> **Download as** -> **Notebook (.ipynb)**.\n",
    "    * No Colab vá até a opção **File** -> **Download .ipynb**.\n",
    "2. Após o download do notebook, vá até a aba de tarefas do MS Teams, localize a tarefa referente a este projeto e faça o upload do seu notebook. Veja que há uma opção de anexar arquivos à tarefa.\n",
    "3. Atente-se ao prazo de entrega definido na tarefa do MS Teams. Entregas fora do prazo não serão aceitas.\n",
    "4. **O projeto pode ser resolvido em grupos de no MÁXIMO 3 alunos**.\n",
    "5. Todas as questões têm o mesmo peso.\n",
    "6. Não se esqueça de colocar seu(s) nome(s) e número(s) de matrícula no campo abaixo. Substitua os nomes que já estão no campo abaixo.\n",
    "7. Você pode consultar todo o material de aula.\n",
    "8. A interpretação faz parte do projeto. Leia o enunciado de cada questão atentamente!\n",
    "9. Boa sorte!"
   ]
  },
  {
   "cell_type": "markdown",
   "metadata": {},
   "source": [
    "**Nome(s)**:\n",
    "\n",
    "**Matrícula(s)**:"
   ]
  },
  {
   "cell_type": "markdown",
   "metadata": {},
   "source": [
    "#### 1) Neste exercício, você irá utilizar validação cruzada para encontrar a melhor função discriminante para se separar duas classes.\n",
    "\n",
    "1. Execute a célula abaixo e analise a figura gerada. A figura mostra os exemplos de duas classes.\n",
    "\n",
    "**DICAS**\n",
    "\n",
    "+ Notem que na célula de código abaixo, o conjunto de dados já está dividido em conjuntos de treinamento e validação."
   ]
  },
  {
   "cell_type": "code",
   "execution_count": null,
   "metadata": {},
   "outputs": [],
   "source": [
    "# Import all necessary modules.\n",
    "import numpy as np\n",
    "import matplotlib.pyplot as plt\n",
    "from sklearn.datasets import make_moons\n",
    "from sklearn.model_selection import train_test_split\n",
    "from sklearn.model_selection import KFold\n",
    "from sklearn.linear_model import LogisticRegression\n",
    "from sklearn.preprocessing import PolynomialFeatures\n",
    "from sklearn.preprocessing import StandardScaler\n",
    "from sklearn.model_selection import cross_val_score\n",
    "from sklearn.pipeline import Pipeline\n",
    "from sklearn.metrics import confusion_matrix, accuracy_score, classification_report\n",
    "import seaborn as sns\n",
    "\n",
    "# reset PN sequence generator.\n",
    "seed = 42\n",
    "np.random.seed(seed)\n",
    "\n",
    "# Number of examples.\n",
    "N = 10000\n",
    "\n",
    "# Create the dataset.\n",
    "X, y = make_moons(n_samples=N, noise=.05, random_state=seed)\n",
    "\n",
    "# Number of classes.\n",
    "numberOfClasses = 2\n",
    "\n",
    "# Plot the dataset.\n",
    "idx0 = np.argwhere(y == 0)\n",
    "idx1 = np.argwhere(y == 1)\n",
    "\n",
    "plt.plot(X[idx0,0], X[idx0,1], '.', label='Class 0')\n",
    "plt.plot(X[idx1,0], X[idx1,1], 'rx', label='Class 1')\n",
    "plt.xlabel('$x_1$', fontsize=14)\n",
    "plt.ylabel('$x_2$', fontsize=14)\n",
    "plt.legend()\n",
    "plt.grid()\n",
    "plt.show()\n",
    "\n",
    "# Split array into random train and test subsets.\n",
    "X_train, X_test, y_train, y_test = train_test_split(X, y, test_size=0.3, random_state=seed)"
   ]
  },
  {
   "cell_type": "markdown",
   "metadata": {},
   "source": [
    "2. Observe a figura acima e responda qual tipo de função discriminante, **linear** ou **não-linear**, é necessária para se separar as duas classes?"
   ]
  },
  {
   "cell_type": "markdown",
   "metadata": {},
   "source": [
    "<span style=\"color:blue\">Escreva aqui a resposta do exercício.</span>\n",
    "\n",
    "**Resposta**"
   ]
  },
  {
   "cell_type": "markdown",
   "metadata": {},
   "source": [
    "3. Neste item, você irá utilizar validação cruzada do tipo k-Fold para encontrar a ordem correta para que um polinômio separe as duas classes perfeitamente. Ao final, plote os resultados obtidos para que você possa decidir qual é a melhor ordem.\n",
    "\n",
    "**DICAS**:\n",
    "\n",
    "+ Configure o parâmetro `n_splits`, ou seja, o número de folds, $k$, da classe `KFold` como 10.\n",
    "+ Realize a validação cruzada para polinômios de ordem 1 até 10 em passos de 1 unidade.\n",
    "+ Configure o parâmetro `include_bias` da classe `PolynomialFeatures` como `True`.\n",
    "+ Para a validação cruzada, utilize o conjunto de treinamento.\n",
    "+ Configure o parâmetro `scoring` da função `cross_val_score` como `neg_mean_squared_error`.\n",
    "+ A validação cruzada pode demorar um pouco, portanto, pegue um café e tenha paciência.\n",
    "+ Para resolver este item, se baseie no código do seguinte exemplo: [classification_with_cross_validation.ipynb](https://colab.research.google.com/github/zz4fap/t320_aprendizado_de_maquina/blob/main/notebooks/classificação/classification_with_cross_validation.ipynb)."
   ]
  },
  {
   "cell_type": "code",
   "execution_count": null,
   "metadata": {},
   "outputs": [],
   "source": [
    "# Digite aqui o código do exercício."
   ]
  },
  {
   "cell_type": "markdown",
   "metadata": {},
   "source": [
    "4. Após analisar os resultados acima, qual a melhor ordem a ser utilizada para se separar as duas classes?"
   ]
  },
  {
   "cell_type": "markdown",
   "metadata": {},
   "source": [
    "<span style=\"color:blue\">Escreva aqui a resposta do exercício.</span>\n",
    "\n",
    "**Resposta**"
   ]
  },
  {
   "cell_type": "markdown",
   "metadata": {},
   "source": [
    "5. Usando a melhor ordem para o polinômio de separação encontrado no item anterior, treine um classificador com esta ordem. Em seguida, calcule e imprima a acurácia deste modelo com o conjunto de validação.\n",
    "\n",
    "**DICAS**:\n",
    "\n",
    "+ Configure o parâmetro `include_bias` da classe `PolynomialFeatures` como `True`.\n",
    "+ Treine o modelo com o conjunto de treinamento.\n",
    "+ Calcule a acurácia com o conjunto de validação.\n",
    "+ Para resolver este item, se baseie no código do seguinte exemplo: [classification_with_cross_validation.ipynb](https://colab.research.google.com/github/zz4fap/t320_aprendizado_de_maquina/blob/main/notebooks/classificação/classification_with_cross_validation.ipynb)."
   ]
  },
  {
   "cell_type": "code",
   "execution_count": null,
   "metadata": {},
   "outputs": [],
   "source": [
    "# Digite aqui o código do exercício."
   ]
  },
  {
   "cell_type": "markdown",
   "metadata": {},
   "source": [
    "6. Usando o modelo treinado com a melhor ordem para o polinômio de separação, plote as regiões de decisão deste classificador.\n",
    "\n",
    "**DICAS**:\n",
    "+ Para resolver este item, se baseie no código do seguinte exemplo: [classification_with_cross_validation.ipynb](https://colab.research.google.com/github/zz4fap/t320_aprendizado_de_maquina/blob/main/notebooks/classificação/classification_with_cross_validation.ipynb)."
   ]
  },
  {
   "cell_type": "code",
   "execution_count": null,
   "metadata": {},
   "outputs": [],
   "source": [
    "# Digite aqui o código do exercício."
   ]
  },
  {
   "cell_type": "markdown",
   "metadata": {},
   "source": [
    "7. Plote a matriz de confusão deste classificador para os exemplos do conjunto de validação.\n",
    "\n",
    "**DICAS**:\n",
    "\n",
    "+ Para resolver este item, se baseie no código do seguinte exemplo: [classification_with_cross_validation.ipynb](https://colab.research.google.com/github/zz4fap/t320_aprendizado_de_maquina/blob/main/notebooks/classificação/classification_with_cross_validation.ipynb)."
   ]
  },
  {
   "cell_type": "code",
   "execution_count": null,
   "metadata": {},
   "outputs": [],
   "source": [
    "# Digite aqui o código do exercício."
   ]
  },
  {
   "cell_type": "markdown",
   "metadata": {},
   "source": [
    "8. Calcule manualmente as seguintes métricas:\n",
    "\n",
    "+ Acurácia\n",
    "+ Precisão\n",
    "+ Sensibilidade (ou recall)\n",
    "+ Pontuação-F para $m = 1$, ou seja, $F_1$\n",
    "\n",
    "**DICAS**\n",
    "+ Para calcular as métricas, se baseie nos valores retornados pela matriz de confusão.\n",
    "+ A acurácia pode ser calculada somando-se todos os exemplos corretamente classificados para cada uma das 2 classes e dividindo-se pelo número total de exemplos do conjunto de validação."
   ]
  },
  {
   "cell_type": "markdown",
   "metadata": {},
   "source": [
    "<span style=\"color:blue\">Escreva aqui a resposta do exercício.</span>\n",
    "\n",
    "**Resposta**"
   ]
  },
  {
   "cell_type": "markdown",
   "metadata": {},
   "source": [
    "9. Compare os valores calculados manualmente com os calculados pela função `classification_report` da biblioteca SciKit-Learn.\n",
    "\n",
    "**DICA**\n",
    "\n",
    "+ Para resolver este item, se baseie no código do seguinte exemplo: [classification_with_cross_validation.ipynb](https://colab.research.google.com/github/zz4fap/t320_aprendizado_de_maquina/blob/main/notebooks/classificação/classification_with_cross_validation.ipynb)."
   ]
  },
  {
   "cell_type": "code",
   "execution_count": null,
   "metadata": {},
   "outputs": [],
   "source": [
    "# Digite aqui o código do exercício."
   ]
  },
  {
   "cell_type": "markdown",
   "metadata": {},
   "source": [
    "#### 2) Neste exercício, você irá comparar a performance de três classificadores através de suas curvas ROC e áreas sob a curva.\n",
    "\n",
    "1. Execute a célula abaixo e analise a figura gerada."
   ]
  },
  {
   "cell_type": "code",
   "execution_count": null,
   "metadata": {},
   "outputs": [],
   "source": [
    "# Import all necessary modules.\n",
    "import numpy as np\n",
    "import matplotlib.pyplot as plt\n",
    "from sklearn.datasets import make_circles\n",
    "from sklearn.model_selection import train_test_split\n",
    "from sklearn.model_selection import KFold\n",
    "from sklearn.linear_model import LogisticRegression\n",
    "from sklearn.preprocessing import PolynomialFeatures\n",
    "from sklearn.preprocessing import StandardScaler\n",
    "from sklearn.model_selection import cross_val_score\n",
    "from sklearn.pipeline import Pipeline\n",
    "from sklearn.metrics import roc_curve, auc\n",
    "from sklearn.preprocessing import label_binarize\n",
    "import seaborn as sns\n",
    "\n",
    "# reset PN sequence generator.\n",
    "seed = 42\n",
    "np.random.seed(seed)\n",
    "\n",
    "# Number of examples.\n",
    "N = 1000\n",
    "\n",
    "# Number of classes.\n",
    "numberOfClasses = 2\n",
    "\n",
    "# Create the dataset.\n",
    "X, y = make_circles(n_samples=N, factor=.5, noise=.05)\n",
    "\n",
    "# Split array into random train and test subsets.\n",
    "X_train, X_test, y_train, y_test = train_test_split(X, y, random_state=seed)\n",
    "\n",
    "# Instantiate a polynomial.\n",
    "poly = PolynomialFeatures(degree=1, include_bias=True)\n",
    "# Instantiate a scaler.\n",
    "scaler = StandardScaler()\n",
    "# Instantiate a binary classifier.\n",
    "clf = LogisticRegression(max_iter=1000, random_state=seed)\n",
    "\n",
    "# Create a pipeline of actions.\n",
    "model1 = Pipeline([\n",
    "    ('poly', poly), \n",
    "    ('scaler', scaler),\n",
    "    ('clf', clf)\n",
    "])\n",
    "\n",
    "# Train the model.\n",
    "model1.fit(X_train, y_train)\n",
    "\n",
    "# Instantiate a polynomial.\n",
    "poly = PolynomialFeatures(degree=2, include_bias=True)\n",
    "# Instantiate a scaler.\n",
    "scaler = StandardScaler()\n",
    "# Instantiate a binary classifier.\n",
    "clf = LogisticRegression(max_iter=1000, random_state=seed)\n",
    "\n",
    "# Create a pipeline of actions.\n",
    "model2 = Pipeline([\n",
    "    ('poly', poly), \n",
    "    ('scaler', scaler),\n",
    "    ('clf', clf)\n",
    "])\n",
    "\n",
    "# Train the model.\n",
    "model2.fit(X_train, y_train)\n",
    "\n",
    "# Getting the probabilities for each class.\n",
    "y_prob1 = model1.predict_proba(X_test)\n",
    "y_prob2 = model2.predict_proba(X_test)\n",
    "\n",
    "# Compute ROC curve and ROC area for model 1.\n",
    "fpr1, tpr1, _ = roc_curve(y_test, y_prob1[:, 1])\n",
    "roc_auc1 = auc(fpr1, tpr1)\n",
    "\n",
    "# Compute ROC curve and ROC area for model 2.\n",
    "fpr2, tpr2, _ = roc_curve(y_test, y_prob2[:, 1])\n",
    "roc_auc2 = auc(fpr2, tpr2)\n",
    "\n",
    "# Plotting ROC curves.\n",
    "plt.figure(figsize=(7, 5))\n",
    "plt.plot(fpr1, tpr1, color='darkorange', lw=2, label='Classifier #1 (area = %1.4f)' % roc_auc1)\n",
    "plt.plot(fpr2, tpr2, color='red', lw=2, label='Classifier #2 (area = %1.4f)' % roc_auc2)\n",
    "plt.plot([0, 1], [0, 1], color='navy', lw=2, label='Classifier #3 (area = 0.5000)')\n",
    "plt.xlim([0.0, 1.0])\n",
    "plt.ylim([0.0, 1.05])\n",
    "plt.xlabel('False Positive Rate')\n",
    "plt.ylabel('True Positive Rate')\n",
    "plt.title('ROC curves')\n",
    "plt.legend(loc=\"lower right\")\n",
    "plt.show()"
   ]
  },
  {
   "cell_type": "markdown",
   "metadata": {},
   "source": [
    "2. Após analisar o resultado acima, qual classificador apresenta o melhor desempenho? **Justifique sua resposta**."
   ]
  },
  {
   "cell_type": "markdown",
   "metadata": {},
   "source": [
    "<span style=\"color:blue\">Escreva aqui a resposta do exercício.</span>\n",
    "\n",
    "**Resposta**"
   ]
  },
  {
   "cell_type": "markdown",
   "metadata": {},
   "source": [
    "#### 3) Neste exercício, você irá usar um classificador para detectar símbolos de uma modulação digital, no caso deste exercício, da modulação QPSK.\n",
    "\n",
    "1. Execute a célula abaixo e analise o resultado. A figura mostra símbolos ruidosos da modulação QPSK, onde cada um dos quatro possíveis símbolos é considerado como uma classe diferente.\n",
    "\n",
    "**DICAS**\n",
    "\n",
    "+ Notem que na célula de código abaixo, o conjunto de dados já está dividido em conjuntos de treinamento e validação."
   ]
  },
  {
   "cell_type": "code",
   "execution_count": 2,
   "metadata": {},
   "outputs": [
    {
     "data": {
      "image/png": "[encoded data removed]",
      "text/plain": [
       "<Figure size 432x288 with 1 Axes>"
      ]
     },
     "metadata": {
      "needs_background": "light"
     },
     "output_type": "display_data"
    }
   ],
   "source": [
    "# Import all necessary modules.\n",
    "import numpy as np\n",
    "import matplotlib.pyplot as plt\n",
    "from sklearn.datasets import make_circles\n",
    "from sklearn.model_selection import train_test_split\n",
    "from sklearn.model_selection import KFold\n",
    "from sklearn.linear_model import LogisticRegression\n",
    "from sklearn.preprocessing import PolynomialFeatures\n",
    "from sklearn.preprocessing import StandardScaler\n",
    "from sklearn.model_selection import cross_val_score\n",
    "from sklearn.pipeline import Pipeline\n",
    "from sklearn.metrics import confusion_matrix\n",
    "from sklearn.metrics import accuracy_score, roc_curve, auc\n",
    "from sklearn.metrics import classification_report\n",
    "from sklearn.metrics import roc_auc_score\n",
    "from scipy.special import erfc\n",
    "import seaborn as sns\n",
    "\n",
    "# Reset PN sequence generator.\n",
    "seed = 42\n",
    "np.random.seed(seed)\n",
    "\n",
    "# Defintion of function used to modulate.\n",
    "def modulateQPSK(bits):\n",
    "    symbols_qpsk = [-1.0 - 1j*1.0, -1.0 + 1j*1.0, 1.0 - 1j*1.0, 1.0 + 1j*1.0]\n",
    "    ip = symbols_qpsk[bits]\n",
    "    # Normalization of energy to 1.\n",
    "    symbol = (1.0/np.sqrt(2.0))*ip\n",
    "    return symbol\n",
    "\n",
    "# Number of symbols to be transmitted.\n",
    "N = 1000\n",
    "\n",
    "# Number of classes.\n",
    "numOfClasses = 4\n",
    "\n",
    "# Create Es/N0 vector.\n",
    "EsN0dB = 20\n",
    "EsN0Lin = 10.0**(-(EsN0dB/10.0))\n",
    "\n",
    "# Modulate symbols and add noise.\n",
    "y = np.zeros((N, 1), dtype=complex)\n",
    "bit_qpsk = np.zeros((N,), dtype=int)\n",
    "for i in range(0, N):\n",
    "    \n",
    "    # Generate QPSK symbols.\n",
    "    bit_qpsk[i] = np.random.randint(0, 4)\n",
    "    # Modulate the binary stream into QPSK symbols.\n",
    "    symbol = modulateQPSK(bit_qpsk[i])     \n",
    "        \n",
    "    # Pass QPSK symbols through AWGN channel.\n",
    "    noise = np.sqrt(EsN0Lin/2.0)*(np.random.randn() + 1j*np.random.randn())    \n",
    "    y[i] = symbol + noise\n",
    "    \n",
    "# Create the attribute matrix.\n",
    "X = np.c_[np.real(y), np.imag(y)]\n",
    "\n",
    "# Split array into random train and test subsets.\n",
    "X_train, X_test, y_train, y_test = train_test_split(X, bit_qpsk, test_size=0.3, random_state=seed)\n",
    "    \n",
    "# Plot the classes.\n",
    "idx0 = np.argwhere(bit_qpsk == 0)\n",
    "idx1 = np.argwhere(bit_qpsk == 1)\n",
    "idx2 = np.argwhere(bit_qpsk == 2)\n",
    "idx3 = np.argwhere(bit_qpsk == 3)\n",
    "plt.plot(np.real(y[idx0.ravel()]), np.imag(y[idx0.ravel()]), 'k.', label='Symbol 0')\n",
    "plt.plot(np.real(y[idx1.ravel()]), np.imag(y[idx1.ravel()]), 'r.', label='Symbol 1')\n",
    "plt.plot(np.real(y[idx2.ravel()]), np.imag(y[idx2.ravel()]), 'b.', label='Symbol 2')\n",
    "plt.plot(np.real(y[idx3.ravel()]), np.imag(y[idx3.ravel()]), 'g.', label='Symbol 3')\n",
    "plt.grid()\n",
    "plt.xlabel('InPhase')\n",
    "plt.ylabel('Quadrature')\n",
    "plt.legend()\n",
    "plt.show()"
   ]
  },
  {
   "cell_type": "markdown",
   "metadata": {},
   "source": [
    "2. Normalmente, treina-se um modelo com uma relação sinal-ruído alta, como a usada para gerar os símbolos no item anterior. Portanto, neste exercício treine um regressor Softmax com o conjunto de treinamento gerado no item anterior e calcule sua acurácia com o conjunto de validação.\n",
    "\n",
    "**DICAS**\n",
    "\n",
    "+ Seu classificador deve apresentar uma acurácia de 100%.\n",
    "+ Para que os próximos itens deste exercício funcionem corretamente, chame seu modelo de `model`."
   ]
  },
  {
   "cell_type": "code",
   "execution_count": null,
   "metadata": {},
   "outputs": [],
   "source": [
    "# Digite aqui o código do exercício."
   ]
  },
  {
   "cell_type": "markdown",
   "metadata": {},
   "source": [
    "3. Usando o modelo treinado no item anterior, plote as regiões de decisão deste classificador."
   ]
  },
  {
   "cell_type": "code",
   "execution_count": null,
   "metadata": {},
   "outputs": [],
   "source": [
    "# Digite aqui o código do exercício."
   ]
  },
  {
   "cell_type": "markdown",
   "metadata": {},
   "source": [
    "4. Plote a matriz de confusão deste classificador para os exemplos do conjunto de validação."
   ]
  },
  {
   "cell_type": "code",
   "execution_count": null,
   "metadata": {},
   "outputs": [],
   "source": [
    "# Digite aqui o código do exercício."
   ]
  },
  {
   "cell_type": "markdown",
   "metadata": {},
   "source": [
    "5. Neste ítem, você irá comparar a taxa de erro de símbolo obtida pelo classificador treinado com a taxa de erro de símbolo teórica da modulação QPSK. Portanto, execute a célula de código abaixo e analise o resultado obtido.\n",
    "\n",
    "**DICAS**\n",
    "\n",
    "+ Para que o código abaixo funcione corretamente, o nome do seu classificador treinado em um dos itens anteriores deve ser `model` .\n",
    "+ Esta simulação irá demorar, portanto, pegue um café e tenha paciência."
   ]
  },
  {
   "cell_type": "code",
   "execution_count": null,
   "metadata": {},
   "outputs": [],
   "source": [
    "# Number of symbols to be transmitted.\n",
    "N = 1000000\n",
    "\n",
    "# Create Es/N0 vector.\n",
    "EsN0dB = np.arange(-2,16,2)\n",
    "\n",
    "# Iterate over all EsN0 values and calculate SER.\n",
    "ser_simu = np.zeros((len(EsN0dB),))\n",
    "ser_theo = np.zeros((len(EsN0dB),))\n",
    "for idx in range(len(EsN0dB)):\n",
    "    EsN0Lin = 10.0**(-(EsN0dB[idx]/10.0))\n",
    "    for i in range(0, N):\n",
    "        # Generate QPSK symbols.\n",
    "        bit_qpsk = np.random.randint(0, 4)\n",
    "        # Modulate the binary stream into QPSK symbols.\n",
    "        symbol = modulateQPSK(bit_qpsk)     \n",
    "\n",
    "        # Pass QPSK symbols through AWGN channel.\n",
    "        noise = np.sqrt(EsN0Lin/2.0)*(np.random.randn() + 1j*np.random.randn())    \n",
    "        y = symbol + noise\n",
    "        \n",
    "        # Detect received symbol.\n",
    "        X = np.c_[np.real(y), np.imag(y)]\n",
    "        detected_symbol = model.predict(X)\n",
    "        \n",
    "        # Verify if whether there was an error or not.\n",
    "        if(detected_symbol != bit_qpsk):\n",
    "            ser_simu[idx] += 1\n",
    "\n",
    "    # Simulated QPSK SER.    \n",
    "    ser_simu[idx] /= N\n",
    "    \n",
    "    # Theoretical QPSK SER.    \n",
    "    ser_theo[idx] = erfc(np.sqrt(0.5*(10.0**(EsN0dB[idx]/10.0)))) - (1/4)*(erfc(np.sqrt(0.5*(10.0**(EsN0dB[idx]/10.0)))))**2.0\n",
    "\n",
    "    # Print Es/N0 versus BER values.\n",
    "    print('Es/N0:%d \\t- SER simu: %e \\t- SER theo: %e' % (EsN0dB[idx], ser_simu[idx], ser_theo[idx]))\n",
    "    \n",
    "plt.plot(EsN0dB, ser_theo, label='theoretical')\n",
    "plt.plot(EsN0dB, ser_simu, 'ro', label='simulated')\n",
    "plt.xlabel('Es/N0 [dB]')\n",
    "plt.ylabel('SER')\n",
    "plt.xscale('linear')\n",
    "plt.yscale('log')\n",
    "plt.grid()\n",
    "plt.title('QPSK detection')\n",
    "plt.legend()\n",
    "plt.xlim([-2, 14])\n",
    "plt.ylim([1e-5, 1])\n",
    "plt.show()"
   ]
  },
  {
   "cell_type": "markdown",
   "metadata": {},
   "source": [
    "6. Após a análise dos resultados acima, podemos dizer que o classificador apresenta boa performance quando comparado com a curva da taxa de erro de símbolo teórica da modulação QPSK? **Justifique sua resposta**."
   ]
  },
  {
   "cell_type": "markdown",
   "metadata": {},
   "source": [
    "<span style=\"color:blue\">Escreva aqui a resposta do exercício.</span>\n",
    "\n",
    "**Resposta**"
   ]
  }
 ],
 "metadata": {
  "kernelspec": {
   "display_name": "Python 3",
   "language": "python",
   "name": "python3"
  },
  "language_info": {
   "codemirror_mode": {
    "name": "ipython",
    "version": 3
   },
   "file_extension": ".py",
   "mimetype": "text/x-python",
   "name": "python",
   "nbconvert_exporter": "python",
   "pygments_lexer": "ipython3",
   "version": "3.7.7"
  }
 },
 "nbformat": 4,
 "nbformat_minor": 4
}
