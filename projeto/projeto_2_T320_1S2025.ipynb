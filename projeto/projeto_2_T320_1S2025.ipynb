{
 "cells": [
  {
   "cell_type": "markdown",
   "id": "e3319440",
   "metadata": {
    "id": "e3319440"
   },
   "source": [
    "# Projeto 2 - T320 (1S2025)\n",
    "\n",
    "\n",
    "### Instruções\n",
    "\n",
    "1. Quando você terminar os exercícios do projeto, vá até o menu do Jupyter ou Colab e selecione a opção para fazer download do notebook.\n",
    "    * Os notebooks tem extensão .ipynb.\n",
    "    * Este deve ser o arquivo que você irá entregar.\n",
    "    * No Jupyter vá até a opção **File** -> **Download as** -> **Notebook (.ipynb)**.\n",
    "    * No Colab vá até a opção **File** -> **Download .ipynb**.\n",
    "2. Após o download do notebook, vá até a aba de tarefas do MS Teams, localize a tarefa referente a este projeto e faça o upload do seu notebook. Veja que há uma opção de anexar arquivos à tarefa.\n",
    "3. Atente-se ao prazo de entrega definido na tarefa do MS Teams. Entregas fora do prazo não serão aceitas.\n",
    "4. **O projeto pode ser resolvido em grupos de no MÁXIMO 3 alunos**.\n",
    "5. Todas as questões têm o mesmo peso.\n",
    "6. Questões copiadas de outros grupos serão anuladas em todos os grupos com a mesma resposta.\n",
    "7. Não se esqueça de colocar seu(s) nome(s) e número(s) de matrícula no campo abaixo. Substitua os nomes que já estão no campo abaixo.\n",
    "8. Você pode consultar todo o material de aula.\n",
    "9. A interpretação faz parte do projeto. Leia o enunciado de cada questão atentamente!\n",
    "10. Boa sorte!"
   ]
  },
  {
   "cell_type": "markdown",
   "id": "2293a7f1",
   "metadata": {
    "id": "2293a7f1"
   },
   "source": [
    "**Nomes e matrículas**:\n",
    "\n",
    "1. Nome do primeiro aluno - Matrícula do primeiro aluno\n",
    "2. Nome do segundo aluno - Matrícula do segundo aluno\n",
    "3. Nome do terceiro aluno - Matrícula do terceiro aluno"
   ]
  },
  {
   "cell_type": "markdown",
   "id": "oy_4XeHPEOab",
   "metadata": {
    "id": "oy_4XeHPEOab"
   },
   "source": [
    "### 1) Exercício sobre classificação por MLP\n",
    "Cada vez mais, a área de inteligência artificial se mostra uma aliada à área de saúde. Assim, dentro desse contexto, vamos analisar e projetar modelos para categorizar a possibilidade de uma paciente estar com câncer de mama.\n",
    "Devido à complexidade para a tomada de decisão, vamos utilizar de classificação por redes neurais.\n",
    "\n",
    "No dataset fornecido, temos as informações abaixo. Percebam que existem 10 atributos e que a variável alvo pode assumir apenas 2 valores.\n",
    "\n",
    "| #  |       Nome da Variável        |                         Descrição                          |\n",
    "|----|-------------------------------|----------------------------------------------------------|\n",
    "| 1  | Clump_thickness               | Espessura do aglomerado celular                           |\n",
    "| 2  | Uniformity_of_cell_size       | Uniformidade do tamanho das células                       |\n",
    "| 3  | Uniformity_of_cell_shape      | Uniformidade do formato das células                       |\n",
    "| 4  | Marginal_adhesion             | Aderência marginal                                        |\n",
    "| 5  | Single_epithelial_cell_size   | Tamanho de células epiteliais isoladas                    |\n",
    "| 6  | Bare_nuclei                   | Núcleos nus (ausência de citoplasma)                     |\n",
    "| 7  | Bland_chromatin               | Cromatina branda                                          |\n",
    "| 8  | Normal_nucleoli               | Nucléolos normais                                         |\n",
    "| 9 | Mitoses                       | Contagem de mitoses (divisão celular)                     |\n",
    "|    | **Variável Alvo**             | **Diagnóstico (ex: benigno/maligno)**  |\n",
    "| 10 | Class                         | 2 - benigno 4 - maligno                  |"
   ]
  },
  {
   "cell_type": "markdown",
   "id": "jN1teb8zES3m",
   "metadata": {
    "id": "jN1teb8zES3m"
   },
   "source": [
    "1. Analise a tabela acima e responda, este é um problema de classificação binário ou multiclasses?"
   ]
  },
  {
   "cell_type": "markdown",
   "id": "toyu0w0tEXv1",
   "metadata": {
    "id": "toyu0w0tEXv1"
   },
   "source": [
    "<span style=\"color:blue\">Escreva abaixo a resposta do exercício.</span>\n",
    "\n",
    "**Resposta**"
   ]
  },
  {
   "cell_type": "markdown",
   "id": "aVzFkCW6EbrE",
   "metadata": {
    "id": "aVzFkCW6EbrE"
   },
   "source": [
    "2. Execute a célula abaixo para instalar a biblioteca ucirepo, que baixará as informações que vamos utilizar."
   ]
  },
  {
   "cell_type": "code",
   "execution_count": null,
   "id": "6qOsZrBTEf1z",
   "metadata": {
    "id": "6qOsZrBTEf1z"
   },
   "outputs": [],
   "source": [
    "pip install ucimlrepo"
   ]
  },
  {
   "cell_type": "markdown",
   "id": "20ErwMzREjH6",
   "metadata": {
    "id": "20ErwMzREjH6"
   },
   "source": [
    "3. Execute a célula de código abaixo para baixar e organizar o dataset que iremos utilizar."
   ]
  },
  {
   "cell_type": "code",
   "execution_count": null,
   "id": "L7fShs9oEpEa",
   "metadata": {
    "id": "L7fShs9oEpEa"
   },
   "outputs": [],
   "source": [
    "from ucimlrepo import fetch_ucirepo\n",
    "import numpy as np\n",
    "import pandas as pd\n",
    "import matplotlib.pyplot as plt\n",
    "from sklearn.model_selection import train_test_split\n",
    "from sklearn.metrics import accuracy_score, recall_score, confusion_matrix\n",
    "from sklearn.neural_network import MLPClassifier\n",
    "from sklearn.preprocessing import  StandardScaler\n",
    "from sklearn.model_selection import GridSearchCV\n",
    "import seaborn as sns\n",
    "\n",
    "# Reseta o gerador de sequências pseudo-aleatórias.\n",
    "seed = 190\n",
    "np.random.seed(seed)\n",
    "\n",
    "# Baixa a base de dados.\n",
    "breast_cancer_wisconsin_original = fetch_ucirepo(id=15)\n",
    "\n",
    "XRaw = breast_cancer_wisconsin_original.data.features.copy()\n",
    "yRaw = breast_cancer_wisconsin_original.data.targets.copy()\n",
    "\n",
    "X = pd.DataFrame()\n",
    "y = pd.DataFrame()\n",
    "\n",
    "XRaw[\"Class\"] = yRaw[\"Class\"]\n",
    "X = XRaw.dropna()\n",
    "\n",
    "y[\"Class\"] = X[\"Class\"]\n",
    "X = X.drop(\"Class\", axis=1)\n",
    "\n",
    "# Convert the labels.\n",
    "c = {2:0, 4:1}\n",
    "y.Class = [c[item] for item in y.Class]\n",
    "\n",
    "X = X.to_numpy()\n",
    "y = y.to_numpy().reshape(y.shape[0])\n",
    "\n",
    "print(\"Dimensões de X\", X.shape)\n",
    "print(\"Dimensões de y:\", y.shape)\n",
    "\n",
    "# Plote o gráfico de barras.\n",
    "bars = plt.bar(['0', '1'], [np.sum(y == 0), np.sum(y == 1)])\n",
    "# Adicionar valores nas barras\n",
    "for bar in bars:\n",
    "    height = bar.get_height()\n",
    "    plt.text(bar.get_x() + bar.get_width()/2, height,\n",
    "             f'{int(height)}',\n",
    "             ha='center', va='bottom')\n",
    "plt.title('Quantidade de exemplos por classe')\n",
    "plt.xlabel('Valores', fontsize=10)\n",
    "plt.ylabel('Contagem', fontsize=10)\n",
    "plt.show()"
   ]
  },
  {
   "cell_type": "markdown",
   "id": "lT08GdD1Er3o",
   "metadata": {
    "id": "lT08GdD1Er3o"
   },
   "source": [
    "4. Analise o gráfico de barras acima e responda, o conjunto de dados é balanceado ou desbalanceado? **Justifique sua resposta**."
   ]
  },
  {
   "cell_type": "markdown",
   "id": "X8iTR_4cE0jE",
   "metadata": {
    "id": "X8iTR_4cE0jE"
   },
   "source": [
    "<span style=\"color:blue\">Escreva abaixo a resposta do exercício.</span>\n",
    "\n",
    "**Resposta**"
   ]
  },
  {
   "cell_type": "markdown",
   "id": "Btrl9g59E6az",
   "metadata": {
    "id": "Btrl9g59E6az"
   },
   "source": [
    "5. Divida o conjunto original de dados em 70% para treino e 30% para teste.\n",
    "\n",
    "**Dica**\n",
    "+ Use a função `train_test_split`.\n",
    "+ Configure o parâmetro `random_state` com a semente definida no item 1, i.e., ` random_state=seed`."
   ]
  },
  {
   "cell_type": "code",
   "execution_count": null,
   "id": "-LHjOcWyEwzI",
   "metadata": {
    "id": "-LHjOcWyEwzI"
   },
   "outputs": [],
   "source": [
    "# Digite aqui o código do exercício."
   ]
  },
  {
   "cell_type": "markdown",
   "id": "nyXiORtSE_e-",
   "metadata": {
    "id": "nyXiORtSE_e-"
   },
   "source": [
    "6. Padronize os conjuntos de treinamento e teste. Daqui em diante, use apenas os conjuntos padronizados.\n",
    "\n",
    "**Dicas**\n",
    "+ Os valores para a padronização dos dois conjuntos são calculados em cima da base de treinamento e aplicados ao conjunto de teste."
   ]
  },
  {
   "cell_type": "code",
   "execution_count": null,
   "id": "hZWvxWY1FDOx",
   "metadata": {
    "id": "hZWvxWY1FDOx"
   },
   "outputs": [],
   "source": [
    "# Digite aqui o código do exercício."
   ]
  },
  {
   "cell_type": "markdown",
   "id": "Ux2MI41GFGOM",
   "metadata": {
    "id": "Ux2MI41GFGOM"
   },
   "source": [
    "7. Considerando o problema que você tem em mãos e que a base de dados é desbalanceada, qual é a métrica de classificação mais adequada para se avaliar um modelo de classificação? **Justifique sua resposta**\n",
    "\n",
    "**Dicas**\n",
    "+ Para esta tarefa de classificação, o que é mais custoso, um falso positivo (a paciente não tem câncer, mas o classificador diz que ela tem câncer) ou um falso negativo (a paciente tem câncer, mas o classificador diz que não tem câncer)?\n",
    "+ Reveja a parte V de classificação."
   ]
  },
  {
   "cell_type": "markdown",
   "id": "Ve0187JCFOQE",
   "metadata": {
    "id": "Ve0187JCFOQE"
   },
   "source": [
    "<span style=\"color:blue\">Escreva abaixo a resposta do exercício.</span>\n",
    "\n",
    "**Resposta**"
   ]
  },
  {
   "cell_type": "markdown",
   "id": "gLIQW_T3FTo7",
   "metadata": {
    "id": "gLIQW_T3FTo7"
   },
   "source": [
    "8. Use busca em grade (`GridSearchCV`) e o **conjunto de treinamento** para treinar um objeto da classe `MLPClassifier` e encontrar os valores ideais para alguns hiperparâmetros da rede MLP. **Aqui você usará a métrica de classificação escolhida no item anterior como métrica de otimização da rede neural MLP**.\n",
    "\n",
    "**Dica**\n",
    "\n",
    "+ Ao instanciar o objeto da classe `MLPClassifier` configure o parâmetro de entrada `max_iter` com o valor 2000.\n",
    "+ Use **grid search** (`GridSearchCV`) para encontrar: (i) o número ideal de camadas escondidas, (ii) o número ideal de nós em cada camada escondida, (iii) a função de ativação ideal dos nós, (iv) o melhor otimizador e (v) o valor da semente do gerador de sequências pseudo-aleatórias.\n",
    "+ O `GridSearchCV` deve testar o  seguinte conjunto de parâmetros e valores:\n",
    "    * `'hidden_layer_sizes'` com os valores `()`, `(2,)`, `(4,2)` e `(3,2,1)`.\n",
    "    * `'activation'` com os valores `'logistic'`, `'tanh'` e `'relu'`.\n",
    "    * `'solver'` com os valores `'lbfgs'`, `'sgd'` e `'adam'`.\n",
    "    * `'random_state'` com os valores `1`, `17`, `27`, `78`, `142` e `322`.\n",
    "+ O treinamento pode ser demorado, então pegue um lanche, água ou café e descanse.\n",
    "+ Ao instanciar o objeto da classe `GridSearchCV`, configure o número de folds para o k-Fold igual a 5, ou seja, `cv=5` e a pontuação como sendo a métrica de classificação escolhida no item anterior, ou seja, `scoring='métrica escolhida'`, onde a métrica escolhida deve ser `'recall'` ou `'precision'`.\n",
    "+ Para que o código de alguns itens a seguir funcione corretamente, use `reg` como o nome para a instância do objeto da classe `GridSearchCV`."
   ]
  },
  {
   "cell_type": "code",
   "execution_count": null,
   "id": "9rFFXw75FSxx",
   "metadata": {
    "id": "9rFFXw75FSxx"
   },
   "outputs": [],
   "source": [
    "# Digite aqui o código do exercício."
   ]
  },
  {
   "cell_type": "markdown",
   "id": "IGbFd_nZFeKH",
   "metadata": {
    "id": "IGbFd_nZFeKH"
   },
   "source": [
    "9. Imprima os melhores hiperparâmetros encontrados pela busca em grade."
   ]
  },
  {
   "cell_type": "code",
   "execution_count": null,
   "id": "pzEVWm3VFKY5",
   "metadata": {
    "id": "pzEVWm3VFKY5"
   },
   "outputs": [],
   "source": [
    "# Digite aqui o código do exercício."
   ]
  },
  {
   "cell_type": "markdown",
   "id": "e9xh8KN4FjkT",
   "metadata": {
    "id": "e9xh8KN4FjkT"
   },
   "source": [
    "10. Calcule a métrica definida no item 7 (precisão ou recall) usando os conjuntos de treinamento e de teste.\n",
    "\n",
    "**Dicas**\n",
    "+ Use uma das funções, `recall_score` ou `precision_score`, dependendo da métrica definida no item 7.\n",
    "+ A documentação das duas funções pode ser encontrada em https://scikit-learn.org/stable/api/sklearn.metrics.html"
   ]
  },
  {
   "cell_type": "code",
   "execution_count": null,
   "id": "fC4MpcuRFoRK",
   "metadata": {
    "id": "fC4MpcuRFoRK"
   },
   "outputs": [],
   "source": [
    "# Digite aqui o código do exercício."
   ]
  },
  {
   "cell_type": "markdown",
   "id": "8IZgJW71Frv5",
   "metadata": {
    "id": "8IZgJW71Frv5"
   },
   "source": [
    "11. Apresente a matriz de confusão do modelo usando o conjunto de teste."
   ]
  },
  {
   "cell_type": "code",
   "execution_count": null,
   "id": "UYTT6F-nFwb2",
   "metadata": {
    "id": "UYTT6F-nFwb2"
   },
   "outputs": [],
   "source": [
    "# Digite aqui o código do exercício."
   ]
  },
  {
   "cell_type": "markdown",
   "id": "u3hLnAeoF0QT",
   "metadata": {
    "id": "u3hLnAeoF0QT"
   },
   "source": [
    "12. Com base nos resultados encontrados acima, responda: É possível afirmar que o modelo pode atuar de forma autonoma, dispensando a necessidade de um time de médicos?"
   ]
  },
  {
   "cell_type": "markdown",
   "id": "3Iw-3CUOF5Aa",
   "metadata": {
    "id": "3Iw-3CUOF5Aa"
   },
   "source": [
    "<span style=\"color:blue\">Escreva abaixo a resposta do exercício.</span>\n",
    "\n",
    "**Resposta**"
   ]
  },
  {
   "cell_type": "markdown",
   "id": "AqnyTkjVF9Lo",
   "metadata": {
    "id": "AqnyTkjVF9Lo"
   },
   "source": [
    "13. Qual deveria ser a métrica de classificação a ser usada caso falsos positivos e falsos negativos tivessem o mesmo custo para a aplicação?\n",
    "\n",
    "**Dica**\n",
    "+ Reveja a parte V de classificação."
   ]
  },
  {
   "cell_type": "markdown",
   "id": "-188d40xGFAm",
   "metadata": {
    "id": "-188d40xGFAm"
   },
   "source": [
    "<span style=\"color:blue\">Escreva abaixo a resposta do exercício.</span>\n",
    "\n",
    "**Resposta**"
   ]
  },
  {
   "cell_type": "markdown",
   "id": "4d7e62f3",
   "metadata": {
    "id": "4d7e62f3"
   },
   "source": [
    "### 2) Exercício sobre a seleção de métrica de classificação para um sistema de detecção de ocupação em edifícios corporativos"
   ]
  },
  {
   "cell_type": "markdown",
   "id": "8b9e36c8",
   "metadata": {
    "id": "8b9e36c8"
   },
   "source": [
    "Neste exercício vamos analisar o uso e impacto de métricas de classificação por meio de uma situação real.\n",
    "\n",
    "Uma empresa de tecnologia está desenvolvendo um sistema para otimizar o uso de energia em edifícios corporativos. O sistema utiliza sensores para detectar se uma sala está ocupada e, com base nisso, controla o ar-condicionado e a iluminação. Falsos positivos (prever que a sala está ocupada quando está vazia) são críticos, pois resultam em desperdício significativo de energia e custos operacionais elevados. Por outro lado, falsos negativos (prever que a sala está vazia quando está ocupada) têm um impacto menor, já que os usuários podem reativar manualmente os sistemas se necessário.\n",
    "\n",
    "O dataset que utilizaremos é o **Occupancy Detection**, o qual contém dados de sensores coletados a cada minuto, incluindo:\n",
    "\n",
    "  + Temperatura (°C)\n",
    "  + Umidade (%)\n",
    "  + Nível de luminosidade (lux)\n",
    "  + Concentração de CO₂ (ppm)\n",
    "  + Rótulo de ocupação (binário: 0 para sala \"vazia\", 1 para \"ocupada\").\n",
    "\n",
    "O objetivo é classificar corretamente o estado de ocupação da sala com base nos sensores."
   ]
  },
  {
   "cell_type": "markdown",
   "id": "f5833d0f",
   "metadata": {
    "id": "f5833d0f"
   },
   "source": [
    "1. Considerando a situação descrita acima, qual a métrica de classificação ideal para o problema?\n",
    "\n",
    "Justifique qual métrica de classificação deve ser maximizada para este sistema, considerando os custos associados a falsos positivos e falsos negativos.\n",
    "\n",
    "**Dica**\n",
    "\n",
    "+ Reveja a parte V de classificação.  \n"
   ]
  },
  {
   "cell_type": "markdown",
   "id": "1e99cc5f",
   "metadata": {
    "id": "1e99cc5f"
   },
   "source": [
    "<span style=\"color:blue\">Escreva abaixo a resposta do exercício.</span>\n",
    "\n",
    "**Resposta**"
   ]
  },
  {
   "cell_type": "markdown",
   "id": "7f6efc9c",
   "metadata": {
    "id": "7f6efc9c"
   },
   "source": [
    "2. Execute a célula de código abaixo para dividir os dados em conjuntos de treinamento e teste, instanciar alguns classificadores, treiná-los e realizar predições, utilizando 3 modelos distintos de classificação.\n",
    "\n",
    "- Este código fornece modelos já treinados, acessíveis pelas variáveis:\n",
    "\n",
    "  + `model1`: Regressor logístico  \n",
    "  + `model2`: Rede neural\n",
    "  + `model3`: Classificador aleatório"
   ]
  },
  {
   "cell_type": "code",
   "execution_count": null,
   "id": "cae831c3",
   "metadata": {
    "colab": {
     "base_uri": "https://localhost:8080/"
    },
    "id": "cae831c3",
    "outputId": "0fc296a5-c0ad-4028-d018-d83b1e97b3d0"
   },
   "outputs": [],
   "source": [
    "# Instala o pacote necessário\n",
    "!pip install ucimlrepo\n",
    "\n",
    "# Importa os códigos necessários\n",
    "from sklearn.preprocessing import StandardScaler\n",
    "from sklearn.linear_model import LogisticRegression\n",
    "from sklearn.neural_network import MLPClassifier\n",
    "from sklearn.dummy import DummyClassifier\n",
    "from sklearn.model_selection import train_test_split\n",
    "from sklearn.metrics import confusion_matrix, classification_report, precision_score\n",
    "import numpy as np\n",
    "import matplotlib.pyplot as plt\n",
    "import seaborn as sns\n",
    "from ucimlrepo import fetch_ucirepo\n",
    "\n",
    "# Reseta o gerador de sequências pseudo-aleatórias.\n",
    "seed = 42\n",
    "np.random.seed(seed)\n",
    "\n",
    "# Baixa a base de dados.\n",
    "occupancy = fetch_ucirepo(id=357)\n",
    "df = occupancy.data.features.copy()\n",
    "df['Occupancy'] = occupancy.data.targets.copy()\n",
    "df = df.dropna()\n",
    "\n",
    "# Pré-processamento\n",
    "X = df[['Temperature', 'Humidity', 'Light', 'CO2']]\n",
    "y = df['Occupancy'].astype(int)\n",
    "\n",
    "# Divide a base de dados em conjuntos de treinamento e teste.\n",
    "X_train, X_test, y_train, y_test = train_test_split(X, y, test_size=0.3, random_state=seed)\n",
    "\n",
    "# Padroniza as features (importante para regressão logística e MLP)\n",
    "scaler = StandardScaler()\n",
    "X_train = scaler.fit_transform(X_train)\n",
    "X_test = scaler.transform(X_test)\n",
    "\n",
    "# Treinamento do regressor logístico\n",
    "model1 = LogisticRegression(max_iter=1000, random_state=seed)\n",
    "model1.fit(X_train, y_train)\n",
    "predict1 = model1.predict(X_test)\n",
    "\n",
    "# Treinamento da rede neural\n",
    "model2 = MLPClassifier(hidden_layer_sizes=(32,16), max_iter=1000, random_state=seed)\n",
    "model2.fit(X_train, y_train)\n",
    "predict2 = model2.predict(X_test)\n",
    "\n",
    "# Treinamento do classificador aleatório\n",
    "model3 = DummyClassifier(strategy='uniform', random_state=seed)\n",
    "model3.fit(X_train, y_train)\n",
    "predict3 = model3.predict(X_test)"
   ]
  },
  {
   "cell_type": "markdown",
   "id": "636c8b28",
   "metadata": {
    "id": "636c8b28"
   },
   "source": [
    "3. Com base nas predições (*predicts*) obtidas no item anterior, gere a matriz de confusão para cada um dos modelos utilizados.\n",
    "\n",
    "**Dicas**\n",
    "\n",
    "- Os valores de predição foram salvos como:  \n",
    "  + *predict1*: Regressor logístico  \n",
    "  + *predict2*: Rede neural\n",
    "  + *predict3*: Classificador aleatório  \n",
    "- Para resolver este item, baseie-se no código do seguinte exemplo: [classification_metrics.ipynb](https://colab.research.google.com/github/zz4fap/t320_aprendizado_de_maquina/blob/main/notebooks/classificação/classification_metrics.ipynb).\n"
   ]
  },
  {
   "cell_type": "code",
   "execution_count": null,
   "id": "942e0235",
   "metadata": {
    "colab": {
     "base_uri": "https://localhost:8080/",
     "height": 331
    },
    "id": "942e0235",
    "outputId": "a65dc763-e061-4afd-9d1a-55b2393fdc30"
   },
   "outputs": [],
   "source": [
    "# Digite aqui o código do exercício."
   ]
  },
  {
   "cell_type": "markdown",
   "id": "23ca5427",
   "metadata": {
    "id": "23ca5427"
   },
   "source": [
    "4. Considerando a métrica de classificação que você definiu como mais relevante no item 1, responda:\n",
    "\n",
    "+ Qual dos três modelos apresentados pode ser considerado o mais adequado para o problema do exercício? **Justifique sua escolha**.\n",
    "+ Utilize a matriz de confusão para calcular o valor da métrica de classificação escolhida para cada modelo.\n",
    "\n",
    "**Dicas**\n",
    "\n",
    "+ Qual modelo maximiza a métrica de classificação escolhida?\n",
    "+ Reveja a parte V de classificação.  "
   ]
  },
  {
   "cell_type": "markdown",
   "id": "LS-z8_Kt-h90",
   "metadata": {
    "id": "LS-z8_Kt-h90"
   },
   "source": [
    "<span style=\"color:blue\">Escreva abaixo a resposta do exercício.</span>\n",
    "\n",
    "**Resposta**"
   ]
  },
  {
   "cell_type": "markdown",
   "id": "b63c8b12",
   "metadata": {
    "id": "b63c8b12"
   },
   "source": [
    "5. Execute a célula de código abaixo, ela plota número de exemplos de cada classe utilizando um gráfico de barras. Analise o gráfico gerado."
   ]
  },
  {
   "cell_type": "code",
   "execution_count": null,
   "id": "9173e5e0",
   "metadata": {
    "colab": {
     "base_uri": "https://localhost:8080/",
     "height": 472
    },
    "id": "9173e5e0",
    "outputId": "f1890b8e-efbd-4267-db3b-e5320eefef1d"
   },
   "outputs": [],
   "source": [
    "bars = plt.bar(['Classe 0','Classe 1'], [len(y[y==0]), len(y[y==1])])\n",
    "plt.bar_label(bars)\n",
    "plt.grid()\n",
    "plt.title('Balanceamento das classes')\n",
    "plt.xlabel('Classes', fontsize=10)\n",
    "plt.ylabel('Distribuição das classes de saída no dataset', fontsize=10)\n",
    "plt.show()"
   ]
  },
  {
   "cell_type": "markdown",
   "id": "8188417a",
   "metadata": {
    "id": "8188417a"
   },
   "source": [
    "6. Com base no gráfico de distribuição das classes, responda:\n",
    "\n",
    "+ As classes estão balanceadas?\n",
    "+ A acurácia é uma métrica que poderia ser usada neste caso?\n",
    "+ O que pode acontecer com um modelo de aprendizado de máquina, como uma rede neural, que é treinado com classes desbalanceadas (ou seja, o modelo \"vê\" muito mais exemplos de uma classe do que de outra durante o treinamento)?"
   ]
  },
  {
   "cell_type": "markdown",
   "id": "9Fy67CUpDDQn",
   "metadata": {
    "id": "9Fy67CUpDDQn"
   },
   "source": [
    "<span style=\"color:blue\">Escreva abaixo a resposta do exercício.</span>\n",
    "\n",
    "**Resposta**"
   ]
  },
  {
   "cell_type": "markdown",
   "id": "1a291f64",
   "metadata": {
    "id": "1a291f64"
   },
   "source": [
    "7. Gere o relatório de métricas de classificação para o melhor modelo treinado, seguindo a maximização da métrica definida. Utilize a função `classification_report`. Use o conjunto de teste.\n",
    "\n",
    "**Dica**\n",
    "- O vetor de rótulos de teste é a variável `y_test`."
   ]
  },
  {
   "cell_type": "code",
   "execution_count": null,
   "id": "7601fb37",
   "metadata": {
    "colab": {
     "base_uri": "https://localhost:8080/"
    },
    "id": "7601fb37",
    "outputId": "159376c6-24d0-48e9-fab4-a44dd1cd622b"
   },
   "outputs": [],
   "source": [
    "# Digite aqui o código do exercício."
   ]
  },
  {
   "cell_type": "markdown",
   "id": "Xjf0JhLHMLzJ",
   "metadata": {
    "id": "Xjf0JhLHMLzJ"
   },
   "source": [
    "8. Após analisar o reporte de classificação acima, responda:\n",
    "\n",
    "+ Por que os valores de precisão `macro avg` e `weighted avg` são diferentes.\n",
    "+ Por que o valor da precisão `weighted avg` é maior do que a precisão `macro avg`?\n",
    "\n",
    "**Dica**\n",
    "\n",
    "+ Para resolver este item, baseie-se no código do seguinte exemplo: [classification_metrics.ipynb](https://colab.research.google.com/github/zz4fap/t320_aprendizado_de_maquina/blob/main/notebooks/classificação/classification_metrics.ipynb)."
   ]
  },
  {
   "cell_type": "markdown",
   "id": "pJjR0yUIMtWV",
   "metadata": {
    "id": "pJjR0yUIMtWV"
   },
   "source": [
    "<span style=\"color:blue\">Escreva abaixo a resposta do exercício.</span>\n",
    "\n",
    "**Resposta**"
   ]
  },
  {
   "cell_type": "markdown",
   "id": "75c32fc8",
   "metadata": {
    "id": "75c32fc8"
   },
   "source": [
    "### 3) Exercício sobre comparação de modelos de classificação\n"
   ]
  },
  {
   "cell_type": "markdown",
   "id": "dbb6fdd5",
   "metadata": {
    "id": "dbb6fdd5"
   },
   "source": [
    "Você foi contratado por uma organização de certificação de vinhos na Itália, responsável por garantir a autenticidade da origem de vinhos produzidos na região. Recentemente, houve denúncias de falsificação em que vinhos de cultivares menos valorizados estão sendo rotulados como pertencentes a cultivares premium, prejudicando a reputação da região. Para combater isso, a organização deseja desenvolver um sistema de classificação automática que identifique a cultivar do vinho (entre três possíveis) com base em sua composição química.\n",
    "\n",
    "Seu objetivo é desenvolver um **modelo de aprendizado de máquina** que auxilie no processo de avaliação dos vinhos, automatizando a classificação da região com base em características químicas e físicas de cada amostra.\n",
    "\n",
    "O conjunto de dados fornecido contém informações químicas dos vinhos e dados sobre sua origem.\n",
    "\n",
    "| #  | Nome da Variável              | Descrição                                                                 |\n",
    "|----|-------------------------------|---------------------------------------------------------------------------|\n",
    "| 1  | Alcohol                       | Teor alcoólico do vinho                                                   |\n",
    "| 2  | Malic_acid                    | Ácido málico — influencia o gosto e a acidez                              |\n",
    "| 3  | Ash                           | Cinzas resultantes da queima do vinho (resíduos minerais)                 |\n",
    "| 4  | Alcalinity_of_ash             | Alcalinidade das cinzas — relacionada à composição dos minerais           |\n",
    "| 5  | Magnesium                     | Teor de magnésio — importante para a fermentação                          |\n",
    "| 6  | Total_phenols                 | Fenóis totais — influenciam no sabor e no envelhecimento                  |\n",
    "| 7  | Flavanoids                    | Subtipo de fenóis — importantes para a cor e o sabor                      |\n",
    "| 8  | Nonflavanoid_phenols          | Fenóis não flavonoides — com menor influência sensorial                   |\n",
    "| 9  | Proanthocyanins               | Compostos relacionados à adstringência e à cor                            |\n",
    "| 10 | Color_intensity               | Intensidade da cor do vinho                                               |\n",
    "| 11 | Hue                           | Tonalidade da cor                                                         |\n",
    "| 12 | OD280/OD315_of_diluted_wines | Absorbância em dois comprimentos de onda — relacionada à qualidade fenólica |\n",
    "| 13 | Proline                       | Aminoácido relacionado ao aroma e ao corpo do vinho                       |\n",
    "|    | **Variável Alvo (classe)**             | **Classe do vinho (1, 2 ou 3)** — tipos de vinho cultivados na região. Considere:  0 - Norte italiano;  1 - Sudeste italiano;  2 - Sudoeste italiano                                                     |\n"
   ]
  },
  {
   "cell_type": "markdown",
   "id": "a2c28716",
   "metadata": {
    "id": "a2c28716"
   },
   "source": [
    "1. Execute a célula de código abaixo para baixar a base de dados."
   ]
  },
  {
   "cell_type": "code",
   "execution_count": null,
   "id": "4f3d0368",
   "metadata": {
    "colab": {
     "base_uri": "https://localhost:8080/"
    },
    "id": "4f3d0368",
    "outputId": "387acdb8-7914-4abe-a7ec-f6b47eabaca7"
   },
   "outputs": [],
   "source": [
    "# Instala o pacote necessário\n",
    "!pip install ucimlrepo\n",
    "\n",
    "# Importa os códigos necessários\n",
    "from sklearn.preprocessing import StandardScaler\n",
    "from sklearn.linear_model import LogisticRegression\n",
    "from sklearn.neural_network import MLPClassifier\n",
    "from sklearn.multiclass import OneVsRestClassifier\n",
    "from sklearn.multiclass import OneVsOneClassifier\n",
    "from sklearn.dummy import DummyClassifier\n",
    "from sklearn.model_selection import train_test_split\n",
    "from sklearn.metrics import confusion_matrix, roc_curve, accuracy_score, auc\n",
    "from sklearn.preprocessing import label_binarize\n",
    "import numpy as np\n",
    "import matplotlib.pyplot as plt\n",
    "import seaborn as sns\n",
    "from ucimlrepo import fetch_ucirepo\n",
    "\n",
    "# Reseta o gerador de sequências pseudo-aleatórias.\n",
    "seed = 42\n",
    "np.random.seed(seed)\n",
    "\n",
    "# Baixe a base de dados.\n",
    "wine_quality = fetch_ucirepo(id=109)\n",
    "\n",
    "X = wine_quality.data.features.copy() # Features - variaveis de entrada\n",
    "y = wine_quality.data.targets.copy() # rótulos\n",
    "\n",
    "# Convert the labels.\n",
    "c = {1:0, 2:1, 3:2}\n",
    "y['class'] = [c[item] for item in y['class']]\n",
    "y = np.ravel(y)"
   ]
  },
  {
   "cell_type": "markdown",
   "id": "88b7532b",
   "metadata": {
    "id": "88b7532b"
   },
   "source": [
    "2. Execute a célula de código abaixo. Ela plota o número de exemplos em cada classe utilizando um gráfico de barras. Analise a quantidade de exemplos em cada classe.\n"
   ]
  },
  {
   "cell_type": "code",
   "execution_count": null,
   "id": "a6cc4c5b",
   "metadata": {
    "colab": {
     "base_uri": "https://localhost:8080/",
     "height": 476
    },
    "id": "a6cc4c5b",
    "outputId": "decd8a18-a215-4858-e6f4-19a236d17c93"
   },
   "outputs": [],
   "source": [
    "bars = plt.bar(['Classe 0',' 1', ' 2'], [len(y[y==0]), len(y[y==1]), len(y[y==2])])\n",
    "plt.bar_label(bars)\n",
    "plt.grid()\n",
    "plt.title('Train')\n",
    "plt.xlabel('Classes', fontsize=12)\n",
    "plt.ylabel('Quantidade de exemplos de cada classe', fontsize=12)\n",
    "plt.show()"
   ]
  },
  {
   "cell_type": "markdown",
   "id": "mhkWco-bTAcg",
   "metadata": {
    "id": "mhkWco-bTAcg"
   },
   "source": [
    "3. Após analisar a figura acima, responda:\n",
    "\n",
    "+ A base de dados é balanceada?\n",
    "+ Se a base de dados for balanceada, podemos usar a acurácia como uma métrica para se medir o desempenho do modelo? **Justifique suas respostas**.\n",
    "\n",
    "**Dicas**\n",
    "+ Considere que uma base de dados é desbalanceada se pelo menos uma das classes tem 2 vezes mais amostras que as demais.\n",
    "+ Reveja a parte V de classificação."
   ]
  },
  {
   "cell_type": "markdown",
   "id": "n9jCz4-gUXjv",
   "metadata": {
    "id": "n9jCz4-gUXjv"
   },
   "source": [
    "<span style=\"color:blue\">Escreva abaixo a resposta do exercício.</span>\n",
    "\n",
    "**Resposta**"
   ]
  },
  {
   "cell_type": "markdown",
   "id": "t2824ipRPpLe",
   "metadata": {
    "id": "t2824ipRPpLe"
   },
   "source": [
    "4. Divida a base de dados em conjuntos de treinamento e teste. Divida em 70% para treinamento e 30% para teste. Use a semente definida no item 1."
   ]
  },
  {
   "cell_type": "code",
   "execution_count": null,
   "id": "1P2vwNazPpWW",
   "metadata": {
    "id": "1P2vwNazPpWW"
   },
   "outputs": [],
   "source": [
    "# Digite aqui o código do exercício."
   ]
  },
  {
   "cell_type": "markdown",
   "id": "2KMSEEuoVVL2",
   "metadata": {
    "id": "2KMSEEuoVVL2"
   },
   "source": [
    "5. Padronize os conjuntos de treinamento e teste. Daqui em diante, use apenas os conjuntos padronizados.\n",
    "\n",
    "**Dicas**\n",
    "+ Os valores para a padronização dos dois conjuntos são calculados em cima da base de treinamento e aplicados ao conjunto de teste."
   ]
  },
  {
   "cell_type": "code",
   "execution_count": null,
   "id": "jkg0QhwBV90B",
   "metadata": {
    "id": "jkg0QhwBV90B"
   },
   "outputs": [],
   "source": [
    "# Digite aqui o código do exercício."
   ]
  },
  {
   "cell_type": "markdown",
   "id": "4ffadd2f",
   "metadata": {
    "id": "4ffadd2f"
   },
   "source": [
    "6. Treine um regressor softmax com o conjunto de treinamento e após, imprima as acurácias de treinamento e teste. Use a semente definida no item 1. Chame a variável contendo o regressor softmax de `model1`.\n",
    "\n",
    " **Dica**\n",
    "\n",
    "+ Para resolver este item, baseie-se no código do seguinte exemplo: [classification_metrics.ipynb](https://colab.research.google.com/github/zz4fap/t320_aprendizado_de_maquina/blob/main/notebooks/classificação/classification_metrics.ipynb).\n",
    "\n"
   ]
  },
  {
   "cell_type": "code",
   "execution_count": null,
   "id": "85fecfa0",
   "metadata": {
    "colab": {
     "base_uri": "https://localhost:8080/"
    },
    "id": "85fecfa0",
    "outputId": "677bc9db-a8a0-4aa6-e550-4d55d3f4de82"
   },
   "outputs": [],
   "source": [
    "# Digite aqui o código do exercício."
   ]
  },
  {
   "cell_type": "markdown",
   "id": "fcc52e13",
   "metadata": {
    "id": "fcc52e13"
   },
   "source": [
    "7. Com base nas predições obtidas anteriormente para o conjunto de teste, gere a matriz de confusão do regressor softmax.\n",
    "\n",
    "**Dicas**\n",
    "\n",
    "+ Para resolver este item, se baseie no código do seguinte exemplo: [classification_metrics.ipynb](https://colab.research.google.com/github/zz4fap/t320_aprendizado_de_maquina/blob/main/notebooks/classificação/classification_metrics.ipynb)."
   ]
  },
  {
   "cell_type": "code",
   "execution_count": null,
   "id": "5a890a56",
   "metadata": {
    "colab": {
     "base_uri": "https://localhost:8080/",
     "height": 449
    },
    "id": "5a890a56",
    "outputId": "7ca2fae3-4242-48a0-d38b-3b0ab73029a9"
   },
   "outputs": [],
   "source": [
    "# Digite aqui o código do exercício."
   ]
  },
  {
   "cell_type": "markdown",
   "id": "c900e113",
   "metadata": {
    "id": "c900e113"
   },
   "source": [
    "8. Plote a curva ROC e a área abaixo da curva do regressor softmax para cada uma das classes usando o conjunto de teste.\n",
    "\n",
    "**Dicas**\n",
    "+ Para resolver este item, se baseie no código do seguinte exemplo: [classification_metrics.ipynb](https://colab.research.google.com/github/zz4fap/t320_aprendizado_de_maquina/blob/main/notebooks/classificação/classification_metrics.ipynb)."
   ]
  },
  {
   "cell_type": "code",
   "execution_count": null,
   "id": "31ef44f7",
   "metadata": {
    "colab": {
     "base_uri": "https://localhost:8080/",
     "height": 472
    },
    "id": "31ef44f7",
    "outputId": "01ad247d-377b-4c09-f85d-f7191674f2dd"
   },
   "outputs": [],
   "source": [
    "# Digite aqui o código do exercício."
   ]
  },
  {
   "cell_type": "markdown",
   "id": "5RYDe_pcbT6b",
   "metadata": {
    "id": "5RYDe_pcbT6b"
   },
   "source": [
    "9. Treine uma rede neural MLP para classificação com o conjunto de treinamento e, após, imprima as acurácias de treinamento e teste. Use a semente definida no item 1. Chame a variável contendo o regressor softmax de `model2`. Você pode configurar o número de camadas ocultas, o número de nós em cada camada oculta, a função de ativação e o otimizador da forma que você desejar.\n",
    "\n",
    " **Dica**\n",
    "\n",
    "+ Para resolver este item, baseie-se no código do seguinte exemplo: [classification_metrics.ipynb](https://colab.research.google.com/github/zz4fap/t320_aprendizado_de_maquina/blob/main/notebooks/classificação/classification_metrics.ipynb)."
   ]
  },
  {
   "cell_type": "code",
   "execution_count": null,
   "id": "idaToEb-bqqM",
   "metadata": {
    "colab": {
     "base_uri": "https://localhost:8080/"
    },
    "id": "idaToEb-bqqM",
    "outputId": "6a71ad5e-19f0-4fd1-c580-09a013d268f0"
   },
   "outputs": [],
   "source": [
    "# Digite aqui o código do exercício."
   ]
  },
  {
   "cell_type": "markdown",
   "id": "ZTa158m9AUrd",
   "metadata": {
    "id": "ZTa158m9AUrd"
   },
   "source": [
    "10. Com base nas predições obtidas no item anterior para o conjunto de teste, gere a matriz de confusão da rede neural.\n",
    "\n",
    "**Dicas**\n",
    "\n",
    "+ Para resolver este item, se baseie no código do seguinte exemplo: [classification_metrics.ipynb](https://colab.research.google.com/github/zz4fap/t320_aprendizado_de_maquina/blob/main/notebooks/classificação/classification_metrics.ipynb)."
   ]
  },
  {
   "cell_type": "code",
   "execution_count": null,
   "id": "S3XJU5R8An7G",
   "metadata": {
    "colab": {
     "base_uri": "https://localhost:8080/",
     "height": 449
    },
    "id": "S3XJU5R8An7G",
    "outputId": "1be293ed-1b0f-4b1e-87a2-45c410f57b95"
   },
   "outputs": [],
   "source": [
    "# Digite aqui o código do exercício."
   ]
  },
  {
   "cell_type": "markdown",
   "id": "kyUzTPXkA42U",
   "metadata": {
    "id": "kyUzTPXkA42U"
   },
   "source": [
    "11. Plote a curva ROC e a área abaixo da curva da rede neural para cada uma das classes usando o conjunto de teste.\n",
    "\n",
    "**Dicas**\n",
    "+ Para resolver este item, se baseie no código do seguinte exemplo: [classification_metrics.ipynb](https://colab.research.google.com/github/zz4fap/t320_aprendizado_de_maquina/blob/main/notebooks/classificação/classification_metrics.ipynb)."
   ]
  },
  {
   "cell_type": "code",
   "execution_count": null,
   "id": "xJg-_tyqBAAW",
   "metadata": {
    "colab": {
     "base_uri": "https://localhost:8080/",
     "height": 507
    },
    "id": "xJg-_tyqBAAW",
    "outputId": "9a9ebfbe-08df-4f88-bce1-bcbc257e8821"
   },
   "outputs": [],
   "source": [
    "# Digite aqui o código do exercício."
   ]
  },
  {
   "cell_type": "markdown",
   "id": "07e4c506",
   "metadata": {
    "id": "07e4c506"
   },
   "source": [
    "12. Com base em todos os resultados anteriores, qual é o melhor modelo? **Justifique sua resposta**.\n"
   ]
  },
  {
   "cell_type": "markdown",
   "id": "colAQlfUDCSo",
   "metadata": {
    "id": "colAQlfUDCSo"
   },
   "source": [
    "<span style=\"color:blue\">Escreva abaixo a resposta do exercício.</span>\n",
    "\n",
    "**Resposta**"
   ]
  }
 ],
 "metadata": {
  "colab": {
   "provenance": []
  },
  "kernelspec": {
   "display_name": "Python 3 (ipykernel)",
   "language": "python",
   "name": "python3"
  },
  "language_info": {
   "codemirror_mode": {
    "name": "ipython",
    "version": 3
   },
   "file_extension": ".py",
   "mimetype": "text/x-python",
   "name": "python",
   "nbconvert_exporter": "python",
   "pygments_lexer": "ipython3",
   "version": "3.9.13"
  }
 },
 "nbformat": 4,
 "nbformat_minor": 5
}
