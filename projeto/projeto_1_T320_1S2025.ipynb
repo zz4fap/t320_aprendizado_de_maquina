{
 "cells": [
  {
   "cell_type": "markdown",
   "id": "e0e4d2ea",
   "metadata": {
    "id": "e0e4d2ea"
   },
   "source": [
    "# Projeto 1 - T320 (1S2025)\n",
    "\n",
    "### Instruções\n",
    "\n",
    "1. Quando você terminar os exercícios do projeto, vá até o menu do Jupyter ou Colab e selecione a opção para fazer download do notebook.\n",
    "    * Os notebooks tem extensão .ipynb.\n",
    "    * Este deve ser o arquivo que você irá entregar.\n",
    "    * No Colab vá até a opção **File** -> **Download .ipynb**.\n",
    "    * No Jupyter vá até a opção **File** -> **Download as** -> **Notebook (.ipynb)**.\n",
    "2. Após o download do notebook, vá até a aba de tarefas do MS Teams, localize a tarefa referente a este projeto e faça o upload do seu notebook. Veja que há uma opção para anexar arquivos à tarefa.\n",
    "3. Atente-se ao prazo de entrega definido na tarefa do MS Teams. Entregas fora do prazo não serão consideradas.\n",
    "4. **O projeto pode ser resolvido em grupos de no MÁXIMO 3 alunos**.\n",
    "5. Todas as questões têm o mesmo peso.\n",
    "6. Não se esqueça de colocar seu(s) nome(s) e número(s) de matrícula no campo abaixo. Coloque os nomes dos integrantes do grupo no campo de texto abaixo.\n",
    "7. Você pode consultar todo o material de aula.\n",
    "8. A interpretação faz parte do projeto. Leia o enunciado de cada questão atentamente!\n",
    "9. Boa sorte!"
   ]
  },
  {
   "cell_type": "markdown",
   "id": "34e2ff8d",
   "metadata": {
    "id": "34e2ff8d"
   },
   "source": [
    "**Nomes e matrículas**:\n",
    "\n",
    "1. Nome do primeiro aluno - Matrícula do primeiro aluno\n",
    "2. Nome do segundo aluno - Matrícula do segundo aluno\n",
    "3. Nome do terceiro aluno - Matrícula do terceiro aluno"
   ]
  },
  {
   "cell_type": "markdown",
   "id": "e985db94",
   "metadata": {
    "id": "e985db94"
   },
   "source": [
    "## Exercícios"
   ]
  },
  {
   "cell_type": "markdown",
   "id": "e91b9c7a",
   "metadata": {
    "id": "e91b9c7a"
   },
   "source": [
    "### 1) Exercício sobre classificação multiclasses\n",
    "\n",
    "Neste exercício, você irá utilizar validação cruzada para encontrar as melhores funções discriminantes que separem quatro classes.\n",
    "\n",
    "1. Execute a célula abaixo e analise o código e a figura gerada. A figura mostra os exemplos de quatro classes.\n",
    "\n",
    "**DICAS**\n",
    "\n",
    "+ Na célula abaixo, o conjunto total de dados é dividido em conjuntos de treinamento e teste."
   ]
  },
  {
   "cell_type": "code",
   "execution_count": null,
   "id": "5e280f9e",
   "metadata": {
    "colab": {
     "base_uri": "https://localhost:8080/",
     "height": 506
    },
    "id": "5e280f9e",
    "outputId": "46035bfe-e06d-46cb-b7d2-583e7500dad6"
   },
   "outputs": [],
   "source": [
    "# Importa todos os módulos necessários.\n",
    "import numpy as np\n",
    "import pandas as pd\n",
    "from sklearn.datasets import make_circles\n",
    "import matplotlib.pyplot as plt\n",
    "from sklearn.datasets import make_moons\n",
    "from sklearn.model_selection import train_test_split\n",
    "from sklearn.model_selection import KFold\n",
    "from sklearn.linear_model import LogisticRegression\n",
    "from sklearn.preprocessing import PolynomialFeatures\n",
    "from sklearn.preprocessing import StandardScaler\n",
    "from sklearn.model_selection import cross_val_score\n",
    "from sklearn.pipeline import Pipeline\n",
    "from sklearn.metrics import confusion_matrix, accuracy_score, classification_report\n",
    "import seaborn as sns\n",
    "import urllib\n",
    "import pandas as pd\n",
    "\n",
    "# Reseta o gerador de sequências pseudo aleatórias.\n",
    "seed = 42\n",
    "np.random.seed(seed)\n",
    "\n",
    "df = pd.read_csv('https://www.dropbox.com/scl/fi/4qe25zybuulcqs77eh23r/sine_plus_three_clusters.csv?rlkey=w03enm031tqrjcfra7p8v6f7x&st=880wpq1j&dl=1', header=None)\n",
    "\n",
    "print(df.shape)\n",
    "\n",
    "# Obtendo a matriz de atributos e o vetor de rótulos.\n",
    "X = df.iloc[:,0:2].to_numpy()\n",
    "y = df.iloc[:,2].to_numpy()\n",
    "\n",
    "# Plot das classes (ajustado para as classes existentes).\n",
    "idx0 = np.argwhere(y == 0)\n",
    "idx1 = np.argwhere(y == 1)\n",
    "idx2 = np.argwhere(y == 2)\n",
    "idx3 = np.argwhere(y == 3)\n",
    "\n",
    "plt.plot(X[idx0, 0], X[idx0, 1], '.', label='Class 0')\n",
    "plt.plot(X[idx1, 0], X[idx1, 1], 'rx', label='Class 1')\n",
    "plt.plot(X[idx2, 0], X[idx2, 1], 'ko', label='Class 2')\n",
    "plt.plot(X[idx3, 0], X[idx3, 1], 'b^', label='Class 3')\n",
    "\n",
    "plt.xlabel('$x_1$', fontsize=14)\n",
    "plt.ylabel('$x_2$', fontsize=14)\n",
    "plt.legend()\n",
    "plt.grid()\n",
    "plt.show()\n",
    "\n",
    "# Imprime as dimensões do conjunto total de amostras.\n",
    "print('Dimensão da matriz de atributos, X:', X.shape)\n",
    "print('Dimensão do vetor de rótulos, y:', y.shape)\n",
    "\n",
    "# Divide o array em subconjuntos aleatórios de treino e teste.\n",
    "X_train, X_test, y_train, y_test = train_test_split(X, y, test_size=0.3, random_state=seed)"
   ]
  },
  {
   "cell_type": "markdown",
   "id": "4b19b549",
   "metadata": {
    "id": "4b19b549"
   },
   "source": [
    "2. Observe a figura acima e responda quais tipos de funções discriminantes, **lineares** ou **não-lineares**, são necessárias para se separar as quatro classes? (**Justifique sua resposta**)."
   ]
  },
  {
   "cell_type": "markdown",
   "id": "a39a4a14",
   "metadata": {
    "id": "a39a4a14"
   },
   "source": [
    "**Resposta**\n",
    "\n",
    "<span style=\"color:blue\">Escreva sua resposta abaixo.</span>"
   ]
  },
  {
   "cell_type": "markdown",
   "id": "a6519658",
   "metadata": {
    "id": "a6519658"
   },
   "source": [
    "3. Neste item, você irá utilizar validação cruzada do tipo k-Fold para encontrar a ordem correta para que funções polinomiais separem as quatro classes perfeitamente. Ao final, plote os resultados obtidos (i.e., média e desvio padrão das acurácias) para que você possa decidir qual é a melhor ordem.\n",
    "\n",
    "**DICAS**:\n",
    "\n",
    "+  Instancie um objeto da classe `KFold` com os seguintes parâmetros `n_splits=5` (ou seja, o número de folds, $k$, igual a 5) e `shuffle=True` para embaralhar as amostras.\n",
    "+ Realize a validação cruzada para polinômios de ordem 1 até 10, inclusive, em passos de 1 unidade.\n",
    "+ Para a validação cruzada, utilize o conjunto de treinamento.\n",
    "+ Realize a padronização nos dados de treinamento com um objeto da classe `StandardScaler`.\n",
    "+ Instancie um objeto da classe `LogisticRegression` com o parâmetro `penalty=None` (i.e., não aplica regularização).\n",
    "  + A partir da versão 1.5 da biblioteca scikit-learn, não é mais necessário configurar o parâmetro `multi_class='multinomial'`, pois o regressor logístico irá sempre implementar o softmax caso o número de classes seja maior do que 2.\n",
    "+ Configure o parâmetro `scoring` da função `cross_val_score` como `accuracy`.\n",
    "+ Sempre que possível, use a semente, `seed`, definida no item 1, para configurar o parâmetro `random_state` das funções e classes da biblioteca SciKit-Learn.\n",
    "+ Para resolver este item, se baseie no código do seguinte exemplo: [classification_with_cross_validation.ipynb](https://colab.research.google.com/github/zz4fap/t320_aprendizado_de_maquina/blob/main/notebooks/classificação/classification_with_cross_validation.ipynb).\n",
    "+ A validação cruzada pode demorar um pouco, portanto, pegue um café e tenha paciência."
   ]
  },
  {
   "cell_type": "code",
   "execution_count": null,
   "id": "8b29c36a",
   "metadata": {
    "colab": {
     "base_uri": "https://localhost:8080/",
     "height": 446
    },
    "id": "8b29c36a",
    "outputId": "3a76410b-5c83-4cc4-c73d-e1e4bee33181"
   },
   "outputs": [],
   "source": [
    "# Digite aqui o código do exercício."
   ]
  },
  {
   "cell_type": "markdown",
   "id": "f875c03f",
   "metadata": {
    "id": "f875c03f"
   },
   "source": [
    "4. Após analisar os resultados acima, qual a melhor ordem a ser utilizada para se separar as quatro classes?\n",
    "\n",
    "**DICAS**\n",
    "\n",
    "+ Use o princípio da navalha de Occam para decidar qua é a melhor ordem."
   ]
  },
  {
   "cell_type": "markdown",
   "id": "0aadc567",
   "metadata": {
    "id": "0aadc567"
   },
   "source": [
    "**Resposta**\n",
    "\n",
    "<span style=\"color:blue\">Escreva sua resposta abaixo.</span>"
   ]
  },
  {
   "cell_type": "markdown",
   "id": "4c72c2de",
   "metadata": {
    "id": "4c72c2de"
   },
   "source": [
    "5. Usando a melhor ordem para os polinômios de separação, encontrado no item anterior, treine um classificador (i.e., regressor softmax) com esta ordem. Em seguida, calcule a imprima a acurácia deste modelo com os conjuntos de treinamento e validação.\n",
    "\n",
    "**DICAS**:\n",
    "\n",
    "+ Realize a padronização nos dados de treinamento com um objeto da classe `StandardScaler`.\n",
    "+ Instancie um objeto da classe `LogisticRegression` com o parâmetro `penalty=None` (i.e., não aplica regularização).\n",
    "  + A partir da versão 1.5 da biblioteca scikit-learn, não é mais necessário configurar o parâmetro `multi_class='multinomial'`, pois o regressor logístico irá sempre implementar o softmax caso o número de classes seja maior do que 2.\n",
    "+ Sempre que possível, use a semente, `seed`, definida no item 1, para configurar o parâmetro `random_state` das funções e classes da biblioteca SciKit-Learn.\n",
    "+ Treine o modelo com o conjunto de treinamento.\n",
    "+ Para resolver este item, se baseie no código do seguinte exemplo: [classification_with_cross_validation.ipynb](https://colab.research.google.com/github/zz4fap/t320_aprendizado_de_maquina/blob/main/notebooks/classificação/classification_with_cross_validation.ipynb)."
   ]
  },
  {
   "cell_type": "code",
   "execution_count": null,
   "id": "0cec2dce",
   "metadata": {
    "colab": {
     "base_uri": "https://localhost:8080/"
    },
    "id": "0cec2dce",
    "outputId": "9fee0aaf-f7ca-4a0e-f297-da4c6747f184"
   },
   "outputs": [],
   "source": [
    "# Digite aqui o código do exercício."
   ]
  },
  {
   "cell_type": "markdown",
   "id": "45d0c849",
   "metadata": {
    "id": "45d0c849"
   },
   "source": [
    "6. Usando o modelo treinado com a melhor ordem para o polinômio de separação, plote as regiões de decisão deste classificador.\n",
    "\n",
    "**DICAS**:\n",
    "\n",
    "+ Para resolver este item, se baseie no código do seguinte exemplo: [classification_with_cross_validation.ipynb](https://colab.research.google.com/github/zz4fap/t320_aprendizado_de_maquina/blob/main/notebooks/classificação/classification_with_cross_validation.ipynb)."
   ]
  },
  {
   "cell_type": "code",
   "execution_count": null,
   "id": "905c0f4f",
   "metadata": {
    "colab": {
     "base_uri": "https://localhost:8080/",
     "height": 454
    },
    "id": "905c0f4f",
    "outputId": "cb4dd50b-1461-4308-9123-aface59592b4"
   },
   "outputs": [],
   "source": [
    "# Digite aqui o código do exercício."
   ]
  },
  {
   "cell_type": "markdown",
   "id": "bbdf414f",
   "metadata": {
    "id": "bbdf414f"
   },
   "source": [
    "7. Plote a matriz de confusão deste classificador para o **conjunto total de amostras**.\n",
    "\n",
    "**DICAS**:\n",
    "\n",
    "+ Não se esqueça que este é um problema de classificação com quatro classes.\n",
    "+ Para resolver este item, se baseie no código do seguinte exemplo: [classification_with_cross_validation.ipynb](https://colab.research.google.com/github/zz4fap/t320_aprendizado_de_maquina/blob/main/notebooks/classificação/classification_with_cross_validation.ipynb)."
   ]
  },
  {
   "cell_type": "code",
   "execution_count": null,
   "id": "3bb086d3",
   "metadata": {
    "colab": {
     "base_uri": "https://localhost:8080/",
     "height": 449
    },
    "id": "3bb086d3",
    "outputId": "36021df4-dc91-46ad-89bd-3c717b37a797"
   },
   "outputs": [],
   "source": [
    "# Digite aqui o código do exercício."
   ]
  },
  {
   "cell_type": "markdown",
   "id": "244109c0",
   "metadata": {
    "id": "244109c0"
   },
   "source": [
    "8. Use a função `classification_report` da biblioteca SciKit-Learn para imprimir algumas das métricas de classificação para o **conjunto total de exemplos**.\n",
    "\n",
    "**DICA**\n",
    "\n",
    "+ Para resolver este item, se baseie no código do seguinte exemplo: [classification_with_cross_validation.ipynb](https://colab.research.google.com/github/zz4fap/t320_aprendizado_de_maquina/blob/main/notebooks/classificação/classification_with_cross_validation.ipynb)."
   ]
  },
  {
   "cell_type": "code",
   "execution_count": null,
   "id": "2c9a5434",
   "metadata": {
    "colab": {
     "base_uri": "https://localhost:8080/"
    },
    "id": "2c9a5434",
    "outputId": "81cd80fb-b030-457e-c2a0-68236ea529b9"
   },
   "outputs": [],
   "source": [
    "# Digite aqui o código do exercício."
   ]
  },
  {
   "cell_type": "markdown",
   "id": "79193346",
   "metadata": {
    "id": "79193346"
   },
   "source": [
    "9. Analise as métricas impressas no item anterior, o que podemos concluir sobre este classificador? (**Justifique sua resposta**)."
   ]
  },
  {
   "cell_type": "markdown",
   "id": "22d45f7a",
   "metadata": {
    "id": "22d45f7a"
   },
   "source": [
    "**Resposta**\n",
    "\n",
    "<span style=\"color:blue\">Escreva sua resposta abaixo.</span>"
   ]
  },
  {
   "cell_type": "markdown",
   "id": "fc4b3008",
   "metadata": {
    "id": "fc4b3008"
   },
   "source": [
    "10. O que aconteceria se as funções discriminantes usadas tivessem grau inferior ao necessário para se obter a separação perfeita das classes, por exemplo, grau igual a 1? (**Justifique sua resposta**)\n",
    "\n",
    "**DICA**\n",
    "+ Lembre-se dos efeitos de sobreajuste e subajuste."
   ]
  },
  {
   "cell_type": "markdown",
   "id": "a712efde",
   "metadata": {
    "id": "a712efde"
   },
   "source": [
    "**Resposta**\n",
    "\n",
    "<span style=\"color:blue\">Escreva sua resposta abaixo.</span>"
   ]
  },
  {
   "cell_type": "markdown",
   "id": "d9ba9cbb",
   "metadata": {
    "id": "d9ba9cbb"
   },
   "source": [
    "11. Usando uma ordem igual a 1 para os polinômios de separação, treine um regressor softmax com esta ordem. Em seguida, calcule a imprima a acurácia deste modelo com os conjuntos de treinamento e validação.\n",
    "\n",
    "**DICAS**:\n",
    "\n",
    "+ Realize a padronização nos dados de treinamento com um objeto da classe `StandardScaler`.\n",
    "+ Instancie um objeto da classe `LogisticRegression` com o parâmetro `penalty=None` (i.e., não aplica regularização).\n",
    "  + A partir da versão 1.5 da biblioteca scikit-learn, não é mais necessário configurar o parâmetro `multi_class='multinomial'`, pois o regressor logístico irá sempre implementar o softmax caso o número de classes seja maior do que 2.\n",
    "+ Sempre que possível, use a semente, `seed`, definida no item 1, para configurar o parâmetro `random_state` das funções e classes da biblioteca SciKit-Learn.\n",
    "+ Treine o modelo com o conjunto de treinamento.\n",
    "+ Para resolver este item, se baseie no código do seguinte exemplo: [classification_with_cross_validation.ipynb](https://colab.research.google.com/github/zz4fap/t320_aprendizado_de_maquina/blob/main/notebooks/classificação/classification_with_cross_validation.ipynb)."
   ]
  },
  {
   "cell_type": "code",
   "execution_count": null,
   "id": "15260d9b",
   "metadata": {
    "colab": {
     "base_uri": "https://localhost:8080/"
    },
    "id": "15260d9b",
    "outputId": "52a229b3-fa98-42d0-cc60-c5a1e9f9d6b7"
   },
   "outputs": [],
   "source": [
    "# Digite aqui o código do exercício."
   ]
  },
  {
   "cell_type": "markdown",
   "id": "f9eb00b5",
   "metadata": {
    "id": "f9eb00b5"
   },
   "source": [
    "12. Usando o modelo treinado com uma ordem igual a 1 para o polinômio de separação, plote as regiões de decisão deste classificador.\n",
    "\n",
    "**DICAS**:\n",
    "\n",
    "+ Para resolver este item, se baseie no código do seguinte exemplo: [classification_with_cross_validation.ipynb](https://colab.research.google.com/github/zz4fap/t320_aprendizado_de_maquina/blob/main/notebooks/classificação/classification_with_cross_validation.ipynb)."
   ]
  },
  {
   "cell_type": "code",
   "execution_count": null,
   "id": "476db54e",
   "metadata": {
    "colab": {
     "base_uri": "https://localhost:8080/",
     "height": 454
    },
    "id": "476db54e",
    "outputId": "926533b7-9832-4b65-85a9-09ec8fd20b53"
   },
   "outputs": [],
   "source": [
    "# Digite aqui o código do exercício."
   ]
  },
  {
   "cell_type": "markdown",
   "id": "NvKqr8lhHo5A",
   "metadata": {
    "id": "NvKqr8lhHo5A"
   },
   "source": [
    "### 2) Classificação multi-classes\n",
    "\n",
    "Neste exercício, vamos considerar o problema de classificar veículos tendo como base alguns atributos extraídos das silhuetas de suas imagens.\n",
    "\n",
    "Inicialmente, o conjunto de dados será dividido em duas partes, uma para treinamento e outra para validação. Dois métodos de classificação serão explorados neste exercício: regressão logística com abordagem um-contra-o-resto e regressão softmax para lidar com este cenário de classificação multi-classes.\n",
    "\n",
    "Em particular, usaremos os dados disponíveis na base Vehicle Silhouettes, que pode ser acessada através do link: https://archive.ics.uci.edu/ml/datasets/Statlog+(Vehicle+Silhouettes)\n",
    "\n",
    "A base de dados possui 846 exemplos, onde cada exemplo (i.e., um veículo) é descrito por 18 atributos numéricos (mostrados na tabela abaixo). Além disso, existem quatro classes possíveis: VAN, SAAB, BUS e OPEL.\n",
    "\n",
    "|             Atributo             |                       Descrição                       |\n",
    "|:--------------------------------:|:-----------------------------------------------------:|\n",
    "|           COMPACTNESS            |                (average perim)**2/area                |\n",
    "|           CIRCULARITY            |                (average radius)**2/area               |\n",
    "|       DISTANCE CIRCULARITY       |           area/(av.distance from border)**2           |\n",
    "|           RADIUS RATIO           |              (max.rad-min.rad)/av.radius              |\n",
    "|       PR.AXIS ASPECT RATIO       |               (minor axis)/(major axis)               |\n",
    "|     MAX.LENGTH ASPECT RATIO      |         (length perp. max length)/(max length)        |\n",
    "|          SCATTER RATIO           | (inertia about minor axis)/(inertia about major axis) |\n",
    "|          ELONGATEDNESS           |                 area/(shrink width)**2                |\n",
    "|      PR.AXIS RECTANGULARITY      |          area/(pr.axis length*pr.axis width)          |\n",
    "|    MAX.LENGTH RECTANGULARITY     |         area/(max.length*length perp. to this)        |\n",
    "| SCALED VARIANCE ALONG MAJOR AXIS |        (2nd order moment about minor axis)/area       |\n",
    "| SCALED VARIANCE ALONG MINOR AXIS |        (2nd order moment about major axis)/area       |\n",
    "|    SCALED RADIUS OF GYRATION     |                   (mavar+mivar)/area                  |\n",
    "|     SKEWNESS ABOUT MAJOR AXIS    |    (3rd order moment about major axis)/sigma_min**3   |\n",
    "|     SKEWNESS ABOUT MINOR AXIS    |    (3rd order moment about minor axis)/sigma_maj**3   |\n",
    "|     KURTOSIS ABOUT MINOR AXIS    |    (4th order moment about major axis)/sigma_min**4   |\n",
    "|     KURTOSIS ABOUT MAJOR AXIS    |    (4th order moment about minor axis)/sigma_maj**4   |\n",
    "|          HOLLOWS RATIO           |      (area of hollows)/(area of bounding polygon)     |\n",
    "\n",
    "A tabela abaixo fornece uma descrição sucinta de cada atributo.\n",
    "\n",
    "| Atributo                          | Descrição                                                                                                      |\n",
    "|-----------------------------------|---------------------------------------------------------------------------------------------------------------|\n",
    "| COMPACTNESS                       | Mede a \"compacidade\" da forma: quanto maior o valor, menos compacto (perímetro grande em relação à área).      |\n",
    "| CIRCULARITY                       | Indica proximidade a um círculo (raio médio alto em relação à área).                                          |\n",
    "| DISTANCE CIRCULARITY              | Similar à circularidade, mas baseado na distância média do contorno ao centro.                                |\n",
    "| RADIUS RATIO                      | Variação relativa do raio (diferença entre raio máximo e mínimo em relação à média).                          |\n",
    "| PR.AXIS ASPECT RATIO              | Proporção entre os eixos principal (maior) e secundário (menor).                                              |\n",
    "| MAX.LENGTH ASPECT RATIO           | Proporção entre o comprimento máximo e sua dimensão perpendicular.                                             |\n",
    "| SCATTER RATIO                     | Razão de inércia (distribuição da massa) entre eixos secundário e principal.                                   |\n",
    "| ELONGATEDNESS                     | Mede alongamento (área em relação à largura \"encolhida\").                                                      |\n",
    "| PR.AXIS RECTANGULARITY            | Adequação a um retângulo alinhado aos eixos principais.                                                        |\n",
    "| MAX.LENGTH RECTANGULARITY         | Adequação a um retângulo baseado no comprimento máximo.                                                        |\n",
    "| SCALED VARIANCE ALONG MAJOR/MINOR AXIS | Variância normalizada da distribuição de pixels ao longo de cada eixo.                                       |\n",
    "| SCALED RADIUS OF GYRATION         | Medida de dispersão dos pontos em relação ao centroide.                                                        |\n",
    "| SKEWNESS ABOUT MAJOR/MINOR AXIS   | Assimetria da distribuição de pixels ao longo de cada eixo.                                                    |\n",
    "| KURTOSIS ABOUT MINOR/MAJOR AXIS   | \"Achatamento\" ou concentração de pixels ao longo de cada eixo.                                                 |\n",
    "| HOLLOWS RATIO                     | Proporção de áreas vazias (buracos) na silhueta.                                                               |\n",
    "\n",
    "A figura abaixo mostra exemplos das quatro classes possíveis.\n",
    "\n",
    "<img src=\"https://raw.githubusercontent.com/zz4fap/t320_aprendizado_de_maquina/main/figures/carros_dataset.PNG\" width=\"500px\">\n",
    "\n",
    "\n"
   ]
  },
  {
   "cell_type": "markdown",
   "id": "uXze2T--KwY2",
   "metadata": {
    "id": "uXze2T--KwY2"
   },
   "source": [
    "1. Execute a célula de código abaixo para gerar os conjuntos de treinamento e validação.\n",
    "\n",
    "**DICAS**\n",
    "+ Perceba que os dados já são separados em conjuntos de trainamento e validação. Com 80% para treinamento e 20% para validação. Além disso, os conjuntos de treinamento e validação já estão padronizados."
   ]
  },
  {
   "cell_type": "code",
   "execution_count": null,
   "id": "cY0hXUcBK1le",
   "metadata": {
    "id": "cY0hXUcBK1le"
   },
   "outputs": [],
   "source": [
    "# Import all the necessary libraries.\n",
    "import numpy as np\n",
    "import pandas as pd\n",
    "import seaborn as sns\n",
    "import matplotlib.pyplot as plt\n",
    "from sklearn.metrics import mean_squared_error\n",
    "from sklearn.model_selection import train_test_split\n",
    "from sklearn.model_selection import cross_val_score\n",
    "from sklearn.model_selection import KFold\n",
    "from sklearn.preprocessing import StandardScaler\n",
    "from sklearn.preprocessing import MinMaxScaler\n",
    "from sklearn.pipeline import Pipeline\n",
    "from sklearn.linear_model import LogisticRegression\n",
    "from sklearn.linear_model import LogisticRegressionCV\n",
    "from sklearn.multiclass import OneVsRestClassifier\n",
    "from sklearn.metrics import confusion_matrix, accuracy_score, roc_curve, auc, f1_score\n",
    "from sklearn.metrics import classification_report, precision_score, recall_score\n",
    "\n",
    "# Reset PN sequence generator.\n",
    "seed = 42\n",
    "np.random.seed(seed)\n",
    "\n",
    "# Define the number of classes.\n",
    "numberOfClasses = 4\n",
    "\n",
    "# Load the dataset.\n",
    "df = pd.read_csv('https://www.dropbox.com/scl/fi/ce4ubjlu1i7wt6pf5wkm9/dataset_vehicle.csv?rlkey=v7rntgeu6rto8yjw0ac9f30fo&st=821knj4v&dl=1')\n",
    "\n",
    "# Convert the labels from strings into integer numbers.\n",
    "c = {\"van\":0, \"saab\":1, \"bus\":2, \"opel\":3}\n",
    "df.Class = [c[item] for item in df.Class]\n",
    "\n",
    "# Convert dataset into numpy array.\n",
    "data = df.to_numpy()\n",
    "\n",
    "# Create attribute matrix and label vector.\n",
    "X = data[:,0:18]\n",
    "y = data[:,18]\n",
    "\n",
    "# Split the data into training and validation datasets.\n",
    "X_train, X_test, y_train, y_test = train_test_split(X, y, test_size=0.2, random_state=seed)\n",
    "\n",
    "# Standardazing the datasets.\n",
    "scaler = StandardScaler()\n",
    "X_train = scaler.fit_transform(X_train)\n",
    "X_test = scaler.transform(X_test)"
   ]
  },
  {
   "cell_type": "markdown",
   "id": "Zp2DsXQPLiT5",
   "metadata": {
    "id": "Zp2DsXQPLiT5"
   },
   "source": [
    "2. Neste item, você irá classificar a base de dados com o regressor logístico utilizando a abordagem um-contra-o-resto (one-versus-rest - ovr). Instancie um objeto da classe `OneVsRestClassifier` passando um objeto da classe `LogisticRegression`, treine o modelo com o conjunto de treinamento, calcule e imprima sua acurácia para o conjunto de validação.\n",
    "\n",
    "**DICAS**\n",
    "\n",
    "+ Para resolver este item, se baseie no código do seguinte exemplo: [ClassificationOfFourClassesWithOvAandOvO_SciKitLearn.ipynb](https://colab.research.google.com/github/zz4fap/t320_aprendizado_de_maquina/blob/main/notebooks/classifica%C3%A7%C3%A3o/ClassificationOfFourClassesWithOvAandOvO_SciKitLearn.ipynb).\n",
    "+ Para podermos comparar os modelos da mesma forma, configure o parâmetro `random_state` da classe `LogisticRegression` com a semente definida no item 1, ou seja,\n",
    "```python\n",
    "random_state=seed\n",
    "```"
   ]
  },
  {
   "cell_type": "code",
   "execution_count": null,
   "id": "Bvu3ghq0M3_0",
   "metadata": {
    "colab": {
     "base_uri": "https://localhost:8080/"
    },
    "id": "Bvu3ghq0M3_0",
    "outputId": "e9f8a2b0-09d5-4905-9d5a-5ded251a7bdb"
   },
   "outputs": [],
   "source": [
    "# Digite aqui o código do exercício."
   ]
  },
  {
   "cell_type": "markdown",
   "id": "t5sYk9x7P-J0",
   "metadata": {
    "id": "t5sYk9x7P-J0"
   },
   "source": [
    "3. Plote a matriz de confusão para o conjunto de validação."
   ]
  },
  {
   "cell_type": "code",
   "execution_count": null,
   "id": "q3NPQswfP-TN",
   "metadata": {
    "colab": {
     "base_uri": "https://localhost:8080/",
     "height": 449
    },
    "id": "q3NPQswfP-TN",
    "outputId": "0ed06205-46a4-467e-a0dc-72abe8edf805"
   },
   "outputs": [],
   "source": [
    "# Digite aqui o código do exercício."
   ]
  },
  {
   "cell_type": "markdown",
   "id": "vbdM8iw-QBsy",
   "metadata": {
    "id": "vbdM8iw-QBsy"
   },
   "source": [
    "4. Analise a matriz de confusão e a figura com exemplos das quatro classes. O que você consegue concluir a respeito das **confusões** feitas pelo classificador?\n",
    "\n",
    "**DICAS**\n",
    "+ Foque em classes similares e vejas as confusões feitas entre essas classes."
   ]
  },
  {
   "cell_type": "markdown",
   "id": "xdoH1d2FQHej",
   "metadata": {
    "id": "xdoH1d2FQHej"
   },
   "source": [
    "<span style=\"color:blue\">Escreva abaixo a resposta do exercício.</span>\n",
    "\n",
    "**Resposta**"
   ]
  },
  {
   "cell_type": "markdown",
   "id": "t6-6KKb4QOub",
   "metadata": {
    "id": "t6-6KKb4QOub"
   },
   "source": [
    "5. Neste item, você irá classificar a base de dados com o regressor softmax. Instancie um objeto da classe `LogisticRegression` que irá operar como regressor softmax, treine o modelo com o conjunto de treinamento, calcule e imprima sua acurácia para o conjunto de validação.\n",
    "\n",
    "**DICAS**\n",
    "\n",
    "+ A partir da versão 1.5 da biblioteca scikit-learn, não é mais necessário configurar o parâmetro `multi_class='multinomial'`, pois o regressor logístico irá sempre implementar o softmax caso o número de classes seja maior do que 2, que é o caso deste exercício.\n",
    "+ Para podermos comparar os modelos da mesma forma, configure o parâmetro `random_state` com a semente definida no item 1, ou seja,\n",
    "```python\n",
    "random_state=seed\n",
    "```"
   ]
  },
  {
   "cell_type": "code",
   "execution_count": null,
   "id": "cnR5FM0HQB1R",
   "metadata": {
    "colab": {
     "base_uri": "https://localhost:8080/"
    },
    "id": "cnR5FM0HQB1R",
    "outputId": "37bc5788-e792-441f-8344-489f3c179bea"
   },
   "outputs": [],
   "source": [
    "# Digite aqui o código do exercício."
   ]
  },
  {
   "cell_type": "markdown",
   "id": "heiHLNFuQ0uU",
   "metadata": {
    "id": "heiHLNFuQ0uU"
   },
   "source": [
    "6. Plote a matriz de confusão para o conjunto de validação."
   ]
  },
  {
   "cell_type": "code",
   "execution_count": null,
   "id": "JNEbhNF6Q1mq",
   "metadata": {
    "colab": {
     "base_uri": "https://localhost:8080/",
     "height": 449
    },
    "id": "JNEbhNF6Q1mq",
    "outputId": "c29026d3-5298-40fa-fa9d-3cc8fff8f623"
   },
   "outputs": [],
   "source": [
    "# Digite aqui o código do exercício."
   ]
  },
  {
   "cell_type": "markdown",
   "id": "acybX_5pQ_y0",
   "metadata": {
    "id": "acybX_5pQ_y0"
   },
   "source": [
    "7. Qual dos dois classificadores apresenta o melhor desempenho?"
   ]
  },
  {
   "cell_type": "markdown",
   "id": "R_cWiXECQ-yD",
   "metadata": {
    "id": "R_cWiXECQ-yD"
   },
   "source": [
    "<span style=\"color:blue\">Escreva abaixo a resposta do exercício.</span>\n",
    "\n",
    "**Resposta**"
   ]
  },
  {
   "cell_type": "markdown",
   "id": "SANEyI7wS_sE",
   "metadata": {
    "id": "SANEyI7wS_sE"
   },
   "source": [
    "8. Analise a matriz de confusão do melhor classificador e responda:\n",
    "+ Quais são as classes que o classificador mais erra, ou seja, as classes que ele mais se confunde?\n",
    "+ Você consegue pensar no motivo desta confusão entre essas classes?\n",
    "\n"
   ]
  },
  {
   "cell_type": "markdown",
   "id": "_cHIjhc1TTAD",
   "metadata": {
    "id": "_cHIjhc1TTAD"
   },
   "source": [
    "<span style=\"color:blue\">Escreva abaixo a resposta do exercício.</span>\n",
    "\n",
    "**Resposta**"
   ]
  },
  {
   "cell_type": "markdown",
   "id": "NKowxgI_S8-O",
   "metadata": {
    "id": "NKowxgI_S8-O"
   },
   "source": [
    "9. Se nós analisarmos as classes, percebemos que as classes SAAB e OPEL poderiam ser agrupadas em um única classe chamada de CAR, pois ambos são carros e, em uma aplicação genérica, talvez não faça sentido classificar estes dois tipos de carros de forma independente. Assim, neste item, agrupamos as duas classes em um única classe que será chamada de CAR.\n",
    "\n",
    "Execute a célula de código abaixo para agrupar as duas classes. Após a execução, a classe VAN será representada pelo número inteiro 0, a classe CAR (SAAB+OPEL) representada pelo número 1 e a classe BUS representada pelo número 2."
   ]
  },
  {
   "cell_type": "code",
   "execution_count": null,
   "id": "BlIwfJWypXnI",
   "metadata": {
    "id": "BlIwfJWypXnI"
   },
   "outputs": [],
   "source": [
    "# Change positions where the label is equal to 3 to 1, the number that will define the class CAR\n",
    "y_train = np.where(y_train==3, 1, y_train)\n",
    "\n",
    "# Change positions where the label is equal to 3 to 1, the number that will define the class CAR\n",
    "y_test = np.where(y_test==3, 1, y_test)"
   ]
  },
  {
   "cell_type": "markdown",
   "id": "DT_W3CqcppfL",
   "metadata": {
    "id": "DT_W3CqcppfL"
   },
   "source": [
    "10. Refaça a classificação com a nova base de dados utilizando o melhor classificador encontrado nos itens anteriores. Treine o modelo com o conjunto de treinamento, calcule e imprima sua acurácia para o conjunto de validação.\n",
    "\n",
    "**DICAS**\n",
    "\n",
    "+ Para podermos comparar os modelos da mesma forma, configure o parâmetro `random_state` com a semente definida no item 1, ou seja,\n",
    "```python\n",
    "random_state=seed\n",
    "```"
   ]
  },
  {
   "cell_type": "code",
   "execution_count": null,
   "id": "7JaoIVNsptXM",
   "metadata": {
    "colab": {
     "base_uri": "https://localhost:8080/"
    },
    "id": "7JaoIVNsptXM",
    "outputId": "e24b6033-42eb-424d-cdfa-fecd8454841b"
   },
   "outputs": [],
   "source": [
    "# Digite aqui o código do exercício."
   ]
  },
  {
   "cell_type": "markdown",
   "id": "4ejWdHLAs7LJ",
   "metadata": {
    "id": "4ejWdHLAs7LJ"
   },
   "source": [
    "11. Plote a matriz de confusão para o conjunto de validação.\n",
    "\n",
    "**DICAS**\n",
    "+ Lembre-se que agora temos apenas 3 classes: VAN (0), CAR (1) e BUS (2)."
   ]
  },
  {
   "cell_type": "code",
   "execution_count": null,
   "id": "Rg9mg6xts91N",
   "metadata": {
    "colab": {
     "base_uri": "https://localhost:8080/",
     "height": 449
    },
    "id": "Rg9mg6xts91N",
    "outputId": "9cd07ac4-cf19-4b43-b9cb-f318afdf60e4"
   },
   "outputs": [],
   "source": [
    "# Digite aqui o código do exercício."
   ]
  },
  {
   "cell_type": "markdown",
   "id": "LyP6ssQitcQP",
   "metadata": {
    "id": "LyP6ssQitcQP"
   },
   "source": [
    "12. Compare os resultados de acurácia e da matriz de confusão obtidos com uma base de dados com três classes com os mesmos resultados obtidos quando tínhamos quatro classes. O que pode ser concluído?"
   ]
  },
  {
   "cell_type": "markdown",
   "id": "8Ap6qzNgthO6",
   "metadata": {
    "id": "8Ap6qzNgthO6"
   },
   "source": [
    "<span style=\"color:blue\">Escreva abaixo a resposta do exercício.</span>\n",
    "\n",
    "**Resposta**"
   ]
  },
  {
   "cell_type": "markdown",
   "id": "acte8PsLCVxJ",
   "metadata": {
    "id": "acte8PsLCVxJ"
   },
   "source": [
    "### 3) Exercício sobre classificação aplicada às telecomunicações.\n",
    "\n",
    "Você sabia que atrair um novo cliente custa cinco vezes mais do que manter um já existente?\n",
    "\n",
    "Muitas vezes, os clientes ficam insatisfeitos com os serviços prestados e encerram o contrato ou assinatura. Essa rotatividade de clientes, ou `Churn`, (taxa de clientes ou assinantes que deixam de fazer negócios com uma empresa) afeta drasticamente as finanças das empresas de telecomunicações. Portanto, para reduzir a rotatividade de clientes, as empresas precisam prever quais clientes correm alto risco de encerrarem o contrato ou assinatura.\n",
    "\n",
    "Baseado nessas informações, vamos treinar um modelo que ajude as empresas a prever a satisfação dos clientes.\n",
    "\n",
    "O conjunto de dados que utilizaremos contém 20 atributos (i.e., colunas) que indicam as características dos clientes de uma empresa fictícia de telecomunicações que fornece serviços de telefone residencial e Internet na Califórnia.\n",
    "\n",
    "A coluna `Churn` (i.e., o rótulo) indica se o cliente encerrou o contrato ou assinatura no último mês ou não. A classe `No` inclui os clientes que não encerram o relaciomento com a empresa no último mês, enquanto a classe `Yes` contém os clientes que decidiram encerrar o relacionamento com a empresa. O objetivo da nossa análise é obter a relação entre os atributos do cliente e o *churn* (i.e., término do relaciomento). Notem, portanto, que este é um problema de classificação binária.\n",
    "\n",
    "Além da coluna/atributo `customerID`, o conjunto de dados contém outros 19 atributos, os quais podem ser agrupados em 3 grupos:\n",
    "\n",
    "**1 - Demographic Information**\n",
    "\n",
    "+ gender: Whether the client is a female or a male (Female, Male).\n",
    "+ SeniorCitizen: Whether the client is a senior citizen or not ( 0, 1).\n",
    "+ Partner: Whether the client has a partner or not (Yes, No).\n",
    "+ Dependents: Whether the client has dependents or not (Yes, No).\n",
    "\n",
    "**2 - Customer Account Information**\n",
    "\n",
    "+ tenure: Number of months the customer has stayed with the company (Multiple different numeric values).\n",
    "+ Contract: Indicates the customer’s current contract type (Month-to-Month, One year, Two year).\n",
    "+ PaperlessBilling: Whether the client has paperless billing or not (Yes, No).\n",
    "+ PaymentMethod: The customer’s payment method (Electronic check, Mailed check, Bank transfer (automatic), Credit Card (automatic)).\n",
    "+ MontlyCharges: The amount charged to the customer monthly (Multiple different numeric values).\n",
    "+ TotalCharges: The total amount charged to the customer (Multiple different numeric values).\n",
    "\n",
    "**3 - Services Information**\n",
    "\n",
    "+ PhoneService: Whether the client has a phone service or not (Yes, No).\n",
    "+ MultipleLines: Whether the client has multiple lines or not (No phone service, No, Yes).\n",
    "+ InternetServices: Whether the client is subscribed to Internet service with the company (DSL, Fiber optic, No)\n",
    "+ OnlineSecurity: Whether the client has online security or not (No internet service, No, Yes).\n",
    "+ OnlineBackup: Whether the client has online backup or not (No internet service, No, Yes).\n",
    "+ DeviceProtection: Whether the client has device protection or not (No internet service, No, Yes).\n",
    "+ TechSupport: Whether the client has tech support or not (No internet service, No, Yes).\n",
    "+ StreamingTV: Whether the client has streaming TV or not (No internet service, No, Yes).\n",
    "+ StreamingMovies: Whether the client has streaming movies or not (No internet service, No, Yes).\n",
    "\n",
    "#### Referências\n",
    "\n",
    "[1] 'End-to-end machine learning project: Telco customer churn', https://towardsdatascience.com/end-to-end-machine-learning-project-telco-customer-churn-90744a8df97d\n",
    "\n",
    "[2] 'Telco Customer Churn: Focused customer retention programs', https://www.kaggle.com/datasets/blastchar/telco-customer-churn?resource=download\n",
    "\n",
    "[3] 'Customer Churn (Marketing)', https://catalog.workshops.aws/canvas-immersion-day/en-US/1-use-cases/1-marketing\n",
    "\n",
    "[4] 'Telecom customer churn prediction', https://www.kaggle.com/code/bhartiprasad17/customer-churn-prediction\n",
    "\n",
    "[5] 'Telco customer churn (11.1.3+)', https://community.ibm.com/community/user/businessanalytics/blogs/steven-macko/2019/07/11/telco-customer-churn-1113\n",
    "\n",
    "[6] 'telco-customer-churn', https://www.openml.org/search?type=data&sort=runs&id=42178&status=active"
   ]
  },
  {
   "cell_type": "markdown",
   "id": "RMR6HzguCfBC",
   "metadata": {
    "id": "RMR6HzguCfBC"
   },
   "source": [
    "1. Execute a célula abaixo para os módulos necessários e baixar o conjunto de dados. Na sequência, analise as linhas que serão impressas.\n",
    "\n",
    "**DICAS**\n",
    "\n",
    "+ Após a execução bem sucedida da célula abaixo, você visualizará as 5 primeiras linhas da base de dados.\n",
    "+ A coluna `Churn` será o valor alvo (i.e., o rótulo). Os rótulos são os valores que o modelo é treinado para predizer."
   ]
  },
  {
   "cell_type": "code",
   "execution_count": null,
   "id": "UALcb6hcCbp1",
   "metadata": {
    "colab": {
     "base_uri": "https://localhost:8080/",
     "height": 342
    },
    "id": "UALcb6hcCbp1",
    "outputId": "517a8df9-62f9-47a9-9ee7-0f6817e86f5b"
   },
   "outputs": [],
   "source": [
    "# Importe todas os módulos necessários.\n",
    "import numpy as np\n",
    "import pandas as pd\n",
    "import matplotlib.pyplot as plt\n",
    "from sklearn.datasets import make_moons\n",
    "from sklearn.model_selection import train_test_split\n",
    "from sklearn.model_selection import KFold, GridSearchCV\n",
    "from sklearn.linear_model import LogisticRegression\n",
    "from sklearn.preprocessing import PolynomialFeatures\n",
    "from sklearn.preprocessing import StandardScaler\n",
    "from sklearn.model_selection import cross_val_score\n",
    "from sklearn.dummy import DummyClassifier\n",
    "from sklearn.pipeline import Pipeline\n",
    "from sklearn.metrics import confusion_matrix, accuracy_score, classification_report, roc_curve, auc\n",
    "import seaborn as sns\n",
    "import urllib\n",
    "\n",
    "# Reseta o gerador de sequências pseudo aleatórias.\n",
    "seed = 42\n",
    "np.random.seed(seed)\n",
    "\n",
    "# Baixa as bases de dados do dropbox.\n",
    "urllib.request.urlretrieve('https://www.dropbox.com/s/xg2hzt0p8p3zsjd/telco_customer_churn.csv?dl=1', 'telco_customer_churn.csv')\n",
    "\n",
    "# Importa os arquivos CSV.\n",
    "df = pd.read_csv('./telco_customer_churn.csv')\n",
    "\n",
    "# Mostra as 5 primeiras linhas.\n",
    "df.head()"
   ]
  },
  {
   "cell_type": "markdown",
   "id": "_6tAhzDrCly4",
   "metadata": {
    "id": "_6tAhzDrCly4"
   },
   "source": [
    "2. Execute a célula abaixo para realizar a limpeza dos dados.\n",
    "\n",
    "**DICAS**\n",
    "\n",
    "+ Os comentários abaixo explicam cada uma das instruções para limpar a base de dados."
   ]
  },
  {
   "cell_type": "code",
   "execution_count": null,
   "id": "4wQPpanXCohI",
   "metadata": {
    "id": "4wQPpanXCohI"
   },
   "outputs": [],
   "source": [
    "# Força a coluna 'TotalCharges' a ser do tipo numérico.\n",
    "df['TotalCharges'] = pd.to_numeric(df['TotalCharges'], errors='coerce')\n",
    "\n",
    "# Remove exemplos (i.e., linhas) com valores nulos.\n",
    "df.dropna(inplace=True)\n",
    "\n",
    "# Remove a coluna 'customerID' pois ela é inútil para explicar se o cliente não irá encerrar o relacionamento com a companhia.\n",
    "df.drop(columns='customerID', inplace=True)\n",
    "\n",
    "# Remove a string '(automático)' dos nomes dos métodos de pagamento, pois ela é inútil.\n",
    "df['PaymentMethod'] = df['PaymentMethod'].str.replace(' (automatic)', '', regex=False)"
   ]
  },
  {
   "cell_type": "markdown",
   "id": "2ZmN6dEPCrlg",
   "metadata": {
    "id": "2ZmN6dEPCrlg"
   },
   "source": [
    "3. Execute a célula abaixo para realizar a engenharia de atributos da base de dados.\n",
    "\n",
    "A engenharia de atributos é o processo de transformar os atributos em um formato adequado para o modelo de aprendizado de máquina. Neste exercício, precisamos transformar variáveis numéricas e categóricas.\n",
    "\n",
    "A maioria dos algoritmos de aprendizado de máquina requer valores numéricos. Portanto, todos os atributos categóricos disponíveis no conjunto de dados devem ser codificados em rótulos numéricos antes de treinarmos um modelo.\n",
    "\n",
    "**DICAS**\n",
    "\n",
    "+ Os comentários abaixo explicam cada uma das instruções para realizar a engenharia de atributos.\n",
    "+ Perceba que a engenharia de atributos fez com que a matriz de atributos passe a ter 40 atributos.\n",
    "+ Note que os valores categóricos da coluna `Churn`, `No` e `Yes` serão mapeados nos valores 0 e 1, respectivamente. Portanto, como queremos predizer se ocorrerá o término do relaciomento com a empresa, i.e., `Churn`, a classe positiva é dada pelo valor `Yes` , que é mapeado no valor 1. Consequentemente, a classe negativa é dada pelo valor `No`, mapeado no valor 0."
   ]
  },
  {
   "cell_type": "code",
   "execution_count": null,
   "id": "IBW_pMUeCvxI",
   "metadata": {
    "colab": {
     "base_uri": "https://localhost:8080/"
    },
    "id": "IBW_pMUeCvxI",
    "outputId": "adca2a18-25eb-4c4e-a573-15f086e9b187"
   },
   "outputs": [],
   "source": [
    "# Cria uma cópia do DataFrame.\n",
    "df_transformed = df.copy()\n",
    "\n",
    "# Primeiro, realizamos a codificação de rótulo, a qual é usada para substituir valores categóricos por valores numéricos.\n",
    "# Essa codificação substitui cada valor categórico por um valor numérico binário (0 ou 1).\n",
    "\n",
    "# Lista de colunas com valores categóricos com apenas dois valores.\n",
    "label_encoding_columns = ['gender', 'Partner', 'Dependents', 'PaperlessBilling', 'PhoneService', 'Churn']\n",
    "\n",
    "# Executa a codificação de rótulo de colunas com apenas dois valores.\n",
    "# O que é feito é mapear os valores categóricos em valores numéricos, 0 ou 1.\n",
    "for column in label_encoding_columns:\n",
    "    if column == 'gender':\n",
    "        df_transformed[column] = df_transformed[column].map({'Female': 1, 'Male': 0})\n",
    "    else:\n",
    "        df_transformed[column] = df_transformed[column].map({'Yes': 1, 'No': 0})\n",
    "\n",
    "# Na sequência, codificamos as colunas categóricas que possuem mais de dois possíveis valores usando a codificação one-hot.\n",
    "# A codificação one-hot cria uma nova coluna binária para cada valor da variável categórica.\n",
    "# A nova coluna contém zeros e uns indicando a ausência ou presença do valor sendo codificado.\n",
    "\n",
    "# Lista de colunas categóricas com mais de dois possíveis valores.\n",
    "one_hot_encoding_columns = ['MultipleLines', 'InternetService', 'OnlineSecurity', 'OnlineBackup', 'DeviceProtection',\n",
    "                            'TechSupport', 'StreamingTV', 'StreamingMovies', 'Contract', 'PaymentMethod']\n",
    "\n",
    "# Executa a codificação one-hot de colunas com mais de dois valores.\n",
    "df_transformed = pd.get_dummies(df_transformed, columns=one_hot_encoding_columns)\n",
    "\n",
    "print('Dimensão da base de dados após a engenharia de atributos:', df_transformed.shape)"
   ]
  },
  {
   "cell_type": "markdown",
   "id": "pmiQA9JTCyZh",
   "metadata": {
    "id": "pmiQA9JTCyZh"
   },
   "source": [
    "4. Execute a célula abaixo para realizar o pré-processamento dos dados.\n",
    "\n",
    "Precisamos escalonar as colunas numéricas. Isso evitará que as colunas com valores grandes dominem o processo de aprendizado.\n",
    "\n",
    "Atributos com valores muito grandes tedem a dominar o processo de aprendizado. Entretanto, isso não significa que esses atributos sejam mais importantes na tarefa de predizer o valor desejado.\n",
    "\n",
    "A normalização de atributos deixa atributos com diferentes escalas com a mesma escala. Após a normalização, todas as variáveis têm influência semelhante no modelo, melhorando a estabilidade e o desempenho do algoritmo de aprendizado.\n",
    "\n",
    "Na célula de código abaixo, aplicamos a normalização min-max apenas aos atributos numéricos não binários, ou seja, atributos que possuem valores reais.\n",
    "\n",
    "**DICAS**\n",
    "\n",
    "+ Os comentários abaixo explicam cada uma das instruções para realizar o pré-processamento dos dados."
   ]
  },
  {
   "cell_type": "code",
   "execution_count": null,
   "id": "YGgcUepzC1HC",
   "metadata": {
    "id": "YGgcUepzC1HC"
   },
   "outputs": [],
   "source": [
    "# Lista de colunas com valores numéricos não binários, ou seja, colunas que possuem valores reais.\n",
    "min_max_columns = ['tenure', 'MonthlyCharges', 'TotalCharges']\n",
    "\n",
    "# scale numerical variables using min max scaler\n",
    "\n",
    "# Escalona atributos numéricos usando a normalização min-max.\n",
    "for column in min_max_columns:\n",
    "    # Obtém o valor mínimo da coluna (i.e., atributo).\n",
    "    min_column = df_transformed[column].min()\n",
    "    # Obtém o valor máximo da coluna (i.e., atributo).\n",
    "    max_column = df_transformed[column].max()\n",
    "    # Aplica a normalização min-max.\n",
    "    df_transformed[column] = (df_transformed[column] - min_column) / (max_column - min_column)"
   ]
  },
  {
   "cell_type": "markdown",
   "id": "jaIOqJ55C1s5",
   "metadata": {
    "id": "jaIOqJ55C1s5"
   },
   "source": [
    "5. Execute a célula de código abaixo para criar a matriz de atributos, $\\textbf{X}$, e o vetor de rótulos, $\\textbf{y}$.\n",
    "\n",
    "**DICAS**\n",
    "\n",
    "+ A primeira linha de comando remove da matriz de atributos a coluna `Churn`, pois ela será nosso rótulo.\n",
    "+ A segunda linha cria o vetor de rótulos contendo apenas a coluna `Churn`.\n",
    "+ A célula imprimirá as dimensões da matriz de atributos e do vetor de rótulos."
   ]
  },
  {
   "cell_type": "code",
   "execution_count": null,
   "id": "D2wSXNvtC4MY",
   "metadata": {
    "colab": {
     "base_uri": "https://localhost:8080/"
    },
    "id": "D2wSXNvtC4MY",
    "outputId": "68fae28b-98b1-496c-ddbb-8a1cfc25f1cc"
   },
   "outputs": [],
   "source": [
    "# Criando o conjunto de pares de treinamento, X e y.\n",
    "X = df_transformed.drop(columns='Churn')\n",
    "y = df_transformed['Churn']\n",
    "\n",
    "# Atributos.\n",
    "print('Dimensão da matriz de atributos:', X.shape)\n",
    "# Rótulos.\n",
    "print('Dimensão do vetor de rótulos:', y.shape)"
   ]
  },
  {
   "cell_type": "markdown",
   "id": "uRKPPoxEC5qp",
   "metadata": {
    "id": "uRKPPoxEC5qp"
   },
   "source": [
    "6. Divida o conjunto total de amostras em conjuntos de treinamento e validação. O conjunto de treinamento deve conter 75% do total de amostras e o conjunto de validação os 25% restantes.\n",
    "\n",
    "**DICAS**\n",
    "\n",
    "+ Use a função `train_test_split` e a configure com os seguintes parâmetros `test_size=0.25` e `random_state=seed`.\n",
    "+ Sempre que possível, use a semente, `seed`, definida no item 1, para configurar o parâmetro `random_state` das funções e classes da biblioteca SciKit-Learn."
   ]
  },
  {
   "cell_type": "code",
   "execution_count": null,
   "id": "NPRBA_kkC7js",
   "metadata": {
    "id": "NPRBA_kkC7js"
   },
   "outputs": [],
   "source": [
    "# Digite aqui o código do exercício."
   ]
  },
  {
   "cell_type": "markdown",
   "id": "S3gwOgqaC9OU",
   "metadata": {
    "id": "S3gwOgqaC9OU"
   },
   "source": [
    "7. Treine um regressor logístico com o conjunto de treinamento e imprima sua acurácia nos conjuntos de treinamento e validação. A variável que irá armazenar o objeto da classe `LogisticRegression` deve se chamar `model1`.\n",
    "\n",
    "**DICAS**\n",
    "\n",
    "+ Configure o parâmetro `penalty` da classe `LogisticRegression` com o valor `None`, ou seja, não vamos usar regularização.\n",
    "```python\n",
    "penalty=None\n",
    "```\n",
    "+ Configure o parâmetro `random_state` da classe `LogisticRegression` com a semente definida no item 1, ou seja,\n",
    "```python\n",
    "random_state=seed\n",
    "```"
   ]
  },
  {
   "cell_type": "code",
   "execution_count": null,
   "id": "XhYtGpbRDESm",
   "metadata": {
    "colab": {
     "base_uri": "https://localhost:8080/"
    },
    "id": "XhYtGpbRDESm",
    "outputId": "2981c193-564a-46c6-9c15-aa23ae25e920"
   },
   "outputs": [],
   "source": [
    "# Digite aqui o código do exercício."
   ]
  },
  {
   "cell_type": "markdown",
   "id": "iTMm9Z2yDEw3",
   "metadata": {
    "id": "iTMm9Z2yDEw3"
   },
   "source": [
    "8. Usando o modelo treinado no item anterior, plote a matriz de confusão para o **conjunto total de exemplos**."
   ]
  },
  {
   "cell_type": "code",
   "execution_count": null,
   "id": "lIfijWxWDGsv",
   "metadata": {
    "colab": {
     "base_uri": "https://localhost:8080/",
     "height": 449
    },
    "id": "lIfijWxWDGsv",
    "outputId": "cad28a20-4f7f-4369-b1fd-6e1fa2330373"
   },
   "outputs": [],
   "source": [
    "# Digite aqui o código do exercício."
   ]
  },
  {
   "cell_type": "markdown",
   "id": "g7_AAsBsDIaJ",
   "metadata": {
    "id": "g7_AAsBsDIaJ"
   },
   "source": [
    "9. Use a função `classification_report` da biblioteca SciKit-Learn para plotar as métricas deste classificador para o **conjunto total de exemplos**.\n",
    "\n",
    "**DICA**\n",
    "\n",
    "+ Para resolver este item, se baseie no código do seguinte exemplo: [classification_with_cross_validation.ipynb](https://colab.research.google.com/github/zz4fap/t320_aprendizado_de_maquina/blob/main/notebooks/classificação/classification_with_cross_validation.ipynb)."
   ]
  },
  {
   "cell_type": "code",
   "execution_count": null,
   "id": "ufwI-9yWDLTz",
   "metadata": {
    "colab": {
     "base_uri": "https://localhost:8080/"
    },
    "id": "ufwI-9yWDLTz",
    "outputId": "4badf6d6-8236-4e38-f52a-f878c2408c7c"
   },
   "outputs": [],
   "source": [
    "# Digite aqui o código do exercício."
   ]
  },
  {
   "cell_type": "markdown",
   "id": "NPClwR7jDOCX",
   "metadata": {
    "id": "NPClwR7jDOCX"
   },
   "source": [
    "10. Execute a célula de código abaixo para treinar um outro classificador binário que iremos comparar com o treinado no item 7.\n",
    "\n",
    "A célula imprime as acurácias nos conjuntos de treinamento e validação. Além disso, a célula plota a matriz de confusão e imprime algumas métricas deste classificador para o **conjunto total de exemplos**."
   ]
  },
  {
   "cell_type": "code",
   "execution_count": null,
   "id": "HohjWPXVDOha",
   "metadata": {
    "colab": {
     "base_uri": "https://localhost:8080/",
     "height": 640
    },
    "id": "HohjWPXVDOha",
    "outputId": "175d75e3-a89f-480e-9a56-c5e50f43e16f"
   },
   "outputs": [],
   "source": [
    "# Instantiate another binary classifier.\n",
    "model2 = DummyClassifier(strategy='uniform', random_state=seed)\n",
    "\n",
    "# Train the model.\n",
    "model2.fit(X_train, y_train)\n",
    "\n",
    "# Prediction.\n",
    "y_train_pred = model2.predict(X_train)\n",
    "y_test_pred = model2.predict(X_test)\n",
    "\n",
    "# Measure the model's accuracy.\n",
    "acc_train = accuracy_score(y_train, y_train_pred)\n",
    "acc_test = accuracy_score(y_test, y_test_pred)\n",
    "print('Accuracy (train): %1.2f %%' % (acc_train*100))\n",
    "print('Accuracy (test): %1.2f %%' % (acc_test*100))\n",
    "\n",
    "# Making predictions with the whole dataset.\n",
    "y_pred = model2.predict(X)\n",
    "\n",
    "# Plot the confusion matrix.\n",
    "mat = confusion_matrix(y, y_pred)\n",
    "sns.heatmap(mat.T, square=True, annot=True, fmt='d', cbar=False, xticklabels=['0', '1'], yticklabels=['0', '1'], cmap=\"Blues\")\n",
    "plt.xlabel('true label')\n",
    "plt.ylabel('predicted label')\n",
    "plt.show()\n",
    "\n",
    "# Print some classification metrics.\n",
    "print(classification_report(y, y_pred, digits=4))"
   ]
  },
  {
   "cell_type": "markdown",
   "id": "foyg4kskDP9J",
   "metadata": {
    "id": "foyg4kskDP9J"
   },
   "source": [
    "11. Além das métricas e matrizes de confusão, vamos plotar as curvas ROC e calcular as áreas abaixo das curvas ROC de ambos os classificadores.\n",
    "\n",
    "Execute a célula de código abaixo e analise os resultados.\n",
    "\n",
    "**DICAS**\n",
    "\n",
    "+ Na legenda, `model1` é o modelo (i.e., classificador) treinado no item 8 e `model2` é o modelo treinado no item 10."
   ]
  },
  {
   "cell_type": "code",
   "execution_count": null,
   "id": "qX1YqVjFDTQs",
   "metadata": {
    "colab": {
     "base_uri": "https://localhost:8080/",
     "height": 472
    },
    "id": "qX1YqVjFDTQs",
    "outputId": "a52983d4-d63c-4e80-be54-bbd6a53f87de"
   },
   "outputs": [],
   "source": [
    "# Getting the probabilities for each class.\n",
    "y_prob1 = model1.predict_proba(X)\n",
    "y_prob2 = model2.predict_proba(X)\n",
    "\n",
    "# Compute ROC curve and ROC area for model 1.\n",
    "fpr1, tpr1, _ = roc_curve(y, y_prob1[:, 1])\n",
    "roc_auc1 = auc(fpr1, tpr1)\n",
    "\n",
    "# Compute ROC curve and ROC area for model 2.\n",
    "fpr2, tpr2, _ = roc_curve(y, y_prob2[:, 1])\n",
    "roc_auc2 = auc(fpr2, tpr2)\n",
    "\n",
    "# Plotting ROC curves.\n",
    "plt.figure()\n",
    "plt.plot(fpr1, tpr1, color='darkorange', lw=2, label='Model #1 (area = %1.4f)' % roc_auc1)\n",
    "plt.plot(fpr2, tpr2, color='red', lw=2, label='Model #2 (area = %1.4f)' % roc_auc2)\n",
    "plt.xlim([0.0, 1.0])\n",
    "plt.ylim([0.0, 1.05])\n",
    "plt.xlabel('False Positive Rate')\n",
    "plt.ylabel('True Positive Rate')\n",
    "plt.title('ROC curves')\n",
    "plt.legend(loc=\"lower right\")\n",
    "plt.grid()\n",
    "plt.show()"
   ]
  },
  {
   "cell_type": "markdown",
   "id": "BdCRTJ1sDTzF",
   "metadata": {
    "id": "BdCRTJ1sDTzF"
   },
   "source": [
    "12. Após analisar as métricas, matrizes de confusão, curvas ROC e áreas abaixo da curva ROC dos dois modelos, responda:\n",
    "\n",
    "+ Qual é o melhor modelo?\n",
    "+ O que podemos dizer sobre o comportamento do modelo 2?\n",
    "+ Após analisar as taxas de falsos positivos e falsos negativos do melhor modelo, poderíamos confiar neste modelo para fazer predições do `Churn`?\n",
    "+ Este é um problema com classes balanceadas ou desbalanceadas?\n",
    "+ Baseado na sua resposta anterior, a acurácia é uma boa metrica a ser usada para mensurar a qualidade de um classificador?\n",
    "+ Caso a acurácia não seja uma boa métrica, quais outras métricas poderiam ser utilizadas?\n",
    "\n",
    "**Justifique todas as respostas**\n",
    "\n",
    "**DICAS**\n",
    "\n",
    "+ Para responder a segunda questão, reveja a parte V do material sobre classificação.\n",
    "+ Para responder a terceira questão, calcule as taxas de falsos positivos e falsos negativos a partir da matriz de confusão do melhor modelo. Lembre-se que a classe positiva é a `Churn` e a negativa a `No Churn`. Um bom classificador para a tarefa de predição do `Churn` deve ter ambos os valores o mais próximos de zero o possível.\n",
    "+ Para responder a quarta questão, conte quantos exemplos existem em cada coluna (i.e., classe) de qualquer uma das duas matrizes de confusão.\n",
    "+ Para responder as questões 5 e 6, reveja a parte V do material sobre classificação."
   ]
  },
  {
   "cell_type": "markdown",
   "id": "oHgykwRSDYNj",
   "metadata": {
    "id": "oHgykwRSDYNj"
   },
   "source": [
    "**Resposta**\n",
    "\n",
    "<span style=\"color:blue\">Escreva abaixo a resposta do exercício.</span>"
   ]
  }
 ],
 "metadata": {
  "colab": {
   "provenance": []
  },
  "kernelspec": {
   "display_name": "Python 3 (ipykernel)",
   "language": "python",
   "name": "python3"
  },
  "language_info": {
   "codemirror_mode": {
    "name": "ipython",
    "version": 3
   },
   "file_extension": ".py",
   "mimetype": "text/x-python",
   "name": "python",
   "nbconvert_exporter": "python",
   "pygments_lexer": "ipython3",
   "version": "3.11.5"
  }
 },
 "nbformat": 4,
 "nbformat_minor": 5
}
