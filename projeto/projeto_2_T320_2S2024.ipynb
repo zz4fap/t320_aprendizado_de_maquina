{
 "cells": [
  {
   "cell_type": "markdown",
   "id": "e3319440",
   "metadata": {},
   "source": [
    "# Projeto 2 - T320 (2S2024)\n",
    "\n",
    "\n",
    "### Instruções\n",
    "\n",
    "1. Quando você terminar os exercícios do projeto, vá até o menu do Jupyter ou Colab e selecione a opção para fazer download do notebook.\n",
    "    * Os notebooks tem extensão .ipynb. \n",
    "    * Este deve ser o arquivo que você irá entregar.\n",
    "    * No Jupyter vá até a opção **File** -> **Download as** -> **Notebook (.ipynb)**.\n",
    "    * No Colab vá até a opção **File** -> **Download .ipynb**.\n",
    "2. Após o download do notebook, vá até a aba de tarefas do MS Teams, localize a tarefa referente a este projeto e faça o upload do seu notebook. Veja que há uma opção de anexar arquivos à tarefa.\n",
    "3. Atente-se ao prazo de entrega definido na tarefa do MS Teams. Entregas fora do prazo não serão aceitas.\n",
    "4. **O projeto pode ser resolvido em grupos de no MÁXIMO 3 alunos**.\n",
    "5. Todas as questões têm o mesmo peso.\n",
    "6. Questões copiadas de outros grupos serão anuladas em todos os grupos com a mesma resposta.\n",
    "7. Não se esqueça de colocar seu(s) nome(s) e número(s) de matrícula no campo abaixo. Substitua os nomes que já estão no campo abaixo.\n",
    "8. Você pode consultar todo o material de aula.\n",
    "9. A interpretação faz parte do projeto. Leia o enunciado de cada questão atentamente!\n",
    "10. Boa sorte!"
   ]
  },
  {
   "cell_type": "markdown",
   "id": "2293a7f1",
   "metadata": {},
   "source": [
    "**Nomes e matrículas**:\n",
    "\n",
    "1. Nome do primeiro aluno - Matrícula do primeiro aluno\n",
    "2. Nome do segundo aluno - Matrícula do segundo aluno\n",
    "3. Nome do terceiro aluno - Matrícula do terceiro aluno"
   ]
  },
  {
   "cell_type": "markdown",
   "id": "f7d15a34",
   "metadata": {},
   "source": [
    "### 1) Exercício sobre regressão com MLP para aproximação de FDPs desconhecidas.\n",
    "\n",
    "Em diversas áreas, inclusive em telecomunicações, podemos encontrar, em determinados problemas, variáveis aleatórias que não possuem formas conhecidas para suas funções densidade de probabilidade (FDP). Nestes casos, podemos recorrer à aproximação de funções como uma forma de encontrar uma função que aproxime os valores observados desta variável aleatória. Portanto, neste exercício, você deve encontrar uma função que aproxime os dados observados de uma variável aleatória.\n",
    "\n",
    "1. As observações da variável aleatória com FDP desconhecida são geradas com o trecho de código abaixo. Portanto, execute código abaixo e analise o resultado.\n",
    "\n",
    "**Dicas**\n",
    "\n",
    "+ Sempre que possível, usem a semente (`seed`) definida na célula de código abaixo.\n",
    "+ Este exercício consume muita memória RAM. Portanto, para que você não encontre problemas durante sua execução, use o Google Colab."
   ]
  },
  {
   "cell_type": "code",
   "execution_count": null,
   "id": "6e610e8b",
   "metadata": {},
   "outputs": [],
   "source": [
    "# Importando todas as bibliotecas necessárias.\n",
    "import numpy as np\n",
    "import pandas as pd\n",
    "import matplotlib.pyplot as plt\n",
    "from sklearn.model_selection import train_test_split\n",
    "from sklearn.metrics import mean_squared_error\n",
    "from sklearn.neural_network import MLPRegressor\n",
    "from sklearn.preprocessing import MinMaxScaler, StandardScaler\n",
    "from sklearn.pipeline import Pipeline\n",
    "from sklearn.model_selection import GridSearchCV\n",
    "from scipy.integrate import quad\n",
    "\n",
    "# Reset do gerador de sequências pseudo-aleatórias.\n",
    "seed = 42\n",
    "np.random.seed(seed)\n",
    "\n",
    "# Número de amostras.\n",
    "N = 100000000\n",
    "\n",
    "# Distribuição Normal a.\n",
    "mu_a = -0.25      # Média de a.\n",
    "sigma_a = 0.1  # Desvio padrão de a.\n",
    "\n",
    "# Distribuição Normal b.\n",
    "mu_b = 0.25       # Média de b.\n",
    "sigma_b = 0.1    # Desvio padrão de b.\n",
    "\n",
    "# Distribuição Bimodal.\n",
    "h = np.c_[sigma_a*np.random.randn(1, N) + mu_a, sigma_b*np.random.randn(1, N) + mu_b]\n",
    "h = h.reshape(2*N,)\n",
    "\n",
    "# Número de divisões do histograma.\n",
    "bins = 10000\n",
    "y, X, p = plt.hist(h, bins=bins, density=True)\n",
    "plt.ylabel('Probabilidade')\n",
    "plt.xlabel('y')\n",
    "plt.grid()\n",
    "plt.show()\n",
    "\n",
    "# Redimensionando o vetor de atributos.\n",
    "X = X[0:len(X)-1].reshape(bins,1)\n",
    "\n",
    "# Imprimindo as dimensões.\n",
    "print('X.shape:', X.shape)\n",
    "print('y.shape:', y.shape)"
   ]
  },
  {
   "cell_type": "markdown",
   "id": "230b7972",
   "metadata": {},
   "source": [
    "2. Divida o conjunto total de amostras em conjuntos de treinamento e validação. Use 90% para treinamento e 10% para validação. Use a semente (`seed`) definida no item 1 para configurar o parâmetro `random_state` da função `train_test_split`."
   ]
  },
  {
   "cell_type": "code",
   "execution_count": null,
   "id": "e86d2f99",
   "metadata": {},
   "outputs": [],
   "source": [
    "# Digite aqui o código do exercício."
   ]
  },
  {
   "cell_type": "markdown",
   "id": "6dc99b4f",
   "metadata": {},
   "source": [
    "3. Use busca exaustiva (`GridSearchCV`) e o **conjunto de treinamento** para treinar um objeto da classe `MLPRegressor` e encontrar os valores ideais para alguns parâmetros da rede MLP de tal forma que o modelo aproxime a PDF apresentada no item 1.\n",
    "\n",
    "O objeto da classe `GridSearchCV` automatiza o processo de busca pelo melhor conjunto de parâmetros de um modelo, neste caso, os parâmetros do objeto da classe `MLPRegressor`, mas poderia ser de qualquer outro modelo que necessite de ajuste de seus parâmetros. O dicionário de parâmetros que é passado para o `GridSearchCV` contém os parâmetros do objeto da classe `MLPRegressor` que desejamos testar e verificar qual combinação deles resulta no melhor resultado. Portanto, o `GridSearchCV` automatiza os testes que vão descobrir dentre esses valores do dicionário quais são os melhores para cada parâmetro. Portanto, o que o `GridSearchCV` faz é configurar o objeto da classe `MLPRegressor` com todas as combinações possíveis dos parâmetros passados no dicionário e retornar, ao final, a melhor combinação destes parâmetros, ou seja, o conjunto de valores que resulta na maior pontuação.\n",
    "\n",
    "**DICAS**:\n",
    "\n",
    "+ Ao instanciar o objeto da classe `MLPRegressor` configure o parâmetro de entrada `max_iter` com o valor 1000, ou seja, `max_iter=1000`.\n",
    "+ Use **grid search** (`GridSearchCV`) para encontrar: (i) o número ideal de camadas escondidas, (ii) o número ideal de nós em cada camada escondida, (iii) a função de ativação ideal dos nós, (iv) o melhor otimizador e (v) o valor da semente do gerador de sequências pseudo-aleatórias.\n",
    "+ O `GridSearchCV` deve testar o  seguinte conjunto de parâmetros e valores:\n",
    "    * `'hidden_layer_sizes'` com os valores `(3,)`, `(4,)`, `(8,)`, `(9,)` e `(12,)`.\n",
    "    * `'activation'` com os valores `'logistic'`, `'tanh'` e `'relu'`.\n",
    "    * `'solver'` com os valores `'lbfgs'`, `'sgd'` e `'adam'`. \n",
    "    * `'random_state'` com os valores `42`, `51`, `76`, `239`, `247`, `311`, `347`, `484`, e `597`.\n",
    "+ Ao instanciar o objeto da classe `GridSearchCV`, configure o número de folds para o k-Fold igual a 5, ou seja, `cv=5`, a pontuação como sendo o negativo do EQM, ou seja, `scoring='neg_mean_squared_error'` e `n_jobs=-1`, para que a busca seja feita em paralelo usando todas as threads disponíveis.\n",
    "+ Para que o código de alguns itens funcione corretamente, use `reg` como o nome para a instância do objeto da classe `GridSearchCV`.\n",
    "+ Para resolver este item, se baseie no código do seguinte exemplo: [function_approximation.ipynb](https://colab.research.google.com/github/zz4fap/t320_aprendizado_de_maquina/blob/main/notebooks/mlp/function_approximation.ipynb).\n",
    "+ O treinamento pode ser demorado, então pegue um café e tenha paciência."
   ]
  },
  {
   "cell_type": "code",
   "execution_count": null,
   "id": "a51b64c7",
   "metadata": {},
   "outputs": [],
   "source": [
    "# Digite aqui o código do exercício."
   ]
  },
  {
   "cell_type": "markdown",
   "id": "4bd265a9",
   "metadata": {},
   "source": [
    "4. Após o treinamento, imprima quais foram os melhores valores encontrados pela busca em grade (i.e., grid search).\n",
    "\n",
    "**DICAS**:\n",
    "    \n",
    "+ Para resolver este item, se baseie no código do seguinte exemplo: [function_approximation.ipynb](https://colab.research.google.com/github/zz4fap/t320_aprendizado_de_maquina/blob/main/notebooks/mlp/function_approximation.ipynb)."
   ]
  },
  {
   "cell_type": "code",
   "execution_count": null,
   "id": "61895b53",
   "metadata": {},
   "outputs": [],
   "source": [
    "# Digite aqui o código do exercício."
   ]
  },
  {
   "cell_type": "markdown",
   "id": "60cd4a60",
   "metadata": {},
   "source": [
    "5. Qual é o erro quadrático médio (EQM) da rede MLP nos conjuntos de treinamento e validação?"
   ]
  },
  {
   "cell_type": "code",
   "execution_count": null,
   "id": "2899fe2f",
   "metadata": {},
   "outputs": [],
   "source": [
    "# Digite aqui o código do exercício."
   ]
  },
  {
   "cell_type": "markdown",
   "id": "7ee2ea24",
   "metadata": {},
   "source": [
    "6. Apresente uma figura comparando a predição feita pela MLP com os dados originais. Use o **conjunto total de amostras geradas no item 1** para plotar a figura.\n",
    "\n",
    "**DICAS**:\n",
    "\n",
    "+ Para resolver este item, se baseie no código do seguinte exemplo: [function_approximation.ipynb](https://colab.research.google.com/github/zz4fap/t320_aprendizado_de_maquina/blob/main/notebooks/mlp/function_approximation.ipynb)."
   ]
  },
  {
   "cell_type": "code",
   "execution_count": null,
   "id": "99b1f4db",
   "metadata": {},
   "outputs": [],
   "source": [
    "# Digite aqui o código do exercício."
   ]
  },
  {
   "cell_type": "markdown",
   "id": "85d9618d",
   "metadata": {},
   "source": [
    "7. Analise os erros quadráticos médios (EQMs) calculados para os conjuntos de treinamento e validação e a figura do item anterior. Este modelo está sobreajustando, subajustando ou encontrou um balanço entre complexidade e capacidade de generalização? (**Justifique sua resposta**)"
   ]
  },
  {
   "cell_type": "markdown",
   "id": "ed100e35",
   "metadata": {},
   "source": [
    "**Resposta**\n",
    "\n",
    "<span style=\"color:blue\">Escreva abaixo a resposta do exercício.</span>"
   ]
  },
  {
   "cell_type": "markdown",
   "id": "ce5b8077",
   "metadata": {},
   "source": [
    "8. Execute a célula de código abaixo. Ela calcula a probabilidade entre o intervalo 0 a 0.5 usando o histograma normalizado e a aproximação com a MLP.\n",
    "\n",
    "O código abaixo usa a soma de Riemann para calcular a probabilidade no intervalo dado. Ela é uma técnica matemática para aproximar a área sob uma curva, usada principalmente para calcular integrais definidas. Ela é feita dividindo-se o intervalo de integração em pequenos subintervalos, calculando a área de retângulos construídos sobre esses subintervalos e somando essas áreas. Quanto mais estreitos os subintervalos, mais precisa é a aproximação.\n",
    "\n",
    "**DICAS**\n",
    "\n",
    "+ Para que o código abaixo funcione corretamente, você deve ter usado `reg` como o nome da instância do objeto da classe `GridSearchCV` criada no item 3 deste exercício."
   ]
  },
  {
   "cell_type": "code",
   "execution_count": null,
   "id": "02562c6c",
   "metadata": {},
   "outputs": [],
   "source": [
    "a = 0  # Limite inferior do intervalo\n",
    "b = 0.5   # Limite superior do intervalo\n",
    "\n",
    "def pdfFunction(x):\n",
    "    x = np.array([x]).reshape(1,1)\n",
    "    return reg.predict(x)\n",
    "\n",
    "def riemannSum(X, y, a, b):\n",
    "    '''Função que implementa a soma de Riemann'''\n",
    "    mask = (X >= a) & (X <= b)\n",
    "    x_interval = X[mask]\n",
    "    y_interval = y[mask.reshape(len(y),)]\n",
    "    prob = 0\n",
    "    for i in range(len(x_interval)-1):\n",
    "        delta = x_interval[i+1]-x_interval[i]\n",
    "        prob += y_interval[i]*delta\n",
    "    return prob\n",
    "\n",
    "# Calcula a probabilidade integrando a função de densidade de probabilidade sobre o intervalo [a, b]\n",
    "prob_mlp, _ = quad(pdfFunction, a, b)\n",
    "\n",
    "prob_hist = riemannSum(X, y, a, b)\n",
    "\n",
    "print(\"Probabilidade no intervalo [a, b] aproximada com a MLP:\", prob_mlp)\n",
    "print(\"Probabilidade no intervalo [a, b] aproximada com o histograma normalizado:\", prob_hist)"
   ]
  },
  {
   "cell_type": "markdown",
   "id": "5c86352f",
   "metadata": {},
   "source": [
    "9. Após analisar os resultados do item anterior, pode-se concluir que a rede MLP encontrou uma boa aproximação para a FDP e que pode ser utilizada para se calcular a probabilidade da variável aleatória com FDP desconhecida? (**Justique sua resposta.**)"
   ]
  },
  {
   "cell_type": "markdown",
   "id": "339e066f",
   "metadata": {},
   "source": [
    "**Resposta**\n",
    "\n",
    "<span style=\"color:blue\">Escreva abaixo a resposta do exercício.</span>"
   ]
  },
  {
   "cell_type": "markdown",
   "id": "2daa7359",
   "metadata": {},
   "source": [
    "10. O que aconteceria se o número de nós na camada oculta do modelo fosse bem menor do que a encontrada pela busca em grade (por exemplo, quatro vezes menor)? **Justifique sua resposta.**\n",
    "\n",
    "**DICAS**\n",
    "\n",
    "+ Esta é uma reposta descritiva (ou seja, uma resposta em texto). Portanto, de um clique duplo na **célula de texto** abaixo para habilitar sua edição."
   ]
  },
  {
   "cell_type": "markdown",
   "id": "3400fb48",
   "metadata": {},
   "source": [
    "**Resposta**\n",
    "\n",
    "<span style=\"color:blue\">Digite abaixo a resposta do exercício.</span>"
   ]
  },
  {
   "cell_type": "markdown",
   "id": "61ca763a",
   "metadata": {},
   "source": [
    "### 2) Exercício sobre classificação multiclasses.\n",
    "\n",
    "Neste exercício, iremos comprarar a classificação softmax com a MLP para o conjunto de dados dos dígitos escritos à mão. O conjunto é composto por 1797 imagens com 8x8 pixels cada.\n",
    "\n",
    "1. Execute a célula de código abaixo e veja algumas das imagens deste conjunto de dados. A figura mostra as 10 primeiras imagens do conjunto dos dígitos escritos à mão.\n",
    "\n",
    "**DICAS**\n",
    "\n",
    "+ Note que na célula abaixo, o conjunto de dados já é dividido em conjuntos de treinamento e teste e na sequência, os atributos são padronizados."
   ]
  },
  {
   "cell_type": "code",
   "execution_count": null,
   "id": "ab2b372b",
   "metadata": {},
   "outputs": [],
   "source": [
    "# Import all necessary libraries.\n",
    "import numpy as np\n",
    "import matplotlib.pyplot as plt\n",
    "import seaborn as sns\n",
    "from sklearn.model_selection import train_test_split\n",
    "from sklearn.neural_network import MLPClassifier\n",
    "from sklearn.model_selection import GridSearchCV\n",
    "from sklearn.metrics import confusion_matrix, accuracy_score\n",
    "from sklearn.datasets import load_digits\n",
    "from sklearn.preprocessing import MinMaxScaler\n",
    "from sklearn.linear_model import LogisticRegression\n",
    "\n",
    "# Reset PN-sequence generator.\n",
    "seed = 42\n",
    "np.random.seed(seed)\n",
    "\n",
    "# Loading handwritten digits dataset.\n",
    "X, y = load_digits(return_X_y=True)\n",
    "\n",
    "# Pick training and test data sets \n",
    "X_train, X_test, y_train, y_test = train_test_split(X, y, test_size=0.2, random_state=seed)\n",
    "\n",
    "# Scale data to have zero mean and unit variance.\n",
    "scaler = MinMaxScaler((-1,1))\n",
    "X_train = scaler.fit_transform(X_train)\n",
    "X_test = scaler.transform(X_test)\n",
    "\n",
    "# Plot some of the images.\n",
    "_, axes = plt.subplots(nrows=1, ncols=10, figsize=(15, 2))\n",
    "for ax, image, label in zip(axes, X, y):\n",
    "    ax.set_axis_off()\n",
    "    image = image.reshape(8, 8)\n",
    "    ax.imshow(image, cmap=plt.cm.gray_r, interpolation=\"nearest\")\n",
    "    ax.set_title(f\"Rótulo: {label}\")"
   ]
  },
  {
   "cell_type": "markdown",
   "id": "d0d18ef0",
   "metadata": {},
   "source": [
    "2. Analise o histograma abaixo. Ele mostra a quantidade de exemplos em cada classe. Perceba que elas estão praticamente balanceadas, sendo a diferença entre elas bem pequena. Portanto, considerando que todas as classes estão balanceadas, qual métrica podemos usar para avaliar o desempenho geral de um classificador?\n",
    "\n",
    "**DICA**\n",
    "\n",
    "+ Reveja a parte V de classificação."
   ]
  },
  {
   "cell_type": "code",
   "execution_count": null,
   "id": "fd628a9d",
   "metadata": {},
   "outputs": [],
   "source": [
    "# Plota histograma com a quantidade de exemplos por classe.\n",
    "fig, ax = plt.subplots()\n",
    "bars = ax.bar([str(i) for i in range(10)], [len(y[y==i]) for i in range(10)])\n",
    "ax.bar_label(bars)\n",
    "plt.xlabel('Classes', fontsize=12)\n",
    "plt.ylabel('Quantidade de exemplos de cada classe', fontsize=12)\n",
    "plt.grid()\n",
    "plt.show()"
   ]
  },
  {
   "cell_type": "markdown",
   "id": "df542c68",
   "metadata": {},
   "source": [
    "**Resposta**\n",
    "\n",
    "<span style=\"color:blue\">Escreva abaixo a resposta do exercício.</span>"
   ]
  },
  {
   "cell_type": "markdown",
   "id": "6efa7357",
   "metadata": {},
   "source": [
    "3. Treine um regressor **softmax** com o conjunto de treinamento.\n",
    "\n",
    "**DICAS**:\n",
    "\n",
    "+ Use um objeto da classe `LogisticRegression` com o parâmetro `multi_class` configurado com a string `'multinomial'`.\n",
    "+ Use a semente (seed) definida no item 1 deste exercício para configurar o parâmetro `random_state` da classe `LogisticRegression`.\n",
    "+ Configure o parâmetro `max_iter` da classe `LogisticRegression` com o valor 1000, i.e., `max_iter=1000`.\n",
    "+ O restante dos parâmetros da classe devem ser configurados com seus valores padrão."
   ]
  },
  {
   "cell_type": "code",
   "execution_count": null,
   "id": "c7404d2d",
   "metadata": {},
   "outputs": [],
   "source": [
    "# Digite aqui o código do exercício."
   ]
  },
  {
   "cell_type": "markdown",
   "id": "0a166d89",
   "metadata": {},
   "source": [
    "4. Calcule e imprima a acurácia do regressor softmax para os conjuntos de treinamento e teste."
   ]
  },
  {
   "cell_type": "code",
   "execution_count": null,
   "id": "b3a9d27d",
   "metadata": {},
   "outputs": [],
   "source": [
    "# Digite aqui o código do exercício."
   ]
  },
  {
   "cell_type": "markdown",
   "id": "042f54d0",
   "metadata": {},
   "source": [
    "5. Plote a matriz de confusão do regressor **softmax** para os exemplos do **conjunto de teste**.\n",
    "\n",
    "**DICA**\n",
    "\n",
    "+ Para resolver este item, se baseie no código do seguinte exemplo: [classification_metrics.ipynb](https://colab.research.google.com/github/zz4fap/t320_aprendizado_de_maquina/blob/main/notebooks/classificação/classification_metrics.ipynb)."
   ]
  },
  {
   "cell_type": "code",
   "execution_count": null,
   "id": "0db2e704",
   "metadata": {},
   "outputs": [],
   "source": [
    "# Digite aqui o código do exercício."
   ]
  },
  {
   "cell_type": "markdown",
   "id": "920ebec8",
   "metadata": {},
   "source": [
    "6. Use busca exaustiva (`GridSearchCV`) e o conjunto de treinamento para treinar um objeto da classe `MLPClassifier` para encontrar os valores ideais para alguns parâmetros da rede MLP de tal forma que o modelo classifique o conjunto de dados.\n",
    "\n",
    "**DICAS**:\n",
    "\n",
    "+ Ao instanciar o objeto da classe `MLPClassifier` configure o parâmetro de entrada `max_iter` com o valor 1000.\n",
    "+ Use **grid search** (`GridSearchCV`) para encontrar: (i) o número ideal de nós na(s) camada(s) escondida(s), (ii) a função de ativação ideal dos nós, (iii) o solver e (iv) o valor da semente do gerador de sequências pseudo-aleatórias.\n",
    "+ O `GridSearchCV` deve testar o  seguinte conjunto de parâmetros e valores:\n",
    "    * `'hidden_layer_sizes'` com os valores `()`, `(20,)`, `(30,)`, `(60,30)`, `(80,40)`, `(100,50)`, e `(200,100)`.\n",
    "    * `'activation'` com os valores `'logistic'`, `'tanh'`, e `'relu'`.\n",
    "    * `'solver'`  com os valores `'lbfgs'` e `'adam'`.\n",
    "    * `'random_state'`  com os valores `0`, `1`, `42`, `51`, `69`, `71`, `89`, e `103`.\n",
    "+ Para agilizar o treinamento, configure o parâmetro `n_jobs` da classe `GridSearchCV` com o valor `-1`, ou seja, `n_jobs=-1`.\n",
    "+ Ao instanciar o objeto da classe `GridSearchCV`, use um número de folds para o k-Fold igual a 5, ou seja, `cv=5`.\n",
    "+ Configure o parâmetro `scoring` da classe `GridSearchCV` com a string `accuracy` , i.e., `scoring='accuracy'`.\n",
    "+ Para resolver este item, se baseie no código do seguinte exemplo: [function_approximation.ipynb](https://colab.research.google.com/github/zz4fap/t320_aprendizado_de_maquina/blob/main/notebooks/mlp/function_approximation.ipynb).\n",
    "+ O treinamento pode ser demorado, então pegue um café e tenha paciência. "
   ]
  },
  {
   "cell_type": "code",
   "execution_count": null,
   "id": "f903e727",
   "metadata": {},
   "outputs": [],
   "source": [
    "# Digite aqui o código do exercício."
   ]
  },
  {
   "cell_type": "markdown",
   "id": "f40929dd",
   "metadata": {},
   "source": [
    "7. Após o treinamento, imprima quais foram os melhores valores encontrados pelo grid search.\n",
    "\n",
    "**DICAS**:\n",
    "    \n",
    "+ Para resolver este item, se baseie no código do seguinte exemplo: [function_approximation.ipynb](https://colab.research.google.com/github/zz4fap/t320_aprendizado_de_maquina/blob/main/notebooks/mlp/function_approximation.ipynb)."
   ]
  },
  {
   "cell_type": "code",
   "execution_count": null,
   "id": "4dd7aec6",
   "metadata": {},
   "outputs": [],
   "source": [
    "# Digite aqui o código do exercício."
   ]
  },
  {
   "cell_type": "markdown",
   "id": "f6fb6a59",
   "metadata": {},
   "source": [
    "8. Calcule e imprima a acuária da rede MLP para os conjuntos de treinamento e teste."
   ]
  },
  {
   "cell_type": "code",
   "execution_count": null,
   "id": "a478a527",
   "metadata": {},
   "outputs": [],
   "source": [
    "# Digite aqui o código do exercício."
   ]
  },
  {
   "cell_type": "markdown",
   "id": "2a35d6e2",
   "metadata": {},
   "source": [
    "9. Plote a matriz de confusão da rede MLP para os exemplos do **conjunto de teste**.\n",
    "\n",
    "**DICA**\n",
    "\n",
    "+ Para resolver este item, se baseie no código do seguinte exemplo: [classification_metrics.ipynb](https://colab.research.google.com/github/zz4fap/t320_aprendizado_de_maquina/blob/main/notebooks/classificação/classification_metrics.ipynb)."
   ]
  },
  {
   "cell_type": "code",
   "execution_count": null,
   "id": "cdcb75a6",
   "metadata": {},
   "outputs": [],
   "source": [
    "# Digite aqui o código do exercício."
   ]
  },
  {
   "cell_type": "markdown",
   "id": "73fd7725",
   "metadata": {},
   "source": [
    "10. Observando a matriz de confusão e a acurácia, responda:\n",
    "\n",
    "+ Qual dos dois modelos apresenta o melhor desempenho?\n",
    "+ Você consegue explicar um possível motivo para esta diferença?\n",
    "\n",
    "**Justifique as respostas**\n",
    "\n",
    "**DICAS**\n",
    "\n",
    "+ Um regressor softmax é similar a uma rede MLP com uma única camada, a de saída, com um número de nós igual ao número de classes do problema.\n",
    "+ Por outro lado, uma rede MLP pode ter um número arbitrário de camadas escondidas, além da camada de saída, tornando-a mais flexível.\n",
    "+ Reveja a parte II de redes neurais."
   ]
  },
  {
   "cell_type": "markdown",
   "id": "b991057f",
   "metadata": {},
   "source": [
    "**Resposta**\n",
    "\n",
    "<span style=\"color:blue\">Escreva abaixo a resposta do exercício.</span>"
   ]
  },
  {
   "cell_type": "markdown",
   "id": "4e199c3e",
   "metadata": {},
   "source": [
    "### 3) Exercício sobre o uso da rede MLP para predizer o consumo de combustível.\n",
    "\n",
    "Este exercício usará a base de dados Auto MPG (https://archive.ics.uci.edu/dataset/9/auto+mpg) para construir um modelo de regressão com uma rede MLP que prediga o consumo de combustível de automóveis do final dos anos 1970, início dos anos 1980. A base de dados fornece a descrição de vários automóveis desse período. Essa descrição possui as seguintes colunas: \n",
    "\n",
    "+ número de cilindros (`Cylinders`), \n",
    "+ cilindrada do motor, em litros (`Displacement`), \n",
    "+ potência do motor (`Horsepower`), \n",
    "+ peso (`Weight`), \n",
    "+ aceleração (`Acceleration`), \n",
    "+ ano de fabricação do modelo (`Model Year`),\n",
    "+ origem do modelo (`Origin`) e\n",
    "+ consumo de combustível em milhas por galão (`MPG`).\n",
    "\n",
    "A coluna `MPG` será o valor alvo (i.e., os rótulos). Lembrando que os rótulos são os valores que o modelo é treinado para predizer."
   ]
  },
  {
   "cell_type": "markdown",
   "id": "3826e5b3",
   "metadata": {},
   "source": [
    "1. Execute a célula abaixo para importar os dados e as bibliotecas necessárias.\n",
    "\n",
    "**DICAS**\n",
    "\n",
    "+ Após a execução bem sucedida da célula abaixo, você visualizará as 5 primeiras linhas da base de dados.\n",
    "+ O conjunto já é dividido em conjuntos de treinamento e teste.\n",
    "+ Observe a quantidade de exemplos nos dois conjuntos."
   ]
  },
  {
   "cell_type": "code",
   "execution_count": null,
   "id": "be4bcd49",
   "metadata": {},
   "outputs": [],
   "source": [
    "# Importe todas as bibliotecas necessárias.\n",
    "from sklearn.neural_network import MLPRegressor\n",
    "import numpy as np\n",
    "import pandas as pd\n",
    "import matplotlib.pyplot as plt\n",
    "from sklearn.preprocessing import StandardScaler, MinMaxScaler\n",
    "from sklearn.metrics import mean_squared_error\n",
    "from sklearn.model_selection import GridSearchCV\n",
    "\n",
    "# Reseta o gerador de sequências pseudo aleatórias.\n",
    "seed = 42\n",
    "np.random.seed(seed)\n",
    "\n",
    "# Usando pandas para ler a base de dados.\n",
    "column_names = ['MPG','Cylinders','Displacement','Horsepower','Weight', 'Acceleration', 'Model Year', 'Origin']\n",
    "raw_dataset = pd.read_csv('https://www.dropbox.com/scl/fi/h4xx594a6iwda6z3e2o9u/auto-mpg.data?rlkey=dwydosez1l4cmsn5bn6iwqpbi&st=rldhyqvu&dl=1', names=column_names, na_values = \"?\", comment='\\t', sep=\" \", skipinitialspace=True)\n",
    "dataset = raw_dataset.copy()\n",
    "\n",
    "# Removendo as linhas com valores desconhecidos.\n",
    "dataset = dataset.dropna()\n",
    "\n",
    "# A coluna \"Origin\" é uma coluna categórica e não numérica. Logo, a convertemos para one-hot.\n",
    "origin = dataset.pop('Origin')\n",
    "dataset['USA'] = (origin == 1)*1.0\n",
    "dataset['Europe'] = (origin == 2)*1.0\n",
    "dataset['Japan'] = (origin == 3)*1.0\n",
    "\n",
    "# Separando os dados em um conjunto de treinamento e outro de teste.\n",
    "# São separados 80% para treinamento e 20% para validação.\n",
    "X_train = dataset.sample(frac=0.8,random_state=0)\n",
    "X_test = dataset.drop(X_train.index)\n",
    "\n",
    "# Separando o valor alvo (rótulos) dos atributos. Os rótulos são os valores que o modelo é treinado para predizer.\n",
    "y_train = X_train.pop('MPG')\n",
    "y_test = X_test.pop('MPG')\n",
    "\n",
    "# Imprimindo as dimensões do conjunto de treinamento.\n",
    "print('Dimensões de X_train:', X_train.shape)\n",
    "print('Dimensões de y_train:', y_train.shape)\n",
    "\n",
    "# Imprimindo as dimensões do conjunto de treinamento.\n",
    "print('\\nDimensões de X_test:', X_test.shape)\n",
    "print('Dimensões de y_test:', y_test.shape)\n",
    "\n",
    "# Mostrando os primeiro cinco exemplos.\n",
    "dataset.tail()"
   ]
  },
  {
   "cell_type": "markdown",
   "id": "04740002",
   "metadata": {},
   "source": [
    "2. Padronize os conjuntos de treinamento e de teste.\n",
    "\n",
    "**DICAS**:\n",
    "\n",
    "+ Use a classe `StandardScaler` para padronizar os dados.\n",
    "+ Lembre-se que os parâmetros de padronização (ou seja, média e variância) são obtidos a partir do conjunto de treinamento e apenas aplicados ao conjunto de teste. Veja o exemplo abaixo:\n",
    "```python\n",
    "X_train = scaler.fit_transform(X_train)\n",
    "X_test = scaler.transform(X_test)\n",
    "```\n",
    "O método `fit_transform` calcula a média e o desvio padrão usando o conjunto de treinamento e padroniza o conjunto. O método `transform` usa a média e o desvio padrão calculados com o conunto de treinamento e padroniza o conjunto de teste. "
   ]
  },
  {
   "cell_type": "code",
   "execution_count": null,
   "id": "80ee7eaa",
   "metadata": {},
   "outputs": [],
   "source": [
    "# Digite aqui o código do exercício."
   ]
  },
  {
   "cell_type": "markdown",
   "id": "7612e19f",
   "metadata": {},
   "source": [
    "3. Use busca exaustiva (i.e., um objeto da classe `GridSearchCV`) e o conjunto de treinamento para encontrar os valores ideais para alguns parâmetros de uma rede MLP para regressão (i.e., um objeto da classe `MLPRegressor`).\n",
    "\n",
    "**DICAS**:\n",
    "\n",
    "+ Ao instanciar o objeto da classe `MLPRegressor` configure o parâmetro `max_iter` com o valor 2000, ou seja, `max_iter=2000`.\n",
    "\n",
    "+ Use **grid search** (`GridSearchCV`) para encontrar: (i) o número ideal de nós na(s) camada(s) escondida(s), (ii) a função de ativação ideal dos nós, (iii) o solver, (iv) o valor inicial do passo de aprendizagem e (v) o valor da semente do gerador de sequências pseudo-aleatórias.\n",
    "\n",
    "+ O `GridSearchCV` deve testar o seguinte conjunto de parâmetros e valores da rede MLP:\n",
    "    * `'hidden_layer_sizes'` com os valores `(16,)`, `(32,)`, `(64,)`, `(16,16)`, `(32,32)`, e `(64,64)`.\n",
    "    * `'activation'` com os valores `'logistic'`, `'tanh'`, e `'relu'`.\n",
    "    * `'solver'`  com os valores `'lbfgs'` e `'adam'`.\n",
    "    * `'learning_rate_init'` com os valores `0.001`, `0.003`, `0.01`, e `0.03`.\n",
    "    * `'random_state'`  com os valores `0`, `3`, `42`, e `51`.\n",
    "\n",
    "+ Ao instanciar o objeto da classe `GridSearchCV`, configure o número de folds para o k-Fold igual a 3, ou seja, `cv=3` e a pontuação como sendo o negativo do EQM, ou seja, `scoring='neg_mean_squared_error'`.\n",
    "\n",
    "+ Para agilizar o treinamento, configure o parâmetro `n_jobs` da classe `GridSearchCV` com o valor `-1`, ou seja, `n_jobs=-1`.\n",
    "\n",
    "+ O treinamento será demorado, então pegue um café e tenha paciência. \n",
    "\n",
    "+ Para resolver este item, se baseie no código do seguinte exemplo: [function_approximation.ipynb](https://colab.research.google.com/github/zz4fap/t320_aprendizado_de_maquina/blob/main/notebooks/mlp/function_approximation.ipynb)."
   ]
  },
  {
   "cell_type": "code",
   "execution_count": null,
   "id": "f03aabdb",
   "metadata": {},
   "outputs": [],
   "source": [
    "# Digite aqui o código do exercício."
   ]
  },
  {
   "cell_type": "markdown",
   "id": "c4e5c744",
   "metadata": {},
   "source": [
    "4. Após o treinamento, imprima quais foram os melhores valores encontrados pelo grid search.\n",
    "\n",
    "**DICAS**:\n",
    "    \n",
    "+ Para resolver este item, se baseie no código do seguinte exemplo: [function_approximation.ipynb](https://colab.research.google.com/github/zz4fap/t320_aprendizado_de_maquina/blob/main/notebooks/mlp/function_approximation.ipynb)."
   ]
  },
  {
   "cell_type": "code",
   "execution_count": null,
   "id": "70a41ee5",
   "metadata": {},
   "outputs": [],
   "source": [
    "# Digite aqui o código do exercício."
   ]
  },
  {
   "cell_type": "markdown",
   "id": "b54d0c30",
   "metadata": {},
   "source": [
    "5. Calcule e imprima o erro quadrático médio (MSE) para os conjuntos de treinamento e de teste.\n",
    "\n",
    "**DICAS**:\n",
    "\n",
    "+ Use a função `mean_squared_error` da biblioteca SciKit-Learn."
   ]
  },
  {
   "cell_type": "code",
   "execution_count": null,
   "id": "a397770e",
   "metadata": {},
   "outputs": [],
   "source": [
    "# Digite aqui o código do exercício."
   ]
  },
  {
   "cell_type": "markdown",
   "id": "ea2d5df7",
   "metadata": {},
   "source": [
    "6. Plote o histograma do erro entre os valores preditos pela rede MLP e os rótulos. Além disso, calcule e imprima a média e a variância do erro.\n",
    "\n",
    "**DICAS**:\n",
    "\n",
    "+ Use o conjunto de validação para plotar o histograma.\n",
    "+ Use a função `hist` da biblioteca Matplotlib. Configure o parâmetro `bins` da função com o valor 25, ou seja, `bins=25`.\n",
    "+ A documentação da função `hist` pode ser encontrada em:\n",
    "https://matplotlib.org/stable/api/_as_gen/matplotlib.pyplot.hist.html"
   ]
  },
  {
   "cell_type": "code",
   "execution_count": null,
   "id": "568503d4",
   "metadata": {},
   "outputs": [],
   "source": [
    "# Digite aqui o código do exercício."
   ]
  },
  {
   "cell_type": "markdown",
   "id": "0e1760cf",
   "metadata": {},
   "source": [
    "7. Após observar o histograma, responda:\n",
    "\n",
    "+ Ao redor de qual valor está a maior parte dos erros?"
   ]
  },
  {
   "cell_type": "markdown",
   "id": "15267564",
   "metadata": {},
   "source": [
    "**Resposta**\n",
    "\n",
    "<span style=\"color:blue\">Escreva abaixo a resposta do exercício.</span>"
   ]
  },
  {
   "cell_type": "markdown",
   "id": "8bd83971",
   "metadata": {},
   "source": [
    "8. Quais ações poderiam ser realizadas para reduzir o erro do modelo de regressão?"
   ]
  },
  {
   "cell_type": "markdown",
   "id": "c9f23180",
   "metadata": {},
   "source": [
    "**Resposta**\n",
    "\n",
    "<span style=\"color:blue\">Escreva abaixo a resposta do exercício.</span>"
   ]
  }
 ],
 "metadata": {
  "kernelspec": {
   "display_name": "Python 3 (ipykernel)",
   "language": "python",
   "name": "python3"
  },
  "language_info": {
   "codemirror_mode": {
    "name": "ipython",
    "version": 3
   },
   "file_extension": ".py",
   "mimetype": "text/x-python",
   "name": "python",
   "nbconvert_exporter": "python",
   "pygments_lexer": "ipython3",
   "version": "3.11.5"
  }
 },
 "nbformat": 4,
 "nbformat_minor": 5
}
