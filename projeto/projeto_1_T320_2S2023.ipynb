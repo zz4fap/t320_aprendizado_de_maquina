{
 "cells": [
  {
   "cell_type": "markdown",
   "id": "e0e4d2ea",
   "metadata": {},
   "source": [
    "# Projeto 1 - T320 (2S2023)\n",
    "\n",
    "### Instruções\n",
    "\n",
    "1. Antes de começar, você deve clicar na opção \"Copiar para o Drive\" na barra superior do Colab. Depois de clicar nela, verifique se você está trabalhando nessa versão do notebook para que seu trabalho seja salvo.\n",
    "2. Quando você terminar os exercícios do projeto, vá até o menu do Jupyter ou Colab e selecione a opção para fazer download do notebook.\n",
    "    * Os notebooks tem extensão .ipynb. \n",
    "    * Este deve ser o arquivo que você irá entregar.\n",
    "    * No Colab vá até a opção **File** -> **Download .ipynb**.\n",
    "    * No Jupyter vá até a opção **File** -> **Download as** -> **Notebook (.ipynb)**.\n",
    "3. Após o download do notebook, vá até a aba de tarefas do MS Teams, localize a tarefa referente a este projeto e faça o upload do seu notebook. Veja que há uma opção para anexar arquivos à tarefa.\n",
    "4. Atente-se ao prazo de entrega definido na tarefa do MS Teams. Entregas fora do prazo não serão consideradas.\n",
    "5. **O projeto pode ser resolvido em grupos de no MÁXIMO 3 alunos**.\n",
    "6. Todas as questões têm o mesmo peso.\n",
    "7. Não se esqueça de colocar seu(s) nome(s) e número(s) de matrícula no campo abaixo. Coloque os nomes dos integrantes do grupo no campo de texto abaixo.\n",
    "8. Você pode consultar todo o material de aula.\n",
    "9. A interpretação faz parte do projeto. Leia o enunciado de cada questão atentamente!\n",
    "10. Boa sorte!"
   ]
  },
  {
   "cell_type": "markdown",
   "id": "34e2ff8d",
   "metadata": {},
   "source": [
    "**Nomes e matrículas**:\n",
    "\n",
    "1. Nome do primeiro aluno - Matrícula do primeiro aluno\n",
    "2. Nome do segundo aluno - Matrícula do segundo aluno\n",
    "3. Nome do terceiro aluno - Matrícula do terceiro aluno"
   ]
  },
  {
   "cell_type": "markdown",
   "id": "e985db94",
   "metadata": {},
   "source": [
    "## Exercícios"
   ]
  },
  {
   "cell_type": "markdown",
   "id": "e91b9c7a",
   "metadata": {},
   "source": [
    "### 1) Neste exercício, você irá utilizar validação cruzada para encontrar as melhores funções discriminantes que separem quatro classes.\n",
    "\n",
    "1. Execute a célula abaixo e analise a figura gerada. A figura mostra os exemplos de quatro classes.\n",
    "\n",
    "**DICA**\n",
    "\n",
    "+ Perceba que ao final da célula de código abaixo, o conjunto total de exemplos é dividido em conjuntos de treinamento e validação. Portanto, você não precisa realizar a divisão."
   ]
  },
  {
   "cell_type": "code",
   "execution_count": null,
   "id": "5e280f9e",
   "metadata": {},
   "outputs": [],
   "source": [
    "# Importe todas os módulos necessários.\n",
    "import numpy as np\n",
    "import pandas as pd\n",
    "import matplotlib.pyplot as plt\n",
    "from sklearn.datasets import make_moons\n",
    "from sklearn.model_selection import train_test_split\n",
    "from sklearn.model_selection import KFold\n",
    "from sklearn.linear_model import LogisticRegression\n",
    "from sklearn.preprocessing import PolynomialFeatures\n",
    "from sklearn.preprocessing import StandardScaler\n",
    "from sklearn.model_selection import cross_val_score\n",
    "from sklearn.pipeline import Pipeline\n",
    "from sklearn.metrics import confusion_matrix, accuracy_score, classification_report\n",
    "import seaborn as sns\n",
    "import urllib\n",
    "\n",
    "# Reseta o gerador de sequências pseudo aleatórias.\n",
    "seed = 42\n",
    "np.random.seed(seed)\n",
    "\n",
    "# Baixa as bases de dados do dropbox.\n",
    "urllib.request.urlretrieve('https://www.dropbox.com/s/t3pdze8a0qgzyxy/fourMoons.csv?dl=1', 'fourMoons.csv')\n",
    "    \n",
    "# Importa os arquivos CSV.\n",
    "df = pd.read_csv('./fourMoons.csv', header=None)\n",
    "\n",
    "# Obtendo a matriz de atributos e o vetor de rótulos.\n",
    "X = df[[0, 1]].to_numpy()\n",
    "y = df[2].to_numpy()\n",
    "\n",
    "# Plot the classes.\n",
    "idx0 = np.argwhere(y==0)\n",
    "idx1 = np.argwhere(y==1)\n",
    "idx2 = np.argwhere(y==2)\n",
    "idx3 = np.argwhere(y==3)\n",
    "plt.plot(X[idx0,0], X[idx0,1], '.', label='Class 0')\n",
    "plt.plot(X[idx1,0], X[idx1,1], 'rx', label='Class 1')\n",
    "plt.plot(X[idx2,0], X[idx2,1], 'ko', label='Class 2')\n",
    "plt.plot(X[idx3,0], X[idx3,1], 'c*', label='Class 3')\n",
    "plt.xlabel('$x_1$', fontsize=14)\n",
    "plt.ylabel('$x_2$', fontsize=14)\n",
    "plt.legend()\n",
    "plt.grid()\n",
    "plt.show()\n",
    "\n",
    "# Imprime as dimensões do conjunto total de amostras.\n",
    "print('Dimensão da matriz de atributos, X:', X.shape)\n",
    "print('Dimensão do vetor de rótulos, y:', y.shape)\n",
    "\n",
    "# Split array into random train and test subsets.\n",
    "X_train, X_test, y_train, y_test = train_test_split(X, y, test_size=0.3, random_state=seed)"
   ]
  },
  {
   "cell_type": "markdown",
   "id": "4b19b549",
   "metadata": {},
   "source": [
    "2. Observe a figura acima e responda quais tipos de funções discriminantes, **lineares** ou **não-lineares**, são necessárias para se separar as quatro classes? (**Justifique sua resposta**)."
   ]
  },
  {
   "cell_type": "markdown",
   "id": "a39a4a14",
   "metadata": {},
   "source": [
    "**Resposta**\n",
    "\n",
    "<span style=\"color:blue\">Escreva aqui a resposta do exercício.</span>"
   ]
  },
  {
   "cell_type": "markdown",
   "id": "a6519658",
   "metadata": {},
   "source": [
    "3. Neste item, você irá utilizar validação cruzada do tipo k-Fold para encontrar a ordem correta para que funções polinomiais separem as quatro classes perfeitamente. Ao final, plote os resultados obtidos (i.e., média e desvio padrão das acurácias) para que você possa decidir qual é a melhor ordem.\n",
    "\n",
    "**DICAS**:\n",
    "\n",
    "+  Instancie um objeto da classe `KFold` com os seguintes parâmetros `n_splits=10` (ou seja, o número de folds, $k$, igual a 10) e `shuffle=True` para embaralhar as amostras.\n",
    "+ Realize a validação cruzada para polinômios de ordem 1 até 10, inclusive, em passos de 1 unidade.\n",
    "+ Para a validação cruzada, utilize o conjunto de treinamento.\n",
    "+ Realize a padronização nos dados de treinamento com um objeto da classe `StandardScaler`.\n",
    "+ Instancie um objeto da classe `LogisticRegression` com os seguintes parâmetros `multi_class='multinomial'` (para operar como um **regressor softmax**), `max_iter=1000`, `penalty=None` (i.e., não aplica regularização).\n",
    "  * Lembre-se que se o parâmetro `fit_intercept` for igual a `True` (valor padrão deste parâmetro), não é necessário concatenar o vetor com valores iguais a 1 às matrizes de atributos de treinamento e validação. \n",
    "+ Configure o parâmetro `scoring` da função `cross_val_score` como `accuracy`.\n",
    "+ Sempre que possível, use a semente, `seed`, definida no item 1, para configurar o parâmetro `random_state` das funções e classes da biblioteca SciKit-Learn.\n",
    "+ Para resolver este item, se baseie no código do seguinte exemplo: [classification_with_cross_validation.ipynb](https://colab.research.google.com/github/zz4fap/t320_aprendizado_de_maquina/blob/main/notebooks/classificação/classification_with_cross_validation.ipynb).\n",
    "+ A validação cruzada pode demorar um pouco, portanto, pegue um café e tenha paciência."
   ]
  },
  {
   "cell_type": "code",
   "execution_count": null,
   "id": "8b29c36a",
   "metadata": {},
   "outputs": [],
   "source": [
    "# Digite aqui o código do exercício."
   ]
  },
  {
   "cell_type": "markdown",
   "id": "f875c03f",
   "metadata": {},
   "source": [
    "4. Após analisar os resultados acima, qual a melhor ordem a ser utilizada para se separar as quatro classes?\n",
    "\n",
    "**DICAS**\n",
    "\n",
    "+ Use o princípio da navalha de Occam para decidar qua é a melhor ordem."
   ]
  },
  {
   "cell_type": "markdown",
   "id": "0aadc567",
   "metadata": {},
   "source": [
    "**Resposta**\n",
    "\n",
    "<span style=\"color:blue\">Escreva aqui a resposta do exercício.</span>"
   ]
  },
  {
   "cell_type": "markdown",
   "id": "4c72c2de",
   "metadata": {},
   "source": [
    "5. Usando a melhor ordem para os polinômios de separação, encontrado no item anterior, treine um classificador (i.e., regressor softmax) com esta ordem. Em seguida, calcule a imprima a acurácia deste modelo com os conjuntos de treinamento e validação.\n",
    "\n",
    "**DICAS**:\n",
    "\n",
    "+ Realize a padronização nos dados de treinamento com um objeto da classe `StandardScaler`.\n",
    "+ Instancie um objeto da classe `LogisticRegression` com os seguintes parâmetros `multi_class='multinomial'` (para operar como um **regressor softmax**), `max_iter=1000`, `penalty=None` (i.e., não aplica regularização).\n",
    "  * Lembre-se que se o parâmetro `fit_intercept` for igual a `True` (valor padrão deste parâmetro), não é necessário concatenar o vetor com valores iguais a 1 às matrizes de atributos de treinamento e validação.\n",
    "+ Sempre que possível, use a semente, `seed`, definida no item 1, para configurar o parâmetro `random_state` das funções e classes da biblioteca SciKit-Learn.\n",
    "+ Treine o modelo com o conjunto de treinamento.\n",
    "+ Para resolver este item, se baseie no código do seguinte exemplo: [classification_with_cross_validation.ipynb](https://colab.research.google.com/github/zz4fap/t320_aprendizado_de_maquina/blob/main/notebooks/classificação/classification_with_cross_validation.ipynb)."
   ]
  },
  {
   "cell_type": "code",
   "execution_count": null,
   "id": "0cec2dce",
   "metadata": {},
   "outputs": [],
   "source": [
    "# Digite aqui o código do exercício."
   ]
  },
  {
   "cell_type": "markdown",
   "id": "45d0c849",
   "metadata": {},
   "source": [
    "6. Usando o modelo treinado com a melhor ordem para o polinômio de separação, plote as regiões de decisão deste classificador.\n",
    "\n",
    "**DICAS**:\n",
    "\n",
    "+ Para resolver este item, se baseie no código do seguinte exemplo: [classification_with_cross_validation.ipynb](https://colab.research.google.com/github/zz4fap/t320_aprendizado_de_maquina/blob/main/notebooks/classificação/classification_with_cross_validation.ipynb)."
   ]
  },
  {
   "cell_type": "code",
   "execution_count": null,
   "id": "905c0f4f",
   "metadata": {},
   "outputs": [],
   "source": [
    "# Digite aqui o código do exercício."
   ]
  },
  {
   "cell_type": "markdown",
   "id": "bbdf414f",
   "metadata": {},
   "source": [
    "7. Plote a matriz de confusão deste classificador para o **conjunto total de amostras**.\n",
    "\n",
    "**DICAS**:\n",
    "\n",
    "+ Para resolver este item, se baseie no código do seguinte exemplo: [classification_with_cross_validation.ipynb](https://colab.research.google.com/github/zz4fap/t320_aprendizado_de_maquina/blob/main/notebooks/classificação/classification_with_cross_validation.ipynb)."
   ]
  },
  {
   "cell_type": "code",
   "execution_count": null,
   "id": "3bb086d3",
   "metadata": {},
   "outputs": [],
   "source": [
    "# Digite aqui o código do exercício."
   ]
  },
  {
   "cell_type": "markdown",
   "id": "244109c0",
   "metadata": {},
   "source": [
    "8. Use a função `classification_report` da biblioteca SciKit-Learn para imprimir algumas das métricas de classificação para o **conjunto total de exemplos**.\n",
    "\n",
    "**DICA**\n",
    "\n",
    "+ Para resolver este item, se baseie no código do seguinte exemplo: [classification_with_cross_validation.ipynb](https://colab.research.google.com/github/zz4fap/t320_aprendizado_de_maquina/blob/main/notebooks/classificação/classification_with_cross_validation.ipynb)."
   ]
  },
  {
   "cell_type": "code",
   "execution_count": null,
   "id": "2c9a5434",
   "metadata": {},
   "outputs": [],
   "source": [
    "# Digite aqui o código do exercício."
   ]
  },
  {
   "cell_type": "markdown",
   "id": "79193346",
   "metadata": {},
   "source": [
    "9. Analise as métricas impressas no item anterior, o que podemos concluir sobre este classificador? (**Justifique sua resposta**)."
   ]
  },
  {
   "cell_type": "markdown",
   "id": "22d45f7a",
   "metadata": {},
   "source": [
    "**Resposta**\n",
    "\n",
    "<span style=\"color:blue\">Escreva aqui a resposta do exercício.</span>"
   ]
  },
  {
   "cell_type": "markdown",
   "id": "0de02c9d",
   "metadata": {},
   "source": [
    "### 2) Exercício sobre classificação aplicada às telecomunicações.\n",
    "\n",
    "Você sabia que atrair um novo cliente custa cinco vezes mais do que manter um já existente? \n",
    "\n",
    "Muitas vezes, os clientes ficam insatisfeitos com os serviços prestados e encerram o contrato ou assinatura. Essa rotatividade de clientes, ou `Churn`, (taxa de clientes ou assinantes que deixam de fazer negócios com uma empresa) afeta drasticamente as finanças das empresas de telecomunicações. Portanto, para reduzir a rotatividade de clientes, as empresas precisam prever quais clientes correm alto risco de encerrarem o contrato ou assinatura.\n",
    "\n",
    "Baseado nessas informações, vamos treinar um modelo que ajude as empresas a prever a satisfação dos clientes.\n",
    "\n",
    "O conjunto de dados que utilizaremos contém 20 atributos (i.e., colunas) que indicam as características dos clientes de uma empresa fictícia de telecomunicações que fornece serviços de telefone residencial e Internet na Califórnia. \n",
    "\n",
    "A coluna `Churn` (i.e., o rótulo) indica se o cliente encerrou o contrato ou assinatura no último mês ou não. A classe `No` inclui os clientes que não encerram o relaciomento com a empresa no último mês, enquanto a classe `Yes` contém os clientes que decidiram encerrar o relacionamento com a empresa. O objetivo da nossa análise é obter a relação entre os atributos do cliente e o *churn* (i.e., término do relaciomento). Notem, portanto, que este é um problema de classificação binária.\n",
    "\n",
    "Além da coluna/atributo `customerID`, o conjunto de dados contém outros 19 atributos, os quais podem ser agrupados em 3 grupos:\n",
    "\n",
    "**1 - Demographic Information**\n",
    "\n",
    "+ gender: Whether the client is a female or a male (Female, Male).\n",
    "+ SeniorCitizen: Whether the client is a senior citizen or not ( 0, 1).\n",
    "+ Partner: Whether the client has a partner or not (Yes, No).\n",
    "+ Dependents: Whether the client has dependents or not (Yes, No).\n",
    "\n",
    "**2 - Customer Account Information**\n",
    "\n",
    "+ tenure: Number of months the customer has stayed with the company (Multiple different numeric values).\n",
    "+ Contract: Indicates the customer’s current contract type (Month-to-Month, One year, Two year).\n",
    "+ PaperlessBilling: Whether the client has paperless billing or not (Yes, No).\n",
    "+ PaymentMethod: The customer’s payment method (Electronic check, Mailed check, Bank transfer (automatic), Credit Card (automatic)).\n",
    "+ MontlyCharges: The amount charged to the customer monthly (Multiple different numeric values).\n",
    "+ TotalCharges: The total amount charged to the customer (Multiple different numeric values).\n",
    "\n",
    "**3 - Services Information**\n",
    "\n",
    "+ PhoneService: Whether the client has a phone service or not (Yes, No).\n",
    "+ MultipleLines: Whether the client has multiple lines or not (No phone service, No, Yes).\n",
    "+ InternetServices: Whether the client is subscribed to Internet service with the company (DSL, Fiber optic, No)\n",
    "+ OnlineSecurity: Whether the client has online security or not (No internet service, No, Yes).\n",
    "+ OnlineBackup: Whether the client has online backup or not (No internet service, No, Yes).\n",
    "+ DeviceProtection: Whether the client has device protection or not (No internet service, No, Yes).\n",
    "+ TechSupport: Whether the client has tech support or not (No internet service, No, Yes).\n",
    "+ StreamingTV: Whether the client has streaming TV or not (No internet service, No, Yes).\n",
    "+ StreamingMovies: Whether the client has streaming movies or not (No internet service, No, Yes).\n",
    "\n",
    "#### Referências\n",
    "\n",
    "[1] 'End-to-end machine learning project: Telco customer churn', https://towardsdatascience.com/end-to-end-machine-learning-project-telco-customer-churn-90744a8df97d\n",
    "\n",
    "[2] 'Telco Customer Churn: Focused customer retention programs', https://www.kaggle.com/datasets/blastchar/telco-customer-churn?resource=download\n",
    "\n",
    "[3] 'Customer Churn (Marketing)', https://catalog.workshops.aws/canvas-immersion-day/en-US/1-use-cases/1-marketing\n",
    "\n",
    "[4] 'Telecom customer churn prediction', https://www.kaggle.com/code/bhartiprasad17/customer-churn-prediction\n",
    "\n",
    "[5] 'Telco customer churn (11.1.3+)', https://community.ibm.com/community/user/businessanalytics/blogs/steven-macko/2019/07/11/telco-customer-churn-1113\n",
    "\n",
    "[6] 'telco-customer-churn', https://www.openml.org/search?type=data&sort=runs&id=42178&status=active"
   ]
  },
  {
   "cell_type": "markdown",
   "id": "40191df1",
   "metadata": {},
   "source": [
    "1. Execute a célula abaixo para os módulos necessários e baixar o conjunto de dados. Na sequência, analise as linhas que serão impressas.\n",
    "\n",
    "**DICAS**\n",
    "\n",
    "+ Após a execução bem sucedida da célula abaixo, você visualizará as 5 primeiras linhas da base de dados.\n",
    "+ A coluna `Churn` será o valor alvo (i.e., o rótulo). Os rótulos são os valores que o modelo é treinado para predizer."
   ]
  },
  {
   "cell_type": "code",
   "execution_count": null,
   "id": "d3f89fcc",
   "metadata": {},
   "outputs": [],
   "source": [
    "# Importe todas os módulos necessários.\n",
    "import numpy as np\n",
    "import pandas as pd\n",
    "import matplotlib.pyplot as plt\n",
    "from sklearn.datasets import make_moons\n",
    "from sklearn.model_selection import train_test_split\n",
    "from sklearn.model_selection import KFold, GridSearchCV\n",
    "from sklearn.linear_model import LogisticRegression\n",
    "from sklearn.preprocessing import PolynomialFeatures\n",
    "from sklearn.preprocessing import StandardScaler\n",
    "from sklearn.model_selection import cross_val_score\n",
    "from sklearn.dummy import DummyClassifier\n",
    "from sklearn.pipeline import Pipeline\n",
    "from sklearn.metrics import confusion_matrix, accuracy_score, classification_report, roc_curve, auc\n",
    "import seaborn as sns\n",
    "import urllib\n",
    "\n",
    "# Reseta o gerador de sequências pseudo aleatórias.\n",
    "seed = 42\n",
    "np.random.seed(seed)\n",
    "\n",
    "# Baixa as bases de dados do dropbox.\n",
    "urllib.request.urlretrieve('https://www.dropbox.com/s/xg2hzt0p8p3zsjd/telco_customer_churn.csv?dl=1', 'telco_customer_churn.csv')\n",
    "    \n",
    "# Importa os arquivos CSV.\n",
    "df = pd.read_csv('./telco_customer_churn.csv')\n",
    "\n",
    "# Mostra as 5 primeiras linhas.\n",
    "df.head()"
   ]
  },
  {
   "cell_type": "markdown",
   "id": "14ad3406",
   "metadata": {},
   "source": [
    "2. Execute a célula abaixo para realizar a limpeza dos dados.\n",
    "\n",
    "**DICAS**\n",
    "\n",
    "+ Os comentários abaixo explicam cada uma das instruções para limpar a base de dados."
   ]
  },
  {
   "cell_type": "code",
   "execution_count": null,
   "id": "77c0a7e3",
   "metadata": {},
   "outputs": [],
   "source": [
    "# Força a coluna 'TotalCharges' a ser do tipo numérico.\n",
    "df['TotalCharges'] = pd.to_numeric(df['TotalCharges'], errors='coerce')\n",
    "\n",
    "# Remove exemplos (i.e., linhas) com valores nulos.\n",
    "df.dropna(inplace=True)\n",
    "\n",
    "# Remove a coluna 'customerID' pois ela é inútil para explicar se o cliente não irá encerrar o relacionamento com a companhia.\n",
    "df.drop(columns='customerID', inplace=True)\n",
    "\n",
    "# Remove a string '(automático)' dos nomes dos métodos de pagamento, pois ela é inútil.\n",
    "df['PaymentMethod'] = df['PaymentMethod'].str.replace(' (automatic)', '', regex=False)"
   ]
  },
  {
   "cell_type": "markdown",
   "id": "784bd537",
   "metadata": {},
   "source": [
    "3. Execute a célula abaixo para realizar a engenharia de atributos da base de dados.\n",
    "\n",
    "A engenharia de atributos é o processo de transformar os atributos em um formato adequado para o modelo de aprendizado de máquina. Neste exercício, precisamos transformar variáveis numéricas e categóricas. \n",
    "\n",
    "A maioria dos algoritmos de aprendizado de máquina requer valores numéricos. Portanto, todos os atributos categóricos disponíveis no conjunto de dados devem ser codificados em rótulos numéricos antes de treinarmos um modelo.\n",
    "\n",
    "**DICAS**\n",
    "\n",
    "+ Os comentários abaixo explicam cada uma das instruções para realizar a engenharia de atributos.\n",
    "+ Perceba que a engenharia de atributos fez com que a matriz de atributos passe a ter 40 atributos.\n",
    "+ Note que os valores categóricos da coluna `Churn`, `No` e `Yes` serão mapeados nos valores 0 e 1, respectivamente. Portanto, como queremos predizer se ocorrerá o término do relaciomento com a empresa, i.e., `Churn`, a classe positiva é dada pelo valor `Yes` , que é mapeado no valor 1. Consequentemente, a classe negativa é dada pelo valor `No`, mapeado no valor 0."
   ]
  },
  {
   "cell_type": "code",
   "execution_count": null,
   "id": "f18e8656",
   "metadata": {},
   "outputs": [],
   "source": [
    "# Cria uma cópia do DataFrame.\n",
    "df_transformed = df.copy()\n",
    "\n",
    "# Primeiro, realizamos a codificação de rótulo, a qual é usada para substituir valores categóricos por valores numéricos.\n",
    "# Essa codificação substitui cada valor categórico por um valor numérico binário (0 ou 1).\n",
    "\n",
    "# Lista de colunas com valores categóricos com apenas dois valores.\n",
    "label_encoding_columns = ['gender', 'Partner', 'Dependents', 'PaperlessBilling', 'PhoneService', 'Churn']\n",
    "\n",
    "# Executa a codificação de rótulo de colunas com apenas dois valores. \n",
    "# O que é feito é mapear os valores categóricos em valores numéricos, 0 ou 1.\n",
    "for column in label_encoding_columns:\n",
    "    if column == 'gender':\n",
    "        df_transformed[column] = df_transformed[column].map({'Female': 1, 'Male': 0})\n",
    "    else: \n",
    "        df_transformed[column] = df_transformed[column].map({'Yes': 1, 'No': 0}) \n",
    "\n",
    "# Na sequência, codificamos as colunas categóricas que possuem mais de dois possíveis valores usando a codificação one-hot.\n",
    "# A codificação one-hot cria uma nova coluna binária para cada valor da variável categórica. \n",
    "# A nova coluna contém zeros e uns indicando a ausência ou presença do valor sendo codificado.\n",
    "\n",
    "# Lista de colunas categóricas com mais de dois possíveis valores.\n",
    "one_hot_encoding_columns = ['MultipleLines', 'InternetService', 'OnlineSecurity', 'OnlineBackup', 'DeviceProtection', \n",
    "                            'TechSupport', 'StreamingTV', 'StreamingMovies', 'Contract', 'PaymentMethod']\n",
    "\n",
    "# Executa a codificação one-hot de colunas com mais de dois valores. \n",
    "df_transformed = pd.get_dummies(df_transformed, columns=one_hot_encoding_columns)\n",
    "\n",
    "print('Dimensão da base de dados após a engenharia de atributos:', df_transformed.shape)"
   ]
  },
  {
   "cell_type": "markdown",
   "id": "9412c21b",
   "metadata": {},
   "source": [
    "4. Execute a célula abaixo para realizar o pré-processamento dos dados.\n",
    "\n",
    "Precisamos escalonar as colunas numéricas. Isso evitará que as colunas com valores grandes dominem o processo de aprendizado.\n",
    "\n",
    "Atributos com valores muito grandes tedem a dominar o processo de aprendizado. Entretanto, isso não significa que esses atributos sejam mais importantes na tarefa de predizer o valor desejado. \n",
    "\n",
    "A normalização de atributos deixa atributos com diferentes escalas com a mesma escala. Após a normalização, todas as variáveis têm influência semelhante no modelo, melhorando a estabilidade e o desempenho do algoritmo de aprendizado.\n",
    "\n",
    "Na célula de código abaixo, aplicamos a normalização min-max apenas aos atributos numéricos não binários, ou seja, atributos que possuem valores reais.\n",
    "\n",
    "**DICAS**\n",
    "\n",
    "+ Os comentários abaixo explicam cada uma das instruções para realizar o pré-processamento dos dados."
   ]
  },
  {
   "cell_type": "code",
   "execution_count": null,
   "id": "8bb74432",
   "metadata": {},
   "outputs": [],
   "source": [
    "# Lista de colunas com valores numéricos não binários, ou seja, colunas que possuem valores reais.\n",
    "min_max_columns = ['tenure', 'MonthlyCharges', 'TotalCharges']\n",
    "\n",
    "# scale numerical variables using min max scaler\n",
    "\n",
    "# Escalona atributos numéricos usando a normalização min-max.\n",
    "for column in min_max_columns:\n",
    "    # Obtém o valor mínimo da coluna (i.e., atributo).\n",
    "    min_column = df_transformed[column].min()\n",
    "    # Obtém o valor máximo da coluna (i.e., atributo).\n",
    "    max_column = df_transformed[column].max()\n",
    "    # Aplica a normalização min-max.\n",
    "    df_transformed[column] = (df_transformed[column] - min_column) / (max_column - min_column) "
   ]
  },
  {
   "cell_type": "markdown",
   "id": "c0fd8b76",
   "metadata": {},
   "source": [
    "5. Execute a célula de código abaixo para criar a matriz de atributos, $\\textbf{X}$, e o vetor de rótulos, $\\textbf{y}$.\n",
    "\n",
    "**DICAS**\n",
    "\n",
    "+ A primeira linha de comando remove da matriz de atributos a coluna `Churn`, pois ela será nosso rótulo.\n",
    "+ A segunda linha cria o vetor de rótulos contendo apenas a coluna `Churn`.\n",
    "+ A célula imprimirá as dimensões da matriz de atributos e do vetor de rótulos."
   ]
  },
  {
   "cell_type": "code",
   "execution_count": null,
   "id": "1016ca84",
   "metadata": {},
   "outputs": [],
   "source": [
    "# Criando o conjunto de pares de treinamento, X e y.\n",
    "X = df_transformed.drop(columns='Churn')\n",
    "y = df_transformed['Churn']\n",
    "\n",
    "# Atributos.\n",
    "print('Dimensão da matriz de atributos:', X.shape)\n",
    "# Rótulos.\n",
    "print('Dimensão do vetor de rótulos:', y.shape)"
   ]
  },
  {
   "cell_type": "markdown",
   "id": "810c594b",
   "metadata": {},
   "source": [
    "6. Divida o conjunto total de amostras em conjuntos de treinamento e validação. O conjunto de treinamento deve conter 75% do total de amostras e o conjunto de validação os 25% restantes.\n",
    "\n",
    "**DICAS**\n",
    "\n",
    "+ Use a função `train_test_split` e a configure com os seguintes parâmetros `test_size=0.25` e `random_state=seed`.\n",
    "+ Sempre que possível, use a semente, `seed`, definida no item 1, para configurar o parâmetro `random_state` das funções e classes da biblioteca SciKit-Learn."
   ]
  },
  {
   "cell_type": "code",
   "execution_count": null,
   "id": "a6e1d870",
   "metadata": {},
   "outputs": [],
   "source": [
    "# Digite aqui o código do exercício."
   ]
  },
  {
   "cell_type": "markdown",
   "id": "7df9ef7e",
   "metadata": {},
   "source": [
    "7. Treine um regressor logístico com o conjunto de treinamento e imprima sua acurácia nos conjuntos de treinamento e validação. A variável que irá armazenar o objeto da classe `LogisticRegression` deve se chamar `model1`.\n",
    "\n",
    "**DICAS**\n",
    "\n",
    "+ Configure o parâmetro `penalty` da classe `LogisticRegression` com o valor `None`, ou seja, não vamos usar regularização.\n",
    "```python \n",
    "penalty=None\n",
    "``` \n",
    "+ Configure o parâmetro `random_state` da classe `LogisticRegression` com a semente definida no item 1, ou seja,\n",
    "```python \n",
    "random_state=seed\n",
    "``` "
   ]
  },
  {
   "cell_type": "code",
   "execution_count": null,
   "id": "afc8e69c",
   "metadata": {},
   "outputs": [],
   "source": [
    "# Digite aqui o código do exercício."
   ]
  },
  {
   "cell_type": "markdown",
   "id": "8a0553ac",
   "metadata": {},
   "source": [
    "8. Usando o modelo treinado no item anterior, plote a matriz de confusão para o **conjunto total de exemplos**."
   ]
  },
  {
   "cell_type": "code",
   "execution_count": null,
   "id": "bc7395cd",
   "metadata": {},
   "outputs": [],
   "source": [
    "# Digite aqui o código do exercício."
   ]
  },
  {
   "cell_type": "markdown",
   "id": "8177b0cc",
   "metadata": {},
   "source": [
    "9. Use a função `classification_report` da biblioteca SciKit-Learn para plotar as métricas deste classificador para o **conjunto total de exemplos**.\n",
    "\n",
    "**DICA**\n",
    "\n",
    "+ Para resolver este item, se baseie no código do seguinte exemplo: [classification_with_cross_validation.ipynb](https://colab.research.google.com/github/zz4fap/t320_aprendizado_de_maquina/blob/main/notebooks/classificação/classification_with_cross_validation.ipynb)."
   ]
  },
  {
   "cell_type": "code",
   "execution_count": null,
   "id": "ba2ca95c",
   "metadata": {},
   "outputs": [],
   "source": [
    "# Digite aqui o código do exercício."
   ]
  },
  {
   "cell_type": "markdown",
   "id": "8beb576c",
   "metadata": {},
   "source": [
    "10. Execute a célula de código abaixo para treinar um outro classificador binário que iremos comparar com o treinado no item 7.\n",
    "\n",
    "A célula imprime as acurácias nos conjuntos de treinamento e validação. Além disso, a célula plota a matriz de confusão e imprime algumas métricas deste classificador para o **conjunto total de exemplos**."
   ]
  },
  {
   "cell_type": "code",
   "execution_count": null,
   "id": "fb84933f",
   "metadata": {},
   "outputs": [],
   "source": [
    "# Instantiate another binary classifier.\n",
    "model2 = DummyClassifier(strategy='uniform', random_state=seed)\n",
    "\n",
    "# Train the model.\n",
    "model2.fit(X_train, y_train)\n",
    "    \n",
    "# Prediction.\n",
    "y_train_pred = model2.predict(X_train)\n",
    "y_test_pred = model2.predict(X_test)\n",
    "\n",
    "# Measure the model's accuracy.\n",
    "acc_train = accuracy_score(y_train, y_train_pred)\n",
    "acc_test = accuracy_score(y_test, y_test_pred)\n",
    "print('Accuracy (train): %1.2f %%' % (acc_train*100))\n",
    "print('Accuracy (test): %1.2f %%' % (acc_test*100))\n",
    "\n",
    "# Making predictions with the whole dataset.\n",
    "y_pred = model2.predict(X)\n",
    "\n",
    "# Plot the confusion matrix.\n",
    "mat = confusion_matrix(y, y_pred)\n",
    "sns.heatmap(mat.T, square=True, annot=True, fmt='d', cbar=False, xticklabels=['0', '1'], yticklabels=['0', '1'], cmap=\"Blues\")\n",
    "plt.xlabel('true label')\n",
    "plt.ylabel('predicted label')\n",
    "plt.show()\n",
    "\n",
    "# Print some classification metrics.\n",
    "print(classification_report(y, y_pred, digits=4))"
   ]
  },
  {
   "cell_type": "markdown",
   "id": "d698c976",
   "metadata": {},
   "source": [
    "11. Além das métricas e matrizes de confusão, vamos plotar as curvas ROC e calcular as áreas abaixo das curvas ROC de ambos os classificadores.\n",
    "\n",
    "Execute a célula de código abaixo e analise os resultados.\n",
    "\n",
    "**DICAS**\n",
    "\n",
    "+ Na legenda, `model1` é o modelo (i.e., classificador) treinado no item 8 e `model2` é o modelo treinado no item 10."
   ]
  },
  {
   "cell_type": "code",
   "execution_count": null,
   "id": "b51c22e1",
   "metadata": {},
   "outputs": [],
   "source": [
    "# Getting the probabilities for each class.\n",
    "y_prob1 = model1.predict_proba(X)\n",
    "y_prob2 = model2.predict_proba(X)\n",
    "\n",
    "# Compute ROC curve and ROC area for model 1.\n",
    "fpr1, tpr1, _ = roc_curve(y, y_prob1[:, 1])\n",
    "roc_auc1 = auc(fpr1, tpr1)\n",
    "\n",
    "# Compute ROC curve and ROC area for model 2.\n",
    "fpr2, tpr2, _ = roc_curve(y, y_prob2[:, 1])\n",
    "roc_auc2 = auc(fpr2, tpr2)\n",
    "\n",
    "# Plotting ROC curves.\n",
    "plt.figure()\n",
    "plt.plot(fpr1, tpr1, color='darkorange', lw=2, label='Model #1 (area = %1.4f)' % roc_auc1)\n",
    "plt.plot(fpr2, tpr2, color='red', lw=2, label='Model #2 (area = %1.4f)' % roc_auc2)\n",
    "plt.xlim([0.0, 1.0])\n",
    "plt.ylim([0.0, 1.05])\n",
    "plt.xlabel('False Positive Rate')\n",
    "plt.ylabel('True Positive Rate')\n",
    "plt.title('ROC curves')\n",
    "plt.legend(loc=\"lower right\")\n",
    "plt.grid()\n",
    "plt.show()"
   ]
  },
  {
   "cell_type": "markdown",
   "id": "a23c2cd6",
   "metadata": {},
   "source": [
    "12. Após analisar as métricas, matrizes de confusão, curvas ROC e áreas abaixo da curva ROC dos dois modelos, responda:\n",
    "\n",
    "+ Qual é o melhor modelo?\n",
    "+ O que podemos dizer sobre o comportamento do modelo 2?\n",
    "+ Após analisar as taxas de falsos positivos e falsos negativos do melhor modelo, poderíamos confiar neste modelo para fazer predições do `Churn`?\n",
    "+ Este é um problema com classes balanceadas ou desbalanceadas?\n",
    "+ Baseado na sua resposta anterior, a acurácia é uma boa metrica a ser usada para mensurar a qualidade de um classificador?\n",
    "+ Caso a acurácia não seja uma boa métrica, quais outras métricas poderiam ser utilizadas?\n",
    "\n",
    "**Justifique todas as respostas**\n",
    "\n",
    "**DICAS**\n",
    "\n",
    "+ Para responder a segunda questão, reveja a parte V do material sobre classificação.\n",
    "+ Para responder a terceira questão, calcule as taxas de falsos positivos e falsos negativos a partir da matriz de confusão do melhor modelo. Lembre-se que a classe positiva é a `Churn` e a negativa a `No Churn`. Um bom classificador para a tarefa de predição do `Churn` deve ter ambos os valores o mais próximos de zero o possível.\n",
    "+ Para responder a quarta questão, conte quantos exemplos existem em cada coluna (i.e., classe) de qualquer uma das duas matrizes de confusão.\n",
    "+ Para responder as questões 5 e 6, reveja a parte V do material sobre classificação."
   ]
  },
  {
   "cell_type": "markdown",
   "id": "1b48b895",
   "metadata": {},
   "source": [
    "**Resposta**\n",
    "\n",
    "<span style=\"color:blue\">Escreva aqui a resposta do exercício.</span>\n"
   ]
  },
  {
   "cell_type": "markdown",
   "id": "9c3e72d6",
   "metadata": {},
   "source": [
    "### 3) Exercício sobre classificação binária com base de dados sintética.\n",
    "\n",
    "1. Execute a célula abaixo para importar os dados e as bibliotecas necessárias. Ela irá gerar a base de dados que será usada neste exercício.\n",
    "\n",
    "A base de dados possui 10 atributos e 1 rótulo binário. Portanto, temos um problema de classificação binária, ou seja, com duas classes.\n",
    "\n",
    "Note que a base de dados já está dividida em conjuntos de treinamento e validação."
   ]
  },
  {
   "cell_type": "code",
   "execution_count": null,
   "id": "75e77c3b",
   "metadata": {},
   "outputs": [],
   "source": [
    "# Importe todas os módulos necessários.\n",
    "import numpy as np\n",
    "import pandas as pd\n",
    "import matplotlib.pyplot as plt\n",
    "from sklearn.datasets import make_classification\n",
    "from sklearn.model_selection import train_test_split\n",
    "from sklearn.model_selection import KFold, GridSearchCV\n",
    "from sklearn.linear_model import LogisticRegression\n",
    "from sklearn.preprocessing import PolynomialFeatures\n",
    "from sklearn.preprocessing import StandardScaler\n",
    "from sklearn.model_selection import cross_val_score\n",
    "from sklearn.metrics import recall_score, precision_score\n",
    "from sklearn.dummy import DummyClassifier\n",
    "from sklearn.pipeline import Pipeline\n",
    "from sklearn.metrics import confusion_matrix, accuracy_score, classification_report, roc_curve, auc\n",
    "import seaborn as sns\n",
    "\n",
    "# Reseta o gerador de sequências pseudo aleatórias.\n",
    "seed = 42\n",
    "np.random.seed(seed)\n",
    "\n",
    "# Número total de exemplos.\n",
    "N = 500000\n",
    "\n",
    "# Cria a base de dados.\n",
    "X, y = make_classification(n_samples=N, n_features=10, weights=(0.999, 0.001))\n",
    "\n",
    "# Divide o conjunto total de amostras em conjuntos de treinamento e validação.\n",
    "# O parâmetro 'stratify=y' garante que as proporções de classes sejam mantidas nos conjuntos divididos.\n",
    "X_train, X_test, y_train, y_test = train_test_split(X, y, test_size=0.3, stratify=y)"
   ]
  },
  {
   "cell_type": "markdown",
   "id": "d7e341f7",
   "metadata": {},
   "source": [
    "2. Execute a célula de código abaixo e analise a quantidade de exemplos de cada classe."
   ]
  },
  {
   "cell_type": "code",
   "execution_count": null,
   "id": "b0fc205d",
   "metadata": {},
   "outputs": [],
   "source": [
    "# Plota histograma com a quantidade de exemplos por classe.\n",
    "fig, ax = plt.subplots()\n",
    "bars = ax.bar(['Classe Negativa (0)','Classe Positiva (1)'], [len(y[y==0]), len(y[y==1])])\n",
    "ax.bar_label(bars)\n",
    "plt.xlabel('Classes', fontsize=12)\n",
    "plt.ylabel('Quantidade de exemplos de cada classe', fontsize=12)\n",
    "plt.ylim([1, 550000])\n",
    "plt.grid()\n",
    "plt.show()"
   ]
  },
  {
   "cell_type": "markdown",
   "id": "433f591c",
   "metadata": {},
   "source": [
    "3. Após ter analisado a quantidade de exemplos em cada uma das duas classes no item anterior, o que se pode concluir sobre elas?"
   ]
  },
  {
   "cell_type": "markdown",
   "id": "bc41ea69",
   "metadata": {},
   "source": [
    "**Resposta**\n",
    "\n",
    "<span style=\"color:blue\">Escreva aqui a resposta do exercício.</span>\n"
   ]
  },
  {
   "cell_type": "markdown",
   "id": "495566b5",
   "metadata": {},
   "source": [
    "4. Treine um regressor logístico com o conjunto de treinamento e imprima sua acurácia nos conjuntos de treinamento e validação.\n",
    "\n",
    "**DICAS**\n",
    "\n",
    "+ Configure o objeto da classe `LogisticRegression` com os seguintes parâmetros `penalty=None` e `random_state=seed`."
   ]
  },
  {
   "cell_type": "code",
   "execution_count": 1,
   "id": "d586c114",
   "metadata": {},
   "outputs": [],
   "source": [
    "# Digite aqui o código do exercício."
   ]
  },
  {
   "cell_type": "markdown",
   "id": "b384be15",
   "metadata": {},
   "source": [
    "5. Baseado no valor da acurácia obtida no item anterior, responda:\n",
    "\n",
    "+ Qual foi a acurácia obtida pelo classificador?\n",
    "+ Você diria que este é um bom classificador, ou seja, um classificador que praticamente acerta todas as predições (i.e., classificações)?\n",
    "+ O que pode ser feito para nos certificarmos que este é realmente um bom classificador?\n",
    "+ Observe a expressão para o calculo da acurácia mostrada abaixo:\n",
    "$$Accuracy = \\frac{TN + TP}{TN + TP + FP + FN},$$\n",
    "onde $TN$, $TP$, $FP$ e $FN$ são os números de verdadeiros negativos, verdadeiros positivos, falsos positivos e falsos negativos, respectivamente.\n",
    "+ Na equação da acurácia mostrada acima, o que aconteceria se o valor de $TN$ fosse muitas vezes maior do que $TP$, $FP$ e $FN$? Essa situação afetaria o cálculo da acurácia?\n",
    "\n",
    "**Justique todas as respostas**."
   ]
  },
  {
   "cell_type": "markdown",
   "id": "344b36f2",
   "metadata": {},
   "source": [
    "**Resposta**\n",
    "\n",
    "<span style=\"color:blue\">Escreva aqui a resposta do exercício.</span>\n"
   ]
  },
  {
   "cell_type": "markdown",
   "id": "4fab6bcb",
   "metadata": {},
   "source": [
    "6. Plote a matriz de confusão do classificador treinado no item 3 para o **conjunto total de exemplos**."
   ]
  },
  {
   "cell_type": "code",
   "execution_count": 2,
   "id": "929848bf",
   "metadata": {},
   "outputs": [],
   "source": [
    "# Digite aqui o código do exercício."
   ]
  },
  {
   "cell_type": "markdown",
   "id": "ce64da94",
   "metadata": {},
   "source": [
    "7. Após observar a matriz de confusão, o que você pode concluir?\n",
    "\n",
    "**DICAS**\n",
    "\n",
    "+ Analise os valores de verdadeiros positivos e negativos e os valores de falsos positivos e negativos."
   ]
  },
  {
   "cell_type": "markdown",
   "id": "cc3eb87c",
   "metadata": {},
   "source": [
    "**Resposta**\n",
    "\n",
    "<span style=\"color:blue\">Escreva aqui a resposta do exercício.</span>\n"
   ]
  },
  {
   "cell_type": "markdown",
   "id": "34d48519",
   "metadata": {},
   "source": [
    "8. A acurácia atingida pelo classificador treinado no item anterior é altíssima, parecendo à primeira vista que ele é um classificador quase perfeito. Entretanto, no caso de uma base de dados desbalanceada (ou seja, com classes desbalanceadas), como a deste exercício, a acurácia não é uma métrica útil para esta tarefa. Por exemplo, o classificador treinado no item 4 atinge 99.48% de acurácia predizendo a classe `negativa` o tempo todo, ou seja, um classificador que sempre prediga a mesma classe terá uma alta acurácia devido ao desbalanceamente das classes. Portanto, precisamos de outra métrica para mensurar a qualidade deste classificador.\n",
    "\n",
    "Sendo assim, responda:\n",
    "\n",
    "+ Qual é a métrica mais indicada para mensurar a qualidade deste classificador quando as classes são desbalanceadas e os custos associados a falsos positivos são altos? Apresente a equação usada para calcular esta métrica.\n",
    "\n",
    "\n",
    "+ Qual é a métrica mais indicada para mensurar a qualidade deste classificador quando as classes são desbalanceadas e os custos associados a falsos negativos são altos? Apresente a equação usada para calcular esta métrica.\n",
    "\n",
    "**Justifique todas as respostas**.\n",
    "\n",
    "**DICAS**\n",
    "\n",
    "+ Reveja o material de aula onde falamos sobre as métricas utilizadas para mensurar o desempenho de classificadores."
   ]
  },
  {
   "cell_type": "markdown",
   "id": "afb56f04",
   "metadata": {},
   "source": [
    "**Resposta**\n",
    "\n",
    "<span style=\"color:blue\">Escreva aqui a resposta do exercício.</span>\n"
   ]
  },
  {
   "cell_type": "markdown",
   "id": "5ec21ac7",
   "metadata": {},
   "source": [
    "9. Calcule e imprima o valor das duas métricas indicadas no item anterior para o **conjunto total de amostras**.\n",
    "\n",
    "**DICAS**\n",
    "\n",
    "+ Use funções da biblioteca SciKit-Learn.\n",
    "+ Uma das funções irá retornar uma mensagem de **warning** (`UndefinedMetricWarning`). Não se preocupe, isso ocorre devido ao classificador predizer a mesma classe 100% das vezes."
   ]
  },
  {
   "cell_type": "code",
   "execution_count": 3,
   "id": "3efe04ad",
   "metadata": {},
   "outputs": [],
   "source": [
    "# Digite aqui o código do exercício."
   ]
  },
  {
   "cell_type": "markdown",
   "id": "7c579c28",
   "metadata": {},
   "source": [
    "10. Após analisar o valor das métricas no item anterior, responda:\n",
    "\n",
    "+ Quais são os valores obtidos após o cálculo das métricas?\n",
    "+ O que você pode concluir a respeito deste classificador, ou seja, ele é bom ou ruim para esta tarefa classificação?"
   ]
  },
  {
   "cell_type": "markdown",
   "id": "3bffd41a",
   "metadata": {},
   "source": [
    "**Resposta**\n",
    "\n",
    "<span style=\"color:blue\">Escreva aqui a resposta do exercício.</span>\n"
   ]
  },
  {
   "cell_type": "markdown",
   "id": "d5797a58",
   "metadata": {},
   "source": [
    "11. Lidar com um problema altamente desbalanceado, em que as classes têm uma grande discrepância em termos de número de amostras, pode ser um desafio. Portanto, é importante adotar estratégias adequadas para criar conjuntos de treinamento e validação que tenham uma boa proporção entre as classes.\n",
    "\n",
    "A reamostragem é uma estratégia que envolve a manipulação do conjunto de dados original para criar um equilíbrio entre as classes. Duas abordagens comuns são o oversampling (aumentar as amostras da classe minoritária) e o undersampling (reduzir as amostras da classe majoritária).\n",
    "\n",
    "A biblioteca `imbalanced-learn` oferece uma série de métodos para realizar essas técnicas, como RandomOverSampler e RandomUnderSampler.\n",
    "\n",
    "Neste item, usaremos a estratégia do undersampling aleatório (seleciona aleatoriamente uma quantidade específica de amostras para equilibrar as classes), que é adequada quando se possui um grande número de amostras da classe majoritária e deseja-se reduzi-las para equilibrar as classes. O undersampling pode ajudar a reduzir o tempo de treinamento e os requisitos de memória, além de ajudar a mitigar o impacto de amostras ruidosas ou outliers presentes na classe majoritária. No entanto, ao reduzir o conjunto de dados majoritário, você pode perder informações valiosas e diminuir a capacidade do modelo de aprender padrões complexos. \n",
    "\n",
    "Em geral, não há uma abordagem única que funcione melhor para todos os casos. Recomenda-se experimentar diferentes técnicas e avaliar os resultados com base nas métricas relevantes para o problema específico.\n",
    "\n",
    "Execute a célula de código abaixo. Ela aplica a estratégia do undersampling, reduzindo o número de amostras da classe majoritária, e plota o histograma com a quantidade de amostras de cada classe após o undersampling.\n",
    "\n",
    "**OBS**.: O novo conjunto de dados já está dividido em novos conjuntos de treinamento e validação.\n",
    "\n",
    "**DICAS**\n",
    "\n",
    "+ O novo conjunto total de amostras é dado por `X_resampled` e `y_resampled`, que são a nova matriz de atributos e o novo vetor de rótulos, respectivamente.\n",
    "+ Os novos conjuntos de treinamento e validação são dados por `X_train/y_train` e `X_test/y_test`, respectivamente.\n",
    "\n",
    "#### Referências\n",
    "\n",
    "[1] 'A Gentle Introduction to Imbalanced Classification', https://machinelearningmastery.com/what-is-imbalanced-classification/\n",
    "\n",
    "[2] '8 Tactics to Combat Imbalanced Classes in Your Machine Learning Dataset', https://machinelearningmastery.com/tactics-to-combat-imbalanced-classes-in-your-machine-learning-dataset/\n",
    "\n",
    "[3] 'Solving The Class Imbalance Problem', https://towardsdatascience.com/solving-the-class-imbalance-problem-58cb926b5a0f\n",
    "\n",
    "[4] 'Imbalanced Data : How to handle Imbalanced Classification Problems', https://www.analyticsvidhya.com/blog/2017/03/imbalanced-data-classification/"
   ]
  },
  {
   "cell_type": "code",
   "execution_count": null,
   "id": "dcd7de0d",
   "metadata": {},
   "outputs": [],
   "source": [
    "# Importa a classe que realiza o undersampling dos exemplos da base de dados.\n",
    "from imblearn.under_sampling import RandomUnderSampler\n",
    "\n",
    "# Instancia um objeto da classe que realiza o undersampling dos exemplos da base de dados.\n",
    "sme = RandomUnderSampler(sampling_strategy='majority', random_state=seed)\n",
    "\n",
    "# Executa o oversampling e undersampling no conjunto total de dados.\n",
    "X_resampled, y_resampled = sme.fit_resample(X, y)\n",
    "\n",
    "# Divide o conjunto total de amostras em conjuntos de treinamento e validação.\n",
    "X_train, X_test, y_train, y_test = train_test_split(X_resampled, y_resampled, test_size=0.3, stratify=y_resampled, random_state=seed)\n",
    "\n",
    "# Plota histograma com a quantidade de exemplos por classe.\n",
    "fig, ax = plt.subplots()\n",
    "bars = ax.bar(['Classe Negativa (0)','Classe Positiva (1)'], [len(y_resampled[y_resampled==0]), len(y_resampled[y_resampled==1])])\n",
    "ax.bar_label(bars)\n",
    "plt.xlabel('Classes', fontsize=12)\n",
    "plt.ylabel('Quantidade de exemplos de cada classe', fontsize=12)\n",
    "plt.ylim([1, 3500])\n",
    "plt.grid()\n",
    "plt.show()"
   ]
  },
  {
   "cell_type": "markdown",
   "id": "61a9cda6",
   "metadata": {},
   "source": [
    "12. Analise a figura acima e responda:\n",
    "\n",
    "+ O que ocorreu com a quantidade de amostras das duas classes?\n",
    "\n",
    "(**Justifique sua resposta**).\n",
    "\n",
    "**DICAS**\n",
    "\n",
    "+ Verifique o número de amostras das duas classes no item 2."
   ]
  },
  {
   "cell_type": "markdown",
   "id": "ec0255f7",
   "metadata": {},
   "source": [
    "**Resposta**\n",
    "\n",
    "<span style=\"color:blue\">Escreva aqui a resposta do exercício.</span>\n"
   ]
  },
  {
   "cell_type": "markdown",
   "id": "f5591259",
   "metadata": {},
   "source": [
    "13. Treine um novo regressor logístico com o novo conjunto de treinamento e imprima:\n",
    "+ sua acurácia nos conjuntos de treinamento e validação.\n",
    "+ o valor das duas métricas indicadas no item 8 para o **novo conjunto total de amostras**.\n",
    "\n",
    "**DICAS**\n",
    "\n",
    "+ Configure o objeto da classe `LogisticRegression` com os seguintes parâmetros `penalty=None` e `random_state=seed`."
   ]
  },
  {
   "cell_type": "code",
   "execution_count": null,
   "id": "6478f5cd",
   "metadata": {},
   "outputs": [],
   "source": [
    "# Digite aqui o código do exercício."
   ]
  },
  {
   "cell_type": "markdown",
   "id": "30846352",
   "metadata": {},
   "source": [
    "14. Plote a matriz de confusão deste novo classificador para o **novo conjunto total de amostras**."
   ]
  },
  {
   "cell_type": "code",
   "execution_count": null,
   "id": "6a432c8f",
   "metadata": {},
   "outputs": [],
   "source": [
    "# Digite aqui o código do exercício."
   ]
  },
  {
   "cell_type": "markdown",
   "id": "be6a9bba",
   "metadata": {},
   "source": [
    "15. Comparando os valores das métricas calculadas no item 13 e a matriz de confusão do item anterior obtidos com este novo classificador com os valores obtidos com o primeiro classificador, responda:\n",
    "\n",
    "+ As acurácias de treinamento e validação tiveram seus valores reduzidos ou aumentados com este novo modelo?\n",
    "+ As métricas que você definiu no item 8 e calculou no item 9 tiveram seus valores reduzidos ou aumentados com este novo modelo?\n",
    "+ Em resumo, levando-se em conta todas as métricas calculadas, pode-se dizer que este novo modelo é um bom classificador?\n",
    "\n",
    "**Justifique todas as respostas**."
   ]
  },
  {
   "cell_type": "markdown",
   "id": "a3ef173f",
   "metadata": {},
   "source": [
    "**Resposta**\n",
    "\n",
    "<span style=\"color:blue\">Escreva aqui a resposta do exercício.</span>"
   ]
  },
  {
   "cell_type": "markdown",
   "id": "305548ca",
   "metadata": {},
   "source": [
    "### 4) Neste exercício, você utilizará um classificador para detectar símbolos de uma modulação digital, a modulação 8PSK.\n",
    "\n",
    "1. Execute a célula abaixo e analise o resultado. A figura mostra símbolos ruidosos da modulação 8PSK, onde cada um dos oito possíveis símbolos é considerado como uma classe diferente.\n",
    "\n",
    "**DICAS**\n",
    "\n",
    "+ Notem que na célula de código abaixo, o conjunto de dados já está dividido em conjuntos de treinamento e validação.\n",
    "\n",
    "#### Referências\n",
    "\n",
    "[1] '8-PSK', https://www.eng.biu.ac.il/~zehavie1/articals/8PSK.Pdf\n",
    "\n",
    "[2] 'Phase-shift_keying', https://en.wikipedia.org/wiki/Phase-shift_keying"
   ]
  },
  {
   "cell_type": "code",
   "execution_count": null,
   "id": "17177699",
   "metadata": {},
   "outputs": [],
   "source": [
    "# Import all necessary libraries.\n",
    "import numpy as np\n",
    "import matplotlib.pyplot as plt\n",
    "from matplotlib.colors import ListedColormap\n",
    "from sklearn.model_selection import train_test_split\n",
    "from sklearn.linear_model import LogisticRegression\n",
    "from sklearn.metrics import confusion_matrix, accuracy_score, roc_curve, auc, classification_report\n",
    "import seaborn as sns\n",
    "from scipy.special import erfc, erf\n",
    "\n",
    "# Reset PN sequence random generator.\n",
    "seed = 42\n",
    "np.random.seed(seed)\n",
    "\n",
    "# Modulate bits into 8PSK symbols.\n",
    "def mod(bits):\n",
    "    '''Função para modulação dos bits em símbolos 8PSK.'''\n",
    "    symbols = np.zeros((len(bits), 1), dtype=complex)\n",
    "    for i, b in enumerate(bits):\n",
    "        symbols[i] = np.exp(-1j*(np.pi/4)*b)\n",
    "    return symbols\n",
    "\n",
    "# Number of symbols to be transmitted.\n",
    "N = 10000\n",
    "\n",
    "# Number of classes.\n",
    "numOfClasses = 8\n",
    "\n",
    "# Create Es/N0 vector.\n",
    "EsN0dB = 20\n",
    "EsN0Lin = 10.0**(-(EsN0dB/10.0))\n",
    "    \n",
    "# Generate bits.\n",
    "bits_8psk = np.random.randint(0, numOfClasses, N)\n",
    "# Modulate the binary stream into 8PSK symbols.\n",
    "symbols = mod(bits_8psk)\n",
    "    \n",
    "# Generate noise vector. \n",
    "# Divide by two since the theoretical ber uses a complex Normal pdf with variance of each part = 1/2.\n",
    "noise = np.sqrt(EsN0Lin/2.0)*(np.random.randn(N, 1) + 1j*np.random.randn(N, 1))\n",
    "\n",
    "# Pass 8PSK symbols through AWGN channel.\n",
    "y = symbols + noise\n",
    "    \n",
    "# Create the attribute matrix.\n",
    "X = np.c_[np.real(y), np.imag(y)]\n",
    "\n",
    "# Split array into random train and test subsets.\n",
    "X_train, X_test, y_train, y_test = train_test_split(X, bits_8psk, test_size=0.3, random_state=seed)\n",
    "    \n",
    "# Plot the classes.\n",
    "for i in range(numOfClasses):\n",
    "    idx = np.argwhere(bits_8psk == i)\n",
    "    label = 'Symbol '+str(i)\n",
    "    plt.plot(np.real(y[idx.ravel()]), np.imag(y[idx.ravel()]), '.', label=label)\n",
    "plt.grid()\n",
    "plt.xlabel('InPhase')\n",
    "plt.ylabel('Quadrature')\n",
    "plt.legend(bbox_to_anchor=(1.1, 1.05))\n",
    "plt.show()"
   ]
  },
  {
   "cell_type": "markdown",
   "id": "69c06cdf",
   "metadata": {},
   "source": [
    "2. Normalmente, treina-se um modelo com uma relação sinal-ruído alta, como a usada para gerar os símbolos no item anterior. Portanto, neste exercício, treine um **regressor softmax** com o conjunto de treinamento gerado no item anterior e calcule as acurácias com os conjuntos de treinamento e validação.\n",
    "\n",
    "**DICAS**\n",
    "\n",
    "+ Para configurar o regressor softmax, durante o instanciamento da classe `LogisticRegression`, configure o parâmetro `multi_class` com a string `multinomial`, ou seja\n",
    "```python \n",
    "multi_class='multinomial'\n",
    "```\n",
    "+ Configure o parâmetro `random_state` da classe `LogisticRegression` com a semente definida no item 1, ou seja,\n",
    "```python \n",
    "random_state=seed\n",
    "``` \n",
    "+ Seu classificador deve apresentar uma acurácia de 100% para ambos os conjuntos.\n",
    "+ Para que os próximos itens deste exercício funcionem corretamente, chame seu modelo de `model`."
   ]
  },
  {
   "cell_type": "code",
   "execution_count": null,
   "id": "5e7a5ecf",
   "metadata": {},
   "outputs": [],
   "source": [
    "# Digite aqui o código do exercício."
   ]
  },
  {
   "cell_type": "markdown",
   "id": "6dca8421",
   "metadata": {},
   "source": [
    "3. Usando o modelo treinado no item anterior, plote as regiões de decisão deste classificador."
   ]
  },
  {
   "cell_type": "code",
   "execution_count": null,
   "id": "5bb68e24",
   "metadata": {},
   "outputs": [],
   "source": [
    "# Digite aqui o código do exercício."
   ]
  },
  {
   "cell_type": "markdown",
   "id": "c39e3809",
   "metadata": {},
   "source": [
    "4. Plote a matriz de confusão deste classificador para o **conjunto total de amostras**.\n",
    "\n",
    "**DICAS**\n",
    "\n",
    "+ Note que o vetor de rótulos referente ao conjunto total de exemplos é dado pela variável `bits_8psk` definida no item 1."
   ]
  },
  {
   "cell_type": "code",
   "execution_count": null,
   "id": "a9d28fdd",
   "metadata": {},
   "outputs": [],
   "source": [
    "# Digite aqui o código do exercício."
   ]
  },
  {
   "cell_type": "markdown",
   "id": "17610ab6",
   "metadata": {},
   "source": [
    "5. Neste ítem, você irá comparar a taxa de erro de símbolo obtida pelo classificador treinado com a taxa de erro de símbolo teórica da modulação 8PSK. Portanto, execute a célula de código abaixo e analise o resultado obtido.\n",
    "\n",
    "**DICAS**\n",
    "\n",
    "+ Para que o código abaixo funcione corretamente, o nome do seu classificador treinado em um dos itens anteriores deve ser `model` .\n",
    "+ Esta simulação irá demorar, portanto, pegue um café e tenha paciência."
   ]
  },
  {
   "cell_type": "code",
   "execution_count": null,
   "id": "6b28a2a7",
   "metadata": {},
   "outputs": [],
   "source": [
    "# Definição da função Q.\n",
    "def qfunc(x):\n",
    "    return 0.5-0.5*erf(x/np.sqrt(2))\n",
    "\n",
    "# Number of symbols to be transmitted.\n",
    "N = 10000000\n",
    "\n",
    "# Create Es/N0 vector.\n",
    "EsN0dB = np.arange(0, 22, 2)\n",
    "\n",
    "# Iterate over all EsN0 values and calculate SER.\n",
    "ser_simu = np.zeros((len(EsN0dB),))\n",
    "ser_theo = np.zeros((len(EsN0dB),))\n",
    "for idx in range(len(EsN0dB)):\n",
    "    EsN0Lin = 10.0**(-(EsN0dB[idx]/10.0))\n",
    "\n",
    "    # Generate 8PSK symbols.\n",
    "    bits_8psk = np.random.randint(0, numOfClasses, N)\n",
    "    # Modulate the binary stream into 8PSK symbols.\n",
    "    symbol = mod(bits_8psk)     \n",
    "\n",
    "    # Pass 8PSK symbols through AWGN channel.\n",
    "    noise = np.sqrt(EsN0Lin/2.0)*(np.random.randn(N, 1) + 1j*np.random.randn(N, 1))    \n",
    "    y = symbol + noise\n",
    "        \n",
    "    # Detect received symbol.\n",
    "    X = np.c_[np.real(y), np.imag(y)]\n",
    "    detected_symbol = model.predict(X)\n",
    "        \n",
    "     # Simulated 8PSK SER.   \n",
    "    ser_simu[idx] = sum(detected_symbol != bits_8psk)/N\n",
    "    \n",
    "    # Theoretical approximate 8PSK SER.\n",
    "    M = 8\n",
    "    EsN0 = 10.0**(EsN0dB[idx]/10.0)\n",
    "    ser_theo[idx] = 2*qfunc(np.sqrt(2*EsN0)*np.sin(np.pi/M))\n",
    "    \n",
    "    # Print Es/N0 versus SER values.\n",
    "    print('Es/N0:%d \\t- SER simu: %e \\t- SER theo: %e' % (EsN0dB[idx], ser_simu[idx], ser_theo[idx]))\n",
    "    \n",
    "plt.plot(EsN0dB, ser_theo, label='theoretical')\n",
    "plt.plot(EsN0dB, ser_simu, 'ro', label='simulated')\n",
    "plt.xlabel('Es/N0 [dB]')\n",
    "plt.ylabel('SER')\n",
    "plt.xscale('linear')\n",
    "plt.yscale('log')\n",
    "plt.grid()\n",
    "plt.title('8PSK detection')\n",
    "plt.legend()\n",
    "plt.xlim([0, 20.5])\n",
    "plt.ylim([1e-5, 1])\n",
    "plt.show()"
   ]
  },
  {
   "cell_type": "markdown",
   "id": "80194347",
   "metadata": {},
   "source": [
    "6. Após a análise dos resultados acima, podemos dizer que o classificador apresenta boa performance quando comparado com a curva da taxa de erro de símbolo teórica da modulação 8PSK? **Justifique sua resposta**."
   ]
  },
  {
   "cell_type": "markdown",
   "id": "9de6d2e7",
   "metadata": {},
   "source": [
    "**Resposta**\n",
    "\n",
    "<span style=\"color:blue\">Escreva aqui a resposta do exercício.</span>\n"
   ]
  },
  {
   "cell_type": "markdown",
   "id": "53aa9644",
   "metadata": {},
   "source": [
    "7. A figura abaixo apresenta as regiões de decisão de um **detector ótimo** para a modulçao 8PSK. Essas regiões do detector foram obtidas utilizando-se técnicas clássicas de de processamento de sinal digital e teoria de detecção de sinais (não se utilizou modelos de aprendizado de máquina como no caso deste exercício). O objetivo do detector é maximizar a taxa de detecção correta dos símbolos transmitidos, minimizando os erros de decisão. O detector 8PSK ótimo tem implementação bastante simples, apresentando baixa complexidade computacional (ou seja, sua execução é rápida e necesita de poucos recursos computacionais como CPU e memória).\n",
    "\n",
    "<img src=\"../../../figures/8psk_optimal.png\" width=\"300px\">\n",
    "\n",
    "Dado que a figura apresenta uma solução clássica **ótima** no sentido da minimização dos erros de decisão e complexidade computacional e que obtivemos algo similar com o modelo de classificação, responda:\n",
    "\n",
    "+ Faz sentido usarmos modelos de aprendizado de máquina para resolver problemas para os quais já se têm soluções ótimas?\n",
    "+ Baseado em sua resposta anterior, em quais contextos você acha que modelos de aprendizado de máquina devem ser aplicados?\n",
    "\n",
    "**DICAS**:\n",
    "\n",
    "+ Pense sobre o ponto de vista de complexidade computacional.\n",
    "+ Nem todas as soluções clássicas (i.e., aquelas que não usam aprendizado de máquina) apresentam soluções ótimas, muitas vezes, elas apresentam soluções subótimas para que possam ser implementadas e usadas na prática."
   ]
  },
  {
   "cell_type": "markdown",
   "id": "cd49094d",
   "metadata": {},
   "source": [
    "**Resposta**\n",
    "\n",
    "<span style=\"color:blue\">Escreva aqui a resposta do exercício.</span>"
   ]
  }
 ],
 "metadata": {
  "kernelspec": {
   "display_name": "Python 3 (ipykernel)",
   "language": "python",
   "name": "python3"
  },
  "language_info": {
   "codemirror_mode": {
    "name": "ipython",
    "version": 3
   },
   "file_extension": ".py",
   "mimetype": "text/x-python",
   "name": "python",
   "nbconvert_exporter": "python",
   "pygments_lexer": "ipython3",
   "version": "3.10.9"
  }
 },
 "nbformat": 4,
 "nbformat_minor": 5
}
