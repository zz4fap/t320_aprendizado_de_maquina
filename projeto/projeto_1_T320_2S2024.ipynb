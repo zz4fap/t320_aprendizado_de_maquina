{
 "cells": [
  {
   "cell_type": "markdown",
   "id": "e0e4d2ea",
   "metadata": {},
   "source": [
    "# Projeto 1 - T320 (2S2024)\n",
    "\n",
    "### Instruções\n",
    "\n",
    "1. Quando você terminar os exercícios do projeto, vá até o menu do Jupyter ou Colab e selecione a opção para fazer download do notebook.\n",
    "    * Os notebooks tem extensão .ipynb. \n",
    "    * Este deve ser o arquivo que você irá entregar.\n",
    "    * No Colab vá até a opção **File** -> **Download .ipynb**.\n",
    "    * No Jupyter vá até a opção **File** -> **Download as** -> **Notebook (.ipynb)**.\n",
    "2. Após o download do notebook, vá até a aba de tarefas do MS Teams, localize a tarefa referente a este projeto e faça o upload do seu notebook. Veja que há uma opção para anexar arquivos à tarefa.\n",
    "3. Atente-se ao prazo de entrega definido na tarefa do MS Teams. Entregas fora do prazo não serão consideradas.\n",
    "4. **O projeto pode ser resolvido em grupos de no MÁXIMO 3 alunos**.\n",
    "5. Todas as questões têm o mesmo peso.\n",
    "6. Não se esqueça de colocar seu(s) nome(s) e número(s) de matrícula no campo abaixo. Coloque os nomes dos integrantes do grupo no campo de texto abaixo.\n",
    "7. Você pode consultar todo o material de aula.\n",
    "8. A interpretação faz parte do projeto. Leia o enunciado de cada questão atentamente!\n",
    "9. Boa sorte!"
   ]
  },
  {
   "cell_type": "markdown",
   "id": "34e2ff8d",
   "metadata": {},
   "source": [
    "**Nomes e matrículas**:\n",
    "\n",
    "1. Nome do primeiro aluno - Matrícula do primeiro aluno\n",
    "2. Nome do segundo aluno - Matrícula do segundo aluno\n",
    "3. Nome do terceiro aluno - Matrícula do terceiro aluno"
   ]
  },
  {
   "cell_type": "markdown",
   "id": "e985db94",
   "metadata": {},
   "source": [
    "## Exercícios"
   ]
  },
  {
   "cell_type": "markdown",
   "id": "e91b9c7a",
   "metadata": {},
   "source": [
    "### 1) Exercício sobre classificação multiclasses\n",
    "\n",
    "Neste exercício, você irá utilizar validação cruzada para encontrar as melhores funções discriminantes que separem cinco classes.\n",
    "\n",
    "1. Execute a célula abaixo e analise o código e a figura gerada. A figura mostra os exemplos de cinco classes.\n",
    "\n",
    "**DICAS**\n",
    "\n",
    "+ Na célula abaixo, o conjunto total de dados é dividido em conjuntos de treinamento e teste."
   ]
  },
  {
   "cell_type": "code",
   "execution_count": null,
   "id": "5e280f9e",
   "metadata": {},
   "outputs": [],
   "source": [
    "# Importe todas os módulos necessários.\n",
    "import numpy as np\n",
    "import pandas as pd\n",
    "import matplotlib.pyplot as plt\n",
    "from sklearn.datasets import make_moons\n",
    "from sklearn.model_selection import train_test_split\n",
    "from sklearn.model_selection import KFold\n",
    "from sklearn.linear_model import LogisticRegression\n",
    "from sklearn.preprocessing import PolynomialFeatures\n",
    "from sklearn.preprocessing import StandardScaler\n",
    "from sklearn.model_selection import cross_val_score\n",
    "from sklearn.pipeline import Pipeline\n",
    "from sklearn.metrics import confusion_matrix, accuracy_score, classification_report\n",
    "import seaborn as sns\n",
    "import urllib\n",
    "\n",
    "# Reseta o gerador de sequências pseudo aleatórias.\n",
    "seed = 42\n",
    "np.random.seed(seed)\n",
    "\n",
    "# Baixa as bases de dados do dropbox.\n",
    "urllib.request.urlretrieve('https://www.dropbox.com/scl/fi/vky8yozwv3fxyxi7vuj9q/FourMoons_and_OneCircle.csv?rlkey=to1kxef1w3bk7rqajyfdpxev0&st=o3t0ut5x&dl=1', 'FourMoons_and_OneCircle.csv')\n",
    "    \n",
    "# Importa os arquivos CSV.\n",
    "df = pd.read_csv('./FourMoons_and_OneCircle.csv', header=None)\n",
    "\n",
    "# Obtendo a matriz de atributos e o vetor de rótulos.\n",
    "X = df[[0, 1]].to_numpy()\n",
    "y = df[2].to_numpy()\n",
    "\n",
    "# Plot the classes.\n",
    "idx0 = np.argwhere(y==0)\n",
    "idx1 = np.argwhere(y==1)\n",
    "idx2 = np.argwhere(y==2)\n",
    "idx3 = np.argwhere(y==3)\n",
    "idx4 = np.argwhere(y==4)\n",
    "plt.plot(X[idx0,0], X[idx0,1], '.', label='Class 0')\n",
    "plt.plot(X[idx1,0], X[idx1,1], 'rx', label='Class 1')\n",
    "plt.plot(X[idx2,0], X[idx2,1], 'ko', label='Class 2')\n",
    "plt.plot(X[idx3,0], X[idx3,1], 'c*', label='Class 3')\n",
    "plt.plot(X[idx4,0], X[idx4,1], '.', label='Class 4')\n",
    "plt.xlabel('$x_1$', fontsize=14)\n",
    "plt.ylabel('$x_2$', fontsize=14)\n",
    "plt.legend()\n",
    "plt.grid()\n",
    "plt.show()\n",
    "\n",
    "# Imprime as dimensões do conjunto total de amostras.\n",
    "print('Dimensão da matriz de atributos, X:', X.shape)\n",
    "print('Dimensão do vetor de rótulos, y:', y.shape)\n",
    "\n",
    "# Split array into random train and test subsets.\n",
    "X_train, X_test, y_train, y_test = train_test_split(X, y, test_size=0.3, random_state=seed)"
   ]
  },
  {
   "cell_type": "markdown",
   "id": "4b19b549",
   "metadata": {},
   "source": [
    "2. Observe a figura acima e responda quais tipos de funções discriminantes, **lineares** ou **não-lineares**, são necessárias para se separar as cinco classes? (**Justifique sua resposta**)."
   ]
  },
  {
   "cell_type": "markdown",
   "id": "a39a4a14",
   "metadata": {},
   "source": [
    "**Resposta**\n",
    "\n",
    "<span style=\"color:blue\">Escreva sua resposta abaixo.</span>"
   ]
  },
  {
   "cell_type": "markdown",
   "id": "a6519658",
   "metadata": {},
   "source": [
    "3. Neste item, você irá utilizar validação cruzada do tipo k-Fold para encontrar a ordem correta para que funções polinomiais separem as cinco classes perfeitamente. Ao final, plote os resultados obtidos (i.e., média e desvio padrão das acurácias) para que você possa decidir qual é a melhor ordem.\n",
    "\n",
    "**DICAS**:\n",
    "\n",
    "+  Instancie um objeto da classe `KFold` com os seguintes parâmetros `n_splits=10` (ou seja, o número de folds, $k$, igual a 10) e `shuffle=True` para embaralhar as amostras.\n",
    "+ Realize a validação cruzada para polinômios de ordem 1 até 10, inclusive, em passos de 1 unidade.\n",
    "+ Para a validação cruzada, utilize o conjunto de treinamento.\n",
    "+ Realize a padronização nos dados de treinamento com um objeto da classe `StandardScaler`.\n",
    "+ Instancie um objeto da classe `LogisticRegression` com os seguintes parâmetros `multi_class='multinomial'` (para operar como um **regressor softmax**) e `penalty=None` (i.e., não aplica regularização).\n",
    "+ Configure o parâmetro `scoring` da função `cross_val_score` como `accuracy`.\n",
    "+ Sempre que possível, use a semente, `seed`, definida no item 1, para configurar o parâmetro `random_state` das funções e classes da biblioteca SciKit-Learn.\n",
    "+ Para resolver este item, se baseie no código do seguinte exemplo: [classification_with_cross_validation.ipynb](https://colab.research.google.com/github/zz4fap/t320_aprendizado_de_maquina/blob/main/notebooks/classificação/classification_with_cross_validation.ipynb).\n",
    "+ A validação cruzada pode demorar um pouco, portanto, pegue um café e tenha paciência."
   ]
  },
  {
   "cell_type": "code",
   "execution_count": null,
   "id": "8b29c36a",
   "metadata": {},
   "outputs": [],
   "source": [
    "# Digite aqui o código do exercício."
   ]
  },
  {
   "cell_type": "markdown",
   "id": "f875c03f",
   "metadata": {},
   "source": [
    "4. Após analisar os resultados acima, qual a melhor ordem a ser utilizada para se separar as cinco classes?\n",
    "\n",
    "**DICAS**\n",
    "\n",
    "+ Use o princípio da navalha de Occam para decidar qua é a melhor ordem."
   ]
  },
  {
   "cell_type": "markdown",
   "id": "0aadc567",
   "metadata": {},
   "source": [
    "**Resposta**\n",
    "\n",
    "<span style=\"color:blue\">Escreva sua resposta abaixo.</span>"
   ]
  },
  {
   "cell_type": "markdown",
   "id": "4c72c2de",
   "metadata": {},
   "source": [
    "5. Usando a melhor ordem para os polinômios de separação, encontrado no item anterior, treine um classificador (i.e., regressor softmax) com esta ordem. Em seguida, calcule a imprima a acurácia deste modelo com os conjuntos de treinamento e validação.\n",
    "\n",
    "**DICAS**:\n",
    "\n",
    "+ Realize a padronização nos dados de treinamento com um objeto da classe `StandardScaler`.\n",
    "+ Instancie um objeto da classe `LogisticRegression` com os seguintes parâmetros `multi_class='multinomial'` (para operar como um **regressor softmax**) e `penalty=None` (i.e., não aplica regularização).\n",
    "+ Sempre que possível, use a semente, `seed`, definida no item 1, para configurar o parâmetro `random_state` das funções e classes da biblioteca SciKit-Learn.\n",
    "+ Treine o modelo com o conjunto de treinamento.\n",
    "+ Para resolver este item, se baseie no código do seguinte exemplo: [classification_with_cross_validation.ipynb](https://colab.research.google.com/github/zz4fap/t320_aprendizado_de_maquina/blob/main/notebooks/classificação/classification_with_cross_validation.ipynb)."
   ]
  },
  {
   "cell_type": "code",
   "execution_count": null,
   "id": "0cec2dce",
   "metadata": {},
   "outputs": [],
   "source": [
    "# Digite aqui o código do exercício."
   ]
  },
  {
   "cell_type": "markdown",
   "id": "45d0c849",
   "metadata": {},
   "source": [
    "6. Usando o modelo treinado com a melhor ordem para o polinômio de separação, plote as regiões de decisão deste classificador.\n",
    "\n",
    "**DICAS**:\n",
    "\n",
    "+ Para resolver este item, se baseie no código do seguinte exemplo: [classification_with_cross_validation.ipynb](https://colab.research.google.com/github/zz4fap/t320_aprendizado_de_maquina/blob/main/notebooks/classificação/classification_with_cross_validation.ipynb)."
   ]
  },
  {
   "cell_type": "code",
   "execution_count": null,
   "id": "905c0f4f",
   "metadata": {},
   "outputs": [],
   "source": [
    "# Digite aqui o código do exercício."
   ]
  },
  {
   "cell_type": "markdown",
   "id": "bbdf414f",
   "metadata": {},
   "source": [
    "7. Plote a matriz de confusão deste classificador para o **conjunto total de amostras**.\n",
    "\n",
    "**DICAS**:\n",
    "\n",
    "+ Não se esqueça que este é um problema de classificação com 5 classes.\n",
    "+ Para resolver este item, se baseie no código do seguinte exemplo: [classification_with_cross_validation.ipynb](https://colab.research.google.com/github/zz4fap/t320_aprendizado_de_maquina/blob/main/notebooks/classificação/classification_with_cross_validation.ipynb)."
   ]
  },
  {
   "cell_type": "code",
   "execution_count": null,
   "id": "3bb086d3",
   "metadata": {},
   "outputs": [],
   "source": [
    "# Digite aqui o código do exercício."
   ]
  },
  {
   "cell_type": "markdown",
   "id": "244109c0",
   "metadata": {},
   "source": [
    "8. Use a função `classification_report` da biblioteca SciKit-Learn para imprimir algumas das métricas de classificação para o **conjunto total de exemplos**.\n",
    "\n",
    "**DICA**\n",
    "\n",
    "+ Para resolver este item, se baseie no código do seguinte exemplo: [classification_with_cross_validation.ipynb](https://colab.research.google.com/github/zz4fap/t320_aprendizado_de_maquina/blob/main/notebooks/classificação/classification_with_cross_validation.ipynb)."
   ]
  },
  {
   "cell_type": "code",
   "execution_count": null,
   "id": "2c9a5434",
   "metadata": {},
   "outputs": [],
   "source": [
    "# Digite aqui o código do exercício."
   ]
  },
  {
   "cell_type": "markdown",
   "id": "79193346",
   "metadata": {},
   "source": [
    "9. Analise as métricas impressas no item anterior, o que podemos concluir sobre este classificador? (**Justifique sua resposta**)."
   ]
  },
  {
   "cell_type": "markdown",
   "id": "22d45f7a",
   "metadata": {},
   "source": [
    "**Resposta**\n",
    "\n",
    "<span style=\"color:blue\">Escreva sua resposta abaixo.</span>"
   ]
  },
  {
   "cell_type": "markdown",
   "id": "fc4b3008",
   "metadata": {},
   "source": [
    "10. O que aconteceria se as funções discriminantes usadas tivessem grau inferior ao necessário para se obter a separação perfeita das classes, por exemplo, grau igual a 1? (**Justifique sua resposta**)\n",
    "\n",
    "**DICA**\n",
    "+ Lembre-se dos efeitos de sobreajuste e subajuste."
   ]
  },
  {
   "cell_type": "markdown",
   "id": "a712efde",
   "metadata": {},
   "source": [
    "**Resposta**\n",
    "\n",
    "<span style=\"color:blue\">Escreva sua resposta abaixo.</span>"
   ]
  },
  {
   "cell_type": "markdown",
   "id": "d9ba9cbb",
   "metadata": {},
   "source": [
    "11. Usando uma **ordem igual a 1** para os polinômios de separação, treine um regressor softmax com esta ordem. Em seguida, calcule a imprima a acurácia deste modelo com os conjuntos de treinamento e validação.\n",
    "\n",
    "**DICAS**:\n",
    "\n",
    "+ Realize a padronização nos dados de treinamento com um objeto da classe `StandardScaler`.\n",
    "+ Instancie um objeto da classe `LogisticRegression` com os seguintes parâmetros `multi_class='multinomial'` (para operar como um **regressor softmax**) e `penalty=None` (i.e., não aplica regularização).\n",
    "+ Sempre que possível, use a semente, `seed`, definida no item 1, para configurar o parâmetro `random_state` das funções e classes da biblioteca SciKit-Learn.\n",
    "+ Treine o modelo com o conjunto de treinamento.\n",
    "+ Para resolver este item, se baseie no código do seguinte exemplo: [classification_with_cross_validation.ipynb](https://colab.research.google.com/github/zz4fap/t320_aprendizado_de_maquina/blob/main/notebooks/classificação/classification_with_cross_validation.ipynb)."
   ]
  },
  {
   "cell_type": "code",
   "execution_count": null,
   "id": "15260d9b",
   "metadata": {},
   "outputs": [],
   "source": [
    "# Digite aqui o código do exercício."
   ]
  },
  {
   "cell_type": "markdown",
   "id": "f9eb00b5",
   "metadata": {},
   "source": [
    "12. Usando o modelo treinado com uma ordem igual a 1 para o polinômio de separação, plote as regiões de decisão deste classificador.\n",
    "\n",
    "**DICAS**:\n",
    "\n",
    "+ Para resolver este item, se baseie no código do seguinte exemplo: [classification_with_cross_validation.ipynb](https://colab.research.google.com/github/zz4fap/t320_aprendizado_de_maquina/blob/main/notebooks/classificação/classification_with_cross_validation.ipynb)."
   ]
  },
  {
   "cell_type": "code",
   "execution_count": null,
   "id": "476db54e",
   "metadata": {},
   "outputs": [],
   "source": [
    "# Digite aqui o código do exercício."
   ]
  },
  {
   "cell_type": "markdown",
   "id": "a8c78771",
   "metadata": {},
   "source": [
    "13. Analise a figura com as regiões de decisão e responda: Este classificador tem boa capacidade de generalização? (**Justifique sua resposta**)"
   ]
  },
  {
   "cell_type": "markdown",
   "id": "6e852f47",
   "metadata": {},
   "source": [
    "**Resposta**\n",
    "\n",
    "<span style=\"color:blue\">Escreva sua resposta abaixo.</span>"
   ]
  },
  {
   "cell_type": "markdown",
   "id": "0de02c9d",
   "metadata": {},
   "source": [
    "### 2) Classificação binária\n",
    "\n",
    "Neste exercício, você irá usar um regressor logístico para detectar fraudes com cartões de crédito.\n",
    "\n",
    "É importante que empresas de cartão de crédito sejam capazes de reconhecer transações fraudulentas com cartão de crédito para que os clientes não sejam cobrados por itens que não compraram ou que os clientes tenham suas compras bloqueadas devido um erro das empresas de cartão de crédito.\n",
    "\n",
    "O conjunto de dados que iremos utilizar contém transações feitas com cartões de crédito em setembro de 2013 por titulares de cartões europeus. Este conjunto de dados apresenta transações que ocorreram em dois dias, onde temos 492 fraudes em 284.807 transações legítimas. O conjunto de dados é altamente desbalanceado, a classe positiva (fraudes) responde por 0.172% de todas as transações.\n",
    "\n",
    "A base de dados contém 30 atributos, sendo 28 deles com informação desconhecida, devido à sensibilidade dos dados, chamados de `V1` a `V28`, e 2 atributos `Time` e `Amount`. O atributo `Time` se refere ao tempo, em segundos, decorrido entre cada transação e a primeira transação no conjunto de dados. O atributo `Amount` se refere ao valor da transação. O atributo `Time` não será utilizado em nossa análise e, portanto, será descartado.\n",
    "\n",
    "Temos 2 classes neste problema, a classe `fraude`, denotada pelo valor 1 (classe positiva) e a classe `legítima`, denotada pelo valor 0 (classe negativa).\n",
    "\n",
    "Infelizmente, devido a questões de confidencialidade, não temos informações sobre os atributos `V1` a `V28`.\n",
    "\n",
    "**Referência**:\n",
    "\n",
    "[1] Credit Card Fraud Detection, https://www.kaggle.com/datasets/mlg-ulb/creditcardfraud?datasetId=310&searchQuery=logistic\n",
    "\n",
    "[2] Credit Card Fraud Detection, https://towardsdatascience.com/credit-card-fraud-detection-9bc8db79b956\n",
    "\n",
    "[3] A Gentle Introduction to Imbalanced Classification, https://machinelearningmastery.com/what-is-imbalanced-classification/\n",
    "\n",
    "[4] Classificação em dados desbalanceados, https://www.tensorflow.org/tutorials/structured_data/imbalanced_data"
   ]
  },
  {
   "cell_type": "markdown",
   "id": "60a0192e",
   "metadata": {},
   "source": [
    "1. Execute a célula abaixo para importar os dados e as bibliotecas necessárias.\n",
    "\n",
    "**DICAS**\n",
    "\n",
    "+ Na célula abaixo, o conjunto total de dados é dividido em conjuntos de treinamento e teste.\n",
    "+ Após a execução bem sucedida da célula abaixo, você visualizará as 5 primeiras linhas da base de dados.\n",
    "+ A coluna `Class` será o valor alvo (i.e., rótulos). Os rótulos são os valores que o modelo é treinado para predizer.\n",
    "+ O download da base de dados irá levar um certo tempo, portanto, pegue um café e tenha paciência."
   ]
  },
  {
   "cell_type": "code",
   "execution_count": null,
   "id": "8872e03c",
   "metadata": {},
   "outputs": [],
   "source": [
    "# Importe todas as bibliotecas necessárias.\n",
    "import pandas as pd\n",
    "import numpy as np\n",
    "import seaborn as sns\n",
    "import matplotlib.pyplot as plt\n",
    "from sklearn.linear_model import LogisticRegression\n",
    "from sklearn.preprocessing import PolynomialFeatures\n",
    "from sklearn.preprocessing import StandardScaler\n",
    "from sklearn.model_selection import cross_val_score\n",
    "from sklearn.pipeline import Pipeline\n",
    "from sklearn.metrics import confusion_matrix, accuracy_score\n",
    "from sklearn.metrics import f1_score, classification_report\n",
    "from sklearn.metrics import recall_score, precision_score\n",
    "from sklearn.metrics import roc_curve, auc\n",
    "import seaborn as sns\n",
    "\n",
    "# Reseta o gerador de sequências pseudo aleatórias.\n",
    "seed = 42\n",
    "np.random.seed(seed)\n",
    "\n",
    "# Usando pandas para ler a base de dados.\n",
    "pd.set_option('display.max_columns', None)\n",
    "card = pd.read_csv('https://www.dropbox.com/s/nlk997opcr8wlet/creditcard.csv?dl=1')\n",
    "\n",
    "# Selecionando os atributos que serão usados. Iremos descartar o atributo tempo, pois ele não traz informação útil para a classificação.\n",
    "atributos = [\n",
    "    'V1', 'V2', 'V3', 'V4', 'V5', 'V6', 'V7', 'V8', 'V9', 'V10',\n",
    "    'V11', 'V12', 'V13', 'V14', 'V15', 'V16', 'V17', 'V18', 'V19', 'V20',\n",
    "    'V21', 'V22', 'V23', 'V24', 'V25', 'V26', 'V27', 'V28', 'Amount'\n",
    "]\n",
    "\n",
    "# Criando o conjunto de pares de treinamento, X e y.\n",
    "X = card[atributos]\n",
    "y = card['Class']\n",
    "\n",
    "# Split array into random train and test subsets.\n",
    "X_train, X_test, y_train, y_test = train_test_split(X, y, test_size=0.2, random_state=seed)\n",
    "\n",
    "# Mostrando os primeiros exemplos da base de dados.\n",
    "card.head()"
   ]
  },
  {
   "cell_type": "markdown",
   "id": "0ea70ea0",
   "metadata": {},
   "source": [
    "2. Execute a célula de código abaixo e analise a quantidade de exemplos de cada classe."
   ]
  },
  {
   "cell_type": "code",
   "execution_count": null,
   "id": "308abe7e",
   "metadata": {},
   "outputs": [],
   "source": [
    "# Plota histograma com a quantidade de exemplos por classe.\n",
    "fig, ax = plt.subplots()\n",
    "bars = ax.bar(['legítima','fraude'], card.Class.value_counts())\n",
    "ax.bar_label(bars)\n",
    "plt.yscale('log')\n",
    "plt.xlabel('Classes', fontsize=12)\n",
    "plt.ylabel('Quantidade de exemplos', fontsize=12)\n",
    "plt.ylim([1, 1000000])\n",
    "plt.grid()\n",
    "plt.show()"
   ]
  },
  {
   "cell_type": "markdown",
   "id": "050206c0",
   "metadata": {},
   "source": [
    "3. Após ter analisado a quantidade de exemplos em cada uma das duas classes no item anterior, o que você pode concluir sobre elas?"
   ]
  },
  {
   "cell_type": "markdown",
   "id": "b5ce4f90",
   "metadata": {},
   "source": [
    "**Resposta**\n",
    "\n",
    "<span style=\"color:blue\">Escreva sua resposta abaixo.</span>"
   ]
  },
  {
   "cell_type": "markdown",
   "id": "be33dc25",
   "metadata": {},
   "source": [
    "4. Treine um regressor logístico com o conjunto de treinamento e imprima sua acurácia nos conjunto de treinamento e teste.\n",
    "\n",
    "**DICAS**\n",
    "\n",
    "+ Configure o parâmetro `random_state` da classe `LogisticRegression` com a semente definida no item 1, ou seja,\n",
    "```python \n",
    "random_state=seed\n",
    "``` \n",
    "+ O treinamento irá levar um certo tempo, portanto, pegue um café e tenha paciência."
   ]
  },
  {
   "cell_type": "code",
   "execution_count": null,
   "id": "003b12c7",
   "metadata": {},
   "outputs": [],
   "source": [
    "# Digite aqui o código do exercício."
   ]
  },
  {
   "cell_type": "markdown",
   "id": "35ba4685",
   "metadata": {},
   "source": [
    "5. Baseado nos valores de acurácia obtidos no item anterior, responda:\n",
    "\n",
    "+ Qual foi a acurácia obtida pelo classificador nos conjuntos de treinamento e teste?\n",
    "+ Você diria que este é um bom classificador, ou seja, um classificador que praticamente acerta todas as predições (i.e., classificações)?\n",
    "+ O que pode ser feito para nos certificarmos que este é realmente um bom classificador?\n",
    "+ Observe a expressão para o calculo da acurácia mostrada abaixo:\n",
    "$$Accuracy = \\frac{TN + TP}{TN + TP + FP + FN},$$\n",
    "onde $TN$, $TP$, $FP$ e $FN$ são os números de verdadeiros negativos, verdadeiros positivos, falsos positivos e falsos negativos, respectivamente.\n",
    "+ Na equação da acurácia mostrada acima, o que aconteceria se $TN$ fosse 100 vezes ou mais maior que $TP$, $FP$ e $FN$? Essa situação afetaria o cálculo da acurácia? (**Justique sua resposta**)."
   ]
  },
  {
   "cell_type": "markdown",
   "id": "7beba0fc",
   "metadata": {},
   "source": [
    "**Resposta**\n",
    "\n",
    "<span style=\"color:blue\">Escreva sua resposta abaixo.</span>"
   ]
  },
  {
   "cell_type": "markdown",
   "id": "97688c3d",
   "metadata": {},
   "source": [
    "6. Plote a matriz de confusão deste classificador para o conjunto de teste."
   ]
  },
  {
   "cell_type": "code",
   "execution_count": null,
   "id": "1c2522c0",
   "metadata": {},
   "outputs": [],
   "source": [
    "# Digite aqui o código do exercício."
   ]
  },
  {
   "cell_type": "markdown",
   "id": "50fafbf4",
   "metadata": {},
   "source": [
    "7. O que pode ser concluído após a análise da matriz de confusão acima?\n",
    "\n",
    "**DICAS**\n",
    "\n",
    "+ Analise os elementos da diagonal principal da matriz. Existem elementos com número muito maior do que outros? Se sim, por que isso ocorre e o acarreta com relação à métrica de avaliação geral de classificadores?"
   ]
  },
  {
   "cell_type": "markdown",
   "id": "4c2e0655",
   "metadata": {},
   "source": [
    "**Resposta**\n",
    "\n",
    "<span style=\"color:blue\">Escreva sua resposta abaixo.</span>"
   ]
  },
  {
   "cell_type": "markdown",
   "id": "8339cccb",
   "metadata": {},
   "source": [
    "8. O objetivo principal deste classificador é **detectar fraudes**, pois elas causam muitos prejuízos às administradoras de cartão de crédito. Neste contexto, a **classe positiva** é a classe das `fraudes` e a **classe negativa** é a classe das transações `legítimas`. Sendo assim, responda:\n",
    "\n",
    "+ O que é mais prejudicial (ou seja, mais caro) para a administradora de cartão de crédito usando este classificador, a classificação de uma fraude como sendo uma transação legítima ou a classificação de uma transação legítima como sendo uma fraude?\n",
    "+ A classificação de uma fraude como sendo uma transação legítima é um falso negativo ($FN$) ou um falso positivo ($FP$)?\n",
    "+ A classificação de uma transação legítima como sendo uma fraude é um falso negativo ($FN$) ou um falso positivo ($FP$)?\n",
    "\n",
    "**DICAS**\n",
    "\n",
    "+ Notem que a classificação de uma fraude como sendo uma transação legítima permitiria que transações fraudulentas não fossem bloqueadas ou canceladas, causando prejuízo à administradora de cartão de crédito, enquanto a classificação de uma transação legítima como sendo uma fraude pode fazer com que um e-mail seja enviado ao cliente solicitando que ele verifique a atividade do cartão ou que um analista averigue a transação com mais detalhes."
   ]
  },
  {
   "cell_type": "markdown",
   "id": "6118320c",
   "metadata": {},
   "source": [
    "**Resposta**\n",
    "\n",
    "<span style=\"color:blue\">Escreva sua resposta abaixo.</span>"
   ]
  },
  {
   "cell_type": "markdown",
   "id": "b5c0d0a3",
   "metadata": {},
   "source": [
    "9. A acurácia atingida pelo classificador treinado no item 4 é altíssima, parecendo à primeira vista que ele é um classificador quase perfeito. Entretanto, no caso de uma base de dados desbalanceada (ou seja, com classes desbalanceadas), como a deste exercício, a acurácia não é uma métrica útil para esta tarefa. \n",
    "\n",
    "Por exemplo, um classificador pode atingir mais de 99.82% de acurácia nesta tarefa predizendo a classe `legítima` (classe negativa) o tempo todo, ou seja, se ele **sempre** predizer a classe `legítima`, ainda assim, mesmo nunca classificando exemplos da classe `fraude` corretamente, ele terá uma alta acurácia devido ao desbalanceamento das classes (veja a figura abaixo). Portanto, precisamos de outra métrica para mensurar a qualidade deste classificador.\n",
    "\n",
    "<img src=\"../figures/desbalanced_classes.png\" width=\"300px\">\n",
    "\n",
    "Sendo assim e baseado em suas respostas para o item anterior, responda:\n",
    "\n",
    "+ Qual é a métrica mais indicada para mensurar a qualidade deste classificador quando as classes são desbalanceadas? Apresenta a equação usada para calcular esta métrica.\n",
    "\n",
    "**DICAS**\n",
    "\n",
    "+ Reveja o material de aula onde falamos sobre as métricas utilizadas para mensurar o desempenho de classificadores."
   ]
  },
  {
   "cell_type": "markdown",
   "id": "294a0875",
   "metadata": {},
   "source": [
    "**Resposta**\n",
    "\n",
    "<span style=\"color:blue\">Escreva sua resposta abaixo.</span>"
   ]
  },
  {
   "cell_type": "markdown",
   "id": "3349a08e",
   "metadata": {},
   "source": [
    "10. Calcule e imprima o valor da métrica mais indicada para mensurar a qualidade do classificador usado neste exercício. Use o conjunto de teste para esse cálculo."
   ]
  },
  {
   "cell_type": "code",
   "execution_count": null,
   "id": "875df975",
   "metadata": {},
   "outputs": [],
   "source": [
    "# Digite aqui o código do exercício."
   ]
  },
  {
   "cell_type": "markdown",
   "id": "dc9fc4f1",
   "metadata": {},
   "source": [
    "11. Após analisar o valor da métrica acima, responda:\n",
    "\n",
    "+ Qual o valor obtido após o cálculo da métrica?\n",
    "+ O que você pode concluir a respeito deste classificador, ou seja, ele é bom ou ruim para esta tarefa de detecção de fraudes?"
   ]
  },
  {
   "cell_type": "markdown",
   "id": "340d2170",
   "metadata": {},
   "source": [
    "**Resposta**\n",
    "\n",
    "<span style=\"color:blue\">Escreva sua resposta abaixo.</span>"
   ]
  },
  {
   "cell_type": "markdown",
   "id": "1b44cb52",
   "metadata": {},
   "source": [
    "12. Será que existe uma forma simples de melhorarmos o desempenho deste classificador? Leia o enunciado abaixo e, na sequência, treine um novo classificador com as instruções descritas abaixo.\n",
    "\n",
    "O objetivo do classificador treinado neste exercício é o de identificar transações fraudulentas, mas nós não temos muitos desses exemplos positivos (i.e., fraudes) para trabalhar, então nós gostariamos que o classificador **ponderasse fortemente** (ou seja, atribuísse um peso maior) os poucos exemplos positivos disponíveis. \n",
    "\n",
    "Isso pode ser feito configurando-se o parâmetro `class_weight` da classe `LogisticRegression` com a string `'balanced'`.  Isso fará com que o modelo **preste mais atenção** aos exemplos de uma classe sub-representada, ou seja, com poucos exemplos.\n",
    "\n",
    "O modo `balanced` usa os valores de `y`, ou seja, a quantidade de rótulos de cada classe, para calcular automaticamente os pesos de cada classe. Os pesos são inversamente proporcionais às frequências de cada classe, ou seja, o número exemplos de uma classe pelo número total de exemplos. O peso de cada classe é calculado através da seguinte equação: `n_samples / (n_classes * np.bincount(y))`, onde `n_samples` é o número total de exemplos, `n_classes` é o número de classes e `np.bincount(y)` retorna o número de exemplos de cada uma das classes. O objetivo do modo `balanced` é determinar pesos apropriados que dêem mais importância à classe minoritária e menos importância à classe majoritária durante o treinamento do modelo.\n",
    "\n",
    "Portanto, de posse destas informações, treine um novo regressor logístico que use os pesos das classes para melhorar seu desempenho e imprima seus valores de acurácia e da métrica mais indicada para mensurar a qualidade deste classificador quando as classes são desbalanceadas (esta é a métrica que você usou no item 10). Use o conjunto de teste para calcular as métricas.\n",
    "\n",
    "**DICAS**\n",
    "\n",
    "+ Configure o parâmetro `random_state` da classe `LogisticRegression` com a semente definida no item 1, ou seja,\n",
    "```python \n",
    "random_state=seed\n",
    "``` \n",
    "+ Configure o parâmetro `class_weight` da classe `LogisticRegression` com a string `'balanced'`.\n",
    "```python \n",
    "class_weight='balanced'\n",
    "```\n",
    "+ O treinamento irá levar um certo tempo, portanto, pegue um café e tenha paciência."
   ]
  },
  {
   "cell_type": "code",
   "execution_count": null,
   "id": "b156867b",
   "metadata": {},
   "outputs": [],
   "source": [
    "# Digite aqui o código do exercício."
   ]
  },
  {
   "cell_type": "markdown",
   "id": "fbb524df",
   "metadata": {},
   "source": [
    "13. Plote a matriz de confusão deste novo classificador."
   ]
  },
  {
   "cell_type": "code",
   "execution_count": null,
   "id": "a3b49c85",
   "metadata": {},
   "outputs": [],
   "source": [
    "# Digite aqui o código do exercício."
   ]
  },
  {
   "cell_type": "markdown",
   "id": "6e63d245",
   "metadata": {},
   "source": [
    "14. Após observar os resultados das duas métricas calculadas e impressas no item 12 e a matriz de confusão acima, responda:\n",
    "\n",
    "+ Comparando com os valores obtidos com o primeiro modelo de classificação, houve aumento ou diminuição dos valores das duas métricas?\n",
    "+ A acurácia teve seu valor diminuído? Se sim, explique o motivo.\n",
    "+ A segunda métrica, a que você definiu no item 9 e calculou no item 10, teve seu valor aumentado? Se sim, explique o motivo deste aumento.\n",
    "+ Observe a quantidade de falsos positivos ($FP$), ou seja, a quantidade transações legítimas que são classificadas como sendo fraudes, na matriz de confusão do item anterior. Você acredita que um valor muito alto de falsos positivos causaria algum tipo de prejuízo às administradoras de cartão de crédito, aos clientes ou a ambos? Veja a dica abaixo. (**Justifique sua resposta.**)\n",
    "\n",
    "**DICAS**\n",
    "\n",
    "+ Normalmente, quando uma transação é classificada como fraudulenta, mesmo não sendo, a administradora de cartão de crédito envia algum tipo de mensagem (email, sms, whatsapp, etc.) solicitando ao cliente que informe se aquela transação é legítima ou não."
   ]
  },
  {
   "cell_type": "markdown",
   "id": "66e33dfa",
   "metadata": {},
   "source": [
    "**Resposta**\n",
    "\n",
    "<span style=\"color:blue\">Escreva sua resposta abaixo.</span>"
   ]
  },
  {
   "cell_type": "markdown",
   "id": "9c3e72d6",
   "metadata": {},
   "source": [
    "### 3) Neste exercício, você utilizará um classificador para detectar símbolos de uma modulação digital, a modulação 8PSK.\n",
    "\n",
    "1. Execute a célula abaixo e analise o resultado. A figura mostra símbolos ruidosos da modulação 8PSK, onde cada um dos oito possíveis símbolos é considerado como uma classe diferente.\n",
    "\n",
    "**DICAS**\n",
    "\n",
    "+ Notem que na célula de código abaixo, o conjunto de dados já está dividido em conjuntos de treinamento e validação.\n",
    "\n",
    "#### Referências\n",
    "\n",
    "[1] '8-PSK', https://www.eng.biu.ac.il/~zehavie1/articals/8PSK.Pdf\n",
    "\n",
    "[2] 'Phase-shift_keying', https://en.wikipedia.org/wiki/Phase-shift_keying"
   ]
  },
  {
   "cell_type": "code",
   "execution_count": null,
   "id": "68961591",
   "metadata": {},
   "outputs": [],
   "source": [
    "# Import all necessary libraries.\n",
    "import numpy as np\n",
    "import matplotlib.pyplot as plt\n",
    "from matplotlib.colors import ListedColormap\n",
    "from sklearn.model_selection import train_test_split\n",
    "from sklearn.linear_model import LogisticRegression\n",
    "from sklearn.metrics import confusion_matrix, accuracy_score, roc_curve, auc, classification_report\n",
    "import seaborn as sns\n",
    "from scipy.special import erfc, erf\n",
    "\n",
    "# Reset PN sequence random generator.\n",
    "seed = 42\n",
    "np.random.seed(seed)\n",
    "\n",
    "# Modulate bits into 8PSK symbols.\n",
    "def mod(bits):\n",
    "    '''Função para modulação dos bits em símbolos 8PSK.'''\n",
    "    symbols = np.zeros((len(bits), 1), dtype=complex)\n",
    "    for i, b in enumerate(bits):\n",
    "        symbols[i] = np.exp(-1j*(np.pi/4)*b)\n",
    "    return symbols\n",
    "\n",
    "# Number of symbols to be transmitted.\n",
    "N = 10000\n",
    "\n",
    "# Number of classes.\n",
    "numOfClasses = 8\n",
    "\n",
    "# Create Es/N0 vector.\n",
    "EsN0dB = 20\n",
    "EsN0Lin = 10.0**(-(EsN0dB/10.0))\n",
    "    \n",
    "# Generate bits.\n",
    "bits_8psk = np.random.randint(0, numOfClasses, N)\n",
    "# Modulate the binary stream into 8PSK symbols.\n",
    "symbols = mod(bits_8psk)\n",
    "    \n",
    "# Generate noise vector. \n",
    "# Divide by two since the theoretical ber uses a complex Normal pdf with variance of each part = 1/2.\n",
    "noise = np.sqrt(EsN0Lin/2.0)*(np.random.randn(N, 1) + 1j*np.random.randn(N, 1))\n",
    "\n",
    "# Pass 8PSK symbols through AWGN channel.\n",
    "y = symbols + noise\n",
    "    \n",
    "# Create the attribute matrix.\n",
    "X = np.c_[np.real(y), np.imag(y)]\n",
    "\n",
    "# Split array into random train and test subsets.\n",
    "X_train, X_test, y_train, y_test = train_test_split(X, bits_8psk, test_size=0.3, random_state=seed)\n",
    "    \n",
    "# Plot the classes.\n",
    "for i in range(numOfClasses):\n",
    "    idx = np.argwhere(bits_8psk == i)\n",
    "    label = 'Symbol '+str(i)\n",
    "    plt.plot(np.real(y[idx.ravel()]), np.imag(y[idx.ravel()]), '.', label=label)\n",
    "plt.grid()\n",
    "plt.xlabel('InPhase')\n",
    "plt.ylabel('Quadrature')\n",
    "plt.legend(bbox_to_anchor=(1.1, 1.05))\n",
    "plt.show()"
   ]
  },
  {
   "cell_type": "markdown",
   "id": "ac9c9495",
   "metadata": {},
   "source": [
    "2. Observe a figura acima e responda quais tipos de funções discriminantes, **lineares** ou **não-lineares**, são necessárias para se separar as oito classes de forma a obter uma boa capacidade de generalização? Qual é a equação geral destas funções discriminates? (**Justifique sua resposta**).\n",
    "\n",
    "**DICA**\n",
    "\n",
    "+ Lembre-se do princípio da navalha de Occam."
   ]
  },
  {
   "cell_type": "markdown",
   "id": "8a7af249",
   "metadata": {},
   "source": [
    "**Resposta**\n",
    "\n",
    "<span style=\"color:blue\">Escreva sua resposta abaixo.</span>"
   ]
  },
  {
   "cell_type": "markdown",
   "id": "18b50df4",
   "metadata": {},
   "source": [
    "3. Normalmente, treina-se um modelo de aprendizado de máquina para detecção com símbolos gerados com uma relação sinal-ruído (SNR) relativamente alta, como a usada no item anterior. Isso é feito para que o modelo tenha exemplos com sinal e uma certa quantidade de ruído, de forma que ele consiga \"aprender\" a detectar símbolos mesmo com uma quantidade maior de ruído sendo adicionada aos símbolos. Ou seja, a ideia é que o modelo aprenda a generalizar e detectar símbolos com diversos valores de SNR. Caso o modelo fosse treinado com símbolos gerados com uma SNR baixa, seria muito difícil ele aprender a detectar os símbolos, pois o sinal recebido seria praticamente composto por amostras ruidosas. Se o modelo fosse treinado com símbolos gerados em uma SNR baixa, seria muito difícil para ele aprender a detectar esses símbolos, uma vez que o sinal recebido conteria praticamente apenas ruído.\n",
    "\n",
    "Sendo assim, neste item, treine um **regressor softmax** com o conjunto de treinamento gerado no item anterior e calcule sua acurácia nos conjuntos de treinamento e validação.\n",
    "\n",
    "**DICAS**\n",
    "\n",
    "+ Para configurar o regressor softmax, durante o instanciamento da classe `LogisticRegression`, configure o parâmetro `multi_class` com a string `multinomial`, ou seja\n",
    "```python \n",
    "multi_class='multinomial'\n",
    "```\n",
    "+ Configure o parâmetro `random_state` da classe `LogisticRegression` com a semente definida no item 1, ou seja,\n",
    "```python \n",
    "random_state=seed\n",
    "``` \n",
    "+ Lembre-se que por padrão o parâmetro `fit_intercept` da classe `LogisticRegression` é igual a `True`.\n",
    "+ Seu classificador deve apresentar uma acurácia de 100% para ambos os conjuntos.\n",
    "+ Para que os próximos itens deste exercício funcionem corretamente, chame seu modelo de `model`."
   ]
  },
  {
   "cell_type": "code",
   "execution_count": null,
   "id": "a8da9fd9",
   "metadata": {},
   "outputs": [],
   "source": [
    "# Digite aqui o código do exercício."
   ]
  },
  {
   "cell_type": "markdown",
   "id": "5171d1e9",
   "metadata": {},
   "source": [
    "4. Usando o modelo treinado no item anterior, plote as regiões de decisão deste classificador. Adicionalmente, plote os símbolos corrompidos com ruído que foram gerados no item 1 deste exercício."
   ]
  },
  {
   "cell_type": "code",
   "execution_count": null,
   "id": "8ded8b94",
   "metadata": {},
   "outputs": [],
   "source": [
    "# Digite aqui o código do exercício."
   ]
  },
  {
   "cell_type": "markdown",
   "id": "c44d8230",
   "metadata": {},
   "source": [
    "5. Plote a matriz de confusão deste classificador com os exemplos do conjunto de teste.\n",
    "\n",
    "**DICAS**\n",
    "\n",
    "+ Note que o vetor de rótulos referentes ao conjunto total de exemplos é dado pela variável `y_test` definida no item 1."
   ]
  },
  {
   "cell_type": "code",
   "execution_count": null,
   "id": "39246dbb",
   "metadata": {},
   "outputs": [],
   "source": [
    "# Digite aqui o código do exercício."
   ]
  },
  {
   "cell_type": "markdown",
   "id": "55b6f832",
   "metadata": {},
   "source": [
    "6. Observe a matriz de confusão acima e responda: o classificador comete algum erro no conjunto de teste?"
   ]
  },
  {
   "cell_type": "markdown",
   "id": "8d3f211d",
   "metadata": {},
   "source": [
    "**Resposta**\n",
    "\n",
    "<span style=\"color:blue\">Escreva sua resposta abaixo.</span>"
   ]
  },
  {
   "cell_type": "markdown",
   "id": "9d10e13b",
   "metadata": {},
   "source": [
    "7. Neste ítem, você irá comparar a taxa de erro de símbolo obtida pelo classificador treinado com a taxa de erro de símbolo teórica da modulação 8PSK. A curva da taxa de erro de símbolo teórica da modulação 8PSK é obtida com o detector ótimo para a modulção 8PSK.\n",
    "\n",
    "Sendo assim, execute a célula de código abaixo e analise o resultado obtido.\n",
    "\n",
    "**DICAS**\n",
    "\n",
    "+ Para que o código abaixo funcione corretamente, o nome do seu classificador treinado em um dos itens anteriores deve ser `model` .\n",
    "+ Esta simulação irá demorar, portanto, pegue um café e tenha paciência."
   ]
  },
  {
   "cell_type": "code",
   "execution_count": null,
   "id": "f31806eb",
   "metadata": {},
   "outputs": [],
   "source": [
    "# Definição da função Q.\n",
    "def qfunc(x):\n",
    "    return 0.5-0.5*erf(x/np.sqrt(2))\n",
    "\n",
    "# Number of symbols to be transmitted.\n",
    "N = 10000000\n",
    "\n",
    "# Create Es/N0 vector.\n",
    "EsN0dB = np.arange(0, 22, 2)\n",
    "\n",
    "# Iterate over all EsN0 values and calculate SER.\n",
    "ser_simu = np.zeros((len(EsN0dB),))\n",
    "ser_theo = np.zeros((len(EsN0dB),))\n",
    "for idx in range(len(EsN0dB)):\n",
    "    EsN0Lin = 10.0**(-(EsN0dB[idx]/10.0))\n",
    "\n",
    "    # Generate 8PSK symbols.\n",
    "    bits_8psk = np.random.randint(0, numOfClasses, N)\n",
    "    # Modulate the binary stream into 8PSK symbols.\n",
    "    symbol = mod(bits_8psk)     \n",
    "\n",
    "    # Pass 8PSK symbols through AWGN channel.\n",
    "    noise = np.sqrt(EsN0Lin/2.0)*(np.random.randn(N, 1) + 1j*np.random.randn(N, 1))    \n",
    "    y = symbol + noise\n",
    "        \n",
    "    # Detect received symbol.\n",
    "    X = np.c_[np.real(y), np.imag(y)]\n",
    "    detected_symbol = model.predict(X)\n",
    "        \n",
    "     # Simulated 8PSK SER.   \n",
    "    ser_simu[idx] = sum(detected_symbol != bits_8psk)/N\n",
    "    \n",
    "    # Theoretical approximate 8PSK SER.\n",
    "    M = 8\n",
    "    EsN0 = 10.0**(EsN0dB[idx]/10.0)\n",
    "    ser_theo[idx] = 2*qfunc(np.sqrt(2*EsN0)*np.sin(np.pi/M))\n",
    "    \n",
    "    # Print Es/N0 versus SER values.\n",
    "    print('Es/N0:%d \\t- SER simu: %e \\t- SER theo: %e' % (EsN0dB[idx], ser_simu[idx], ser_theo[idx]))\n",
    "    \n",
    "plt.plot(EsN0dB, ser_theo, label='theoretical')\n",
    "plt.plot(EsN0dB, ser_simu, 'ro', label='simulated')\n",
    "plt.xlabel('Es/N0 [dB]')\n",
    "plt.ylabel('SER')\n",
    "plt.xscale('linear')\n",
    "plt.yscale('log')\n",
    "plt.grid()\n",
    "plt.title('8PSK detection')\n",
    "plt.legend()\n",
    "plt.xlim([0, 20.5])\n",
    "plt.ylim([1e-5, 1])\n",
    "plt.show()"
   ]
  },
  {
   "cell_type": "markdown",
   "id": "9f21a539",
   "metadata": {},
   "source": [
    "8. Após a análise dos resultados acima, podemos dizer que o classificador apresenta boa performance quando comparado com a curva da taxa de erro de símbolo teórica da modulação 8PSK? **Justifique sua resposta**.\n",
    "\n",
    "**DICAS**\n",
    "\n",
    "+ Lembre-se que a curva da taxa de erro de símbolo teórica da modulação 8PSK é obtida com o detector ótimo para esta modulção."
   ]
  },
  {
   "cell_type": "markdown",
   "id": "f966b27e",
   "metadata": {},
   "source": [
    "**Resposta**\n",
    "\n",
    "<span style=\"color:blue\">Escreva sua resposta abaixo.</span>"
   ]
  }
 ],
 "metadata": {
  "kernelspec": {
   "display_name": "Python 3 (ipykernel)",
   "language": "python",
   "name": "python3"
  },
  "language_info": {
   "codemirror_mode": {
    "name": "ipython",
    "version": 3
   },
   "file_extension": ".py",
   "mimetype": "text/x-python",
   "name": "python",
   "nbconvert_exporter": "python",
   "pygments_lexer": "ipython3",
   "version": "3.11.5"
  }
 },
 "nbformat": 4,
 "nbformat_minor": 5
}
