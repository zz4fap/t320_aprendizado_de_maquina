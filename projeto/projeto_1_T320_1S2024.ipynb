{
 "cells": [
  {
   "cell_type": "markdown",
   "id": "e0e4d2ea",
   "metadata": {},
   "source": [
    "# Projeto 1 - T320 (1S2024)\n",
    "\n",
    "### Instruções\n",
    "\n",
    "1. Quando você terminar os exercícios do projeto, vá até o menu do Jupyter ou Colab e selecione a opção para fazer download do notebook.\n",
    "    * Os notebooks tem extensão .ipynb. \n",
    "    * Este deve ser o arquivo que você irá entregar.\n",
    "    * No Colab vá até a opção **File** -> **Download .ipynb**.\n",
    "    * No Jupyter vá até a opção **File** -> **Download as** -> **Notebook (.ipynb)**.\n",
    "2. Após o download do notebook, vá até a aba de tarefas do MS Teams, localize a tarefa referente a este projeto e faça o upload do seu notebook. Veja que há uma opção para anexar arquivos à tarefa.\n",
    "3. Atente-se ao prazo de entrega definido na tarefa do MS Teams. Entregas fora do prazo não serão consideradas.\n",
    "4. **O projeto pode ser resolvido em grupos de no MÁXIMO 3 alunos**.\n",
    "5. Todas as questões têm o mesmo peso.\n",
    "6. Não se esqueça de colocar seu(s) nome(s) e número(s) de matrícula no campo abaixo. Coloque os nomes dos integrantes do grupo no campo de texto abaixo.\n",
    "7. Você pode consultar todo o material de aula.\n",
    "8. A interpretação faz parte do projeto. Leia o enunciado de cada questão atentamente!\n",
    "9. Boa sorte!"
   ]
  },
  {
   "cell_type": "markdown",
   "id": "34e2ff8d",
   "metadata": {},
   "source": [
    "**Nomes e matrículas**:\n",
    "\n",
    "1. Nome do primeiro aluno - Matrícula do primeiro aluno\n",
    "2. Nome do segundo aluno - Matrícula do segundo aluno\n",
    "3. Nome do terceiro aluno - Matrícula do terceiro aluno"
   ]
  },
  {
   "cell_type": "markdown",
   "id": "e985db94",
   "metadata": {},
   "source": [
    "## Exercícios"
   ]
  },
  {
   "cell_type": "markdown",
   "id": "e91b9c7a",
   "metadata": {},
   "source": [
    "### 1) Exercício sobre classificação multiclasses\n",
    "\n",
    "Neste exercício, você irá utilizar validação cruzada para encontrar as melhores funções discriminantes que separem quatro classes.\n",
    "\n",
    "1. Execute a célula abaixo e analise o código e a figura gerada. A figura mostra os exemplos de quatro classes.\n",
    "\n",
    "**DICAS**\n",
    "\n",
    "+ Na célula abaixo, o conjunto total de dados é dividido em conjuntos de treinamento e teste."
   ]
  },
  {
   "cell_type": "code",
   "execution_count": null,
   "id": "5e280f9e",
   "metadata": {},
   "outputs": [],
   "source": [
    "# Importe todas os módulos necessários.\n",
    "import numpy as np\n",
    "import pandas as pd\n",
    "import matplotlib.pyplot as plt\n",
    "from sklearn.datasets import make_moons\n",
    "from sklearn.model_selection import train_test_split\n",
    "from sklearn.model_selection import KFold\n",
    "from sklearn.linear_model import LogisticRegression\n",
    "from sklearn.preprocessing import PolynomialFeatures\n",
    "from sklearn.preprocessing import StandardScaler\n",
    "from sklearn.model_selection import cross_val_score\n",
    "from sklearn.pipeline import Pipeline\n",
    "from sklearn.metrics import confusion_matrix, accuracy_score, classification_report\n",
    "import seaborn as sns\n",
    "import urllib\n",
    "\n",
    "# Reseta o gerador de sequências pseudo aleatórias.\n",
    "seed = 42\n",
    "np.random.seed(seed)\n",
    "\n",
    "# Baixa as bases de dados do dropbox.\n",
    "urllib.request.urlretrieve('https://www.dropbox.com/scl/fi/r9s6n2xyvuo7xwgwd0bav/TwoMoons_and_TwoCircles.csv?rlkey=kfj8m6p8ds9pibtgylcd9llqb&dl=1', 'TwoMoons_and_TwoCirclesP1.csv')\n",
    "    \n",
    "# Importa os arquivos CSV.\n",
    "df = pd.read_csv('./TwoMoons_and_TwoCirclesP1.csv', header=None)\n",
    "\n",
    "# Obtendo a matriz de atributos e o vetor de rótulos.\n",
    "X = df[[0, 1]].to_numpy()\n",
    "y = df[2].to_numpy()\n",
    "\n",
    "# Plot the classes.\n",
    "idx0 = np.argwhere(y==0)\n",
    "idx1 = np.argwhere(y==1)\n",
    "idx2 = np.argwhere(y==2)\n",
    "idx3 = np.argwhere(y==3)\n",
    "plt.plot(X[idx0,0], X[idx0,1], '.', label='Class 0')\n",
    "plt.plot(X[idx1,0], X[idx1,1], 'rx', label='Class 1')\n",
    "plt.plot(X[idx2,0], X[idx2,1], 'ko', label='Class 2')\n",
    "plt.plot(X[idx3,0], X[idx3,1], 'c*', label='Class 3')\n",
    "plt.xlabel('$x_1$', fontsize=14)\n",
    "plt.ylabel('$x_2$', fontsize=14)\n",
    "plt.legend()\n",
    "plt.grid()\n",
    "plt.show()\n",
    "\n",
    "# Imprime as dimensões do conjunto total de amostras.\n",
    "print('Dimensão da matriz de atributos, X:', X.shape)\n",
    "print('Dimensão do vetor de rótulos, y:', y.shape)\n",
    "\n",
    "# Split array into random train and test subsets.\n",
    "X_train, X_test, y_train, y_test = train_test_split(X, y, test_size=0.3, random_state=seed)"
   ]
  },
  {
   "cell_type": "markdown",
   "id": "4b19b549",
   "metadata": {},
   "source": [
    "2. Observe a figura acima e responda quais tipos de funções discriminantes, **lineares** ou **não-lineares**, são necessárias para se separar as quatro classes? (**Justifique sua resposta**)."
   ]
  },
  {
   "cell_type": "markdown",
   "id": "a39a4a14",
   "metadata": {},
   "source": [
    "**Resposta**\n",
    "\n",
    "<span style=\"color:blue\">Escreva sua resposta abaixo.</span>"
   ]
  },
  {
   "cell_type": "markdown",
   "id": "a6519658",
   "metadata": {},
   "source": [
    "3. Neste item, você irá utilizar validação cruzada do tipo k-Fold para encontrar a ordem correta para que funções polinomiais separem as quatro classes perfeitamente. Ao final, plote os resultados obtidos (i.e., média e desvio padrão das acurácias) para que você possa decidir qual é a melhor ordem.\n",
    "\n",
    "**DICAS**:\n",
    "\n",
    "+  Instancie um objeto da classe `KFold` com os seguintes parâmetros `n_splits=10` (ou seja, o número de folds, $k$, igual a 10) e `shuffle=True` para embaralhar as amostras.\n",
    "+ Realize a validação cruzada para polinômios de ordem 1 até 10, inclusive, em passos de 1 unidade.\n",
    "+ Para a validação cruzada, utilize o conjunto de treinamento.\n",
    "+ Realize a padronização nos dados de treinamento com um objeto da classe `StandardScaler`.\n",
    "+ Instancie um objeto da classe `LogisticRegression` com os seguintes parâmetros `multi_class='multinomial'` (para operar como um **regressor softmax**) e `penalty=None` (i.e., não aplica regularização).\n",
    "+ Configure o parâmetro `scoring` da função `cross_val_score` como `accuracy`.\n",
    "+ Sempre que possível, use a semente, `seed`, definida no item 1, para configurar o parâmetro `random_state` das funções e classes da biblioteca SciKit-Learn.\n",
    "+ Para resolver este item, se baseie no código do seguinte exemplo: [classification_with_cross_validation.ipynb](https://colab.research.google.com/github/zz4fap/t320_aprendizado_de_maquina/blob/main/notebooks/classificação/classification_with_cross_validation.ipynb).\n",
    "+ A validação cruzada pode demorar um pouco, portanto, pegue um café e tenha paciência."
   ]
  },
  {
   "cell_type": "code",
   "execution_count": null,
   "id": "8b29c36a",
   "metadata": {},
   "outputs": [],
   "source": [
    "# Digite aqui o código do exercício."
   ]
  },
  {
   "cell_type": "markdown",
   "id": "f875c03f",
   "metadata": {},
   "source": [
    "4. Após analisar os resultados acima, qual a melhor ordem a ser utilizada para se separar as quatro classes?\n",
    "\n",
    "**DICAS**\n",
    "\n",
    "+ Use o princípio da navalha de Occam para decidar qua é a melhor ordem."
   ]
  },
  {
   "cell_type": "markdown",
   "id": "0aadc567",
   "metadata": {},
   "source": [
    "**Resposta**\n",
    "\n",
    "<span style=\"color:blue\">Escreva sua resposta abaixo.</span>"
   ]
  },
  {
   "cell_type": "markdown",
   "id": "4c72c2de",
   "metadata": {},
   "source": [
    "5. Usando a melhor ordem para os polinômios de separação, encontrado no item anterior, treine um classificador (i.e., regressor softmax) com esta ordem. Em seguida, calcule a imprima a acurácia deste modelo com os conjuntos de treinamento e validação.\n",
    "\n",
    "**DICAS**:\n",
    "\n",
    "+ Realize a padronização nos dados de treinamento com um objeto da classe `StandardScaler`.\n",
    "+ Instancie um objeto da classe `LogisticRegression` com os seguintes parâmetros `multi_class='multinomial'` (para operar como um **regressor softmax**) e `penalty=None` (i.e., não aplica regularização).\n",
    "+ Sempre que possível, use a semente, `seed`, definida no item 1, para configurar o parâmetro `random_state` das funções e classes da biblioteca SciKit-Learn.\n",
    "+ Treine o modelo com o conjunto de treinamento.\n",
    "+ Para resolver este item, se baseie no código do seguinte exemplo: [classification_with_cross_validation.ipynb](https://colab.research.google.com/github/zz4fap/t320_aprendizado_de_maquina/blob/main/notebooks/classificação/classification_with_cross_validation.ipynb)."
   ]
  },
  {
   "cell_type": "code",
   "execution_count": null,
   "id": "0cec2dce",
   "metadata": {},
   "outputs": [],
   "source": [
    "# Digite aqui o código do exercício."
   ]
  },
  {
   "cell_type": "markdown",
   "id": "45d0c849",
   "metadata": {},
   "source": [
    "6. Usando o modelo treinado com a melhor ordem para o polinômio de separação, plote as regiões de decisão deste classificador.\n",
    "\n",
    "**DICAS**:\n",
    "\n",
    "+ Para resolver este item, se baseie no código do seguinte exemplo: [classification_with_cross_validation.ipynb](https://colab.research.google.com/github/zz4fap/t320_aprendizado_de_maquina/blob/main/notebooks/classificação/classification_with_cross_validation.ipynb)."
   ]
  },
  {
   "cell_type": "code",
   "execution_count": null,
   "id": "905c0f4f",
   "metadata": {},
   "outputs": [],
   "source": [
    "# Digite aqui o código do exercício."
   ]
  },
  {
   "cell_type": "markdown",
   "id": "bbdf414f",
   "metadata": {},
   "source": [
    "7. Plote a matriz de confusão deste classificador para o **conjunto total de amostras**.\n",
    "\n",
    "**DICAS**:\n",
    "\n",
    "+ Não se esqueça que este é um problema de classificação com 4 classes.\n",
    "+ Para resolver este item, se baseie no código do seguinte exemplo: [classification_with_cross_validation.ipynb](https://colab.research.google.com/github/zz4fap/t320_aprendizado_de_maquina/blob/main/notebooks/classificação/classification_with_cross_validation.ipynb)."
   ]
  },
  {
   "cell_type": "code",
   "execution_count": null,
   "id": "3bb086d3",
   "metadata": {},
   "outputs": [],
   "source": [
    "# Digite aqui o código do exercício."
   ]
  },
  {
   "cell_type": "markdown",
   "id": "244109c0",
   "metadata": {},
   "source": [
    "8. Use a função `classification_report` da biblioteca SciKit-Learn para imprimir algumas das métricas de classificação para o **conjunto total de exemplos**.\n",
    "\n",
    "**DICA**\n",
    "\n",
    "+ Para resolver este item, se baseie no código do seguinte exemplo: [classification_with_cross_validation.ipynb](https://colab.research.google.com/github/zz4fap/t320_aprendizado_de_maquina/blob/main/notebooks/classificação/classification_with_cross_validation.ipynb)."
   ]
  },
  {
   "cell_type": "code",
   "execution_count": null,
   "id": "2c9a5434",
   "metadata": {},
   "outputs": [],
   "source": [
    "# Digite aqui o código do exercício."
   ]
  },
  {
   "cell_type": "markdown",
   "id": "79193346",
   "metadata": {},
   "source": [
    "9. Analise as métricas impressas no item anterior, o que podemos concluir sobre este classificador? (**Justifique sua resposta**)."
   ]
  },
  {
   "cell_type": "markdown",
   "id": "22d45f7a",
   "metadata": {},
   "source": [
    "**Resposta**\n",
    "\n",
    "<span style=\"color:blue\">Escreva sua resposta abaixo.</span>"
   ]
  },
  {
   "cell_type": "markdown",
   "id": "0de02c9d",
   "metadata": {},
   "source": [
    "### 2) Classificação binária\n",
    "\n",
    "Neste exercício, você irá usar um regressor logístico para detectar fraudes com cartões de crédito.\n",
    "\n",
    "É importante que empresas de cartão de crédito sejam capazes de reconhecer transações fraudulentas com cartão de crédito para que os clientes não sejam cobrados por itens que não compraram ou que os clientes tenham suas compras bloqueadas devido um erro das empresas de cartão de crédito.\n",
    "\n",
    "O conjunto de dados que iremos utilizar contém transações feitas com cartões de crédito em setembro de 2013 por titulares de cartões europeus. Este conjunto de dados apresenta transações que ocorreram em dois dias, onde temos 492 fraudes em 284.807 transações legítimas. O conjunto de dados é altamente desbalanceado, a classe positiva (fraudes) responde por 0.172% de todas as transações.\n",
    "\n",
    "A base de dados contém 30 atributos, sendo 28 deles com informação desconhecida, devido à sensibilidade dos dados, chamados de `V1` a `V28`, e 2 atributos `Time` e `Amount`. O atributo `Time` se refere ao tempo, em segundos, decorrido entre cada transação e a primeira transação no conjunto de dados. O atributo `Amount` se refere ao valor da transação. O atributo `Time` não será utilizado em nossa análise e, portanto, será descartado.\n",
    "\n",
    "Temos 2 classes neste problema, a classe `fraude`, denotada pelo valor 1 (classe positiva) e a classe `legítima`, denotada pelo valor 0 (classe negativa).\n",
    "\n",
    "Infelizmente, devido a questões de confidencialidade, não temos informações sobre os atributos `V1` a `V28`.\n",
    "\n",
    "**Referência**:\n",
    "\n",
    "[1] Credit Card Fraud Detection, https://www.kaggle.com/datasets/mlg-ulb/creditcardfraud?datasetId=310&searchQuery=logistic\n",
    "\n",
    "[2] Credit Card Fraud Detection, https://towardsdatascience.com/credit-card-fraud-detection-9bc8db79b956\n",
    "\n",
    "[3] A Gentle Introduction to Imbalanced Classification, https://machinelearningmastery.com/what-is-imbalanced-classification/\n",
    "\n",
    "[4] Classificação em dados desbalanceados, https://www.tensorflow.org/tutorials/structured_data/imbalanced_data"
   ]
  },
  {
   "cell_type": "markdown",
   "id": "14182a84",
   "metadata": {},
   "source": [
    "1. Execute a célula abaixo para importar os dados e as bibliotecas necessárias.\n",
    "\n",
    "**DICAS**\n",
    "\n",
    "+ Na célula abaixo, o conjunto total de dados é dividido em conjuntos de treinamento e teste.\n",
    "+ Após a execução bem sucedida da célula abaixo, você visualizará as 5 primeiras linhas da base de dados.\n",
    "+ A coluna `Class` será o valor alvo (i.e., rótulos). Os rótulos são os valores que o modelo é treinado para predizer.\n",
    "+ O download da base de dados irá levar um certo tempo, portanto, pegue um café e tenha paciência."
   ]
  },
  {
   "cell_type": "code",
   "execution_count": null,
   "id": "356c4a94",
   "metadata": {},
   "outputs": [],
   "source": [
    "# Importe todas as bibliotecas necessárias.\n",
    "import pandas as pd\n",
    "import numpy as np\n",
    "import seaborn as sns\n",
    "import matplotlib.pyplot as plt\n",
    "from sklearn.linear_model import LogisticRegression\n",
    "from sklearn.preprocessing import PolynomialFeatures\n",
    "from sklearn.preprocessing import StandardScaler\n",
    "from sklearn.model_selection import cross_val_score\n",
    "from sklearn.pipeline import Pipeline\n",
    "from sklearn.metrics import confusion_matrix, accuracy_score\n",
    "from sklearn.metrics import f1_score, classification_report\n",
    "from sklearn.metrics import recall_score, precision_score\n",
    "from sklearn.metrics import roc_curve, auc\n",
    "import seaborn as sns\n",
    "\n",
    "# Reseta o gerador de sequências pseudo aleatórias.\n",
    "seed = 42\n",
    "np.random.seed(seed)\n",
    "\n",
    "# Usando pandas para ler a base de dados.\n",
    "pd.set_option('display.max_columns', None)\n",
    "card = pd.read_csv('https://www.dropbox.com/s/nlk997opcr8wlet/creditcard.csv?dl=1')\n",
    "\n",
    "# Selecionando os atributos que serão usados. Iremos descartar o atributo tempo, pois ele não traz informação útil para a classificação.\n",
    "atributos = [\n",
    "    'V1', 'V2', 'V3', 'V4', 'V5', 'V6', 'V7', 'V8', 'V9', 'V10',\n",
    "    'V11', 'V12', 'V13', 'V14', 'V15', 'V16', 'V17', 'V18', 'V19', 'V20',\n",
    "    'V21', 'V22', 'V23', 'V24', 'V25', 'V26', 'V27', 'V28', 'Amount'\n",
    "]\n",
    "\n",
    "# Criando o conjunto de pares de treinamento, X e y.\n",
    "X = card[atributos]\n",
    "y = card['Class']\n",
    "\n",
    "# Split array into random train and test subsets.\n",
    "X_train, X_test, y_train, y_test = train_test_split(X, y, test_size=0.2, random_state=seed)\n",
    "\n",
    "# Mostrando os primeiros exemplos da base de dados.\n",
    "card.head()"
   ]
  },
  {
   "cell_type": "markdown",
   "id": "a08d2ca0",
   "metadata": {},
   "source": [
    "2. Execute a célula de código abaixo e analise a quantidade de exemplos de cada classe."
   ]
  },
  {
   "cell_type": "code",
   "execution_count": null,
   "id": "b71c7095",
   "metadata": {},
   "outputs": [],
   "source": [
    "# Plota histograma com a quantidade de exemplos por classe.\n",
    "fig, ax = plt.subplots()\n",
    "bars = ax.bar(['legítima','fraude'], card.Class.value_counts())\n",
    "ax.bar_label(bars)\n",
    "plt.yscale('log')\n",
    "plt.xlabel('Classes', fontsize=12)\n",
    "plt.ylabel('Quantidade de exemplos', fontsize=12)\n",
    "plt.ylim([1, 1000000])\n",
    "plt.grid()\n",
    "plt.show()"
   ]
  },
  {
   "cell_type": "markdown",
   "id": "4a2ac97a",
   "metadata": {},
   "source": [
    "3. Após ter analisado a quantidade de exemplos em cada uma das duas classes no item anterior, o que você pode concluir sobre elas?"
   ]
  },
  {
   "cell_type": "markdown",
   "id": "8fe330dd",
   "metadata": {},
   "source": [
    "**Resposta**\n",
    "\n",
    "<span style=\"color:blue\">Escreva sua resposta abaixo.</span>"
   ]
  },
  {
   "cell_type": "markdown",
   "id": "6f517abb",
   "metadata": {},
   "source": [
    "4. Treine um regressor logístico com o conjunto de treinamento e imprima sua acurácia nos conjunto de treinamento e teste.\n",
    "\n",
    "**DICAS**\n",
    "\n",
    "+ Configure o parâmetro `random_state` da classe `LogisticRegression` com a semente definida no item 1, ou seja,\n",
    "```python \n",
    "random_state=seed\n",
    "``` \n",
    "+ O treinamento irá levar um certo tempo, portanto, pegue um café e tenha paciência."
   ]
  },
  {
   "cell_type": "code",
   "execution_count": 1,
   "id": "c49f27f1",
   "metadata": {},
   "outputs": [],
   "source": [
    "# Digite aqui o código do exercício."
   ]
  },
  {
   "cell_type": "markdown",
   "id": "61ce0d57",
   "metadata": {},
   "source": [
    "5. Baseado nos valores de acurácia obtidos no item anterior, responda:\n",
    "\n",
    "+ Qual foi a acurácia obtida pelo classificador nos conjuntos de treinamento e teste?\n",
    "+ Você diria que este é um bom classificador, ou seja, um classificador que praticamente acerta todas as predições (i.e., classificações)?\n",
    "+ O que pode ser feito para nos certificarmos que este é realmente um bom classificador?\n",
    "+ Observe a expressão para o calculo da acurácia mostrada abaixo:\n",
    "$$Accuracy = \\frac{TN + TP}{TN + TP + FP + FN},$$\n",
    "onde $TN$, $TP$, $FP$ e $FN$ são os números de verdadeiros negativos, verdadeiros positivos, falsos positivos e falsos negativos, respectivamente.\n",
    "+ Na equação da acurácia mostrada acima, o que aconteceria se $TN$ fosse 100 vezes ou mais maior que $TP$, $FP$ e $FN$? Essa situação afetaria o cálculo da acurácia? (**Justique sua resposta**)."
   ]
  },
  {
   "cell_type": "markdown",
   "id": "7257c157",
   "metadata": {},
   "source": [
    "**Resposta**\n",
    "\n",
    "<span style=\"color:blue\">Escreva sua resposta abaixo.</span>"
   ]
  },
  {
   "cell_type": "markdown",
   "id": "8bc17f76",
   "metadata": {},
   "source": [
    "6. Plote a matriz de confusão deste classificador para o conjunto de teste."
   ]
  },
  {
   "cell_type": "code",
   "execution_count": 2,
   "id": "f7278f41",
   "metadata": {},
   "outputs": [],
   "source": [
    "# Digite aqui o código do exercício."
   ]
  },
  {
   "cell_type": "markdown",
   "id": "8fdd054b",
   "metadata": {},
   "source": [
    "7. O que pode ser concluído após a análise da matriz de confusão acima?\n",
    "\n",
    "**DICAS**\n",
    "\n",
    "+ Analise os elementos da diagonal principal da matriz. Existem elementos com número muito maior do que outros? Se sim, por que isso ocorre e o acarreta com relação à métrica de avaliação geral de classificadores?"
   ]
  },
  {
   "cell_type": "markdown",
   "id": "8033a148",
   "metadata": {},
   "source": [
    "**Resposta**\n",
    "\n",
    "<span style=\"color:blue\">Escreva sua resposta abaixo.</span>"
   ]
  },
  {
   "cell_type": "markdown",
   "id": "a62ba7b9",
   "metadata": {},
   "source": [
    "8. O objetivo principal deste classificador é **detectar fraudes**, pois elas causam muitos prejuízos às administradoras de cartão de crédito. Neste contexto, a **classe positiva** é a classe das `fraudes` e a **classe negativa** é a classe das transações `legítimas`. Sendo assim, responda:\n",
    "\n",
    "+ O que é mais prejudicial (ou seja, mais caro) para a administradora de cartão de crédito usando este classificador, a classificação de uma fraude como sendo uma transação legítima ou a classificação de uma transação legítima como sendo uma fraude?\n",
    "+ A classificação de uma fraude como sendo uma transação legítima é um falso negativo ($FN$) ou um falso positivo ($FP$)?\n",
    "+ A classificação de uma transação legítima como sendo uma fraude é um falso negativo ($FN$) ou um falso positivo ($FP$)?\n",
    "\n",
    "**DICAS**\n",
    "\n",
    "+ Notem que a classificação de uma fraude como sendo uma transação legítima permitiria que transações fraudulentas não fossem bloqueadas ou canceladas, causando prejuízo à administradora de cartão de crédito, enquanto a classificação de uma transação legítima como sendo uma fraude pode fazer com que um e-mail seja enviado ao cliente solicitando que ele verifique a atividade do cartão ou que um analista averigue a transação com mais detalhes."
   ]
  },
  {
   "cell_type": "markdown",
   "id": "9513770b",
   "metadata": {},
   "source": [
    "**Resposta**\n",
    "\n",
    "<span style=\"color:blue\">Escreva sua resposta abaixo.</span>"
   ]
  },
  {
   "cell_type": "markdown",
   "id": "dab1bbfc",
   "metadata": {},
   "source": [
    "9. A acurácia atingida pelo classificador treinado no item 4 é altíssima, parecendo à primeira vista que ele é um classificador quase perfeito. Entretanto, no caso de uma base de dados desbalanceada (ou seja, com classes desbalanceadas), como a deste exercício, a acurácia não é uma métrica útil para esta tarefa. \n",
    "\n",
    "Por exemplo, um classificador pode atingir mais de 99.82% de acurácia nesta tarefa predizendo a classe `legítima` (classe negativa) o tempo todo, ou seja, se ele **sempre** predizer a classe `legítima`, ainda assim, mesmo nunca classificando exemplos da classe `fraude` corretamente, ele terá uma alta acurácia devido ao desbalanceamento das classes (veja a figura abaixo). Portanto, precisamos de outra métrica para mensurar a qualidade deste classificador.\n",
    "\n",
    "<img src=\"../../../figures/desbalanced_classes.png\" width=\"300px\">\n",
    "\n",
    "Sendo assim e baseado em suas respostas para o item anterior, responda:\n",
    "\n",
    "+ Qual é a métrica mais indicada para mensurar a qualidade deste classificador quando as classes são desbalanceadas? Apresenta a equação usada para calcular esta métrica.\n",
    "\n",
    "**DICAS**\n",
    "\n",
    "+ Reveja o material de aula onde falamos sobre as métricas utilizadas para mensurar o desempenho de classificadores."
   ]
  },
  {
   "cell_type": "markdown",
   "id": "92e5b9c1",
   "metadata": {},
   "source": [
    "**Resposta**\n",
    "\n",
    "<span style=\"color:blue\">Escreva sua resposta abaixo.</span>"
   ]
  },
  {
   "cell_type": "markdown",
   "id": "43cbedef",
   "metadata": {},
   "source": [
    "10. Calcule e imprima o valor da métrica mais indicada para mensurar a qualidade do classificador usado neste exercício. Use o conjunto de teste para esse cálculo."
   ]
  },
  {
   "cell_type": "code",
   "execution_count": 3,
   "id": "fa7a0c4d",
   "metadata": {},
   "outputs": [],
   "source": [
    "# Digite aqui o código do exercício."
   ]
  },
  {
   "cell_type": "markdown",
   "id": "ce347e54",
   "metadata": {},
   "source": [
    "11. Após analisar o valor da métrica acima, responda:\n",
    "\n",
    "+ Qual o valor obtido após o cálculo da métrica?\n",
    "+ O que você pode concluir a respeito deste classificador, ou seja, ele é bom ou ruim para esta tarefa de detecção de fraudes?"
   ]
  },
  {
   "cell_type": "markdown",
   "id": "869620ef",
   "metadata": {},
   "source": [
    "**Resposta**\n",
    "\n",
    "<span style=\"color:blue\">Escreva sua resposta abaixo.</span>"
   ]
  },
  {
   "cell_type": "markdown",
   "id": "30e98c49",
   "metadata": {},
   "source": [
    "12. Será que existe uma forma simples de melhorarmos o desempenho deste classificador? Leia o enunciado abaixo e, na sequência, treine um novo classificador com as instruções descritas abaixo.\n",
    "\n",
    "O objetivo do classificador treinado neste exercício é o de identificar transações fraudulentas, mas nós não temos muitos desses exemplos positivos (i.e., fraudes) para trabalhar, então nós gostariamos que o classificador **ponderasse fortemente** (ou seja, atribuísse um peso maior) os poucos exemplos positivos disponíveis. \n",
    "\n",
    "Isso pode ser feito configurando-se o parâmetro `class_weight` da classe `LogisticRegression` com a string `'balanced'`.  Isso fará com que o modelo **preste mais atenção** aos exemplos de uma classe sub-representada, ou seja, com poucos exemplos.\n",
    "\n",
    "O modo `balanced` usa os valores de `y`, ou seja, a quantidade de rótulos de cada classe, para calcular automaticamente os pesos de cada classe. Os pesos são inversamente proporcionais às frequências de cada classe, ou seja, o número exemplos de uma classe pelo número total de exemplos. O peso de cada classe é calculado através da seguinte equação: `n_samples / (n_classes * np.bincount(y))`, onde `n_samples` é o número total de exemplos, `n_classes` é o número de classes e `np.bincount(y)` retorna o número de exemplos de cada uma das classes. O objetivo do modo `balanced` é determinar pesos apropriados que dêem mais importância à classe minoritária e menos importância à classe majoritária durante o treinamento do modelo.\n",
    "\n",
    "Portanto, de posse destas informações, treine um novo regressor logístico que use os pesos das classes para melhorar seu desempenho e imprima seus valores de acurácia e da métrica mais indicada para mensurar a qualidade deste classificador quando as classes são desbalanceadas (esta é a métrica que você usou no item 10). Use o conjunto de teste para calcular as métricas.\n",
    "\n",
    "**DICAS**\n",
    "\n",
    "+ Configure o parâmetro `random_state` da classe `LogisticRegression` com a semente definida no item 1, ou seja,\n",
    "```python \n",
    "random_state=seed\n",
    "``` \n",
    "+ Configure o parâmetro `class_weight` da classe `LogisticRegression` com a string `'balanced'`.\n",
    "```python \n",
    "class_weight='balanced'\n",
    "```\n",
    "+ O treinamento irá levar um certo tempo, portanto, pegue um café e tenha paciência."
   ]
  },
  {
   "cell_type": "code",
   "execution_count": 4,
   "id": "4855518f",
   "metadata": {},
   "outputs": [],
   "source": [
    "# Digite aqui o código do exercício."
   ]
  },
  {
   "cell_type": "markdown",
   "id": "d9b5c0a9",
   "metadata": {},
   "source": [
    "13. Plote a matriz de confusão deste novo classificador."
   ]
  },
  {
   "cell_type": "code",
   "execution_count": 5,
   "id": "581028bc",
   "metadata": {},
   "outputs": [],
   "source": [
    "# Digite aqui o código do exercício."
   ]
  },
  {
   "cell_type": "markdown",
   "id": "c17bd3a4",
   "metadata": {},
   "source": [
    "14. Após observar os resultados das duas métricas calculadas e impressas no item 12 e a matriz de confusão acima, responda:\n",
    "\n",
    "+ Comparando com os valores obtidos com o primeiro modelo de classificação, houve aumento ou diminuição dos valores das duas métricas?\n",
    "+ A acurácia teve seu valor diminuído? Se sim, explique o motivo.\n",
    "+ A segunda métrica, a que você definiu no item 9 e calculou no item 10, teve seu valor aumentado? Se sim, explique o motivo deste aumento.\n",
    "+ Observe a quantidade de falsos positivos ($FP$), ou seja, a quantidade transações legítimas que são classificadas como sendo fraudes, na matriz de confusão do item anterior. Você acredita que um valor muito alto de falsos positivos causaria algum tipo de prejuízo às administradoras de cartão de crédito, aos clientes ou a ambos? Veja a dica abaixo. (**Justifique sua resposta.**)\n",
    "\n",
    "**DICAS**\n",
    "\n",
    "+ Normalmente, quando uma transação é classificada como fraudulenta, mesmo não sendo, a administradora de cartão de crédito envia algum tipo de mensagem (email, sms, whatsapp, etc.) solicitando ao cliente que informe se aquela transação é legítima ou não."
   ]
  },
  {
   "cell_type": "markdown",
   "id": "8c7c3473",
   "metadata": {},
   "source": [
    "**Resposta**\n",
    "\n",
    "<span style=\"color:blue\">Escreva sua resposta abaixo.</span>"
   ]
  },
  {
   "cell_type": "markdown",
   "id": "9c3e72d6",
   "metadata": {},
   "source": [
    "### 3) Classificação para detecção de símbolos\n",
    "\n",
    "Neste exercício, você irá usar um classificador para detectar símbolos de uma modulação digital, a modulação QPSK.\n",
    "\n",
    "1. Execute a célula abaixo e analise o resultado. A figura mostra símbolos ruidosos da modulação QPSK, onde cada um dos quatro possíveis símbolos é considerado como uma classe diferente.\n",
    "\n",
    "**DICAS**\n",
    "\n",
    "+ Notem que na célula de código abaixo, o conjunto de dados já está dividido em conjuntos de treinamento e validação."
   ]
  },
  {
   "cell_type": "code",
   "execution_count": 6,
   "id": "52608417",
   "metadata": {},
   "outputs": [
    {
     "data": {
      "image/png": "[encoded data removed]",
      "text/plain": [
       "<Figure size 640x480 with 1 Axes>"
      ]
     },
     "metadata": {},
     "output_type": "display_data"
    }
   ],
   "source": [
    "# Import all necessary modules.\n",
    "import numpy as np\n",
    "import matplotlib.pyplot as plt\n",
    "from sklearn.datasets import make_circles\n",
    "from sklearn.model_selection import train_test_split\n",
    "from sklearn.model_selection import KFold\n",
    "from sklearn.linear_model import LogisticRegression\n",
    "from sklearn.preprocessing import PolynomialFeatures\n",
    "from sklearn.preprocessing import StandardScaler\n",
    "from sklearn.model_selection import cross_val_score\n",
    "from sklearn.pipeline import Pipeline\n",
    "from sklearn.metrics import confusion_matrix\n",
    "from sklearn.metrics import accuracy_score, roc_curve, auc\n",
    "from sklearn.metrics import classification_report\n",
    "from sklearn.metrics import roc_auc_score\n",
    "from scipy.special import erfc\n",
    "import seaborn as sns\n",
    "\n",
    "# Reset PN sequence generator.\n",
    "seed = 42\n",
    "np.random.seed(seed)\n",
    "\n",
    "# Defintion of function used to modulate.\n",
    "def modulateQPSK(bits):\n",
    "    symbols_qpsk = [-1.0 - 1j*1.0, -1.0 + 1j*1.0, 1.0 - 1j*1.0, 1.0 + 1j*1.0]\n",
    "    ip = np.zeros((N, 1), dtype=complex)\n",
    "    for idx in range(len(bits)):\n",
    "        ip[idx] = symbols_qpsk[bits[idx]]\n",
    "    # Normalization of energy to 1.\n",
    "    symbol = (1.0/np.sqrt(2.0))*ip\n",
    "    return symbol\n",
    "\n",
    "# Number of symbols to be transmitted.\n",
    "N = 10000\n",
    "\n",
    "# Number of classes.\n",
    "numOfClasses = 4\n",
    "\n",
    "# Create Es/N0 vector.\n",
    "EsN0dB = 15\n",
    "EsN0Lin = 10.0**(-(EsN0dB/10.0))\n",
    "\n",
    "# Modulate symbols and add noise.\n",
    "# Generate QPSK symbols.\n",
    "bits_qpsk = np.random.randint(0, 4, N)\n",
    "# Modulate the binary stream into QPSK symbols.\n",
    "symbols = modulateQPSK(bits_qpsk)   \n",
    "        \n",
    "# Pass QPSK symbols through AWGN channel.\n",
    "noise = np.sqrt(EsN0Lin/2.0)*(np.random.randn(N, 1) + 1j*np.random.randn(N, 1))    \n",
    "y = symbols + noise\n",
    "    \n",
    "# Create the attribute matrix.\n",
    "X = np.c_[np.real(y), np.imag(y)]\n",
    "\n",
    "# Split array into random train and test subsets.\n",
    "X_train, X_test, y_train, y_test = train_test_split(X, bits_qpsk, test_size=0.3, random_state=seed)\n",
    "    \n",
    "# Plot the classes.\n",
    "idx0 = np.argwhere(bits_qpsk == 0)\n",
    "idx1 = np.argwhere(bits_qpsk == 1)\n",
    "idx2 = np.argwhere(bits_qpsk == 2)\n",
    "idx3 = np.argwhere(bits_qpsk == 3)\n",
    "plt.plot(np.real(y[idx0.ravel()]), np.imag(y[idx0.ravel()]), 'k.', label='Symbol 0')\n",
    "plt.plot(np.real(y[idx1.ravel()]), np.imag(y[idx1.ravel()]), 'r.', label='Symbol 1')\n",
    "plt.plot(np.real(y[idx2.ravel()]), np.imag(y[idx2.ravel()]), 'b.', label='Symbol 2')\n",
    "plt.plot(np.real(y[idx3.ravel()]), np.imag(y[idx3.ravel()]), 'g.', label='Symbol 3')\n",
    "plt.grid()\n",
    "plt.xlabel('InPhase')\n",
    "plt.ylabel('Quadrature')\n",
    "plt.legend()\n",
    "plt.show()"
   ]
  },
  {
   "cell_type": "markdown",
   "id": "9cc4345e",
   "metadata": {},
   "source": [
    "2. Normalmente, treina-se um modelo de aprendizado de máquina para detecção com símbolos gerados com uma relação sinal-ruído (SNR) relativamente alta, como a usada no item anterior. Isso é feito para que o modelo tenha exemplos com sinal e uma certa quantidade de ruído, de forma que ele consiga \"aprender\" a detectar símbolos mesmo com uma quantidade maior de ruído sendo adicionada aos símbolos. Ou seja, a ideia é que o modelo aprenda a generalizar e detectar símbolos com diversos valores de SNR. Caso o modelo fosse treinado com símbolos gerados com uma SNR baixa, seria muito difícil ele aprender a detectar os símbolos, pois o sinal recebido seria praticamente composto por amostras ruidosas. Se o modelo fosse treinado com símbolos gerados em uma SNR baixa, seria muito difícil para ele aprender a detectar esses símbolos, uma vez que o sinal recebido conteria praticamente apenas ruído.\n",
    "\n",
    "Sendo assim, neste item, treine um **regressor softmax** com o conjunto de treinamento gerado no item anterior e calcule sua acurácia no conjunto de validação.\n",
    "\n",
    "**DICAS**\n",
    "\n",
    "+ Seu classificador deve apresentar uma acurácia de 100%.\n",
    "+ Para que os próximos itens deste exercício funcionem corretamente, chame seu modelo de `model`."
   ]
  },
  {
   "cell_type": "code",
   "execution_count": 7,
   "id": "70589ef0",
   "metadata": {},
   "outputs": [],
   "source": [
    "# Digite aqui o código do exercício."
   ]
  },
  {
   "cell_type": "markdown",
   "id": "1c3833ca",
   "metadata": {},
   "source": [
    "3. Usando o modelo treinado no item anterior, plote as regiões de decisão deste classificador. Adicionalmente, plote os símbolos corrompidos com ruído que foram gerados no item 1 deste exercício."
   ]
  },
  {
   "cell_type": "code",
   "execution_count": 8,
   "id": "401e8276",
   "metadata": {},
   "outputs": [],
   "source": [
    "# Digite aqui o código do exercício."
   ]
  },
  {
   "cell_type": "markdown",
   "id": "21a444c6",
   "metadata": {},
   "source": [
    "4. Plote a matriz de confusão deste classificador com os exemplos do conjunto de teste."
   ]
  },
  {
   "cell_type": "code",
   "execution_count": 9,
   "id": "61b0d4de",
   "metadata": {},
   "outputs": [],
   "source": [
    "# Digite aqui o código do exercício."
   ]
  },
  {
   "cell_type": "markdown",
   "id": "c172e836",
   "metadata": {},
   "source": [
    "5. Observe a matriz de confusão acima e responda: o classificador comete algum erro no conjunto de teste?"
   ]
  },
  {
   "cell_type": "markdown",
   "id": "876070cb",
   "metadata": {},
   "source": [
    "**Resposta**\n",
    "\n",
    "<span style=\"color:blue\">Escreva sua resposta abaixo.</span>"
   ]
  },
  {
   "cell_type": "markdown",
   "id": "324a3523",
   "metadata": {},
   "source": [
    "6. Neste ítem, você irá comparar a taxa de erro de símbolo obtida pelo classificador treinado com a taxa de erro de símbolo teórica da modulação QPSK. A curva da taxa de erro de símbolo teórica da modulação QPSK é obtida com o detector ótimo para a modulção QPSK.\n",
    "\n",
    "Sendo assim, execute a célula de código abaixo e analise o resultado obtido.\n",
    "\n",
    "**DICAS**\n",
    "\n",
    "+ Para que o código abaixo funcione corretamente, o nome do seu classificador treinado em um dos itens anteriores deve ser `model` .\n",
    "+ Esta simulação irá demorar, portanto, pegue um café e tenha paciência."
   ]
  },
  {
   "cell_type": "code",
   "execution_count": null,
   "id": "ec36dcf0",
   "metadata": {},
   "outputs": [],
   "source": [
    "# Number of symbols to be transmitted.\n",
    "N = 10000000\n",
    "\n",
    "# Create Es/N0 vector.\n",
    "EsN0dB = np.arange(-2,16,2)\n",
    "\n",
    "# Iterate over all EsN0 values and calculate SER.\n",
    "ser_simu = np.zeros((len(EsN0dB),))\n",
    "ser_theo = np.zeros((len(EsN0dB),))\n",
    "for idx in range(len(EsN0dB)):\n",
    "    EsN0Lin = 10.0**(-(EsN0dB[idx]/10.0))\n",
    "    \n",
    "    # Generate QPSK symbols.\n",
    "    bits_qpsk = np.random.randint(0, 4, N)\n",
    "    # Modulate the binary stream into QPSK symbols.\n",
    "    symbol = modulateQPSK(bits_qpsk)     \n",
    "\n",
    "    # Pass QPSK symbols through AWGN channel.\n",
    "    noise = np.sqrt(EsN0Lin/2.0)*(np.random.randn(N, 1) + 1j*np.random.randn(N, 1))    \n",
    "    y = symbol + noise\n",
    "        \n",
    "    # Detect received symbol.\n",
    "    X = np.c_[np.real(y), np.imag(y)]\n",
    "    detected_symbol = model.predict(X)\n",
    "\n",
    "    # Count the number of errors.\n",
    "    error = np.sum(np.abs(detected_symbol - bits_qpsk) > 0)\n",
    "\n",
    "    # Simulated QPSK SER.    \n",
    "    ser_simu[idx] = error/N\n",
    "    \n",
    "    # Theoretical QPSK SER.    \n",
    "    ser_theo[idx] = erfc(np.sqrt(0.5*(10.0**(EsN0dB[idx]/10.0)))) - (1/4)*(erfc(np.sqrt(0.5*(10.0**(EsN0dB[idx]/10.0)))))**2.0\n",
    "\n",
    "    # Print Es/N0 versus BER values.\n",
    "    print('Es/N0:%d \\t- SER simu: %e \\t- SER theo: %e' % (EsN0dB[idx], ser_simu[idx], ser_theo[idx]))\n",
    "    \n",
    "plt.plot(EsN0dB, ser_theo, label='theoretical')\n",
    "plt.plot(EsN0dB, ser_simu, 'ro', label='simulated')\n",
    "plt.xlabel('Es/N0 [dB]')\n",
    "plt.ylabel('SER')\n",
    "plt.xscale('linear')\n",
    "plt.yscale('log')\n",
    "plt.grid()\n",
    "plt.title('QPSK detection')\n",
    "plt.legend()\n",
    "plt.xlim([-2, 14])\n",
    "plt.ylim([1e-5, 1])\n",
    "plt.show()"
   ]
  },
  {
   "cell_type": "markdown",
   "id": "97e982c3",
   "metadata": {},
   "source": [
    "7. Após a análise dos resultados acima, podemos dizer que o classificador apresenta boa performance quando comparado com a curva da taxa de erro de símbolo teórica da modulação QPSK? **Justifique sua resposta**.\n",
    "\n",
    "**DICAS**\n",
    "\n",
    "+ Lembre-se que a curva da taxa de erro de símbolo teórica da modulação QPSK é obtida com o detector ótimo para esta modulção."
   ]
  },
  {
   "cell_type": "markdown",
   "id": "3c484ffb",
   "metadata": {},
   "source": [
    "**Resposta**\n",
    "\n",
    "<span style=\"color:blue\">Escreva sua resposta abaixo.</span>"
   ]
  }
 ],
 "metadata": {
  "kernelspec": {
   "display_name": "Python 3 (ipykernel)",
   "language": "python",
   "name": "python3"
  },
  "language_info": {
   "codemirror_mode": {
    "name": "ipython",
    "version": 3
   },
   "file_extension": ".py",
   "mimetype": "text/x-python",
   "name": "python",
   "nbconvert_exporter": "python",
   "pygments_lexer": "ipython3",
   "version": "3.11.5"
  }
 },
 "nbformat": 4,
 "nbformat_minor": 5
}
