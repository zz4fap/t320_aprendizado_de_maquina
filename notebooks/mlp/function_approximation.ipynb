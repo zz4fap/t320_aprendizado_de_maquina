{
 "cells": [
  {
   "cell_type": "code",
   "execution_count": 9,
   "metadata": {},
   "outputs": [],
   "source": [
    "# Import all necessary modules.\n",
    "import numpy as np\n",
    "from sklearn.neural_network import MLPRegressor\n",
    "from sklearn.model_selection import train_test_split\n",
    "from sklearn.model_selection import GridSearchCV\n",
    "from sklearn.metrics import mean_squared_error\n",
    "import matplotlib.pyplot as plt"
   ]
  },
  {
   "cell_type": "code",
   "execution_count": 2,
   "metadata": {},
   "outputs": [],
   "source": [
    "# Reset PN sequence generator.\n",
    "seed = 42\n",
    "np.random.seed(seed)"
   ]
  },
  {
   "cell_type": "markdown",
   "metadata": {},
   "source": [
    "### Gerando exemplos da função a ser mapeada.\n",
    "\n",
    "$$y = x^2, -1 \\leq x \\leq 1$$"
   ]
  },
  {
   "cell_type": "code",
   "execution_count": 3,
   "metadata": {},
   "outputs": [],
   "source": [
    "# Number of examples.\n",
    "N = 1000\n",
    "\n",
    "# Attribute.\n",
    "x = np.linspace(-1,1,N).reshape(N,1)\n",
    "\n",
    "# Function to be approximated.\n",
    "y = x**2"
   ]
  },
  {
   "cell_type": "markdown",
   "metadata": {},
   "source": [
    "### Plotando a função."
   ]
  },
  {
   "cell_type": "code",
   "execution_count": 4,
   "metadata": {},
   "outputs": [
    {
     "data": {
      "image/png": "[encoded data removed]",
      "text/plain": [
       "<Figure size 432x288 with 1 Axes>"
      ]
     },
     "metadata": {
      "needs_background": "light"
     },
     "output_type": "display_data"
    }
   ],
   "source": [
    "plt.plot(x,y)\n",
    "plt.xlabel('x', fontsize=14)\n",
    "plt.ylabel('y', fontsize=14)\n",
    "plt.grid()\n",
    "plt.show()"
   ]
  },
  {
   "cell_type": "markdown",
   "metadata": {},
   "source": [
    "### Dividindo os exemplos em conjuntos de treinamento e validação."
   ]
  },
  {
   "cell_type": "code",
   "execution_count": 5,
   "metadata": {},
   "outputs": [],
   "source": [
    "x_train, x_test, y_train, y_test = train_test_split(x, y, test_size=0.3, random_state=seed)"
   ]
  },
  {
   "cell_type": "markdown",
   "metadata": {},
   "source": [
    "### Aproximando a função com uma rede MLP."
   ]
  },
  {
   "cell_type": "markdown",
   "metadata": {},
   "source": [
    "+ A classe `MLPRegressor` é usada para aproximar a função. Ela possui vários parâmetros que precisam ser configurados, como por exemplo, número de camadas escondida e de nós em cada camada (`hidden_layer_sizes`), função de ativação das camadas escondidas (`activation`), otimizador (`solver`), o estado inicial do gerador de seqências pseudo-aleatórias (`random_state`), etc. \n",
    "+ Sua documentação pode ser acessada através do link abaixo.\n",
    "    * https://scikit-learn.org/stable/modules/generated/sklearn.neural_network.MLPRegressor.html\n",
    "+ Portanto, surge a dúvida, qual o melhor conjunto de parâmetros para esta tarefa? Como podemos encontrar este conjunto de valores ideais?\n",
    "+ Para encontrar o conjunto de valores ideais, usamos a classe `GridSearch`. \n",
    "+ A classe `GridSearch` faz uma busca exaustiva através da combinação de todos os valores dos parâmetros especificados no dicionário de parâmetros.\n",
    "+ Por padrão, a classe `GridSearch` utiliza validação cruzada do tipo k-Fold.\n",
    "+ A documentação da classe `GridSearch` pode ser encontrada em \n",
    "    * https://scikit-learn.org/stable/modules/generated/sklearn.model_selection.GridSearchCV.html?highlight=gridsearchcv#sklearn.model_selection.GridSearchCV\n",
    "\n",
    "\n",
    "+ No exemplo abaixo, usamos um objeto da classe `GridSearch`com número de folds, $k$, (i.e., divisões) igual a $10$ para encontrar qual o melhor conjunto de valores dos parâmetros da classe `MLPRegressor`, de tal forma que ela resolva o problema da aproximação de funçao (i.e., regressão) da melhor forma possível. Neste exemplo, o `GridSearch` tem como objetivo encontar o melhor valor para:\n",
    "    + número de nós e de camadas escondidas,\n",
    "    + função de ativação,\n",
    "    + otimizador,\n",
    "    + semente do gerador de sequências PN (lembrem-se que a inicialização dos pesos da rede afeta o seu treinamento)."
   ]
  },
  {
   "cell_type": "code",
   "execution_count": 6,
   "metadata": {},
   "outputs": [
    {
     "data": {
      "text/plain": [
       "GridSearchCV(cv=10, estimator=MLPRegressor(max_iter=5000, solver='lbfgs'),\n",
       "             param_grid={'activation': ['logistic', 'tanh', 'identity', 'relu'],\n",
       "                         'hidden_layer_sizes': [(10,), (20,), (40,), (10, 5),\n",
       "                                                (20, 10), (40, 20, 10)],\n",
       "                         'random_state': [0, 1, 13, 17, 42, 51, 69, 81, 89, 99],\n",
       "                         'solver': ['lbfgs', 'sgd', 'adam']})"
      ]
     },
     "execution_count": 6,
     "metadata": {},
     "output_type": "execute_result"
    }
   ],
   "source": [
    "# Hyperparameters to be checked. \n",
    "parameters = {\n",
    "    'hidden_layer_sizes':[(10,), (20,), (40,), (10,5), (20,10), (40,20,10)],\n",
    "    'activation':['logistic', 'tanh', 'identity', 'relu'],\n",
    "    'solver':['lbfgs', 'sgd', 'adam'],\n",
    "    'random_state':[0, 1, 13, 17, 42, 51, 69, 81, 89, 99] \n",
    "}\n",
    "\n",
    "# Instantiate MLPregressor.\n",
    "# Perceba que só configuramos dois parâmetros, o restante é encontrado pelo GridSearch.\n",
    "reg = MLPRegressor(max_iter=5000, solver='lbfgs')\n",
    "\n",
    "# Instantiate GridSearchCV.\n",
    "clf = GridSearchCV(reg, parameters, cv=10)\n",
    "\n",
    "# Train the MLP regressor with grid search.\n",
    "clf.fit(x_train, y_train.ravel())"
   ]
  },
  {
   "cell_type": "markdown",
   "metadata": {},
   "source": [
    "**OBS.**: Percebam que não definimos o vetor de atributo bias explicitamente nas matrizes de atributos de treinamento e validação, isso é feito pela própria rede neural através dos termos de bias de cada nó."
   ]
  },
  {
   "cell_type": "markdown",
   "metadata": {},
   "source": [
    "### Imprime os melhores valores para os parâmetros encontrados pelo Grid Search."
   ]
  },
  {
   "cell_type": "code",
   "execution_count": 7,
   "metadata": {},
   "outputs": [
    {
     "name": "stdout",
     "output_type": "stream",
     "text": [
      "{'activation': 'tanh', 'hidden_layer_sizes': (40,), 'random_state': 13, 'solver': 'lbfgs'}\n"
     ]
    }
   ],
   "source": [
    "print(clf.best_params_)"
   ]
  },
  {
   "cell_type": "markdown",
   "metadata": {},
   "source": [
    "### Compara a função original e sua aproximação.\n",
    "\n",
    "**OBS.**: Após o treinamento, podemos usar o próprio objeto da classe `GridSearchCV` para realizar predições. As predições são feitas com o objeto da classe `MLPRegressor` com o melhor conjunto de valores encontrados para os parâmetros especificados."
   ]
  },
  {
   "cell_type": "code",
   "execution_count": 8,
   "metadata": {},
   "outputs": [
    {
     "name": "stdout",
     "output_type": "stream",
     "text": [
      "MSE: 7.707217547571327e-07\n"
     ]
    },
    {
     "data": {
      "image/png": "[encoded data removed]",
      "text/plain": [
       "<Figure size 432x288 with 1 Axes>"
      ]
     },
     "metadata": {
      "needs_background": "light"
     },
     "output_type": "display_data"
    }
   ],
   "source": [
    "# Prediction with trained model and validation set.\n",
    "y_pred = clf.predict(x_test)\n",
    "\n",
    "# Calculate the mean squared error.\n",
    "mse = mean_squared_error(y_pred, y_test)\n",
    "print('MSE:',mse)\n",
    "\n",
    "# Plot the comparison between predicted and original functions.\n",
    "plt.plot(x,y,'r',label='Original function')\n",
    "plt.plot(x_test,y_pred,'.',label='Learned function')\n",
    "plt.xlabel('x', fontsize=14)\n",
    "plt.ylabel('y', fontsize=14)\n",
    "plt.legend()\n",
    "plt.grid()\n",
    "plt.show()"
   ]
  },
  {
   "cell_type": "code",
   "execution_count": null,
   "metadata": {},
   "outputs": [],
   "source": []
  }
 ],
 "metadata": {
  "kernelspec": {
   "display_name": "Python 3",
   "language": "python",
   "name": "python3"
  },
  "language_info": {
   "codemirror_mode": {
    "name": "ipython",
    "version": 3
   },
   "file_extension": ".py",
   "mimetype": "text/x-python",
   "name": "python",
   "nbconvert_exporter": "python",
   "pygments_lexer": "ipython3",
   "version": "3.7.7"
  }
 },
 "nbformat": 4,
 "nbformat_minor": 4
}
