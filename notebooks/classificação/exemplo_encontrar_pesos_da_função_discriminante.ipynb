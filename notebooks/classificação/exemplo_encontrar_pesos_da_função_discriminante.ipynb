{
 "cells": [
  {
   "cell_type": "code",
   "execution_count": 1,
   "metadata": {},
   "outputs": [
    {
     "name": "stderr",
     "output_type": "stream",
     "text": [
      "C:\\Users\\felipe.figueiredo\\Anaconda3\\lib\\site-packages\\numpy\\_distributor_init.py:32: UserWarning: loaded more than 1 DLL from .libs:\n",
      "C:\\Users\\felipe.figueiredo\\Anaconda3\\lib\\site-packages\\numpy\\.libs\\libopenblas.NOIJJG62EMASZI6NYURL6JBKM4EVBGM7.gfortran-win_amd64.dll\n",
      "C:\\Users\\felipe.figueiredo\\Anaconda3\\lib\\site-packages\\numpy\\.libs\\libopenblas.PYQHXLVVQ7VESDPUVUADXEVJOBGHJPAY.gfortran-win_amd64.dll\n",
      "  stacklevel=1)\n"
     ]
    }
   ],
   "source": [
    "# importing libraries\n",
    "import numpy as np\n",
    "import matplotlib.pyplot as plt"
   ]
  },
  {
   "cell_type": "markdown",
   "metadata": {},
   "source": [
    "### Definindo os exemplos"
   ]
  },
  {
   "cell_type": "code",
   "execution_count": 2,
   "metadata": {},
   "outputs": [],
   "source": [
    "X = np.array([\n",
    "    [0.3, 1.8],\n",
    "    [0.5, 2.5],\n",
    "    [0.1, 3],\n",
    "    [0.75, 3.5],\n",
    "    [1, 2.8],\n",
    "    [1.5, 3.25],\n",
    "    [2.3, 3.7],\n",
    "    [0.5, 0.5],\n",
    "    [0.75, 1.2],\n",
    "    [1, 0.5],\n",
    "    [1.2, 1.3],\n",
    "    [1.7, 0.9],\n",
    "    [2, 1],\n",
    "    [1.7, 2],\n",
    "    [2.8, 0.5],\n",
    "    [2.7, 1.7],\n",
    "    [2.2, 2.5],\n",
    "    [2.9, 3.1],\n",
    "    [3.2, 3.5],\n",
    "    [3.3, 2.7],\n",
    "])\n",
    "\n",
    "y = np.array([1,1,1,1,1,1,1,2,2,2,2,2,2,2,2,2,2,2,2,2])"
   ]
  },
  {
   "cell_type": "markdown",
   "metadata": {},
   "source": [
    "### Mostrando as classes."
   ]
  },
  {
   "cell_type": "code",
   "execution_count": 3,
   "metadata": {},
   "outputs": [
    {
     "data": {
      "image/png": "[encoded data removed]",
      "text/plain": [
       "<Figure size 432x288 with 1 Axes>"
      ]
     },
     "metadata": {
      "needs_background": "light"
     },
     "output_type": "display_data"
    }
   ],
   "source": [
    "axis1 = np.argwhere(y==1)\n",
    "axis2 = np.argwhere(y==2)\n",
    "\n",
    "plt.plot(X[axis1,0],X[axis1,1], '.', markersize=10)\n",
    "plt.plot(X[axis2,0],X[axis2,1], 'r^', markersize=10)\n",
    "plt.grid()\n",
    "plt.xlim([0,4])\n",
    "plt.ylim([0,4])\n",
    "plt.show()"
   ]
  },
  {
   "cell_type": "markdown",
   "metadata": {},
   "source": [
    "### Classificando"
   ]
  },
  {
   "cell_type": "code",
   "execution_count": 18,
   "metadata": {},
   "outputs": [],
   "source": [
    "def predict(X):\n",
    "    N = X.shape[0]\n",
    "    y_pred = np.zeros((N,))\n",
    "    for i in range(0, N):\n",
    "        # Acesse os valores de cada um dos 2 atributos.\n",
    "        x1 = X[i,0]\n",
    "        x2 = X[i,1]\n",
    "\n",
    "        # Função discriminante.\n",
    "        g = 1 + x1 - x2\n",
    "\n",
    "        # Eu escolhi atribuir g == 0 à classe 1, mas poderia ser a 2.\n",
    "        if(g <= 0):\n",
    "            y_pred[i] = 1\n",
    "        elif(g > 0):\n",
    "            y_pred[i] = 2\n",
    "\n",
    "    return y_pred\n",
    "    \n",
    "\n",
    "# realizando a predição.\n",
    "y_pred = predict(X)"
   ]
  },
  {
   "cell_type": "markdown",
   "metadata": {},
   "source": [
    "### Calculando o erro"
   ]
  },
  {
   "cell_type": "code",
   "execution_count": 35,
   "metadata": {},
   "outputs": [
    {
     "name": "stdout",
     "output_type": "stream",
     "text": [
      "Erro de predição: 0\n",
      "Precisão de predição: 1\n"
     ]
    }
   ],
   "source": [
    "error = 0\n",
    "acc = 0\n",
    "for i in range(0, len(y)):\n",
    "    if(y_pred[i] != y[i]):\n",
    "        error += 1\n",
    "    else:\n",
    "        acc += 1\n",
    "        \n",
    "print('Erro de predição:', error)\n",
    "print('Precisão de predição:',(1-error))"
   ]
  },
  {
   "cell_type": "markdown",
   "metadata": {},
   "source": [
    "### Mostrando as regiões de decisão"
   ]
  },
  {
   "cell_type": "code",
   "execution_count": 36,
   "metadata": {},
   "outputs": [
    {
     "data": {
      "image/png": "[encoded data removed]",
      "text/plain": [
       "<Figure size 432x288 with 1 Axes>"
      ]
     },
     "metadata": {
      "needs_background": "light"
     },
     "output_type": "display_data"
    }
   ],
   "source": [
    "# Plot the decision boundary. For that, we will assign a color to each\n",
    "# point in the mesh [x_min, x_max]x[y_min, y_max].\n",
    "x_min, x_max = 0, 4\n",
    "y_min, y_max = 0, 4\n",
    "h = .01  # step size in the mesh\n",
    "xx, yy = np.meshgrid(np.arange(x_min, x_max, h), np.arange(y_min, y_max, h))\n",
    "\n",
    "Z = predict(np.c_[xx.ravel(), yy.ravel()])\n",
    "\n",
    "# Put the result into a color plot\n",
    "Z = Z.reshape(xx.shape)\n",
    "plt.figure()\n",
    "plt.pcolormesh(xx, yy, Z, cmap=plt.cm.Greens, shading='auto')\n",
    "# Plot also the training points\n",
    "plt.plot(X[axis1,0],X[axis1,1], '.', markersize=10)\n",
    "plt.plot(X[axis2,0],X[axis2,1], 'r^', markersize=10)\n",
    "plt.xlabel('$x_1$', fontsize=14)\n",
    "plt.ylabel('$x_2$', fontsize=14)\n",
    "\n",
    "plt.xlim(0, 4)\n",
    "plt.ylim(0, 4)\n",
    "\n",
    "plt.show()"
   ]
  }
 ],
 "metadata": {
  "kernelspec": {
   "display_name": "Python 3",
   "language": "python",
   "name": "python3"
  },
  "language_info": {
   "codemirror_mode": {
    "name": "ipython",
    "version": 3
   },
   "file_extension": ".py",
   "mimetype": "text/x-python",
   "name": "python",
   "nbconvert_exporter": "python",
   "pygments_lexer": "ipython3",
   "version": "3.7.7"
  }
 },
 "nbformat": 4,
 "nbformat_minor": 4
}
