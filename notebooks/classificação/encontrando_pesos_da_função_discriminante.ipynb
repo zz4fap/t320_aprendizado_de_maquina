{
  "cells": [
    {
      "cell_type": "code",
      "execution_count": null,
      "metadata": {
        "id": "pnymVItao4D-"
      },
      "outputs": [],
      "source": [
        "# importing libraries\n",
        "import numpy as np\n",
        "import matplotlib.pyplot as plt"
      ]
    },
    {
      "cell_type": "markdown",
      "metadata": {
        "id": "eeCs5uV4o4EB"
      },
      "source": [
        "### Definindo os exemplos"
      ]
    },
    {
      "cell_type": "code",
      "execution_count": null,
      "metadata": {
        "id": "7VgQReXlo4ED",
        "outputId": "178240b1-70b1-4c1b-cde2-6bad9f0b09ce",
        "colab": {
          "base_uri": "https://localhost:8080/"
        }
      },
      "outputs": [
        {
          "output_type": "stream",
          "name": "stdout",
          "text": [
            "Dimensões de X: (20, 2)\n",
            "Dimensão de y: (20,)\n"
          ]
        }
      ],
      "source": [
        "# Exemplos (atributos).\n",
        "# 7 exemplos para a classe negativa.\n",
        "# 13 exemplos para a classe positiva.\n",
        "# Total: 20 exemplos.\n",
        "X = np.array([\n",
        "    # classe 0\n",
        "    [0.3, 1.8],[0.5, 2.5],[0.1, 3],[0.75, 3.5],[1, 2.8],[1.5, 3.25],[2.3, 3.7],\n",
        "    # classe 1\n",
        "    [0.5, 0.5],[0.75, 1.2],[1, 0.5],[1.2, 1.3],[1.7, 0.9],[2, 1],[1.7, 2],[2.8, 0.5],[2.7, 1.7],[2.2, 2.5],[2.9, 3.1],[3.2, 3.5],[3.3, 2.7],\n",
        "])\n",
        "\n",
        "# Classes a que os exemplos pertencem (rótulos).\n",
        "# Rótulo com valor 0: representa a classe negativa.\n",
        "# Rótulo com valor 1: representa a classe positiva.\n",
        "y = np.array([0,0,0,0,0,0,0,1,1,1,1,1,1,1,1,1,1,1,1,1])\n",
        "\n",
        "# Dimensões de X e y.\n",
        "print('Dimensões de X:', X.shape)\n",
        "print('Dimensão de y:', y.shape)"
      ]
    },
    {
      "cell_type": "markdown",
      "metadata": {
        "id": "whPcJG7xo4EE"
      },
      "source": [
        "### Mostrando os exemplos de cada classe"
      ]
    },
    {
      "cell_type": "code",
      "execution_count": null,
      "metadata": {
        "id": "jrBMotSHo4EE",
        "outputId": "9154f021-9498-4204-f6cc-3e2ce65dd395",
        "colab": {
          "base_uri": "https://localhost:8080/",
          "height": 460
        }
      },
      "outputs": [
        {
          "output_type": "display_data",
          "data": {
            "text/plain": [
              "<Figure size 640x480 with 1 Axes>"
            ],
            "image/png": "[encoded data removed]"
          },
          "metadata": {}
        }
      ],
      "source": [
        "axis1 = np.argwhere(y==0)\n",
        "axis2 = np.argwhere(y==1)\n",
        "\n",
        "plt.plot(X[axis1,0], X[axis1,1], '.', markersize=10, label='Classe 0')\n",
        "plt.plot(X[axis2,0], X[axis2,1], 'r^', markersize=10, label='Classe 1')\n",
        "plt.xlabel('$x_1$', fontsize=14)\n",
        "plt.ylabel('$x_2$', fontsize=14)\n",
        "plt.grid()\n",
        "plt.xlim([0, 4])\n",
        "plt.ylim([0, 4])\n",
        "plt.legend()\n",
        "plt.show()"
      ]
    },
    {
      "cell_type": "markdown",
      "metadata": {
        "id": "jBEcWKXfo4EF"
      },
      "source": [
        "### Classificando\n",
        "\n",
        "Definição da função que será usada para classificar os exemplos criados anteriormente.\n",
        "</br>\n",
        "\n",
        "Usaremos a função discriminante que encontramos anteriormente.\n",
        "</br>\n",
        "\n",
        "**Observações**:\n",
        "\n",
        "+ Percebam que estamos seguindo o **paradigma da programação tradicional**, onde fornecemos à máquina as entradas e o programa que contém as regras que mapeiam as entradas nas saídas.\n",
        "</br>\n",
        "+ O objetivo da primeira parte deste curso será usarmos algortimos de ML que treinem um modelo que mapeie as entradas nas classes corretas."
      ]
    },
    {
      "cell_type": "code",
      "execution_count": null,
      "metadata": {
        "id": "_qMJjYByo4EF"
      },
      "outputs": [],
      "source": [
        "def predict(X):\n",
        "    # Obtém número de exemplos.\n",
        "    N = X.shape[0]\n",
        "    # Vetor para armazenar as classes preditas.\n",
        "    y_pred = np.zeros((N,))\n",
        "    for i in range(0, N):\n",
        "        # Acesse os valores de cada um dos 2 atributos.\n",
        "        x1 = X[i, 0]\n",
        "        x2 = X[i, 1]\n",
        "\n",
        "        # Função discriminante.\n",
        "        g = 1 + x1 - x2\n",
        "\n",
        "        # Eu escolhi arbitrariamente atribuir g == 0 à classe 0, mas poderia ser à classe 1.\n",
        "        if(g <= 0):\n",
        "            y_pred[i] = 0\n",
        "        elif(g > 0):\n",
        "            y_pred[i] = 1\n",
        "\n",
        "    return y_pred"
      ]
    },
    {
      "cell_type": "code",
      "execution_count": null,
      "metadata": {
        "id": "Z-eFCMdVo4EF"
      },
      "outputs": [],
      "source": [
        "# Realizando a classificação (predição).\n",
        "y_pred = predict(X)"
      ]
    },
    {
      "cell_type": "markdown",
      "metadata": {
        "id": "2M_JTA7wo4EG"
      },
      "source": [
        "### Calculando o erro\n",
        "\n",
        "O objetivo dos algoritmos de treinamento ML é sempre **minimizar alguma espécie de erro**.\n",
        "</br>\n",
        "\n",
        "Aqui contabilizamos como erro a quantidade de classificações incorretas.\n",
        "</br>\n",
        "\n",
        "Uma outra medida muito usada com classificadores é a acurácia, que contabiliza a quantidade de classificações corretas.\n",
        "</br>\n",
        "\n",
        "A acurácia é o complemento do erro de classificação."
      ]
    },
    {
      "cell_type": "code",
      "execution_count": null,
      "metadata": {
        "id": "ldW9lHE2o4EG",
        "outputId": "11393a11-119d-45ba-8ca4-f49e99df4458",
        "colab": {
          "base_uri": "https://localhost:8080/"
        }
      },
      "outputs": [
        {
          "output_type": "stream",
          "name": "stdout",
          "text": [
            "Erro da predição: 0\n",
            "Acurácia da predição: 1\n"
          ]
        }
      ],
      "source": [
        "error = 0\n",
        "for i in range(0, len(y)):\n",
        "    if(y_pred[i] != y[i]):\n",
        "        error += 1\n",
        "\n",
        "print('Erro da predição:', error)\n",
        "print('Acurácia da predição:',(1-error))"
      ]
    },
    {
      "cell_type": "markdown",
      "metadata": {
        "id": "BDE-YSFVo4EH"
      },
      "source": [
        "### Mostrando as regiões de decisão\n",
        "\n",
        "Usamos a função `meshgrid` para criar pares de pontos dentro de um intervalo e com isso plotar as regiões de decisão."
      ]
    },
    {
      "cell_type": "code",
      "execution_count": null,
      "metadata": {
        "id": "-QQfad6So4EH",
        "outputId": "c6002dde-e8fd-43f1-c91c-f7caa6ab4da0",
        "colab": {
          "base_uri": "https://localhost:8080/",
          "height": 460
        }
      },
      "outputs": [
        {
          "output_type": "display_data",
          "data": {
            "text/plain": [
              "<Figure size 640x480 with 1 Axes>"
            ],
            "image/png": "[encoded data removed]"
          },
          "metadata": {}
        }
      ],
      "source": [
        "# Plot the decision boundary. For that, we will assign a color to each\n",
        "# point in the mesh [x_min, x_max]x[y_min, y_max].\n",
        "x_min, x_max = 0, 4\n",
        "y_min, y_max = 0, 4\n",
        "h = .01  # step size in the mesh\n",
        "# O meshgrid cria uma combinação de pontos (valores) entre os intervalos definidos para plotar as regiões de decisão.\n",
        "xx, yy = np.meshgrid(np.arange(x_min, x_max, h), np.arange(y_min, y_max, h))\n",
        "\n",
        "# Uso a função de predição para obter a classe de cada combinação de pontos gerada pelo meshgrid.\n",
        "Z = predict(np.c_[xx.ravel(), yy.ravel()])\n",
        "\n",
        "# Put the result into a color plot\n",
        "Z = Z.reshape(xx.shape)\n",
        "plt.figure()\n",
        "plt.pcolormesh(xx, yy, Z, cmap=plt.cm.Greens, shading='auto')\n",
        "# Plot also the training points\n",
        "plt.plot(X[axis1,0], X[axis1,1], '.', markersize=10, label='Classe 0')\n",
        "plt.plot(X[axis2,0], X[axis2,1], 'r^', markersize=10, label='Classe 1')\n",
        "plt.xlabel('$x_1$', fontsize=14)\n",
        "plt.ylabel('$x_2$', fontsize=14)\n",
        "\n",
        "plt.xlim(0, 4)\n",
        "plt.ylim(0, 4)\n",
        "plt.legend()\n",
        "plt.grid()\n",
        "\n",
        "plt.show()"
      ]
    }
  ],
  "metadata": {
    "kernelspec": {
      "display_name": "Python 3 (ipykernel)",
      "language": "python",
      "name": "python3"
    },
    "language_info": {
      "codemirror_mode": {
        "name": "ipython",
        "version": 3
      },
      "file_extension": ".py",
      "mimetype": "text/x-python",
      "name": "python",
      "nbconvert_exporter": "python",
      "pygments_lexer": "ipython3",
      "version": "3.9.13"
    },
    "colab": {
      "provenance": []
    }
  },
  "nbformat": 4,
  "nbformat_minor": 0
}