{
 "cells": [
  {
   "cell_type": "code",
   "execution_count": 12,
   "metadata": {},
   "outputs": [],
   "source": [
    "# Import all necessary libraries.\n",
    "import numpy as np\n",
    "import random\n",
    "import matplotlib.pyplot as plt\n",
    "from sklearn.model_selection import train_test_split\n",
    "from sklearn.datasets import make_blobs"
   ]
  },
  {
   "cell_type": "code",
   "execution_count": 2,
   "metadata": {},
   "outputs": [],
   "source": [
    "# Define a seed.\n",
    "seed = 42\n",
    "# Reset the PN sequence generator.\n",
    "np.random.seed(seed)\n",
    "random.seed(seed)"
   ]
  },
  {
   "cell_type": "markdown",
   "metadata": {},
   "source": [
    "### Gerando os dados de 2 classes."
   ]
  },
  {
   "cell_type": "code",
   "execution_count": 3,
   "metadata": {},
   "outputs": [],
   "source": [
    "# Number of examples.\n",
    "N = 1000\n",
    "\n",
    "# Create a 2-class dataset for classification with the specified centers.\n",
    "centers = [[-5.0, 0], [0, 5.0]]\n",
    "X, y = make_blobs(n_samples=N, centers=centers, random_state=seed)"
   ]
  },
  {
   "cell_type": "markdown",
   "metadata": {},
   "source": [
    "### Plotando as 2 classes."
   ]
  },
  {
   "cell_type": "code",
   "execution_count": 4,
   "metadata": {},
   "outputs": [
    {
     "data": {
      "image/png": "[encoded data removed]",
      "text/plain": [
       "<Figure size 432x288 with 1 Axes>"
      ]
     },
     "metadata": {
      "needs_background": "light"
     },
     "output_type": "display_data"
    }
   ],
   "source": [
    "idx0 = np.argwhere(y == 0)\n",
    "idx1 = np.argwhere(y == 1)\n",
    "\n",
    "fig = plt.figure()\n",
    "plt.plot(X[idx0,0], X[idx0,1], '.', markersize=10, label='Class 0')\n",
    "plt.plot(X[idx1,0], X[idx1,1], 'r^', markersize=10, label='Class 1')\n",
    "plt.xlabel('$x_1$')\n",
    "plt.ylabel('$x_2$')\n",
    "plt.legend()\n",
    "plt.grid()\n",
    "plt.show()"
   ]
  },
  {
   "cell_type": "markdown",
   "metadata": {},
   "source": [
    "### Definindo algumas funções úteis."
   ]
  },
  {
   "cell_type": "code",
   "execution_count": 5,
   "metadata": {},
   "outputs": [],
   "source": [
    "def classifier(X, a):\n",
    "    # Função discriminante.\n",
    "    g = X.dot(a)\n",
    "    # Função de limiar de decisão.\n",
    "    h = np.heaviside(g, 1.0)\n",
    "    return h\n",
    "\n",
    "def error_function(X, a, y):\n",
    "    h = classifier(X, a)\n",
    "    error = 0.0\n",
    "    for i in range(0, len(y)):\n",
    "        error += np.power(y[i] - h[i], 2.0)\n",
    "    return error/len(y)\n",
    "\n",
    "def accuracy(y_pred, y):\n",
    "    acc = 0\n",
    "    for i in range(len(y)):\n",
    "        if(y[i]==y_pred[i]):\n",
    "            acc += 1\n",
    "    return acc/len(y)\n",
    "\n",
    "def classificationWithRigidThreshold(X_train, y_train, X_test, y_test, alpha, numEpochs):\n",
    "    # Reshaping into column vectors.\n",
    "    y_train = y_train.reshape(len(y_train), 1)\n",
    "    y_test = y_test.reshape(len(y_test), 1)    \n",
    "    \n",
    "    # Random initialization of parameters.\n",
    "    a = np.random.randn(X_train.shape[1], 1)\n",
    "\n",
    "    # Create array for storing error values.\n",
    "    Jgd = np.zeros(numEpochs*len(y_train)+1)\n",
    "    Jgd_v = np.zeros(numEpochs*len(y_train)+1)\n",
    "\n",
    "    # Calculate initial error.\n",
    "    Jgd[0] = error_function(X_train, a, y_train)\n",
    "    Jgd_v[0] = error_function(X_test, a, y_test)\n",
    "\n",
    "    # Batch gradient-descent loop.\n",
    "    minimum_val_error = float(\"inf\")\n",
    "    iteration = 0\n",
    "    epoch = 0\n",
    "    error = float(\"inf\")\n",
    "    N = len(y_train)\n",
    "    while epoch < numEpochs:\n",
    "        \n",
    "        # Shuffle the whole dataset before every epoch.\n",
    "        sdsi = random.sample(range(0, N), N)           \n",
    "\n",
    "        for idx in range(0, N):\n",
    "            # Draw a random pair of training samples.\n",
    "            rndidx = sdsi[idx]\n",
    "            X = X_train[rndidx,:].reshape(1, 3)\n",
    "            y = y_train[rndidx].reshape(1, 1)        \n",
    "            \n",
    "            # Update weights.\n",
    "            update = X.T.dot(y - classifier(X, a))\n",
    "            a = a + alpha * update\n",
    "\n",
    "            # Calculating training and validation errors.\n",
    "            Jgd[iteration+1] = error_function(X_train, a, y_train)\n",
    "            Jgd_v[iteration+1] = error_function(X_test, a, y_test)\n",
    "\n",
    "            # Early-stop: store weights for the smallest error ever.\n",
    "            if(Jgd_v[iteration+1] < minimum_val_error):\n",
    "                minimum_val_error = Jgd_v[iteration+1]\n",
    "                a_min = a\n",
    "\n",
    "            iteration += 1\n",
    "\n",
    "        epoch += 1\n",
    "    return Jgd, Jgd_v, iteration, a_min, minimum_val_error, a"
   ]
  },
  {
   "cell_type": "markdown",
   "metadata": {},
   "source": [
    "### Dividindo os dados em conjuntos de treinamento e validação."
   ]
  },
  {
   "cell_type": "code",
   "execution_count": 6,
   "metadata": {},
   "outputs": [],
   "source": [
    "# Split array into random train and test subsets.\n",
    "X_train, X_test, y_train, y_test = train_test_split(X, y, test_size=0.3, random_state=seed)"
   ]
  },
  {
   "cell_type": "markdown",
   "metadata": {},
   "source": [
    "### Alterando as matrizes de atributos de treinamento e validação para que implementem o formato apropriado da função discriminante.\n",
    "\n",
    "O formato apropriado é o de uma reta, conforme mostrado abaixo.\n",
    "\n",
    "$$g(x) = a_0 + a_1x_1 + a_2x_2,$$\n",
    "\n",
    "onde $a_0$ é o peso de bias e é sempre feito igual a 1.\n",
    "\n",
    "Em forma matricial ela é definida como\n",
    "\n",
    "$$g(x) = \\textbf{Xa},$$\n",
    "\n",
    "onde $\\textbf{a}$ e $\\textbf{X}$ são um vetor e uma matriz, respectivamente."
   ]
  },
  {
   "cell_type": "code",
   "execution_count": 7,
   "metadata": {},
   "outputs": [],
   "source": [
    "# Add bias to feature matrix.\n",
    "X_train = np.c_[np.ones((len(y_train), 1)), X_train]\n",
    "\n",
    "# Add bias to feature matrix.\n",
    "X_test = np.c_[np.ones((len(y_test), 1)), X_test]"
   ]
  },
  {
   "cell_type": "markdown",
   "metadata": {},
   "source": [
    "### Treinando o classificador."
   ]
  },
  {
   "cell_type": "code",
   "execution_count": 8,
   "metadata": {},
   "outputs": [
    {
     "name": "stdout",
     "output_type": "stream",
     "text": [
      "Minimum validation error: 0.0\n",
      "Accuracy: 1.0\n"
     ]
    }
   ],
   "source": [
    "# Learning rate.\n",
    "alpha = 0.1\n",
    "\n",
    "# Maximum number of iterations.\n",
    "numEpochs = 2\n",
    "\n",
    "Jgd, Jgd_v, iteration, a_min, minimum_val_error, a = classificationWithRigidThreshold(X_train, y_train, X_test, y_test, alpha, numEpochs)\n",
    "\n",
    "print('Minimum validation error:', minimum_val_error)\n",
    "\n",
    "y_pred = classifier(X_test, a)\n",
    "print('Accuracy:', accuracy(y_pred, y_test))"
   ]
  },
  {
   "cell_type": "markdown",
   "metadata": {},
   "source": [
    "### Plotando os erros."
   ]
  },
  {
   "cell_type": "code",
   "execution_count": 9,
   "metadata": {},
   "outputs": [
    {
     "data": {
      "image/png": "[encoded data removed]",
      "text/plain": [
       "<Figure size 432x288 with 1 Axes>"
      ]
     },
     "metadata": {
      "needs_background": "light"
     },
     "output_type": "display_data"
    }
   ],
   "source": [
    "plt.figure()\n",
    "plt.plot(np.arange(0, iteration), Jgd[0:iteration], label='treinamento')\n",
    "plt.plot(np.arange(0, iteration), Jgd_v[0:iteration], label='validação')\n",
    "plt.xlim((0, iteration))\n",
    "plt.xlabel('Iteration')\n",
    "plt.ylabel('$J_e$')\n",
    "plt.title('Error vs. Iteration number')\n",
    "plt.legend()\n",
    "plt.show()"
   ]
  },
  {
   "cell_type": "markdown",
   "metadata": {},
   "source": [
    "### Plotando as regiões de decisão.\n",
    "\n",
    "**OBS:** Notem que a matriz de atributos criada para plotarmos as regiões de decisão também deve ter a mesma forma que as matrizes de atributos criadas para o treinamento e validação."
   ]
  },
  {
   "cell_type": "code",
   "execution_count": 10,
   "metadata": {},
   "outputs": [
    {
     "data": {
      "image/png": "[encoded data removed]",
      "text/plain": [
       "<Figure size 432x288 with 1 Axes>"
      ]
     },
     "metadata": {
      "needs_background": "light"
     },
     "output_type": "display_data"
    }
   ],
   "source": [
    "# Plot the decision boundary. For that, we will assign a color to each\n",
    "# point in the mesh [x_min, x_max]x[y_min, y_max].\n",
    "x_min, x_max = X[:, 0].min() - .5, X[:, 0].max() + .5\n",
    "y_min, y_max = X[:, 1].min() - .5, X[:, 1].max() + .5\n",
    "h = .02  # step size in the mesh\n",
    "xx, yy = np.meshgrid(np.arange(x_min, x_max, h), np.arange(y_min, y_max, h))\n",
    "\n",
    "# This attribute matrix must also follow the same shape \n",
    "# as the one created for the training.\n",
    "attribute_matrix = np.c_[np.ones((len(xx.ravel()), 1)), xx.ravel(), yy.ravel()]\n",
    "\n",
    "Z = classifier(attribute_matrix, a)\n",
    "\n",
    "# Put the result into a color plot.\n",
    "Z = Z.reshape(xx.shape)\n",
    "plt.pcolormesh(xx, yy, Z, cmap=plt.cm.Greens, shading='auto')\n",
    "\n",
    "# Plot also the training points.\n",
    "plt.plot(X[idx0,0], X[idx0,1], '.', markersize=10, label='Class 0')\n",
    "plt.plot(X[idx1,0], X[idx1,1], 'r^', markersize=10, label='Class 1')\n",
    "plt.xlabel('$x_1$', fontsize=14)\n",
    "plt.ylabel('$x_2$', fontsize=14)\n",
    "\n",
    "plt.xlim(xx.min(), xx.max())\n",
    "plt.ylim(yy.min(), yy.max())\n",
    "\n",
    "plt.show()"
   ]
  },
  {
   "cell_type": "markdown",
   "metadata": {},
   "source": [
    "### Imprimindo os pesos encontrados."
   ]
  },
  {
   "cell_type": "code",
   "execution_count": 11,
   "metadata": {},
   "outputs": [
    {
     "name": "stdout",
     "output_type": "stream",
     "text": [
      "a0: 0.3967141530112327\n",
      "a1: 0.6384082095101224\n",
      "a2: 0.5700146031157893\n"
     ]
    }
   ],
   "source": [
    "print('a0:',a[0,0])\n",
    "print('a1:',a[1,0])\n",
    "print('a2:',a[2,0])"
   ]
  },
  {
   "cell_type": "code",
   "execution_count": null,
   "metadata": {},
   "outputs": [],
   "source": []
  }
 ],
 "metadata": {
  "kernelspec": {
   "display_name": "Python 3",
   "language": "python",
   "name": "python3"
  },
  "language_info": {
   "codemirror_mode": {
    "name": "ipython",
    "version": 3
   },
   "file_extension": ".py",
   "mimetype": "text/x-python",
   "name": "python",
   "nbconvert_exporter": "python",
   "pygments_lexer": "ipython3",
   "version": "3.7.7"
  }
 },
 "nbformat": 4,
 "nbformat_minor": 4
}
