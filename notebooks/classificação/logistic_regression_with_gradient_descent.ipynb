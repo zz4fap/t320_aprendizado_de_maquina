{
 "cells": [
  {
   "cell_type": "code",
   "execution_count": 1,
   "metadata": {},
   "outputs": [],
   "source": [
    "# Import all necessary libraries.\n",
    "import numpy as np\n",
    "from sklearn.datasets import make_blobs\n",
    "from sklearn.model_selection import train_test_split\n",
    "from sklearn.metrics import confusion_matrix\n",
    "from sklearn.metrics import accuracy_score\n",
    "import seaborn as sns\n",
    "from scipy.special import expit\n",
    "import matplotlib.pyplot as plt"
   ]
  },
  {
   "cell_type": "code",
   "execution_count": 2,
   "metadata": {},
   "outputs": [],
   "source": [
    "# Reset the PN sequence generator.\n",
    "seed = 42\n",
    "np.random.seed(seed)"
   ]
  },
  {
   "cell_type": "markdown",
   "metadata": {},
   "source": [
    "### Gerando os dados de 2 classes."
   ]
  },
  {
   "cell_type": "code",
   "execution_count": 3,
   "metadata": {},
   "outputs": [],
   "source": [
    "# Number of examples.\n",
    "N = 1000\n",
    "\n",
    "# Create a 2-class dataset for classification with the specified centers.\n",
    "centers = [[-5.0, 0], [0, 5.0]]\n",
    "X, y = make_blobs(n_samples=N, centers=centers, random_state=seed)"
   ]
  },
  {
   "cell_type": "markdown",
   "metadata": {},
   "source": [
    "### Plotando as 2 classes."
   ]
  },
  {
   "cell_type": "code",
   "execution_count": 4,
   "metadata": {},
   "outputs": [
    {
     "data": {
      "image/png": "[encoded data removed]",
      "text/plain": [
       "<Figure size 432x288 with 1 Axes>"
      ]
     },
     "metadata": {
      "needs_background": "light"
     },
     "output_type": "display_data"
    }
   ],
   "source": [
    "idx0 = np.argwhere(y == 0)\n",
    "idx1 = np.argwhere(y == 1)\n",
    "\n",
    "fig = plt.figure()\n",
    "plt.plot(X[idx0,0], X[idx0,1], '.', markersize=10, label='Class 0')\n",
    "plt.plot(X[idx1,0], X[idx1,1], 'r^', markersize=10, label='Class 1')\n",
    "plt.xlabel('$x_1$')\n",
    "plt.ylabel('$x_2$')\n",
    "plt.legend()\n",
    "plt.grid()\n",
    "plt.show()"
   ]
  },
  {
   "cell_type": "markdown",
   "metadata": {},
   "source": [
    "### Definindo a classe de regressão logística com GD."
   ]
  },
  {
   "cell_type": "code",
   "execution_count": 5,
   "metadata": {},
   "outputs": [],
   "source": [
    "class logisticRegressorWithGD():\n",
    "    \n",
    "    # Incialização dos atributos da classe.\n",
    "    alpha = 0\n",
    "    numEpochs = 0\n",
    "    a = 0\n",
    "    a_min = 0\n",
    "    \n",
    "    def __init__(self, alpha=0.1, numEpochs=1):\n",
    "        '''Construtor da classe logisticRegressorWithGD.'''\n",
    "        self.alpha = alpha\n",
    "        self.numEpochs = numEpochs\n",
    "\n",
    "    def hypothesis(self, X):\n",
    "        '''Função hipótese.'''\n",
    "        # Função discriminante.\n",
    "        g = X.dot(self.a)\n",
    "        # Função de limiar de decisão sigmóide.\n",
    "        h = expit(g)\n",
    "        return h\n",
    "\n",
    "    def predict(self, X):\n",
    "        '''Função que classifica (predição) os exemplos de entrada.'''\n",
    "        h = self.hypothesis(X)\n",
    "        # Loop usado para quantizar os valores de saída da função hipótese.\n",
    "        c = np.zeros((len(h), 1))\n",
    "        for i in range(0, len(h)):\n",
    "            if(h[i] >= 0.5):\n",
    "                c[i,0] = 1.0\n",
    "        return c\n",
    "\n",
    "    def error_function(self, X, y):\n",
    "        '''Função usada para calcular o erro médio cometido pelo classificador.'''\n",
    "        h = self.hypothesis(X)\n",
    "        error = -(1/len(y))*np.sum(y*(np.log(h)) + (1-y)*(np.log((1-h))))\n",
    "        return error\n",
    "\n",
    "    def fit(self, X_train, y_train, X_test, y_test):\n",
    "        '''Gradient descent solution.'''\n",
    "\n",
    "        # Number of examples.\n",
    "        N = len(y_train)\n",
    "\n",
    "        # Reshaping into column vectors.\n",
    "        y_train = y_train.reshape(N, 1)\n",
    "        y_test = y_test.reshape(len(y_test), 1)\n",
    "\n",
    "        # Random initialization of parameters.\n",
    "        self.a = np.random.randn(X_train.shape[1], 1)\n",
    "\n",
    "        # Create array for storing error values.\n",
    "        Jgd = np.zeros(self.numEpochs+1)\n",
    "        Jgd_v = np.zeros(self.numEpochs+1)\n",
    "\n",
    "        # Calculate initial error.\n",
    "        Jgd[0] = self.error_function(X_train, y_train)\n",
    "        Jgd_v[0] = self.error_function(X_test, y_test)\n",
    "\n",
    "        # Gradient-descent loop.\n",
    "        minimum_val_error = float(\"inf\")\n",
    "        iteration = 0\n",
    "        while iteration < self.numEpochs:\n",
    "            # Update weights.\n",
    "            gradients = -(1/N)*X_train.T.dot(y_train - self.hypothesis(X_train))\n",
    "            self.a = self.a - self.alpha*gradients\n",
    "\n",
    "            # Calculating training and validation errors.\n",
    "            Jgd[iteration+1] = self.error_function(X_train, y_train)\n",
    "            Jgd_v[iteration+1] = self.error_function(X_test, y_test)\n",
    "\n",
    "            # Early-stop: store weights for the smallest error ever.\n",
    "            if(Jgd_v[iteration+1] < minimum_val_error):\n",
    "                minimum_val_error = Jgd_v[iteration+1]\n",
    "                self.a_min = self.a\n",
    "\n",
    "            # Update iteration number.\n",
    "            iteration = iteration + 1\n",
    "\n",
    "        return Jgd, Jgd_v, iteration, self.a_min, minimum_val_error, self.a"
   ]
  },
  {
   "cell_type": "markdown",
   "metadata": {},
   "source": [
    "### Dividindo os dados em conjuntos de treinamento e validação."
   ]
  },
  {
   "cell_type": "code",
   "execution_count": 6,
   "metadata": {},
   "outputs": [],
   "source": [
    "# Split array into random train and validation subsets.\n",
    "X_train, X_test, y_train, y_test = train_test_split(X, y, test_size=0.3, random_state=seed)"
   ]
  },
  {
   "cell_type": "markdown",
   "metadata": {},
   "source": [
    "### Alterando as matrizes de atributos de treinamento e validação para que implementem o formato apropriado da função discriminante.\n",
    "\n",
    "O formato apropriado é o de uma reta, conforme mostrado abaixo.\n",
    "\n",
    "$$g(x) = a_0 + a_1x_1 + a_2x_2,$$\n",
    "\n",
    "onde $a_0$ é o peso de bias e o atributo correspondente, $x_0$, é sempre feito igual a 1.\n",
    "\n",
    "Em forma matricial, a função discriminante é definida como\n",
    "\n",
    "$$g(\\textbf{X}) = \\textbf{Xa},$$\n",
    "\n",
    "onde $\\textbf{a}$ e $\\textbf{X}$ são um vetor (com dimensão $K+1 \\times 1$) e uma matriz (com dimensão $N \\times K+1$), respectivamente."
   ]
  },
  {
   "cell_type": "code",
   "execution_count": 7,
   "metadata": {},
   "outputs": [],
   "source": [
    "# Add bias to feature matrix.\n",
    "X_train = np.c_[np.ones((len(y_train), 1)), X_train]\n",
    "\n",
    "# Add bias to feature matrix.\n",
    "X_test = np.c_[np.ones((len(y_test), 1)), X_test]"
   ]
  },
  {
   "cell_type": "markdown",
   "metadata": {},
   "source": [
    "### Treinando o classificador."
   ]
  },
  {
   "cell_type": "code",
   "execution_count": 8,
   "metadata": {},
   "outputs": [
    {
     "name": "stdout",
     "output_type": "stream",
     "text": [
      "minimum_val_error 0.01729962670102634\n"
     ]
    }
   ],
   "source": [
    "# learning rate.\n",
    "alpha = 0.1\n",
    "\n",
    "# Maximum number of iterations.\n",
    "numEpochs = 100\n",
    "\n",
    "# Instantiate Logistic classifier.\n",
    "classifier = logisticRegressorWithGD(alpha, numEpochs)\n",
    "\n",
    "# Train the model.\n",
    "Jgd, Jgd_v, iteration, a_min, minimum_val_error, a = classifier.fit(X_train, y_train, X_test, y_test)\n",
    "\n",
    "# Print smallest error.\n",
    "print('minimum_val_error', minimum_val_error)"
   ]
  },
  {
   "cell_type": "markdown",
   "metadata": {},
   "source": [
    "### Plotando os erros."
   ]
  },
  {
   "cell_type": "code",
   "execution_count": 13,
   "metadata": {},
   "outputs": [
    {
     "data": {
      "image/png": "[encoded data removed]",
      "text/plain": [
       "<Figure size 432x288 with 1 Axes>"
      ]
     },
     "metadata": {
      "needs_background": "light"
     },
     "output_type": "display_data"
    }
   ],
   "source": [
    "plt.plot(np.arange(0, iteration), Jgd[0:iteration], label='treinamento')\n",
    "plt.plot(np.arange(0, iteration), Jgd_v[0:iteration], label='validação')\n",
    "plt.xlim((0, iteration))\n",
    "plt.yscale('log')\n",
    "plt.xlabel('Iteration')\n",
    "plt.ylabel('$J_e$')\n",
    "plt.title('Error vs. Iteration number')\n",
    "plt.legend()\n",
    "plt.grid()\n",
    "plt.show()"
   ]
  },
  {
   "cell_type": "markdown",
   "metadata": {},
   "source": [
    "### Calculando a acurácia do classificador."
   ]
  },
  {
   "cell_type": "code",
   "execution_count": 10,
   "metadata": {},
   "outputs": [
    {
     "name": "stdout",
     "output_type": "stream",
     "text": [
      "Acurácia: 1.0\n"
     ]
    }
   ],
   "source": [
    "# Calculate accuracy of class predictions.\n",
    "y_pred = classifier.predict(X_test)\n",
    "\n",
    "# SciKit-Learn's function. Imported from the metric's module.\n",
    "acc = accuracy_score(y_test, y_pred)\n",
    "print('Acurácia:', acc)"
   ]
  },
  {
   "cell_type": "markdown",
   "metadata": {},
   "source": [
    "### Plotando as regiões de decisão.\n",
    "\n",
    "**OBS:** Notem que a matriz de atributos criada para plotarmos as regiões de decisão também deve ter a mesma forma que as matrizes de atributos criadas para o treinamento e validação."
   ]
  },
  {
   "cell_type": "code",
   "execution_count": 11,
   "metadata": {},
   "outputs": [
    {
     "data": {
      "image/png": "[encoded data removed]",
      "text/plain": [
       "<Figure size 432x288 with 1 Axes>"
      ]
     },
     "metadata": {
      "needs_background": "light"
     },
     "output_type": "display_data"
    }
   ],
   "source": [
    "# Plot the decision boundary. For that, we will assign a color to each\n",
    "# point in the mesh [x_min, x_max]x[y_min, y_max].\n",
    "x_min, x_max = X[:, 0].min() - .5, X[:, 0].max() + .5\n",
    "y_min, y_max = X[:, 1].min() - .5, X[:, 1].max() + .5\n",
    "h = .02  # step size in the mesh\n",
    "xx, yy = np.meshgrid(np.arange(x_min, x_max, h), np.arange(y_min, y_max, h))\n",
    "\n",
    "# This attribute matrix must also follow the same shape \n",
    "# as the one created for the training.\n",
    "attribute_matrix = np.c_[np.ones((len(xx.ravel()), 1)), xx.ravel(), yy.ravel()]\n",
    "\n",
    "Z = classifier.predict(attribute_matrix)\n",
    "\n",
    "# Put the result into a color plot.\n",
    "Z = Z.reshape(xx.shape)\n",
    "plt.pcolormesh(xx, yy, Z, cmap=plt.cm.Greens, shading='auto')\n",
    "\n",
    "# Plot also the training points.\n",
    "plt.plot(X[idx0,0], X[idx0,1], '.', markersize=10, label='Class 0')\n",
    "plt.plot(X[idx1,0], X[idx1,1], 'r^', markersize=10, label='Class 1')\n",
    "plt.xlabel('$x_1$', fontsize=14)\n",
    "plt.ylabel('$x_2$', fontsize=14)\n",
    "\n",
    "plt.xlim(xx.min(), xx.max())\n",
    "plt.ylim(yy.min(), yy.max())\n",
    "\n",
    "plt.show()"
   ]
  },
  {
   "cell_type": "markdown",
   "metadata": {},
   "source": [
    "### Plotando a matriz de confusão.\n",
    "\n",
    "Uma métrica muito comum para verificar o desempenho de classificadores é a matriz de confusão.\n",
    "\n",
    "Através dela, podemos extrair várias métricas de desempenho, como veremos mais adiante.\n",
    "\n",
    "Vejamos o exemplo abaixo. As diferentes cores indicam a quantidade de exemplos num dado grupo.\n",
    "\n",
    "<img src=\"../../figures/matriz_de_confusão.png\" width=\"500\" height=\"500\">"
   ]
  },
  {
   "cell_type": "code",
   "execution_count": 21,
   "metadata": {},
   "outputs": [
    {
     "data": {
      "image/png": "[encoded data removed]",
      "text/plain": [
       "<Figure size 432x288 with 1 Axes>"
      ]
     },
     "metadata": {
      "needs_background": "light"
     },
     "output_type": "display_data"
    }
   ],
   "source": [
    "# Plot the confusion matrix. SciKit-Learn's function from metric's module.\n",
    "mat = confusion_matrix(y_test, y_pred)\n",
    "sns.heatmap(mat.T, square=True, annot=True, fmt='d', cbar=False, xticklabels=['1','0'], yticklabels=['1','0'], cmap=\"Blues\")\n",
    "plt.xlabel('true label')\n",
    "plt.ylabel('predicted label')\n",
    "plt.show()"
   ]
  }
 ],
 "metadata": {
  "kernelspec": {
   "display_name": "Python 3 (ipykernel)",
   "language": "python",
   "name": "python3"
  },
  "language_info": {
   "codemirror_mode": {
    "name": "ipython",
    "version": 3
   },
   "file_extension": ".py",
   "mimetype": "text/x-python",
   "name": "python",
   "nbconvert_exporter": "python",
   "pygments_lexer": "ipython3",
   "version": "3.9.7"
  }
 },
 "nbformat": 4,
 "nbformat_minor": 2
}
