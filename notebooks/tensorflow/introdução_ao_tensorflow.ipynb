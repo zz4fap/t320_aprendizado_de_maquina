{
 "cells": [
  {
   "cell_type": "markdown",
   "metadata": {
    "id": "jYysdyb-CaWM"
   },
   "source": [
    "# Introduçao ao Tensorflow"
   ]
  },
  {
   "cell_type": "markdown",
   "metadata": {},
   "source": [
    "Neste tutorial criaremos um modelo de rede neural para classificação de imagens de roupas, como tênis e camisetas.\n",
    "\n",
    "Neste tutorial veremos como:\n",
    "\n",
    "1. Criar uma rede neural que classifique imagens.\n",
    "2. Treinar essa rede neural.\n",
    "3. E, finalmente, avaliar o desempenho da rede."
   ]
  },
  {
   "cell_type": "markdown",
   "metadata": {
    "id": "FbVhjPpzn6BM"
   },
   "source": [
    "## Tensorflow\n",
    "\n",
    "TensorFlow é uma biblioteca de código aberto criada em 2015 pelo Google para aprendizado de máquina. \n",
    "\n",
    "Ela se tornou rapidamente uma das principais ferramentas para criação de redes neurais profundas, em inglês *deep learning*.\n",
    "\n",
    "O Tensorflow oferece suporte a GPUs, o que torna o treinamento de modelos de redes neurais muito mais rápido.\n",
    "\n",
    "Além disso, ela é utilizada para o desenvolvimento de aplicações de IA em larga escala.\n",
    "\n",
    "Entretanto, as APIs nativas do Tensorflow apresentam um alto grau de flexibilidade para a criação de redes neurais, o que exige um conhecimento avançado delas e de como configurá-las.\n",
    "\n",
    "## Keras\n",
    "\n",
    "É uma API de alto nível executada sobre o TensorFlow (e sobre outras bibliotecas de ML) que possibilita a criação simples e rápida de redes neurais.\n",
    "\n",
    "Portanto, o Keras facilita uso do Tensorflow em detrimento de uma menor flexibilidade.\n",
    "\n",
    "Assim, neste tutorial usaremos o Keras para construir e treinar modelos de redes neurais que executem sobre o TensorFlow."
   ]
  },
  {
   "cell_type": "markdown",
   "metadata": {
    "id": "TpFsgUenx3jc"
   },
   "source": [
    "## Importe as bibliotecas necessárias."
   ]
  },
  {
   "cell_type": "code",
   "execution_count": 1,
   "metadata": {
    "colab": {
     "base_uri": "https://localhost:8080/"
    },
    "id": "dzLKpmZICaWN",
    "outputId": "7651c5b3-41a2-4f1e-ee4f-360f70541f6c"
   },
   "outputs": [
    {
     "name": "stdout",
     "output_type": "stream",
     "text": [
      "2.7.0\n"
     ]
    }
   ],
   "source": [
    "# TensorFlow\n",
    "import tensorflow as tf\n",
    "\n",
    "# Bibliotecas Auxiliares\n",
    "import numpy as np\n",
    "import matplotlib.pyplot as plt\n",
    "import seaborn as sns\n",
    "\n",
    "print(tf.__version__)"
   ]
  },
  {
   "cell_type": "markdown",
   "metadata": {
    "id": "yR0EdgrLCaWR"
   },
   "source": [
    "## Importe a base de dados Fashion MNIST"
   ]
  },
  {
   "cell_type": "markdown",
   "metadata": {
    "id": "DLdCchMdCaWQ"
   },
   "source": [
    "Esse tutorial usa a base de dados [Fashion MNIST](https://github.com/zalandoresearch/fashion-mnist) que contém 70,000 imagens em tons de cinza em 10 categorias. As imagens mostram artigos individuais de roupas com baixa resolução (28 por 28 pixels), como vemos aqui:\n",
    "\n",
    "<table>\n",
    "  <tr><td>\n",
    "    <img src=\"https://tensorflow.org/images/fashion-mnist-sprite.png\"\n",
    "         alt=\"Fashion MNIST sprite\"  width=\"600\">\n",
    "  </td></tr>\n",
    "  <tr><td align=\"center\">\n",
    "    <b>Figure 1.</b> <a href=\"https://github.com/zalandoresearch/fashion-mnist\">Amostras de Fashion-MNIST</a> (por Zalando, MIT License).<br/>&nbsp;\n",
    "  </td></tr>\n",
    "</table>\n",
    "\n",
    "Usaremos 60,000 imagens para treinar nossa rede e 10,000 imagens para avaliar quão precisamente nossa rede aprendeu a classificar as imagens. \n",
    "\n",
    "Você pode acessar a base de dados *Fashion MNIST* diretamente do TensorFlow. \n",
    "\n",
    "Importe e carregue a base Fashion MNIST diretamente do TensorFlow:"
   ]
  },
  {
   "cell_type": "code",
   "execution_count": 2,
   "metadata": {
    "colab": {
     "base_uri": "https://localhost:8080/"
    },
    "id": "7MqDQO0KCaWS",
    "outputId": "ac7fbf7a-9e8f-428b-f8a7-698732db4324"
   },
   "outputs": [
    {
     "name": "stdout",
     "output_type": "stream",
     "text": [
      "Downloading data from https://storage.googleapis.com/tensorflow/tf-keras-datasets/train-labels-idx1-ubyte.gz\n",
      "32768/29515 [=================================] - 0s 0us/step\n",
      "40960/29515 [=========================================] - 0s 0us/step\n",
      "Downloading data from https://storage.googleapis.com/tensorflow/tf-keras-datasets/train-images-idx3-ubyte.gz\n",
      "26427392/26421880 [==============================] - 0s 0us/step\n",
      "26435584/26421880 [==============================] - 0s 0us/step\n",
      "Downloading data from https://storage.googleapis.com/tensorflow/tf-keras-datasets/t10k-labels-idx1-ubyte.gz\n",
      "16384/5148 [===============================================================================================] - 0s 0us/step\n",
      "Downloading data from https://storage.googleapis.com/tensorflow/tf-keras-datasets/t10k-images-idx3-ubyte.gz\n",
      "4423680/4422102 [==============================] - 0s 0us/step\n",
      "4431872/4422102 [==============================] - 0s 0us/step\n"
     ]
    }
   ],
   "source": [
    "(train_images, train_labels), (test_images, test_labels) = tf.keras.datasets.fashion_mnist.load_data()"
   ]
  },
  {
   "cell_type": "markdown",
   "metadata": {
    "id": "t9FDsUlxCaWW"
   },
   "source": [
    "A função `fashion_mnist.load_data()` retorna quatro arrays NumPy:\n",
    "\n",
    "* As *arrays* `train_images` e `train_labels`  são o *conjunto de treinamento*— os dados do modelo usados para aprender.\n",
    "* O modelo é testado com o *conjunto de validação*, as *arrays* `test_images` e `test_labels`.\n",
    "\n",
    "As imagens são arrays  NumPy de 28x28, com os valores de pixels entre 0 to 255. Os rótulos (i.e., *labels*) são uma array de inteiros, no intervalo de  0 a 9. \n",
    "\n",
    "Esse número corresponde à classe de roupa que cada imagem representa:\n",
    "\n",
    "<table>\n",
    "  <tr>\n",
    "    <th>Label</th>\n",
    "    <th>Classe</th>\n",
    "  </tr>\n",
    "  <tr>\n",
    "    <td>0</td>\n",
    "    <td>Camisetas/Top (T-shirt/top)</td>\n",
    "  </tr>\n",
    "  <tr>\n",
    "    <td>1</td>\n",
    "    <td>Calça (Trouser)</td>\n",
    "  </tr>\n",
    "    <tr>\n",
    "    <td>2</td>\n",
    "    <td>Suéter (Pullover)</td>\n",
    "  </tr>\n",
    "    <tr>\n",
    "    <td>3</td>\n",
    "    <td>Vestidos (Dress)</td>\n",
    "  </tr>\n",
    "    <tr>\n",
    "    <td>4</td>\n",
    "    <td>Casaco (Coat)</td>\n",
    "  </tr>\n",
    "    <tr>\n",
    "    <td>5</td>\n",
    "    <td>Sandálias (Sandal)</td>\n",
    "  </tr>\n",
    "    <tr>\n",
    "    <td>6</td>\n",
    "    <td>Camisas (Shirt)</td>\n",
    "  </tr>\n",
    "    <tr>\n",
    "    <td>7</td>\n",
    "    <td>Tênis (Sneaker)</td>\n",
    "  </tr>\n",
    "    <tr>\n",
    "    <td>8</td>\n",
    "    <td>Bolsa (Bag)</td>\n",
    "  </tr>\n",
    "    <tr>\n",
    "    <td>9</td>\n",
    "    <td>Botas (Ankle boot)</td>\n",
    "  </tr>\n",
    "</table>\n",
    "\n",
    "Cada imagem contém um único objeto e, portanto, é mapeada a só *label*. \n",
    "\n",
    "Já que o *nome das classes* não estão incluídas na base de dados, armazenamos os dados aqui para usá-los mais tarde quando plotarmos as imagens:"
   ]
  },
  {
   "cell_type": "code",
   "execution_count": 3,
   "metadata": {
    "id": "IjnLH5S2CaWx"
   },
   "outputs": [],
   "source": [
    "class_names = ['T-shirt/top', 'Trouser', 'Pullover', 'Dress', 'Coat',\n",
    "               'Sandal', 'Shirt', 'Sneaker', 'Bag', 'Ankle boot']"
   ]
  },
  {
   "cell_type": "markdown",
   "metadata": {
    "id": "Brm0b_KACaWX"
   },
   "source": [
    "## Explore os dados\n",
    "\n",
    "Vamos explorar o formato da base de dados antes de treinar o modelo. \n",
    "\n",
    "O próximo comando mostra que existem 60000 imagens no conjunto de treinamento, e cada imagem é representada por 28 x 28 pixels:"
   ]
  },
  {
   "cell_type": "code",
   "execution_count": 4,
   "metadata": {
    "colab": {
     "base_uri": "https://localhost:8080/"
    },
    "id": "zW5k_xz1CaWX",
    "outputId": "1c8a8ae9-9602-45d4-8f75-00896476c4df"
   },
   "outputs": [
    {
     "data": {
      "text/plain": [
       "(60000, 28, 28)"
      ]
     },
     "execution_count": 4,
     "metadata": {},
     "output_type": "execute_result"
    }
   ],
   "source": [
    "train_images.shape"
   ]
  },
  {
   "cell_type": "markdown",
   "metadata": {
    "id": "cIAcvQqMCaWf"
   },
   "source": [
    "Do mesmo modo, existem 60000 labels no conjunto de treinamento:"
   ]
  },
  {
   "cell_type": "code",
   "execution_count": 5,
   "metadata": {
    "colab": {
     "base_uri": "https://localhost:8080/"
    },
    "id": "TRFYHB2mCaWb",
    "outputId": "9779c817-b2e6-4653-fac3-25e144cd7121"
   },
   "outputs": [
    {
     "data": {
      "text/plain": [
       "60000"
      ]
     },
     "execution_count": 5,
     "metadata": {},
     "output_type": "execute_result"
    }
   ],
   "source": [
    "len(train_labels)"
   ]
  },
  {
   "cell_type": "markdown",
   "metadata": {
    "id": "YSlYxFuRCaWk"
   },
   "source": [
    "Cada label é um inteiro entre 0 e 9:"
   ]
  },
  {
   "cell_type": "code",
   "execution_count": 6,
   "metadata": {
    "colab": {
     "base_uri": "https://localhost:8080/"
    },
    "id": "XKnCTHz4CaWg",
    "outputId": "a6314317-2b1a-4fc3-a0a8-383af09d1430"
   },
   "outputs": [
    {
     "data": {
      "text/plain": [
       "array([9, 0, 0, ..., 3, 0, 5], dtype=uint8)"
      ]
     },
     "execution_count": 6,
     "metadata": {},
     "output_type": "execute_result"
    }
   ],
   "source": [
    "train_labels"
   ]
  },
  {
   "cell_type": "markdown",
   "metadata": {
    "id": "TMPI88iZpO2T"
   },
   "source": [
    "Existem 10000 imagens no conjunto de validação. Novamente, cada imagem é representada por 28 x 28 pixels:"
   ]
  },
  {
   "cell_type": "code",
   "execution_count": 7,
   "metadata": {
    "colab": {
     "base_uri": "https://localhost:8080/"
    },
    "id": "2KFnYlcwCaWl",
    "outputId": "7d65843c-833b-45ba-b76b-84047b3b6bfb"
   },
   "outputs": [
    {
     "data": {
      "text/plain": [
       "(10000, 28, 28)"
      ]
     },
     "execution_count": 7,
     "metadata": {},
     "output_type": "execute_result"
    }
   ],
   "source": [
    "test_images.shape"
   ]
  },
  {
   "cell_type": "markdown",
   "metadata": {
    "id": "rd0A0Iu0CaWq"
   },
   "source": [
    "E um conjunto de validação contendo 10000 labels das imagens :"
   ]
  },
  {
   "cell_type": "code",
   "execution_count": 8,
   "metadata": {
    "colab": {
     "base_uri": "https://localhost:8080/"
    },
    "id": "iJmPr5-ACaWn",
    "outputId": "e391279c-217c-4f5b-804a-f44b36796bd3"
   },
   "outputs": [
    {
     "data": {
      "text/plain": [
       "10000"
      ]
     },
     "execution_count": 8,
     "metadata": {},
     "output_type": "execute_result"
    }
   ],
   "source": [
    "len(test_labels)"
   ]
  },
  {
   "cell_type": "markdown",
   "metadata": {
    "id": "ES6uQoLKCaWr"
   },
   "source": [
    "## Pré-processe os dados\n",
    "\n",
    "Os dados precisam ser pré-processados antes de treinar a rede. \n",
    "\n",
    "Se você inspecionar a primeira imagem do conjunto de treinamento, você verá que os valores dos pixels estão entre 0 e 255:"
   ]
  },
  {
   "cell_type": "code",
   "execution_count": 9,
   "metadata": {
    "colab": {
     "base_uri": "https://localhost:8080/",
     "height": 265
    },
    "id": "m4VEw8Ud9Quh",
    "outputId": "02abdfbd-936f-40a2-d872-824e451dde3e"
   },
   "outputs": [
    {
     "data": {
      "image/png": "[encoded data removed]",
      "text/plain": [
       "<Figure size 432x288 with 2 Axes>"
      ]
     },
     "metadata": {
      "needs_background": "light"
     },
     "output_type": "display_data"
    }
   ],
   "source": [
    "plt.figure()\n",
    "plt.imshow(train_images[0])\n",
    "plt.colorbar()\n",
    "plt.grid(False)\n",
    "plt.show()"
   ]
  },
  {
   "cell_type": "markdown",
   "metadata": {
    "id": "Wz7l27Lz9S1P"
   },
   "source": [
    "Normalizamos esses valores no intervalo de 0 e 1 antes de alimentar o modelo da rede neural. Para fazer isso, dividimos os valores por 255. \n",
    "\n",
    "É importante que o **conjunto de treinamento** e o **conjunto de validação** sejam pré-processados do mesmo modo:"
   ]
  },
  {
   "cell_type": "code",
   "execution_count": 10,
   "metadata": {
    "id": "bW5WzIPlCaWv"
   },
   "outputs": [],
   "source": [
    "train_images = train_images / 255.0\n",
    "\n",
    "test_images = test_images / 255.0"
   ]
  },
  {
   "cell_type": "markdown",
   "metadata": {
    "id": "Ee638AlnCaWz"
   },
   "source": [
    "Para verificar que os dados estão no formato correto e que estamos prontos para construir e treinar a rede, vamos mostrar as primeiras 25 imagens do *conjunto de treinamento* e mostrar o nome das classes de cada imagem."
   ]
  },
  {
   "cell_type": "code",
   "execution_count": 11,
   "metadata": {
    "colab": {
     "base_uri": "https://localhost:8080/",
     "height": 589
    },
    "id": "oZTImqg_CaW1",
    "outputId": "79cf780a-d373-4ad7-e9ab-d152ec595818"
   },
   "outputs": [
    {
     "data": {
      "image/png": "[encoded data removed]",
      "text/plain": [
       "<Figure size 720x720 with 25 Axes>"
      ]
     },
     "metadata": {},
     "output_type": "display_data"
    }
   ],
   "source": [
    "plt.figure(figsize=(10,10))\n",
    "for i in range(25):\n",
    "    plt.subplot(5,5,i+1)\n",
    "    plt.xticks([])\n",
    "    plt.yticks([])\n",
    "    plt.grid(False)\n",
    "    plt.imshow(train_images[i], cmap=plt.cm.binary)\n",
    "    plt.xlabel(class_names[train_labels[i]])\n",
    "plt.show()"
   ]
  },
  {
   "cell_type": "markdown",
   "metadata": {
    "id": "59veuiEZCaW4"
   },
   "source": [
    "## Construindo o modelo\n",
    "\n",
    "Construir a rede neural requer\n",
    "\n",
    "1.   Criar e configurar as camadas do modelo,\n",
    "2.   e depois, compilar o modelo."
   ]
  },
  {
   "cell_type": "markdown",
   "metadata": {
    "id": "Gxg1XGm0eOBy"
   },
   "source": [
    "### Montar as camadas\n",
    "\n",
    "O principal bloco de construção de uma rede neural é a camada (*layer*). \n",
    "\n",
    "As camadas (*layers*) extraem representações dos dados de entrada da rede. Com sorte, essas representações são significativas o suficiente para classificar os dados de entrada.\n",
    "\n",
    "Muito do *deep learning* consiste em **sequencializar** várias camadas. As camadas, como `tf.keras.layers.Dense`, têm parâmetros (i.e., os pesos sinápticos e termos de bias) que são aprendidos durante a fase de treinamento.\n",
    "\n",
    "Sequencializamos um grupo de camadas com um objeto da classe `keras.Sequential`.\n",
    "\n",
    "Essa classe é apropriada para empilhar camadas, onde camada camada tem exatamente um tensor de entrada e um tensor de saída.\n",
    "\n",
    "+ Um tensor é uma generalização de vetores e matrizes e é facilmente entendido como uma array multidimensional.\n",
    "\n",
    "A classe `keras.Sequential` não permite o compartilhamento ou ramificação de camadas. Além disso, não podemos ter vários tensores de entrada ou de saída.\n",
    "\n",
    "Para modelos mais flexíveis, devemos usar a API `Functional`."
   ]
  },
  {
   "cell_type": "code",
   "execution_count": 12,
   "metadata": {
    "id": "9ODch-OFCaW4"
   },
   "outputs": [],
   "source": [
    "model = tf.keras.Sequential([\n",
    "    tf.keras.layers.Flatten(input_shape=(28, 28)),\n",
    "    tf.keras.layers.Dense(128, activation='relu'),\n",
    "    tf.keras.layers.Dense(10, activation='softmax')\n",
    "])"
   ]
  },
  {
   "cell_type": "markdown",
   "metadata": {
    "id": "gut8A_7rCaW6"
   },
   "source": [
    "A primeira camada da rede, `tf.keras.layers.Flatten`, transforma o formato da imagem de uma array com duas dimensões (28 por 28 pixels) em uma array de dimensão (28 * 28 = 784 pixels). Essa camada não tem parâmetros a serem aprendidos durante o treinamento, ela só redimensiona os dados de entrada. Como o próprio nome diz, ela achata os dados de entrada.\n",
    "\n",
    "Depois dos pixels serem achatados, a rede consiste de uma sequência de duas camadas do tipo `tf.keras.layers.Dense`. Essas são camadas chamadas de densamente ou totalmente conectadas. Isso significa que todas as entradas de uma camada são conectadas a todos os nós (ou neurônios) daquela camada.\n",
    "\n",
    "A primeira camada `Dense` tem 128 nós e usa a função de ativação *relu* em todos seus nós. A segunda (e última) camada tem 10 nós, usa uma função de ativação *softmax* e retorna uma array de 10 probabilidades. \n",
    "\n",
    "Cada nó de saída da rede gera um valor que indica a probabilidade (ou *confiança*) de que aquela imagem de entrada pertença a uma das 10 classes. A soma das 10 probabilidades sempre resulta em 1.\n"
   ]
  },
  {
   "cell_type": "markdown",
   "metadata": {
    "id": "SbQyaoqQIMo3"
   },
   "source": [
    "## Compile o modelo\n",
    "\n",
    "Antes do modelo ser treinado, é necessário algumas configurações, as quais serão adicionadas na etapa de *compilação* do modelo:\n",
    "\n",
    "* *Função de custo (Loss)* - Mede o quão preciso o modelo é durante seu treinamento. O objetivo é minimizar a função para *guiar* o modelo para a direção certa, ou seja, em direção ao mínimo da função. A função de custo `sparse_categorical_crossentropy` calcula a entropia cruzada entre os rótulos e as predições feitas pela rede.\n",
    "* *Optimizer* - Define como o modelo é atualizado com base no conjunto de treinamento e na função de custo. Podemos usar o gradiente descendente ou uma de suas várias versões, como o `Adam`, que é uma versão com ajuste adaptativo do passo de aprendizagem.\n",
    "* *Métricas* - São usadas para monitorar as iterações de treinamento e validação do modelo. O exemplo abaixo usa a *acurácia* como métrica."
   ]
  },
  {
   "cell_type": "code",
   "execution_count": 13,
   "metadata": {
    "id": "Lhan11blCaW7"
   },
   "outputs": [],
   "source": [
    "model.compile(loss='sparse_categorical_crossentropy',\n",
    "              optimizer='adam',\n",
    "              metrics=['accuracy'])"
   ]
  },
  {
   "cell_type": "markdown",
   "metadata": {
    "id": "qKF6uW-BCaW-"
   },
   "source": [
    "## Treine o modelo\n",
    "\n",
    "Para treinar, usamos o método `fit`. O modelo é treinado por 25 épocas com o conjunto de treinamento, ou seja, `train_images` e `train_labels` .\n",
    "\n",
    "O modelo é treinado com *mini-batches* de tamanho igual a 32 exemplos, que é o valor padrão do parâmetro `batch_size` do método `fit`.\n",
    "\n",
    "O método `fit` retorna um objeto do tipo `History` contendo o histórico de valores da função de custo e da acurácia ao longo das épocas de treinamento."
   ]
  },
  {
   "cell_type": "code",
   "execution_count": 14,
   "metadata": {
    "colab": {
     "base_uri": "https://localhost:8080/"
    },
    "id": "xvwvpA64CaW_",
    "outputId": "b033645a-0e38-4476-ffef-24b16347bc55"
   },
   "outputs": [
    {
     "name": "stdout",
     "output_type": "stream",
     "text": [
      "Epoch 1/25\n",
      "1875/1875 [==============================] - 5s 2ms/step - loss: 0.4942 - accuracy: 0.8260\n",
      "Epoch 2/25\n",
      "1875/1875 [==============================] - 4s 2ms/step - loss: 0.3731 - accuracy: 0.8659\n",
      "Epoch 3/25\n",
      "1875/1875 [==============================] - 4s 2ms/step - loss: 0.3345 - accuracy: 0.8773\n",
      "Epoch 4/25\n",
      "1875/1875 [==============================] - 4s 2ms/step - loss: 0.3114 - accuracy: 0.8863\n",
      "Epoch 5/25\n",
      "1875/1875 [==============================] - 4s 2ms/step - loss: 0.2930 - accuracy: 0.8918\n",
      "Epoch 6/25\n",
      "1875/1875 [==============================] - 4s 2ms/step - loss: 0.2806 - accuracy: 0.8967\n",
      "Epoch 7/25\n",
      "1875/1875 [==============================] - 4s 2ms/step - loss: 0.2698 - accuracy: 0.9003\n",
      "Epoch 8/25\n",
      "1875/1875 [==============================] - 4s 2ms/step - loss: 0.2560 - accuracy: 0.9047\n",
      "Epoch 9/25\n",
      "1875/1875 [==============================] - 4s 2ms/step - loss: 0.2476 - accuracy: 0.9076\n",
      "Epoch 10/25\n",
      "1875/1875 [==============================] - 4s 2ms/step - loss: 0.2396 - accuracy: 0.9109\n",
      "Epoch 11/25\n",
      "1875/1875 [==============================] - 4s 2ms/step - loss: 0.2321 - accuracy: 0.9127\n",
      "Epoch 12/25\n",
      "1875/1875 [==============================] - 4s 2ms/step - loss: 0.2237 - accuracy: 0.9161\n",
      "Epoch 13/25\n",
      "1875/1875 [==============================] - 4s 2ms/step - loss: 0.2170 - accuracy: 0.9191\n",
      "Epoch 14/25\n",
      "1875/1875 [==============================] - 4s 2ms/step - loss: 0.2118 - accuracy: 0.9205\n",
      "Epoch 15/25\n",
      "1875/1875 [==============================] - 4s 2ms/step - loss: 0.2060 - accuracy: 0.9229\n",
      "Epoch 16/25\n",
      "1875/1875 [==============================] - 4s 2ms/step - loss: 0.1982 - accuracy: 0.9260\n",
      "Epoch 17/25\n",
      "1875/1875 [==============================] - 4s 2ms/step - loss: 0.1917 - accuracy: 0.9275\n",
      "Epoch 18/25\n",
      "1875/1875 [==============================] - 4s 2ms/step - loss: 0.1878 - accuracy: 0.9295\n",
      "Epoch 19/25\n",
      "1875/1875 [==============================] - 4s 2ms/step - loss: 0.1826 - accuracy: 0.9309\n",
      "Epoch 20/25\n",
      "1875/1875 [==============================] - 4s 2ms/step - loss: 0.1771 - accuracy: 0.9328\n",
      "Epoch 21/25\n",
      "1875/1875 [==============================] - 4s 2ms/step - loss: 0.1747 - accuracy: 0.9340\n",
      "Epoch 22/25\n",
      "1875/1875 [==============================] - 4s 2ms/step - loss: 0.1706 - accuracy: 0.9373\n",
      "Epoch 23/25\n",
      "1875/1875 [==============================] - 4s 2ms/step - loss: 0.1658 - accuracy: 0.9375\n",
      "Epoch 24/25\n",
      "1875/1875 [==============================] - 4s 2ms/step - loss: 0.1621 - accuracy: 0.9401\n",
      "Epoch 25/25\n",
      "1875/1875 [==============================] - 4s 2ms/step - loss: 0.1590 - accuracy: 0.9400\n"
     ]
    }
   ],
   "source": [
    "history = model.fit(train_images, train_labels, epochs=25)"
   ]
  },
  {
   "cell_type": "markdown",
   "metadata": {
    "id": "W3ZVOhugCaXA"
   },
   "source": [
    "À medida que o modelo treina, as métricas **loss** e **acurácia** são mostradas. O modelo atinge uma acurácia de 94% com o conjunto de treinamento."
   ]
  },
  {
   "cell_type": "markdown",
   "metadata": {
    "id": "vz0exogweAMA"
   },
   "source": [
    "### Desempenho do modelo ao longo do treinamento\n",
    "\n",
    "Usamos as informações contidas no objeto do tipo `History` para plotar uma figura do erro/acurácia em função das épocas de treinamento."
   ]
  },
  {
   "cell_type": "code",
   "execution_count": 15,
   "metadata": {
    "colab": {
     "base_uri": "https://localhost:8080/",
     "height": 497
    },
    "id": "GpMAFlvFcnR1",
    "outputId": "ca8a9e64-dc75-4135-933e-a92cdaa6dadb"
   },
   "outputs": [
    {
     "data": {
      "image/png": "[encoded data removed]",
      "text/plain": [
       "<Figure size 720x576 with 1 Axes>"
      ]
     },
     "metadata": {
      "needs_background": "light"
     },
     "output_type": "display_data"
    }
   ],
   "source": [
    "plt.figure(figsize=(10, 8))\n",
    "plt.plot(history.history['accuracy'])\n",
    "plt.plot(history.history['loss'])\n",
    "plt.xlabel('epoch')\n",
    "plt.legend(['Accuracy', 'Loss'])\n",
    "plt.show()"
   ]
  },
  {
   "cell_type": "markdown",
   "metadata": {
    "id": "oEw4bZgGCaXB"
   },
   "source": [
    "## Avalie a acurácia\n",
    "\n",
    "Em seguida, verificamos o desempenho do modelo no conjunto de validação:"
   ]
  },
  {
   "cell_type": "code",
   "execution_count": 16,
   "metadata": {
    "colab": {
     "base_uri": "https://localhost:8080/"
    },
    "id": "VflXLEeECaXC",
    "outputId": "9398e742-5cf4-43ea-f8be-2674398e4e1f"
   },
   "outputs": [
    {
     "name": "stdout",
     "output_type": "stream",
     "text": [
      "313/313 - 1s - loss: 0.3624 - accuracy: 0.8905 - 522ms/epoch - 2ms/step\n",
      "\n",
      "Test accuracy: 0.890500009059906\n"
     ]
    }
   ],
   "source": [
    "test_loss, test_acc = model.evaluate(test_images, test_labels, verbose=2)\n",
    "\n",
    "print('\\nTest accuracy:', test_acc)"
   ]
  },
  {
   "cell_type": "markdown",
   "metadata": {
    "id": "yWfgsmVXCaXG"
   },
   "source": [
    "A acurácia com o conjunto de validação é um pouco menor do que a acurácia com o conjunto de treinamento. \n",
    "\n",
    "Essa diferença entre as duas acurácias representa um pequeno sobreajuste, em inglês, *overfitting*, do modelo no conjunto de treinamento."
   ]
  },
  {
   "cell_type": "markdown",
   "metadata": {
    "id": "xsoS7CPDCaXH"
   },
   "source": [
    "## Faça predições\n",
    "\n",
    "Usaremos o modelo treinado para realizar algumas predições de exemplos do conjunto de validação."
   ]
  },
  {
   "cell_type": "code",
   "execution_count": 17,
   "metadata": {
    "id": "Gl91RPhdCaXI"
   },
   "outputs": [],
   "source": [
    "predictions = model.predict(test_images)"
   ]
  },
  {
   "cell_type": "markdown",
   "metadata": {
    "id": "x9Kk1voUCaXJ"
   },
   "source": [
    "O modelo fez a predição para cada imagem no conjunto de validação. \n",
    "\n",
    "Vamos olhar a saída para a primeira predição:"
   ]
  },
  {
   "cell_type": "code",
   "execution_count": 18,
   "metadata": {
    "colab": {
     "base_uri": "https://localhost:8080/"
    },
    "id": "3DmJEUinCaXK",
    "outputId": "8b3ffcbd-647f-442b-d1da-4cb61afcbae2"
   },
   "outputs": [
    {
     "data": {
      "text/plain": [
       "array([1.99322919e-11, 2.14519432e-16, 4.57778997e-12, 1.74043991e-18,\n",
       "       5.73084399e-14, 3.90914465e-06, 3.84782614e-12, 1.01577025e-04,\n",
       "       2.87500948e-12, 9.99894500e-01], dtype=float32)"
      ]
     },
     "execution_count": 18,
     "metadata": {},
     "output_type": "execute_result"
    }
   ],
   "source": [
    "predictions[0]"
   ]
  },
  {
   "cell_type": "markdown",
   "metadata": {
    "id": "-hw1hgeSCaXN"
   },
   "source": [
    "A predição é uma array com 10 valores. \n",
    "\n",
    "Eles representam um a *confiança* do modelo que a imagem pertença a cada uma das diferentes classes de roupa. \n",
    "\n",
    "Com a função `np.argmax`, podemos verificar qual classe, ou seja, o índice, tem a maior *confiança* por parte do modelo."
   ]
  },
  {
   "cell_type": "code",
   "execution_count": 19,
   "metadata": {
    "colab": {
     "base_uri": "https://localhost:8080/"
    },
    "id": "qsqenuPnCaXO",
    "outputId": "0d12a92e-b58e-4aa1-91eb-d56aa949cdf7"
   },
   "outputs": [
    {
     "data": {
      "text/plain": [
       "9"
      ]
     },
     "execution_count": 19,
     "metadata": {},
     "output_type": "execute_result"
    }
   ],
   "source": [
    "np.argmax(predictions[0])"
   ]
  },
  {
   "cell_type": "markdown",
   "metadata": {
    "id": "E51yS7iCCaXO"
   },
   "source": [
    "Então, o modelo está confiante de que essa imagem é uma bota. \n",
    "\n",
    "Examinando os rótulos de validação, vemos que essa classificação está correta:"
   ]
  },
  {
   "cell_type": "code",
   "execution_count": 20,
   "metadata": {
    "colab": {
     "base_uri": "https://localhost:8080/"
    },
    "id": "Sd7Pgsu6CaXP",
    "outputId": "5f670da7-02ae-4d4d-ec68-d94caaf22b21"
   },
   "outputs": [
    {
     "data": {
      "text/plain": [
       "9"
      ]
     },
     "execution_count": 20,
     "metadata": {},
     "output_type": "execute_result"
    }
   ],
   "source": [
    "test_labels[0]"
   ]
  },
  {
   "cell_type": "markdown",
   "metadata": {
    "id": "DgAWoXmrJEiZ"
   },
   "source": [
    "## Matriz de Confusão\n",
    "\n",
    "A matriz de confusão é uma métrica usada para verificar a desempenho do\n",
    "classificador.\n",
    "\n",
    "Com ela, podemos verificar se o modelo está confundindo classes (ou seja, rotulando incorretamente um exemplo de uma classe como sendo de outra)."
   ]
  },
  {
   "cell_type": "code",
   "execution_count": 21,
   "metadata": {
    "colab": {
     "base_uri": "https://localhost:8080/",
     "height": 501
    },
    "id": "njCwK_-sJKMz",
    "outputId": "ef3337a8-40a5-466b-df49-6954cb4a1255"
   },
   "outputs": [
    {
     "data": {
      "image/png": "[encoded data removed]",
      "text/plain": [
       "<Figure size 720x576 with 1 Axes>"
      ]
     },
     "metadata": {
      "needs_background": "light"
     },
     "output_type": "display_data"
    }
   ],
   "source": [
    "# Predict.\n",
    "y_pred = np.argmax(model.predict(test_images), axis=1)\n",
    "\n",
    "# Plot the confusion matrix.\n",
    "plt.figure(figsize=(10, 8))\n",
    "mat = tf.math.confusion_matrix(test_labels, y_pred)\n",
    "sns.heatmap(mat, square=True, annot=True, fmt='d', cbar=False, xticklabels=range(10), yticklabels=range(10), cmap=\"Blues\")\n",
    "plt.ylabel('true label', fontsize=14)\n",
    "plt.xlabel('predicted label', fontsize=14)\n",
    "plt.show()"
   ]
  },
  {
   "cell_type": "markdown",
   "metadata": {
    "id": "-TUN6PbUYHi1"
   },
   "source": [
    "## Usando uma GPU\n",
    "\n",
    "Para acelerar o treinamento do modelo com bases de dados muito grandes, podemos habilitar o uso de GPUs através do menu *Edit* e, em seguida, *Notebook settings*. "
   ]
  }
 ],
 "metadata": {
  "colab": {
   "collapsed_sections": [],
   "name": "introdução_ao_tensorflow2",
   "provenance": [],
   "toc_visible": true
  },
  "kernelspec": {
   "display_name": "Python 3",
   "language": "python",
   "name": "python3"
  },
  "language_info": {
   "codemirror_mode": {
    "name": "ipython",
    "version": 3
   },
   "file_extension": ".py",
   "mimetype": "text/x-python",
   "name": "python",
   "nbconvert_exporter": "python",
   "pygments_lexer": "ipython3",
   "version": "3.7.7"
  }
 },
 "nbformat": 4,
 "nbformat_minor": 1
}
