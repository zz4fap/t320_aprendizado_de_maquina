{
  "cells": [
    {
      "cell_type": "markdown",
      "metadata": {
        "id": "jYysdyb-CaWM"
      },
      "source": [
        "# Introduçao ao Tensorflow"
      ]
    },
    {
      "cell_type": "markdown",
      "metadata": {
        "id": "1hc7kKg4o7rG"
      },
      "source": [
        "Neste tutorial criaremos um modelo de rede neural para **classificação de imagens de roupas**, como por exemplo tênis e camisetas.\n",
        "\n",
        "Na sequência, veremos como:\n",
        "\n",
        "1. Criar uma rede neural para classificação de imagens.\n",
        "2. Treinar essa rede neural.\n",
        "3. E, finalmente, avaliar o desempenho da rede."
      ]
    },
    {
      "cell_type": "markdown",
      "metadata": {
        "id": "FbVhjPpzn6BM"
      },
      "source": [
        "## Tensorflow\n",
        "\n",
        "TensorFlow é uma biblioteca de código aberto criada em 2015 pelo Google para aprendizado de máquina.\n",
        "\n",
        "Ela se tornou rapidamente uma das principais ferramentas para criação de redes neurais profundas, em inglês *deep learning*.\n",
        "\n",
        "O Tensorflow oferece **suporte a GPUs**, o que torna o **treinamento** de modelos de redes neurais **muito mais rápido**.\n",
        "\n",
        "Além disso, ela é utilizada para o **desenvolvimento** de aplicações de IA em **larga escala**.\n",
        "\n",
        "Entretanto, a API nativa do Tensorflow apresenta um **alto grau de flexibilidade** para a criação de redes neurais, o que **exige um conhecimento avançado** delas e de como configurá-las.\n",
        "\n",
        "## Keras\n",
        "\n",
        "+ É uma **API de alto nível** executada sobre o TensorFlow (e sobre outras bibliotecas de ML como a Theano) que possibilita a criação simples e rápida de redes neurais.\n",
        "    + Ou seja, possibilita a prototipagem rápida de redes neurais.\n",
        "\n",
        "\n",
        "<img src=\"https://github.com/zz4fap/t320_aprendizado_de_maquina/blob/main/figures/keras.png?raw=1\" width=\"300px\">\n",
        "\n",
        "+ Portanto, o Keras facilita uso do Tensorflow em detrimento de uma menor flexibilidade.\n",
        "\n",
        "+ Assim, neste tutorial usaremos o Keras para construir e treinar modelos de redes neurais que executem sobre o TensorFlow."
      ]
    },
    {
      "cell_type": "markdown",
      "metadata": {
        "id": "TpFsgUenx3jc"
      },
      "source": [
        "## Importe as bibliotecas necessárias.\n",
        "\n",
        "+ A forma mais simples de se instalar o tensorflow é através da interface gráfica da distribuição Anaconda.\n",
        "\n",
        "+ Ela também pode ser instalada via linha de comando com o gerenciador de pacotes `pip`:\n",
        "```bash\n",
        "pip install tensorflow\n",
        "```"
      ]
    },
    {
      "cell_type": "code",
      "execution_count": 16,
      "metadata": {
        "colab": {
          "base_uri": "https://localhost:8080/"
        },
        "id": "dzLKpmZICaWN",
        "outputId": "76cbdd45-aa98-483e-bdd8-99221f3abec0"
      },
      "outputs": [
        {
          "output_type": "stream",
          "name": "stdout",
          "text": [
            "2.17.1\n"
          ]
        }
      ],
      "source": [
        "# TensorFlow\n",
        "import tensorflow as tf\n",
        "\n",
        "# Bibliotecas Auxiliares\n",
        "import numpy as np\n",
        "import matplotlib.pyplot as plt\n",
        "import seaborn as sns\n",
        "from sklearn.metrics import confusion_matrix\n",
        "\n",
        "print(tf.__version__)"
      ]
    },
    {
      "cell_type": "markdown",
      "metadata": {
        "id": "yR0EdgrLCaWR"
      },
      "source": [
        "## Importe a base de dados Fashion MNIST"
      ]
    },
    {
      "cell_type": "markdown",
      "metadata": {
        "id": "DLdCchMdCaWQ"
      },
      "source": [
        "Esse tutorial usa a base de dados [Fashion MNIST](https://github.com/zalandoresearch/fashion-mnist) que contém 70.000 imagens em tons de cinza divididas em 10 categorias (ou classes).\n",
        "\n",
        "As imagens mostram **peças de roupa** com baixa resolução (28 por 28 pixels), como vemos abaixo.\n",
        "\n",
        "<table>\n",
        "  <tr><td>\n",
        "    <img src=\"https://tensorflow.org/images/fashion-mnist-sprite.png\"\n",
        "         alt=\"Fashion MNIST sprite\"  width=\"600\">\n",
        "  </td></tr>\n",
        "  <tr><td align=\"center\">\n",
        "    <b>Figure 1.</b> <a href=\"https://github.com/zalandoresearch/fashion-mnist\">Amostras de Fashion-MNIST</a> (por Zalando, MIT License).<br/>&nbsp;\n",
        "  </td></tr>\n",
        "</table>\n",
        "\n",
        "Usaremos 60.000 imagens para treinar nossa rede neural e 10.000 imagens para avaliar quão precisamente nossa rede aprendeu a classificar as imagens.\n",
        "\n",
        "Nós podemos acessar a base de dados *Fashion MNIST* diretamente do TensorFlow através da função `fashion_mnist.load_data()` do módulo `datasets`.\n",
        "\n",
        "Importe e carregue a base Fashion MNIST diretamente do TensorFlow:"
      ]
    },
    {
      "cell_type": "code",
      "execution_count": 17,
      "metadata": {
        "id": "7MqDQO0KCaWS"
      },
      "outputs": [],
      "source": [
        "(train_images, train_labels), (test_images, test_labels) = tf.keras.datasets.fashion_mnist.load_data()"
      ]
    },
    {
      "cell_type": "markdown",
      "metadata": {
        "id": "t9FDsUlxCaWW"
      },
      "source": [
        "A função `fashion_mnist.load_data()` retorna quatro arrays NumPy:\n",
        "\n",
        "* As *arrays* `train_images` e `train_labels` formam o *conjunto de treinamento*.\n",
        "* As *arrays* `test_images` e `test_labels` formam o *conjunto de validação*.\n",
        "\n",
        "As imagens são arrays NumPy de dimensão $28 \\times 28$ pixels. Os pixels têm valores inteiros entre 0 to 255. Os rótulos (i.e., *labels*) estão em uma array de inteiros e estão no intervalo de 0 a 9.\n",
        "\n",
        "O número do rótulo corresponde à classe de roupa que cada imagem representa:\n",
        "\n",
        "<table>\n",
        "  <tr>\n",
        "    <th>Label</th>\n",
        "    <th>Classe</th>\n",
        "  </tr>\n",
        "  <tr>\n",
        "    <td>0</td>\n",
        "    <td>Camisetas/Top (T-shirt/top)</td>\n",
        "  </tr>\n",
        "  <tr>\n",
        "    <td>1</td>\n",
        "    <td>Calça (Trouser)</td>\n",
        "  </tr>\n",
        "    <tr>\n",
        "    <td>2</td>\n",
        "    <td>Suéter (Pullover)</td>\n",
        "  </tr>\n",
        "    <tr>\n",
        "    <td>3</td>\n",
        "    <td>Vestidos (Dress)</td>\n",
        "  </tr>\n",
        "    <tr>\n",
        "    <td>4</td>\n",
        "    <td>Casaco (Coat)</td>\n",
        "  </tr>\n",
        "    <tr>\n",
        "    <td>5</td>\n",
        "    <td>Sandálias (Sandal)</td>\n",
        "  </tr>\n",
        "    <tr>\n",
        "    <td>6</td>\n",
        "    <td>Camisas (Shirt)</td>\n",
        "  </tr>\n",
        "    <tr>\n",
        "    <td>7</td>\n",
        "    <td>Tênis (Sneaker)</td>\n",
        "  </tr>\n",
        "    <tr>\n",
        "    <td>8</td>\n",
        "    <td>Bolsa (Bag)</td>\n",
        "  </tr>\n",
        "    <tr>\n",
        "    <td>9</td>\n",
        "    <td>Botas (Ankle boot)</td>\n",
        "  </tr>\n",
        "</table>\n",
        "\n",
        "Cada imagem contém um único objeto (i.e., uma peça de roupa) e, portanto, é mapeada em um só *rótulo*.\n",
        "\n",
        "O *nome das classes* não está incluído na base de dados. Portanto, armazenamos os nomes em uma lista para usá-los mais tarde quando plotarmos as imagens."
      ]
    },
    {
      "cell_type": "code",
      "execution_count": 18,
      "metadata": {
        "id": "IjnLH5S2CaWx"
      },
      "outputs": [],
      "source": [
        "class_names = ['T-shirt/top', 'Trouser', 'Pullover', 'Dress', 'Coat', 'Sandal', 'Shirt', 'Sneaker', 'Bag', 'Ankle boot']"
      ]
    },
    {
      "cell_type": "markdown",
      "metadata": {
        "id": "Brm0b_KACaWX"
      },
      "source": [
        "## Explore os dados\n",
        "\n",
        "Vamos explorar o formato da base de dados antes de treinar o modelo.\n",
        "\n",
        "O próximo comando mostra que existem 60.000 imagens no conjunto de treinamento e cada imagem é representada por $28 \\times 28$ pixels:"
      ]
    },
    {
      "cell_type": "code",
      "execution_count": 19,
      "metadata": {
        "colab": {
          "base_uri": "https://localhost:8080/"
        },
        "id": "zW5k_xz1CaWX",
        "outputId": "6c63cec2-720d-486e-e041-a35d6d1c946d"
      },
      "outputs": [
        {
          "output_type": "execute_result",
          "data": {
            "text/plain": [
              "(60000, 28, 28)"
            ]
          },
          "metadata": {},
          "execution_count": 19
        }
      ],
      "source": [
        "train_images.shape"
      ]
    },
    {
      "cell_type": "markdown",
      "metadata": {
        "id": "cIAcvQqMCaWf"
      },
      "source": [
        "Do mesmo modo, existem 60.000 labels no conjunto de treinamento:"
      ]
    },
    {
      "cell_type": "code",
      "execution_count": 20,
      "metadata": {
        "colab": {
          "base_uri": "https://localhost:8080/"
        },
        "id": "TRFYHB2mCaWb",
        "outputId": "95c72009-3fe5-4827-c9b2-b3f31fe159c9"
      },
      "outputs": [
        {
          "output_type": "execute_result",
          "data": {
            "text/plain": [
              "60000"
            ]
          },
          "metadata": {},
          "execution_count": 20
        }
      ],
      "source": [
        "len(train_labels)"
      ]
    },
    {
      "cell_type": "markdown",
      "metadata": {
        "id": "YSlYxFuRCaWk"
      },
      "source": [
        "Cada label é um valor inteiro entre 0 e 9:"
      ]
    },
    {
      "cell_type": "code",
      "execution_count": 21,
      "metadata": {
        "colab": {
          "base_uri": "https://localhost:8080/"
        },
        "id": "XKnCTHz4CaWg",
        "outputId": "7a6605c3-08f8-4357-e669-518d24460a30"
      },
      "outputs": [
        {
          "output_type": "execute_result",
          "data": {
            "text/plain": [
              "array([9, 0, 0, ..., 3, 0, 5], dtype=uint8)"
            ]
          },
          "metadata": {},
          "execution_count": 21
        }
      ],
      "source": [
        "train_labels"
      ]
    },
    {
      "cell_type": "markdown",
      "metadata": {
        "id": "TMPI88iZpO2T"
      },
      "source": [
        "Existem 10.000 imagens no conjunto de validação. Novamente, cada imagem é representada por uma array com $28 \\times 28$ pixels:"
      ]
    },
    {
      "cell_type": "code",
      "execution_count": 22,
      "metadata": {
        "colab": {
          "base_uri": "https://localhost:8080/"
        },
        "id": "2KFnYlcwCaWl",
        "outputId": "31190f96-f905-48f7-b2e7-c1ea6266b013"
      },
      "outputs": [
        {
          "output_type": "execute_result",
          "data": {
            "text/plain": [
              "(10000, 28, 28)"
            ]
          },
          "metadata": {},
          "execution_count": 22
        }
      ],
      "source": [
        "test_images.shape"
      ]
    },
    {
      "cell_type": "markdown",
      "metadata": {
        "id": "rd0A0Iu0CaWq"
      },
      "source": [
        "Do mesmo modo, existem 10.000 labels no conjunto de validação:"
      ]
    },
    {
      "cell_type": "code",
      "execution_count": 23,
      "metadata": {
        "colab": {
          "base_uri": "https://localhost:8080/"
        },
        "id": "iJmPr5-ACaWn",
        "outputId": "f1237062-7f42-4580-941d-f285105f3799"
      },
      "outputs": [
        {
          "output_type": "execute_result",
          "data": {
            "text/plain": [
              "10000"
            ]
          },
          "metadata": {},
          "execution_count": 23
        }
      ],
      "source": [
        "len(test_labels)"
      ]
    },
    {
      "cell_type": "markdown",
      "metadata": {
        "id": "ES6uQoLKCaWr"
      },
      "source": [
        "## Pré-processamento dos dados\n",
        "\n",
        "Os dados precisam ser pré-processados antes de treinar a rede.\n",
        "\n",
        "Se inspecionarmos a primeira imagem do conjunto de treinamento, veremos que os valores dos pixels são valores inteiros no intervalo 0 a 255:"
      ]
    },
    {
      "cell_type": "code",
      "execution_count": 24,
      "metadata": {
        "id": "xvpz3ReWW5z5",
        "outputId": "606dec92-4c7f-4b1f-d122-571bbcf59b45",
        "colab": {
          "base_uri": "https://localhost:8080/"
        }
      },
      "outputs": [
        {
          "output_type": "execute_result",
          "data": {
            "text/plain": [
              "dtype('uint8')"
            ]
          },
          "metadata": {},
          "execution_count": 24
        }
      ],
      "source": [
        "train_images.dtype"
      ]
    },
    {
      "cell_type": "code",
      "execution_count": 25,
      "metadata": {
        "colab": {
          "base_uri": "https://localhost:8080/",
          "height": 430
        },
        "id": "m4VEw8Ud9Quh",
        "outputId": "d16c0533-3a04-4ec9-f10b-f002f97555a7"
      },
      "outputs": [
        {
          "output_type": "display_data",
          "data": {
            "text/plain": [
              "<Figure size 640x480 with 2 Axes>"
            ],
            "image/png": "[encoded data removed]"
          },
          "metadata": {}
        }
      ],
      "source": [
        "plt.figure()\n",
        "plt.imshow(train_images[0])\n",
        "plt.colorbar()\n",
        "plt.grid(False)\n",
        "plt.show()"
      ]
    },
    {
      "cell_type": "markdown",
      "metadata": {
        "id": "Wz7l27Lz9S1P"
      },
      "source": [
        "Portanto, para **melhorar a estabilidade** do treinamento e **aumentar a velocidade de convergência**, nós normalizamos os valores das imagens.\n",
        "\n",
        "Normalizamos os valores dos pixels de forma que fiquem no intervalo entre 0 e 1 antes de alimentar o modelo da rede neural. Para fazer isso, dividimos os valores por 255.\n",
        "\n",
        "É importante que o **conjunto de treinamento** e o **conjunto de validação** sejam pré-processados do mesmo modo:"
      ]
    },
    {
      "cell_type": "code",
      "execution_count": 26,
      "metadata": {
        "id": "bW5WzIPlCaWv"
      },
      "outputs": [],
      "source": [
        "train_images = train_images / 255.0\n",
        "\n",
        "test_images = test_images / 255.0"
      ]
    },
    {
      "cell_type": "markdown",
      "metadata": {
        "id": "cZLGNvdDW5z6"
      },
      "source": [
        "Depois da divisão por 255.0, o tipo dos pixels passa a ser float."
      ]
    },
    {
      "cell_type": "code",
      "execution_count": 27,
      "metadata": {
        "id": "ps40dBRHW5z6",
        "outputId": "8b61ba32-7c2f-4b6c-b93e-4c52fa96ce46",
        "colab": {
          "base_uri": "https://localhost:8080/"
        }
      },
      "outputs": [
        {
          "output_type": "execute_result",
          "data": {
            "text/plain": [
              "dtype('float64')"
            ]
          },
          "metadata": {},
          "execution_count": 27
        }
      ],
      "source": [
        "train_images.dtype"
      ]
    },
    {
      "cell_type": "markdown",
      "metadata": {
        "id": "Ee638AlnCaWz"
      },
      "source": [
        "Para verificar que os dados estão no formato correto e que estamos prontos para construir e treinar a rede neural, vamos plotar as primeiras 25 imagens do *conjunto de treinamento* e mostrar o nome das classes de cada imagem."
      ]
    },
    {
      "cell_type": "code",
      "execution_count": 28,
      "metadata": {
        "colab": {
          "base_uri": "https://localhost:8080/",
          "height": 826
        },
        "id": "oZTImqg_CaW1",
        "outputId": "b8ef0a2e-cdc6-44c6-c7ed-042cd1656599"
      },
      "outputs": [
        {
          "output_type": "display_data",
          "data": {
            "text/plain": [
              "<Figure size 1000x1000 with 25 Axes>"
            ],
            "image/png": "[encoded data removed]"
          },
          "metadata": {}
        }
      ],
      "source": [
        "plt.figure(figsize=(10,10))\n",
        "for i in range(25):\n",
        "    plt.subplot(5,5,i+1)\n",
        "    plt.xticks([])\n",
        "    plt.yticks([])\n",
        "    plt.grid(False)\n",
        "    plt.imshow(train_images[i], cmap=plt.cm.binary)\n",
        "    plt.xlabel(class_names[train_labels[i]])\n",
        "plt.show()"
      ]
    },
    {
      "cell_type": "markdown",
      "metadata": {
        "id": "59veuiEZCaW4"
      },
      "source": [
        "## Construindo o modelo\n",
        "\n",
        "A construção da rede neural requer\n",
        "\n",
        "1.   Criar e configurar as camadas do modelo,\n",
        "2.   e depois, compilar o modelo."
      ]
    },
    {
      "cell_type": "markdown",
      "metadata": {
        "id": "Gxg1XGm0eOBy"
      },
      "source": [
        "### Montar as camadas\n",
        "\n",
        "O principal bloco de construção de uma rede neural é a camada (*layer*).\n",
        "\n",
        "Neste exemplo, usaremos camadas da classe `tf.keras.layers.Dense`. Essas camadas são totalmente conectadas, ou seja, as saídas da camada anterior se conectam a todos os nós da camada.\n",
        "\n",
        "A ideia é que as camadas vão extraindo representações dos dados de entrada da rede. Com sorte, essas representações serão significativas o suficiente para que ela classifique os dados de entrada.\n",
        "\n",
        "Nas redes de alimentação direta (*feed-forward*), como as Multi-Layer Perceptron, temos sequências de camadas que vão extraindo as informações dos dados de entrada.\n",
        "\n",
        "Portanto, o que vamos fazer é **sequencializar** (ou empilhar) várias camadas.\n",
        "\n",
        "Nós sequencializamos um grupo de camadas com um objeto da classe `keras.Sequential`.\n",
        "\n",
        "Essa classe é apropriada para empilhar camadas, onde cada camada tem exatamente um **tensor** de entrada e um tensor de saída.\n",
        "\n",
        "+ Um **tensor** é uma generalização de vetores e matrizes e é facilmente entendido como uma array multidimensional."
      ]
    },
    {
      "cell_type": "code",
      "execution_count": 29,
      "metadata": {
        "id": "9ODch-OFCaW4"
      },
      "outputs": [],
      "source": [
        "model = tf.keras.Sequential(\n",
        "    [\n",
        "        tf.keras.layers.Input(shape=(28, 28)),\n",
        "        tf.keras.layers.Flatten(),\n",
        "        tf.keras.layers.Dense(128, activation='relu'),\n",
        "        tf.keras.layers.Dense(10, activation='softmax')\n",
        "    ]\n",
        ")"
      ]
    },
    {
      "cell_type": "markdown",
      "metadata": {
        "id": "gut8A_7rCaW6"
      },
      "source": [
        "A primeira camada é a de entrada da rede, onde especificamos as dimensões do tensor de entrada, neste caso, das imagens.\n",
        "\n",
        "\n",
        "A segunda camada da rede, `tf.keras.layers.Flatten`, transforma o formato da imagem de uma array com duas dimensões (28 por 28 pixels) em uma array unidimensional com 784 pixels (i.e., 28 * 28 = 784 pixels).\n",
        "\n",
        "\n",
        "\n",
        "Essa camada não tem parâmetros a serem aprendidos durante o treinamento, ela só redimensiona os dados de entrada. Como o próprio nome diz, ela **achata** os dados de entrada.\n",
        "\n",
        "\n",
        "Por ser a primeira camada da rede neural, devemos definir o parâmetro `input_shape`, o qual define as dimensões dos exemplos de entrada da rede.\n",
        "\n",
        "\n",
        "Depois dos pixels serem achatados, a rede consiste de uma sequência de duas camadas do tipo `tf.keras.layers.Dense`. Essas são camadas chamadas de densamente ou totalmente conectadas. Isso significa que todos os sinais de entrada de uma camada são conectados a todos os nós (ou neurônios) daquela camada.\n",
        "\n",
        "\n",
        "\n",
        "A primeira camada `Dense`, que é única camada oculta desta rede, tem 128 nós e usa a função de ativação **relu** em todos seus nós.\n",
        "\n",
        "\n",
        "\n",
        "A segunda camada `Dense`, que é a camada de saída, tem 10 nós, pois temos 10 classes, usa uma função de ativação **softmax** e retorna uma array de 10 probabilidades.\n",
        "    \n",
        "+ Cada nó de saída da rede gera um valor que indica a probabilidade (ou **confiança**) de que aquela imagem de entrada pertença a uma das 10 classes. A soma das 10 probabilidades sempre resulta em 1 (propriedade da distribuição multinomial).\n"
      ]
    },
    {
      "cell_type": "markdown",
      "metadata": {
        "id": "SbQyaoqQIMo3"
      },
      "source": [
        "## Compilando o modelo\n",
        "\n",
        "Antes do modelo ser treinado, é necessário configurar alguns parâmetros necessários para o seu treinamento. Essa configuração é feita durante a etapa de **compilação** do modelo:\n",
        "\n",
        "* *loss*: define a **função de custo** a ser minimizada durante o processo de aprendizado. O objetivo é encontrar o conjunto de pesos que minimize essa função. A função de custo `sparse_categorical_crossentropy` calcula a entropia cruzada entre os rótulos e as predições feitas pela rede.\n",
        "\n",
        "\n",
        "* *optimizer*: define o algoritmo usado para atualizar os pesos da rede neural com base no conjunto de treinamento e na função de custo. Podemos usar o gradiente descendente estocástico (GDE) ou uma de suas várias versões, como o `Adam`, que é uma versão com ajuste adaptativo do passo de aprendizagem.\n",
        "\n",
        "\n",
        "\n",
        "* *metrics*: definimos as métricas usadas para monitorar o treinamento e validação do modelo. O exemplo abaixo usa a **acurácia** como métrica. Passamos uma lista, pois podemos definir mais de uma métrica a ser monitorada."
      ]
    },
    {
      "cell_type": "code",
      "execution_count": 30,
      "metadata": {
        "id": "Lhan11blCaW7"
      },
      "outputs": [],
      "source": [
        "model.compile(\n",
        "    loss='sparse_categorical_crossentropy',\n",
        "    optimizer='adam',\n",
        "    metrics=['accuracy']\n",
        ")"
      ]
    },
    {
      "cell_type": "markdown",
      "metadata": {
        "id": "qKF6uW-BCaW-"
      },
      "source": [
        "## Treinando o modelo\n",
        "\n",
        "Para treinar, usamos o método `fit`.\n",
        "\n",
        "\n",
        "O modelo é treinado por 25 épocas com o conjunto de treinamento, ou seja, `train_images` e `train_labels`. O número de épocas é configurado através do parâmetro `epochs`.\n",
        "\n",
        "\n",
        "O modelo é treinado usando **mini-batches** de tamanho igual a 32 amostras, que é o valor padrão do parâmetro `batch_size` do método `fit`.\n",
        "\n",
        "\n",
        "O método `fit` retorna um objeto do tipo `History` que contém um **dicionário** com o **histórico de valores da função de custo e da acurácia** ao longo das épocas de treinamento."
      ]
    },
    {
      "cell_type": "code",
      "execution_count": 31,
      "metadata": {
        "colab": {
          "base_uri": "https://localhost:8080/"
        },
        "id": "xvwvpA64CaW_",
        "outputId": "2441ddc8-0834-494c-c637-45f7bf8a4890"
      },
      "outputs": [
        {
          "output_type": "stream",
          "name": "stdout",
          "text": [
            "Epoch 1/25\n",
            "\u001b[1m1875/1875\u001b[0m \u001b[32m━━━━━━━━━━━━━━━━━━━━\u001b[0m\u001b[37m\u001b[0m \u001b[1m6s\u001b[0m 2ms/step - accuracy: 0.7830 - loss: 0.6219\n",
            "Epoch 2/25\n",
            "\u001b[1m1875/1875\u001b[0m \u001b[32m━━━━━━━━━━━━━━━━━━━━\u001b[0m\u001b[37m\u001b[0m \u001b[1m4s\u001b[0m 2ms/step - accuracy: 0.8653 - loss: 0.3778\n",
            "Epoch 3/25\n",
            "\u001b[1m1875/1875\u001b[0m \u001b[32m━━━━━━━━━━━━━━━━━━━━\u001b[0m\u001b[37m\u001b[0m \u001b[1m3s\u001b[0m 2ms/step - accuracy: 0.8750 - loss: 0.3412\n",
            "Epoch 4/25\n",
            "\u001b[1m1875/1875\u001b[0m \u001b[32m━━━━━━━━━━━━━━━━━━━━\u001b[0m\u001b[37m\u001b[0m \u001b[1m3s\u001b[0m 2ms/step - accuracy: 0.8846 - loss: 0.3115\n",
            "Epoch 5/25\n",
            "\u001b[1m1875/1875\u001b[0m \u001b[32m━━━━━━━━━━━━━━━━━━━━\u001b[0m\u001b[37m\u001b[0m \u001b[1m6s\u001b[0m 2ms/step - accuracy: 0.8907 - loss: 0.3008\n",
            "Epoch 6/25\n",
            "\u001b[1m1875/1875\u001b[0m \u001b[32m━━━━━━━━━━━━━━━━━━━━\u001b[0m\u001b[37m\u001b[0m \u001b[1m5s\u001b[0m 2ms/step - accuracy: 0.8971 - loss: 0.2788\n",
            "Epoch 7/25\n",
            "\u001b[1m1875/1875\u001b[0m \u001b[32m━━━━━━━━━━━━━━━━━━━━\u001b[0m\u001b[37m\u001b[0m \u001b[1m6s\u001b[0m 2ms/step - accuracy: 0.8993 - loss: 0.2705\n",
            "Epoch 8/25\n",
            "\u001b[1m1875/1875\u001b[0m \u001b[32m━━━━━━━━━━━━━━━━━━━━\u001b[0m\u001b[37m\u001b[0m \u001b[1m4s\u001b[0m 2ms/step - accuracy: 0.9055 - loss: 0.2564\n",
            "Epoch 9/25\n",
            "\u001b[1m1875/1875\u001b[0m \u001b[32m━━━━━━━━━━━━━━━━━━━━\u001b[0m\u001b[37m\u001b[0m \u001b[1m3s\u001b[0m 2ms/step - accuracy: 0.9077 - loss: 0.2495\n",
            "Epoch 10/25\n",
            "\u001b[1m1875/1875\u001b[0m \u001b[32m━━━━━━━━━━━━━━━━━━━━\u001b[0m\u001b[37m\u001b[0m \u001b[1m7s\u001b[0m 2ms/step - accuracy: 0.9096 - loss: 0.2420\n",
            "Epoch 11/25\n",
            "\u001b[1m1875/1875\u001b[0m \u001b[32m━━━━━━━━━━━━━━━━━━━━\u001b[0m\u001b[37m\u001b[0m \u001b[1m3s\u001b[0m 2ms/step - accuracy: 0.9107 - loss: 0.2328\n",
            "Epoch 12/25\n",
            "\u001b[1m1875/1875\u001b[0m \u001b[32m━━━━━━━━━━━━━━━━━━━━\u001b[0m\u001b[37m\u001b[0m \u001b[1m3s\u001b[0m 2ms/step - accuracy: 0.9155 - loss: 0.2236\n",
            "Epoch 13/25\n",
            "\u001b[1m1875/1875\u001b[0m \u001b[32m━━━━━━━━━━━━━━━━━━━━\u001b[0m\u001b[37m\u001b[0m \u001b[1m6s\u001b[0m 2ms/step - accuracy: 0.9174 - loss: 0.2168\n",
            "Epoch 14/25\n",
            "\u001b[1m1875/1875\u001b[0m \u001b[32m━━━━━━━━━━━━━━━━━━━━\u001b[0m\u001b[37m\u001b[0m \u001b[1m4s\u001b[0m 2ms/step - accuracy: 0.9232 - loss: 0.2059\n",
            "Epoch 15/25\n",
            "\u001b[1m1875/1875\u001b[0m \u001b[32m━━━━━━━━━━━━━━━━━━━━\u001b[0m\u001b[37m\u001b[0m \u001b[1m3s\u001b[0m 2ms/step - accuracy: 0.9234 - loss: 0.2048\n",
            "Epoch 16/25\n",
            "\u001b[1m1875/1875\u001b[0m \u001b[32m━━━━━━━━━━━━━━━━━━━━\u001b[0m\u001b[37m\u001b[0m \u001b[1m4s\u001b[0m 2ms/step - accuracy: 0.9243 - loss: 0.2009\n",
            "Epoch 17/25\n",
            "\u001b[1m1875/1875\u001b[0m \u001b[32m━━━━━━━━━━━━━━━━━━━━\u001b[0m\u001b[37m\u001b[0m \u001b[1m5s\u001b[0m 2ms/step - accuracy: 0.9297 - loss: 0.1861\n",
            "Epoch 18/25\n",
            "\u001b[1m1875/1875\u001b[0m \u001b[32m━━━━━━━━━━━━━━━━━━━━\u001b[0m\u001b[37m\u001b[0m \u001b[1m5s\u001b[0m 2ms/step - accuracy: 0.9306 - loss: 0.1840\n",
            "Epoch 19/25\n",
            "\u001b[1m1875/1875\u001b[0m \u001b[32m━━━━━━━━━━━━━━━━━━━━\u001b[0m\u001b[37m\u001b[0m \u001b[1m5s\u001b[0m 3ms/step - accuracy: 0.9330 - loss: 0.1776\n",
            "Epoch 20/25\n",
            "\u001b[1m1875/1875\u001b[0m \u001b[32m━━━━━━━━━━━━━━━━━━━━\u001b[0m\u001b[37m\u001b[0m \u001b[1m4s\u001b[0m 2ms/step - accuracy: 0.9327 - loss: 0.1794\n",
            "Epoch 21/25\n",
            "\u001b[1m1875/1875\u001b[0m \u001b[32m━━━━━━━━━━━━━━━━━━━━\u001b[0m\u001b[37m\u001b[0m \u001b[1m6s\u001b[0m 2ms/step - accuracy: 0.9359 - loss: 0.1702\n",
            "Epoch 22/25\n",
            "\u001b[1m1875/1875\u001b[0m \u001b[32m━━━━━━━━━━━━━━━━━━━━\u001b[0m\u001b[37m\u001b[0m \u001b[1m6s\u001b[0m 3ms/step - accuracy: 0.9371 - loss: 0.1674\n",
            "Epoch 23/25\n",
            "\u001b[1m1875/1875\u001b[0m \u001b[32m━━━━━━━━━━━━━━━━━━━━\u001b[0m\u001b[37m\u001b[0m \u001b[1m4s\u001b[0m 2ms/step - accuracy: 0.9373 - loss: 0.1661\n",
            "Epoch 24/25\n",
            "\u001b[1m1875/1875\u001b[0m \u001b[32m━━━━━━━━━━━━━━━━━━━━\u001b[0m\u001b[37m\u001b[0m \u001b[1m4s\u001b[0m 2ms/step - accuracy: 0.9379 - loss: 0.1625\n",
            "Epoch 25/25\n",
            "\u001b[1m1875/1875\u001b[0m \u001b[32m━━━━━━━━━━━━━━━━━━━━\u001b[0m\u001b[37m\u001b[0m \u001b[1m7s\u001b[0m 3ms/step - accuracy: 0.9418 - loss: 0.1549\n"
          ]
        }
      ],
      "source": [
        "history = model.fit(train_images, train_labels, epochs=25)"
      ]
    },
    {
      "cell_type": "markdown",
      "metadata": {
        "id": "W3ZVOhugCaXA"
      },
      "source": [
        "À medida que o modelo treina, as métricas **loss** e **acurácia** de treinamento são mostradas.\n",
        "\n",
        "\n",
        "O modelo atinge uma acurácia de aproximadamente 94% com o conjunto de treinamento."
      ]
    },
    {
      "cell_type": "markdown",
      "metadata": {
        "id": "vz0exogweAMA"
      },
      "source": [
        "### Desempenho do modelo ao longo do treinamento\n",
        "\n",
        "Usamos as informações contidas no objeto do tipo `History` para plotar uma figura do erro/acurácia em função das épocas de treinamento."
      ]
    },
    {
      "cell_type": "code",
      "execution_count": 32,
      "metadata": {
        "colab": {
          "base_uri": "https://localhost:8080/",
          "height": 570
        },
        "id": "GpMAFlvFcnR1",
        "outputId": "ed6bce9a-186b-4116-dbd6-0e046e873a3d"
      },
      "outputs": [
        {
          "output_type": "display_data",
          "data": {
            "text/plain": [
              "<Figure size 800x600 with 1 Axes>"
            ],
            "image/png": "[encoded data removed]"
          },
          "metadata": {}
        }
      ],
      "source": [
        "plt.figure(figsize=(8, 6))\n",
        "plt.plot(history.history['accuracy'])\n",
        "plt.plot(history.history['loss'])\n",
        "plt.xlabel('epoch', fontsize=14)\n",
        "plt.legend(['Accuracy', 'Loss'], fontsize=14)\n",
        "plt.title('Desempenho do modelo ao longo do treinamento', fontsize=14)\n",
        "plt.grid()\n",
        "plt.show()"
      ]
    },
    {
      "cell_type": "markdown",
      "metadata": {
        "id": "oEw4bZgGCaXB"
      },
      "source": [
        "## Avaliando a acurácia\n",
        "\n",
        "Em seguida, verificamos o desempenho do modelo no conjunto de validação.\n",
        "\n",
        "\n",
        "Para avaliar o desempenho, usamos o método `evaluate` da classe `Model` passando as imagens e rótulos de validação."
      ]
    },
    {
      "cell_type": "code",
      "execution_count": 33,
      "metadata": {
        "colab": {
          "base_uri": "https://localhost:8080/"
        },
        "id": "VflXLEeECaXC",
        "outputId": "395a8e1e-d0c3-4b47-b71b-22512e25e88d"
      },
      "outputs": [
        {
          "output_type": "stream",
          "name": "stdout",
          "text": [
            "\u001b[1m313/313\u001b[0m \u001b[32m━━━━━━━━━━━━━━━━━━━━\u001b[0m\u001b[37m\u001b[0m \u001b[1m1s\u001b[0m 3ms/step - accuracy: 0.8891 - loss: 0.3785\n",
            "\n",
            "Test accuracy: 0.888700008392334\n"
          ]
        }
      ],
      "source": [
        "test_loss, test_acc = model.evaluate(test_images, test_labels)\n",
        "\n",
        "print('\\nTest accuracy:', test_acc)"
      ]
    },
    {
      "cell_type": "markdown",
      "metadata": {
        "id": "yWfgsmVXCaXG"
      },
      "source": [
        "A acurácia com o conjunto de validação é um pouco menor do que a acurácia com o conjunto de treinamento.\n",
        "\n",
        "Essa diferença entre as duas acurácias representa um pequeno **sobreajuste**, em inglês, *overfitting*, do modelo no conjunto de treinamento."
      ]
    },
    {
      "cell_type": "markdown",
      "metadata": {
        "id": "xsoS7CPDCaXH"
      },
      "source": [
        "## Fazendo predições\n",
        "\n",
        "Usaremos o modelo treinado para realizar algumas predições de exemplos do conjunto de validação.\n",
        "\n",
        "\n",
        "Para realizar predições, usamos o método `predict` da classe `Model`."
      ]
    },
    {
      "cell_type": "code",
      "execution_count": 34,
      "metadata": {
        "id": "Gl91RPhdCaXI",
        "outputId": "36b6e032-794b-41fa-bb24-41122f5ba2fe",
        "colab": {
          "base_uri": "https://localhost:8080/"
        }
      },
      "outputs": [
        {
          "output_type": "stream",
          "name": "stdout",
          "text": [
            "\u001b[1m313/313\u001b[0m \u001b[32m━━━━━━━━━━━━━━━━━━━━\u001b[0m\u001b[37m\u001b[0m \u001b[1m1s\u001b[0m 2ms/step\n"
          ]
        }
      ],
      "source": [
        "predictions = model.predict(test_images)"
      ]
    },
    {
      "cell_type": "markdown",
      "metadata": {
        "id": "x9Kk1voUCaXJ"
      },
      "source": [
        "O modelo faz a predição para cada imagem no conjunto de validação e as atribuiu à variável `predictions`.\n",
        "\n",
        "Vamos verificar as dimensões desta variável."
      ]
    },
    {
      "cell_type": "code",
      "execution_count": 35,
      "metadata": {
        "id": "sOQvDZQ0W50G",
        "outputId": "7d9af138-fb36-4346-939f-11f8bcea7bbf",
        "colab": {
          "base_uri": "https://localhost:8080/"
        }
      },
      "outputs": [
        {
          "output_type": "execute_result",
          "data": {
            "text/plain": [
              "(10000, 10)"
            ]
          },
          "metadata": {},
          "execution_count": 35
        }
      ],
      "source": [
        "predictions.shape"
      ]
    },
    {
      "cell_type": "markdown",
      "metadata": {
        "id": "sf0NpEIiW50G"
      },
      "source": [
        "Essas dimensões significam que temos para cada uma das 10.000 imagens, 10 valores de probabilidade, um valor para cada uma das 10 possíveis classes a que podem pertencer as imagens.\n",
        "\n",
        "\n",
        "Vamos olhar a saída para a primeira predição:"
      ]
    },
    {
      "cell_type": "code",
      "execution_count": 36,
      "metadata": {
        "colab": {
          "base_uri": "https://localhost:8080/"
        },
        "id": "3DmJEUinCaXK",
        "outputId": "d229aaf9-c555-4ca0-8d93-94da98a12a13"
      },
      "outputs": [
        {
          "output_type": "execute_result",
          "data": {
            "text/plain": [
              "array([1.1892232e-10, 6.3306478e-13, 8.9347427e-14, 1.7143342e-21,\n",
              "       2.4272424e-13, 8.1064520e-08, 1.1670981e-10, 7.8230614e-06,\n",
              "       1.4318832e-13, 9.9999213e-01], dtype=float32)"
            ]
          },
          "metadata": {},
          "execution_count": 36
        }
      ],
      "source": [
        "predictions[0]"
      ]
    },
    {
      "cell_type": "markdown",
      "metadata": {
        "id": "-hw1hgeSCaXN"
      },
      "source": [
        "Como vemos acima, a predição para cada imagem é uma array com 10 valores.\n",
        "\n",
        "Cada valor representa a **confiança** (ou probabilidade) do modelo que a imagem pertença a cada uma das diferentes classes de roupa.\n",
        "\n",
        "Com a função `np.argmax`, podemos verificar qual classe, ou seja, o índice, tem a maior **probabilidade**."
      ]
    },
    {
      "cell_type": "code",
      "execution_count": 37,
      "metadata": {
        "colab": {
          "base_uri": "https://localhost:8080/"
        },
        "id": "qsqenuPnCaXO",
        "outputId": "83d6589b-2e99-4c0b-d6a5-3805678f3379"
      },
      "outputs": [
        {
          "output_type": "execute_result",
          "data": {
            "text/plain": [
              "9"
            ]
          },
          "metadata": {},
          "execution_count": 37
        }
      ],
      "source": [
        "np.argmax(predictions[0])"
      ]
    },
    {
      "cell_type": "markdown",
      "metadata": {
        "id": "E51yS7iCCaXO"
      },
      "source": [
        "Então, o modelo está bastante confiante de que essa imagem é uma **bota**.\n",
        "\n",
        "Examinando os rótulos de validação, vemos que essa classificação está correta:"
      ]
    },
    {
      "cell_type": "code",
      "execution_count": 38,
      "metadata": {
        "colab": {
          "base_uri": "https://localhost:8080/"
        },
        "id": "Sd7Pgsu6CaXP",
        "outputId": "f9357ec6-a049-4419-967d-5dcfe34d2a3a"
      },
      "outputs": [
        {
          "output_type": "execute_result",
          "data": {
            "text/plain": [
              "9"
            ]
          },
          "metadata": {},
          "execution_count": 38
        }
      ],
      "source": [
        "test_labels[0]"
      ]
    },
    {
      "cell_type": "markdown",
      "metadata": {
        "id": "DgAWoXmrJEiZ"
      },
      "source": [
        "## Plotando a matriz de confusão\n",
        "\n",
        "Plotamos a matriz de confusão para o conjunto de validação."
      ]
    },
    {
      "cell_type": "code",
      "execution_count": 39,
      "metadata": {
        "id": "GWVFbhpeW50H",
        "outputId": "2ac9ed4e-9e8e-490a-b019-b67f69cfcb25",
        "colab": {
          "base_uri": "https://localhost:8080/",
          "height": 466
        }
      },
      "outputs": [
        {
          "output_type": "stream",
          "name": "stdout",
          "text": [
            "\u001b[1m313/313\u001b[0m \u001b[32m━━━━━━━━━━━━━━━━━━━━\u001b[0m\u001b[37m\u001b[0m \u001b[1m0s\u001b[0m 1ms/step\n"
          ]
        },
        {
          "output_type": "display_data",
          "data": {
            "text/plain": [
              "<Figure size 640x480 with 1 Axes>"
            ],
            "image/png": "[encoded data removed]"
          },
          "metadata": {}
        }
      ],
      "source": [
        "# Predict.\n",
        "y_pred = np.argmax(model.predict(test_images), axis=1)\n",
        "\n",
        "# Plot the confusion matrix.\n",
        "mat = confusion_matrix(test_labels, y_pred)\n",
        "sns.heatmap(mat.T, square=True, annot=True, fmt='d', cbar=False, xticklabels=range(10), yticklabels=range(10), cmap=\"Blues\")\n",
        "plt.xlabel('True label')\n",
        "plt.ylabel('Predicted label')\n",
        "plt.show()"
      ]
    },
    {
      "cell_type": "markdown",
      "metadata": {
        "id": "FqZXH7643f4I"
      },
      "source": [
        "Percebam que o modelo se confunde com algumas classes. O principal motivo é a semelhança entre algumas delas e, claro, a baixa qualidade das imagens.\n",
        "\n",
        "Dois exemplos claros são\n",
        "\n",
        "+ Peças de roupa da classe 0 (Camisetas) sendo incorretamente classificadas como pertencentes à classe 6 (Camisas).\n",
        "+ Peças de roupa da classe 4 (Casacos) sendo incorretamente classificadas como pertencentes à classe 2 (Suéters)."
      ]
    },
    {
      "cell_type": "markdown",
      "metadata": {
        "id": "-TUN6PbUYHi1"
      },
      "source": [
        "## Usando uma GPU\n",
        "\n",
        "O treinamento que fizemos acima foi feito usando CPUs.\n",
        "\n",
        "\n",
        "Como esta é uma rede pequena, ela pode ser facilmente treinada em CPUs, mas conforme a rede se torna maior (i.e., mais camadas) e o conjunto de treinamento muito grande, a complexidade computacional necessária para o seu treinamento aumenta e, nesses casos, deve-se usar GPUs.\n",
        "\n",
        "\n",
        "Assim, para acelerar o treinamento de modelos muito grandes e com bases de dados muito grandes, podemos habilitar o uso de GPUs no Colab através do menu **Editar** e, em seguida, **Configurações de notebook**."
      ]
    },
    {
      "cell_type": "markdown",
      "metadata": {
        "id": "_lVQLB0KW50I"
      },
      "source": [
        "## Tarefa\n",
        "\n",
        "**OBS.: Este laboratório é opcional. Ele não faz parte dos 15% da nota de atividades, mas vale pontos extras.**\n",
        "\n",
        "1. <span style=\"color:blue\">**Laboratório #8 - Tensorflow**</span>: cliquem no link abaixo para accessar os exercícios do laboratório #8.\n",
        "\n",
        "[![Google Colab](https://badgen.net/badge/Launch/on%20Google%20Colab/blue?icon=terminal)](https://colab.research.google.com/github/zz4fap/t320_aprendizado_de_maquina/blob/main/labs/Laboratorio9.ipynb)"
      ]
    }
  ],
  "metadata": {
    "colab": {
      "provenance": []
    },
    "kernelspec": {
      "display_name": "Python 3",
      "name": "python3"
    },
    "language_info": {
      "codemirror_mode": {
        "name": "ipython",
        "version": 3
      },
      "file_extension": ".py",
      "mimetype": "text/x-python",
      "name": "python",
      "nbconvert_exporter": "python",
      "pygments_lexer": "ipython3",
      "version": "3.10.9"
    }
  },
  "nbformat": 4,
  "nbformat_minor": 0
}