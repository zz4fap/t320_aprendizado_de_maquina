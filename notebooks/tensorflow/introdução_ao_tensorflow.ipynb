{
 "cells": [
  {
   "cell_type": "markdown",
   "metadata": {
    "id": "jYysdyb-CaWM"
   },
   "source": [
    "# Introduçao ao Tensorflow"
   ]
  },
  {
   "cell_type": "markdown",
   "metadata": {
    "id": "1hc7kKg4o7rG"
   },
   "source": [
    "Neste tutorial criaremos um modelo de rede neural para **classificação de imagens de roupas**, como por exemplo tênis e camisetas.\n",
    "\n",
    "Na sequência, veremos como:\n",
    "\n",
    "1. Criar uma rede neural para classificação de imagens.\n",
    "2. Treinar essa rede neural.\n",
    "3. E, finalmente, avaliar o desempenho da rede."
   ]
  },
  {
   "cell_type": "markdown",
   "metadata": {
    "id": "FbVhjPpzn6BM"
   },
   "source": [
    "## Tensorflow\n",
    "\n",
    "TensorFlow é uma biblioteca de código aberto criada em 2015 pelo Google para aprendizado de máquina. \n",
    "\n",
    "Ela se tornou rapidamente uma das principais ferramentas para criação de redes neurais profundas, em inglês *deep learning*.\n",
    "\n",
    "O Tensorflow oferece **suporte a GPUs**, o que torna o **treinamento** de modelos de redes neurais **muito mais rápido**.\n",
    "\n",
    "Além disso, ela é utilizada para o **desenvolvimento** de aplicações de IA em **larga escala**.\n",
    "\n",
    "Entretanto, as APIs nativas do Tensorflow apresentam um **alto grau de flexibilidade** para a criação de redes neurais, o que **exige um conhecimento avançado** delas e de como configurá-las.\n",
    "\n",
    "## Keras\n",
    "\n",
    "É uma API de alto nível executada sobre o TensorFlow (e sobre outras bibliotecas de ML como a Theano) que possibilita a criação simples e rápida de redes neurais.\n",
    "\n",
    "Portanto, o Keras facilita uso do Tensorflow em detrimento de uma menor flexibilidade.\n",
    "\n",
    "Assim, neste tutorial usaremos o Keras para construir e treinar modelos de redes neurais que executem sobre o TensorFlow."
   ]
  },
  {
   "cell_type": "markdown",
   "metadata": {
    "id": "TpFsgUenx3jc"
   },
   "source": [
    "## Importe as bibliotecas necessárias."
   ]
  },
  {
   "cell_type": "code",
   "execution_count": 1,
   "metadata": {
    "colab": {
     "base_uri": "https://localhost:8080/"
    },
    "id": "dzLKpmZICaWN",
    "outputId": "78f72b99-e77c-4d17-a0d1-6ae23dfb9b1c"
   },
   "outputs": [
    {
     "name": "stdout",
     "output_type": "stream",
     "text": [
      "2.8.2\n"
     ]
    }
   ],
   "source": [
    "# TensorFlow\n",
    "import tensorflow as tf\n",
    "\n",
    "# Bibliotecas Auxiliares\n",
    "import numpy as np\n",
    "import matplotlib.pyplot as plt\n",
    "import seaborn as sns\n",
    "\n",
    "print(tf.__version__)"
   ]
  },
  {
   "cell_type": "markdown",
   "metadata": {
    "id": "yR0EdgrLCaWR"
   },
   "source": [
    "## Importe a base de dados Fashion MNIST"
   ]
  },
  {
   "cell_type": "markdown",
   "metadata": {
    "id": "DLdCchMdCaWQ"
   },
   "source": [
    "Esse tutorial usa a base de dados [Fashion MNIST](https://github.com/zalandoresearch/fashion-mnist) que contém 70.000 imagens em tons de cinza divididas em 10 categorias (ou classes). \n",
    "\n",
    "As imagens mostram peças de roupa com baixa resolução (28 por 28 pixels), como vemos aqui:\n",
    "\n",
    "<table>\n",
    "  <tr><td>\n",
    "    <img src=\"https://tensorflow.org/images/fashion-mnist-sprite.png\"\n",
    "         alt=\"Fashion MNIST sprite\"  width=\"600\">\n",
    "  </td></tr>\n",
    "  <tr><td align=\"center\">\n",
    "    <b>Figure 1.</b> <a href=\"https://github.com/zalandoresearch/fashion-mnist\">Amostras de Fashion-MNIST</a> (por Zalando, MIT License).<br/>&nbsp;\n",
    "  </td></tr>\n",
    "</table>\n",
    "\n",
    "Usaremos 60.000 imagens para treinar nossa rede e 10.000 imagens para avaliar quão precisamente nossa rede aprendeu a classificar as imagens. \n",
    "\n",
    "Nós podemos acessar a base de dados *Fashion MNIST* diretamente do TensorFlow através da função `fashion_mnist.load_data()` do módulo `datasets`.\n",
    "\n",
    "Importe e carregue a base Fashion MNIST diretamente do TensorFlow:"
   ]
  },
  {
   "cell_type": "code",
   "execution_count": 2,
   "metadata": {
    "id": "7MqDQO0KCaWS"
   },
   "outputs": [],
   "source": [
    "(train_images, train_labels), (test_images, test_labels) = tf.keras.datasets.fashion_mnist.load_data()"
   ]
  },
  {
   "cell_type": "markdown",
   "metadata": {
    "id": "t9FDsUlxCaWW"
   },
   "source": [
    "A função `fashion_mnist.load_data()` retorna quatro arrays NumPy:\n",
    "\n",
    "* As *arrays* `train_images` e `train_labels` formam o *conjunto de treinamento*.\n",
    "* As *arrays* `test_images` e `test_labels` formam o *conjunto de validação*.\n",
    "\n",
    "As imagens são arrays NumPy de dimensão $28 \\times 28$, com os valores de pixels entre 0 to 255. Os rótulos (i.e., *labels*) são uma array de inteiros, no intervalo de  0 a 9. \n",
    "\n",
    "O número do rótulo corresponde à classe de roupa que cada imagem representa:\n",
    "\n",
    "<table>\n",
    "  <tr>\n",
    "    <th>Label</th>\n",
    "    <th>Classe</th>\n",
    "  </tr>\n",
    "  <tr>\n",
    "    <td>0</td>\n",
    "    <td>Camisetas/Top (T-shirt/top)</td>\n",
    "  </tr>\n",
    "  <tr>\n",
    "    <td>1</td>\n",
    "    <td>Calça (Trouser)</td>\n",
    "  </tr>\n",
    "    <tr>\n",
    "    <td>2</td>\n",
    "    <td>Suéter (Pullover)</td>\n",
    "  </tr>\n",
    "    <tr>\n",
    "    <td>3</td>\n",
    "    <td>Vestidos (Dress)</td>\n",
    "  </tr>\n",
    "    <tr>\n",
    "    <td>4</td>\n",
    "    <td>Casaco (Coat)</td>\n",
    "  </tr>\n",
    "    <tr>\n",
    "    <td>5</td>\n",
    "    <td>Sandálias (Sandal)</td>\n",
    "  </tr>\n",
    "    <tr>\n",
    "    <td>6</td>\n",
    "    <td>Camisas (Shirt)</td>\n",
    "  </tr>\n",
    "    <tr>\n",
    "    <td>7</td>\n",
    "    <td>Tênis (Sneaker)</td>\n",
    "  </tr>\n",
    "    <tr>\n",
    "    <td>8</td>\n",
    "    <td>Bolsa (Bag)</td>\n",
    "  </tr>\n",
    "    <tr>\n",
    "    <td>9</td>\n",
    "    <td>Botas (Ankle boot)</td>\n",
    "  </tr>\n",
    "</table>\n",
    "\n",
    "Cada imagem contém um único objeto (peça de roupa) e, portanto, é mapeada a um só *label*. \n",
    "\n",
    "Já que o *nome das classes* não estão incluídas na base de dados, armazenamos os nomes em uma lista para usá-los mais tarde quando plotarmos as imagens:"
   ]
  },
  {
   "cell_type": "code",
   "execution_count": 3,
   "metadata": {
    "id": "IjnLH5S2CaWx"
   },
   "outputs": [],
   "source": [
    "class_names = ['T-shirt/top', 'Trouser', 'Pullover', 'Dress', 'Coat', 'Sandal', 'Shirt', 'Sneaker', 'Bag', 'Ankle boot']"
   ]
  },
  {
   "cell_type": "markdown",
   "metadata": {
    "id": "Brm0b_KACaWX"
   },
   "source": [
    "## Explore os dados\n",
    "\n",
    "Vamos explorar o formato da base de dados antes de treinar o modelo. \n",
    "\n",
    "O próximo comando mostra que existem 60.000 imagens no conjunto de treinamento, e cada imagem é representada por $28 \\times 28$ pixels:"
   ]
  },
  {
   "cell_type": "code",
   "execution_count": 4,
   "metadata": {
    "colab": {
     "base_uri": "https://localhost:8080/"
    },
    "id": "zW5k_xz1CaWX",
    "outputId": "a3b5a125-7807-46ff-ce53-6356875bb48c"
   },
   "outputs": [
    {
     "data": {
      "text/plain": [
       "(60000, 28, 28)"
      ]
     },
     "execution_count": 4,
     "metadata": {},
     "output_type": "execute_result"
    }
   ],
   "source": [
    "train_images.shape"
   ]
  },
  {
   "cell_type": "markdown",
   "metadata": {
    "id": "cIAcvQqMCaWf"
   },
   "source": [
    "Do mesmo modo, existem 60.000 labels no conjunto de treinamento:"
   ]
  },
  {
   "cell_type": "code",
   "execution_count": 5,
   "metadata": {
    "colab": {
     "base_uri": "https://localhost:8080/"
    },
    "id": "TRFYHB2mCaWb",
    "outputId": "b0eef5fb-9e37-4aae-8554-d2804cfc75d4"
   },
   "outputs": [
    {
     "data": {
      "text/plain": [
       "60000"
      ]
     },
     "execution_count": 5,
     "metadata": {},
     "output_type": "execute_result"
    }
   ],
   "source": [
    "len(train_labels)"
   ]
  },
  {
   "cell_type": "markdown",
   "metadata": {
    "id": "YSlYxFuRCaWk"
   },
   "source": [
    "Cada label é um inteiro entre 0 e 9:"
   ]
  },
  {
   "cell_type": "code",
   "execution_count": 6,
   "metadata": {
    "colab": {
     "base_uri": "https://localhost:8080/"
    },
    "id": "XKnCTHz4CaWg",
    "outputId": "f7cc203f-c430-4c7e-aaa2-5c30c7352e43"
   },
   "outputs": [
    {
     "data": {
      "text/plain": [
       "array([9, 0, 0, ..., 3, 0, 5], dtype=uint8)"
      ]
     },
     "execution_count": 6,
     "metadata": {},
     "output_type": "execute_result"
    }
   ],
   "source": [
    "train_labels"
   ]
  },
  {
   "cell_type": "markdown",
   "metadata": {
    "id": "TMPI88iZpO2T"
   },
   "source": [
    "Existem 10.000 imagens no conjunto de validação. Novamente, cada imagem é representada por $28 \\times 28$ pixels:"
   ]
  },
  {
   "cell_type": "code",
   "execution_count": 7,
   "metadata": {
    "colab": {
     "base_uri": "https://localhost:8080/"
    },
    "id": "2KFnYlcwCaWl",
    "outputId": "01f5eb86-7807-48e3-e68e-cd5e330c7de0"
   },
   "outputs": [
    {
     "data": {
      "text/plain": [
       "(10000, 28, 28)"
      ]
     },
     "execution_count": 7,
     "metadata": {},
     "output_type": "execute_result"
    }
   ],
   "source": [
    "test_images.shape"
   ]
  },
  {
   "cell_type": "markdown",
   "metadata": {
    "id": "rd0A0Iu0CaWq"
   },
   "source": [
    "E um conjunto de validação contendo 10.000 labels das imagens:"
   ]
  },
  {
   "cell_type": "code",
   "execution_count": 8,
   "metadata": {
    "colab": {
     "base_uri": "https://localhost:8080/"
    },
    "id": "iJmPr5-ACaWn",
    "outputId": "fc0731d9-3259-4a88-8311-a5e21fe8b400"
   },
   "outputs": [
    {
     "data": {
      "text/plain": [
       "10000"
      ]
     },
     "execution_count": 8,
     "metadata": {},
     "output_type": "execute_result"
    }
   ],
   "source": [
    "len(test_labels)"
   ]
  },
  {
   "cell_type": "markdown",
   "metadata": {
    "id": "ES6uQoLKCaWr"
   },
   "source": [
    "## Pré-processe os dados\n",
    "\n",
    "Os dados precisam ser pré-processados antes de treinar a rede. \n",
    "\n",
    "Se inspecionarmos a primeira imagem do conjunto de treinamento, veremos que os valores dos pixels estão entre 0 e 255:"
   ]
  },
  {
   "cell_type": "code",
   "execution_count": 9,
   "metadata": {
    "colab": {
     "base_uri": "https://localhost:8080/",
     "height": 265
    },
    "id": "m4VEw8Ud9Quh",
    "outputId": "148876d6-3bae-4e8d-982f-64d7324a06e7"
   },
   "outputs": [
    {
     "data": {
      "image/png": "[encoded data removed]",
      "text/plain": [
       "<Figure size 432x288 with 2 Axes>"
      ]
     },
     "metadata": {
      "needs_background": "light"
     },
     "output_type": "display_data"
    }
   ],
   "source": [
    "plt.figure()\n",
    "plt.imshow(train_images[0])\n",
    "plt.colorbar()\n",
    "plt.grid(False)\n",
    "plt.show()"
   ]
  },
  {
   "cell_type": "markdown",
   "metadata": {
    "id": "Wz7l27Lz9S1P"
   },
   "source": [
    "Normalizamos esses valores de forma que fiquem no intervalo entre 0 e 1 antes de alimentar o modelo da rede neural. Para fazer isso, dividimos os valores por 255. \n",
    "\n",
    "É importante que o **conjunto de treinamento** e o **conjunto de validação** sejam pré-processados do mesmo modo:"
   ]
  },
  {
   "cell_type": "code",
   "execution_count": 10,
   "metadata": {
    "id": "bW5WzIPlCaWv"
   },
   "outputs": [],
   "source": [
    "train_images = train_images / 255.0\n",
    "\n",
    "test_images = test_images / 255.0"
   ]
  },
  {
   "cell_type": "markdown",
   "metadata": {
    "id": "Ee638AlnCaWz"
   },
   "source": [
    "Para verificar que os dados estão no formato correto e que estamos prontos para construir e treinar a rede, vamos mostrar as primeiras 25 imagens do *conjunto de treinamento* e mostrar o nome das classes de cada imagem."
   ]
  },
  {
   "cell_type": "code",
   "execution_count": 11,
   "metadata": {
    "colab": {
     "base_uri": "https://localhost:8080/",
     "height": 589
    },
    "id": "oZTImqg_CaW1",
    "outputId": "26419ded-879d-440c-8598-6cdcd21a49cf"
   },
   "outputs": [
    {
     "data": {
      "image/png": "[encoded data removed]",
      "text/plain": [
       "<Figure size 720x720 with 25 Axes>"
      ]
     },
     "metadata": {},
     "output_type": "display_data"
    }
   ],
   "source": [
    "plt.figure(figsize=(10,10))\n",
    "for i in range(25):\n",
    "    plt.subplot(5,5,i+1)\n",
    "    plt.xticks([])\n",
    "    plt.yticks([])\n",
    "    plt.grid(False)\n",
    "    plt.imshow(train_images[i], cmap=plt.cm.binary)\n",
    "    plt.xlabel(class_names[train_labels[i]])\n",
    "plt.show()"
   ]
  },
  {
   "cell_type": "markdown",
   "metadata": {
    "id": "59veuiEZCaW4"
   },
   "source": [
    "## Construindo o modelo\n",
    "\n",
    "A construção da rede neural requer\n",
    "\n",
    "1.   Criar e configurar as camadas do modelo,\n",
    "2.   e depois, compilar o modelo."
   ]
  },
  {
   "cell_type": "markdown",
   "metadata": {
    "id": "Gxg1XGm0eOBy"
   },
   "source": [
    "### Montar as camadas\n",
    "\n",
    "O principal bloco de construção de uma rede neural é a camada (*layer*). \n",
    "\n",
    "As camadas (*layers*) extraem representações dos dados de entrada da rede. Com sorte, essas representações serão significativas o suficiente para classificar os dados de entrada.\n",
    "\n",
    "Muito do *deep learning* consiste em **sequencializar** (ou empilhar) várias camadas. Camadas, como `tf.keras.layers.Dense`, têm parâmetros (i.e., os pesos sinápticos e termos de bias) que são aprendidos durante a fase de treinamento.\n",
    "\n",
    "Sequencializamos um grupo de camadas com um objeto da classe `keras.Sequential`.\n",
    "\n",
    "Essa classe é apropriada para empilhar camadas, onde camada camada tem exatamente um tensor de entrada e um tensor de saída.\n",
    "\n",
    "+ Um tensor é uma generalização de vetores e matrizes e é facilmente entendido como uma array multidimensional."
   ]
  },
  {
   "cell_type": "code",
   "execution_count": 12,
   "metadata": {
    "id": "9ODch-OFCaW4"
   },
   "outputs": [],
   "source": [
    "model = tf.keras.Sequential([\n",
    "    tf.keras.layers.Flatten(input_shape=(28, 28)),\n",
    "    tf.keras.layers.Dense(128, activation='relu'),\n",
    "    tf.keras.layers.Dense(10, activation='softmax')\n",
    "])"
   ]
  },
  {
   "cell_type": "markdown",
   "metadata": {
    "id": "gut8A_7rCaW6"
   },
   "source": [
    "A primeira camada da rede, `tf.keras.layers.Flatten`, transforma o formato da imagem de uma array com duas dimensões (28 por 28 pixels) em uma array de dimensão (28 * 28 = 784 pixels). Essa camada não tem parâmetros a serem aprendidos durante o treinamento, ela só redimensiona os dados de entrada. Como o próprio nome diz, ela achata os dados de entrada.\n",
    "\n",
    "Depois dos pixels serem achatados, a rede consiste de uma sequência de duas camadas do tipo `tf.keras.layers.Dense`. Essas são camadas chamadas de densamente ou totalmente conectadas. Isso significa que todos os sinais de entrada de uma camada são conectados a todos os nós (ou neurônios) daquela camada.\n",
    "\n",
    "A primeira camada `Dense` tem 128 nós e usa a função de ativação *relu* em todos seus nós. \n",
    "\n",
    "A segunda (e última) camada tem 10 nós, usa uma função de ativação *softmax* e retorna uma array de 10 probabilidades. \n",
    "\n",
    "+ Cada nó de saída da rede gera um valor que indica a probabilidade (ou *confiança*) de que aquela imagem de entrada pertença a uma das 10 classes. A soma das 10 probabilidades sempre resulta em 1.\n"
   ]
  },
  {
   "cell_type": "markdown",
   "metadata": {
    "id": "SbQyaoqQIMo3"
   },
   "source": [
    "## Compile o modelo\n",
    "\n",
    "Antes do modelo ser treinado, é necessário algumas configurações, as quais serão adicionadas na etapa de *compilação* do modelo:\n",
    "\n",
    "* *Função de custo (Loss)* - Mede o quão preciso o modelo é durante seu treinamento. O objetivo é minimizar a função para *guiar* o modelo para a direção certa, ou seja, em direção ao mínimo da função. A função de custo `sparse_categorical_crossentropy` calcula a entropia cruzada entre os rótulos e as predições feitas pela rede.\n",
    "* *Optimizer* - Define como o modelo é atualizado com base no conjunto de treinamento e na função de custo. Podemos usar o gradiente descendente ou uma de suas várias versões, como o `Adam`, que é uma versão com ajuste adaptativo do passo de aprendizagem.\n",
    "* *Métricas* - São usadas para monitorar as iterações de treinamento e validação do modelo. O exemplo abaixo usa a *acurácia* como métrica."
   ]
  },
  {
   "cell_type": "code",
   "execution_count": 13,
   "metadata": {
    "id": "Lhan11blCaW7"
   },
   "outputs": [],
   "source": [
    "model.compile(loss='sparse_categorical_crossentropy',\n",
    "              optimizer='adam',\n",
    "              metrics=['accuracy'])"
   ]
  },
  {
   "cell_type": "markdown",
   "metadata": {
    "id": "qKF6uW-BCaW-"
   },
   "source": [
    "## Treine o modelo\n",
    "\n",
    "Para treinar, usamos o método `fit`. O modelo é treinado por 25 épocas com o conjunto de treinamento, ou seja, `train_images` e `train_labels` .\n",
    "\n",
    "O modelo é treinado com *mini-batches* de tamanho igual a 32 exemplos, que é o valor padrão do parâmetro `batch_size` do método `fit`.\n",
    "\n",
    "O método `fit` retorna um objeto do tipo `History` contendo o histórico de valores da função de custo e da acurácia ao longo das épocas de treinamento."
   ]
  },
  {
   "cell_type": "code",
   "execution_count": 14,
   "metadata": {
    "colab": {
     "base_uri": "https://localhost:8080/"
    },
    "id": "xvwvpA64CaW_",
    "outputId": "bd9a3054-18dc-41e9-fd86-e093b6279863"
   },
   "outputs": [
    {
     "name": "stdout",
     "output_type": "stream",
     "text": [
      "Epoch 1/25\n",
      "1875/1875 [==============================] - 9s 4ms/step - loss: 0.4972 - accuracy: 0.8257\n",
      "Epoch 2/25\n",
      "1875/1875 [==============================] - 9s 5ms/step - loss: 0.3740 - accuracy: 0.8639\n",
      "Epoch 3/25\n",
      "1875/1875 [==============================] - 7s 4ms/step - loss: 0.3374 - accuracy: 0.8762\n",
      "Epoch 4/25\n",
      "1875/1875 [==============================] - 5s 3ms/step - loss: 0.3129 - accuracy: 0.8859\n",
      "Epoch 5/25\n",
      "1875/1875 [==============================] - 4s 2ms/step - loss: 0.2951 - accuracy: 0.8917\n",
      "Epoch 6/25\n",
      "1875/1875 [==============================] - 4s 2ms/step - loss: 0.2793 - accuracy: 0.8962\n",
      "Epoch 7/25\n",
      "1875/1875 [==============================] - 4s 2ms/step - loss: 0.2686 - accuracy: 0.8997\n",
      "Epoch 8/25\n",
      "1875/1875 [==============================] - 4s 2ms/step - loss: 0.2568 - accuracy: 0.9048\n",
      "Epoch 9/25\n",
      "1875/1875 [==============================] - 4s 2ms/step - loss: 0.2464 - accuracy: 0.9079\n",
      "Epoch 10/25\n",
      "1875/1875 [==============================] - 4s 2ms/step - loss: 0.2400 - accuracy: 0.9105\n",
      "Epoch 11/25\n",
      "1875/1875 [==============================] - 4s 2ms/step - loss: 0.2309 - accuracy: 0.9128\n",
      "Epoch 12/25\n",
      "1875/1875 [==============================] - 4s 2ms/step - loss: 0.2240 - accuracy: 0.9159\n",
      "Epoch 13/25\n",
      "1875/1875 [==============================] - 4s 2ms/step - loss: 0.2175 - accuracy: 0.9184\n",
      "Epoch 14/25\n",
      "1875/1875 [==============================] - 4s 2ms/step - loss: 0.2097 - accuracy: 0.9214\n",
      "Epoch 15/25\n",
      "1875/1875 [==============================] - 4s 2ms/step - loss: 0.2045 - accuracy: 0.9227\n",
      "Epoch 16/25\n",
      "1875/1875 [==============================] - 4s 2ms/step - loss: 0.1980 - accuracy: 0.9257\n",
      "Epoch 17/25\n",
      "1875/1875 [==============================] - 4s 2ms/step - loss: 0.1923 - accuracy: 0.9273\n",
      "Epoch 18/25\n",
      "1875/1875 [==============================] - 4s 2ms/step - loss: 0.1899 - accuracy: 0.9290\n",
      "Epoch 19/25\n",
      "1875/1875 [==============================] - 4s 2ms/step - loss: 0.1830 - accuracy: 0.9322\n",
      "Epoch 20/25\n",
      "1875/1875 [==============================] - 4s 2ms/step - loss: 0.1800 - accuracy: 0.9319\n",
      "Epoch 21/25\n",
      "1875/1875 [==============================] - 4s 2ms/step - loss: 0.1743 - accuracy: 0.9337\n",
      "Epoch 22/25\n",
      "1875/1875 [==============================] - 4s 2ms/step - loss: 0.1699 - accuracy: 0.9363\n",
      "Epoch 23/25\n",
      "1875/1875 [==============================] - 4s 2ms/step - loss: 0.1667 - accuracy: 0.9369\n",
      "Epoch 24/25\n",
      "1875/1875 [==============================] - 4s 2ms/step - loss: 0.1615 - accuracy: 0.9391\n",
      "Epoch 25/25\n",
      "1875/1875 [==============================] - 5s 2ms/step - loss: 0.1583 - accuracy: 0.9408\n"
     ]
    }
   ],
   "source": [
    "history = model.fit(train_images, train_labels, epochs=25)"
   ]
  },
  {
   "cell_type": "markdown",
   "metadata": {
    "id": "W3ZVOhugCaXA"
   },
   "source": [
    "À medida que o modelo treina, as métricas **loss** e **acurácia** de treinamento são mostradas. O modelo atinge uma acurácia de aproximadamente 94% com o conjunto de treinamento."
   ]
  },
  {
   "cell_type": "markdown",
   "metadata": {
    "id": "vz0exogweAMA"
   },
   "source": [
    "### Desempenho do modelo ao longo do treinamento\n",
    "\n",
    "Usamos as informações contidas no objeto do tipo `History` para plotar uma figura do erro/acurácia em função das épocas de treinamento."
   ]
  },
  {
   "cell_type": "code",
   "execution_count": 23,
   "metadata": {
    "colab": {
     "base_uri": "https://localhost:8080/",
     "height": 409
    },
    "id": "GpMAFlvFcnR1",
    "outputId": "80bb401d-a823-4e7e-b1c3-0b9407551fd6"
   },
   "outputs": [
    {
     "data": {
      "image/png": "[encoded data removed]",
      "text/plain": [
       "<Figure size 576x432 with 1 Axes>"
      ]
     },
     "metadata": {
      "needs_background": "light"
     },
     "output_type": "display_data"
    }
   ],
   "source": [
    "plt.figure(figsize=(8, 6))\n",
    "plt.plot(history.history['accuracy'])\n",
    "plt.plot(history.history['loss'])\n",
    "plt.xlabel('epoch', fontsize=14)\n",
    "plt.legend(['Accuracy', 'Loss'], fontsize=14)\n",
    "plt.title('Desempenho do modelo ao longo do treinamento', fontsize=14)\n",
    "plt.grid()\n",
    "plt.show()"
   ]
  },
  {
   "cell_type": "markdown",
   "metadata": {
    "id": "oEw4bZgGCaXB"
   },
   "source": [
    "## Avalie a acurácia\n",
    "\n",
    "Em seguida, verificamos o desempenho do modelo no conjunto de validação:"
   ]
  },
  {
   "cell_type": "code",
   "execution_count": 16,
   "metadata": {
    "colab": {
     "base_uri": "https://localhost:8080/"
    },
    "id": "VflXLEeECaXC",
    "outputId": "5fb2829c-86f1-437d-d14d-798ab0c431df"
   },
   "outputs": [
    {
     "name": "stdout",
     "output_type": "stream",
     "text": [
      "313/313 - 1s - loss: 0.3941 - accuracy: 0.8881 - 611ms/epoch - 2ms/step\n",
      "\n",
      "Test accuracy: 0.8881000280380249\n"
     ]
    }
   ],
   "source": [
    "test_loss, test_acc = model.evaluate(test_images, test_labels, verbose=2)\n",
    "\n",
    "print('\\nTest accuracy:', test_acc)"
   ]
  },
  {
   "cell_type": "markdown",
   "metadata": {
    "id": "yWfgsmVXCaXG"
   },
   "source": [
    "A acurácia com o conjunto de validação é um pouco menor do que a acurácia com o conjunto de treinamento. \n",
    "\n",
    "Essa diferença entre as duas acurácias representa um pequeno **sobreajuste**, em inglês, *overfitting*, do modelo no conjunto de treinamento."
   ]
  },
  {
   "cell_type": "markdown",
   "metadata": {
    "id": "xsoS7CPDCaXH"
   },
   "source": [
    "## Faça predições\n",
    "\n",
    "Usaremos o modelo treinado para realizar algumas predições de exemplos do conjunto de validação."
   ]
  },
  {
   "cell_type": "code",
   "execution_count": 17,
   "metadata": {
    "id": "Gl91RPhdCaXI"
   },
   "outputs": [],
   "source": [
    "predictions = model.predict(test_images)"
   ]
  },
  {
   "cell_type": "markdown",
   "metadata": {
    "id": "x9Kk1voUCaXJ"
   },
   "source": [
    "O modelo fez a predição para cada imagem no conjunto de validação. \n",
    "\n",
    "Vamos olhar a saída para a primeira predição:"
   ]
  },
  {
   "cell_type": "code",
   "execution_count": 18,
   "metadata": {
    "colab": {
     "base_uri": "https://localhost:8080/"
    },
    "id": "3DmJEUinCaXK",
    "outputId": "47de5b21-f446-4447-e0fc-9272fdf2e3ae"
   },
   "outputs": [
    {
     "data": {
      "text/plain": [
       "array([5.1484742e-15, 4.8781372e-17, 2.1709058e-15, 4.7783846e-18,\n",
       "       2.2299336e-18, 4.3495461e-08, 6.4263794e-10, 8.9800823e-04,\n",
       "       4.7775692e-16, 9.9910200e-01], dtype=float32)"
      ]
     },
     "execution_count": 18,
     "metadata": {},
     "output_type": "execute_result"
    }
   ],
   "source": [
    "predictions[0]"
   ]
  },
  {
   "cell_type": "markdown",
   "metadata": {
    "id": "-hw1hgeSCaXN"
   },
   "source": [
    "A predição é uma array com 10 valores. \n",
    "\n",
    "Eles representam a *confiança* do modelo que a imagem pertença a cada uma das diferentes classes de roupa. \n",
    "\n",
    "Com a função `np.argmax`, podemos verificar qual classe, ou seja, o índice, tem a maior *confiança* por parte do modelo."
   ]
  },
  {
   "cell_type": "code",
   "execution_count": 19,
   "metadata": {
    "colab": {
     "base_uri": "https://localhost:8080/"
    },
    "id": "qsqenuPnCaXO",
    "outputId": "3359b2a1-7076-4ffb-f000-a3f4a6ddd6e4"
   },
   "outputs": [
    {
     "data": {
      "text/plain": [
       "9"
      ]
     },
     "execution_count": 19,
     "metadata": {},
     "output_type": "execute_result"
    }
   ],
   "source": [
    "np.argmax(predictions[0])"
   ]
  },
  {
   "cell_type": "markdown",
   "metadata": {
    "id": "E51yS7iCCaXO"
   },
   "source": [
    "Então, o modelo está confiante de que essa imagem é uma **bota**. \n",
    "\n",
    "Examinando os rótulos de validação, vemos que essa classificação está correta:"
   ]
  },
  {
   "cell_type": "code",
   "execution_count": 20,
   "metadata": {
    "colab": {
     "base_uri": "https://localhost:8080/"
    },
    "id": "Sd7Pgsu6CaXP",
    "outputId": "cd958b34-fba6-4ba0-f8fe-16ce3c9fd157"
   },
   "outputs": [
    {
     "data": {
      "text/plain": [
       "9"
      ]
     },
     "execution_count": 20,
     "metadata": {},
     "output_type": "execute_result"
    }
   ],
   "source": [
    "test_labels[0]"
   ]
  },
  {
   "cell_type": "markdown",
   "metadata": {
    "id": "DgAWoXmrJEiZ"
   },
   "source": [
    "## Matriz de Confusão\n",
    "\n",
    "A matriz de confusão é uma métrica usada para verificar a desempenho do\n",
    "classificador.\n",
    "\n",
    "Com ela, podemos verificar se o modelo está confundindo classes (ou seja, rotulando incorretamente um exemplo de uma classe como sendo de outra)."
   ]
  },
  {
   "cell_type": "code",
   "execution_count": 21,
   "metadata": {
    "colab": {
     "base_uri": "https://localhost:8080/",
     "height": 501
    },
    "id": "njCwK_-sJKMz",
    "outputId": "33a6e0cb-ccbb-40ff-ef15-51a26dac6ea3"
   },
   "outputs": [
    {
     "data": {
      "image/png": "[encoded data removed]",
      "text/plain": [
       "<Figure size 720x576 with 1 Axes>"
      ]
     },
     "metadata": {
      "needs_background": "light"
     },
     "output_type": "display_data"
    }
   ],
   "source": [
    "# Predict.\n",
    "y_pred = np.argmax(model.predict(test_images), axis=1)\n",
    "\n",
    "# Plot the confusion matrix.\n",
    "plt.figure(figsize=(10, 8))\n",
    "mat = tf.math.confusion_matrix(test_labels, y_pred)\n",
    "sns.heatmap(mat, square=True, annot=True, fmt='d', cbar=False, xticklabels=range(10), yticklabels=range(10), cmap=\"Blues\")\n",
    "plt.ylabel('true label', fontsize=14)\n",
    "plt.xlabel('predicted label', fontsize=14)\n",
    "plt.show()"
   ]
  },
  {
   "cell_type": "markdown",
   "metadata": {
    "id": "FqZXH7643f4I"
   },
   "source": [
    "Percebam que o modelo se confunde com algumas classes. O principal motivo é a semelhança entre algumas delas e, claro, a baixa qualidade das imagens.\n",
    "\n",
    "Dois exemplos claros são \n",
    "\n",
    "+ Peças de roupa da classe 0 (Camisetas) sendo incorretamente classificadas como pertnecnetes à classe 6 (Camisas).\n",
    "+ Peças da classe 4 (Casacos) sendo incorretamente classificadas como pertnecnetes à classe 2 (Suéters)."
   ]
  },
  {
   "cell_type": "markdown",
   "metadata": {
    "id": "-TUN6PbUYHi1"
   },
   "source": [
    "## Usando uma GPU\n",
    "\n",
    "Para acelerar o treinamento do modelo com bases de dados muito grandes, podemos habilitar o uso de GPUs através do menu **Editar** e, em seguida, **Configurações de notebook**. "
   ]
  },
  {
   "cell_type": "markdown",
   "metadata": {},
   "source": [
    "## Tarefa\n",
    "\n",
    "1. <span style=\"color:blue\">**Laboratório #9 - Tensorflow**</span>: cliquem no link abaixo para accessar os exercícios do laboratório #9.\n",
    "\n",
    "[![Google Colab](https://badgen.net/badge/Launch/on%20Google%20Colab/blue?icon=terminal)](https://colab.research.google.com/github/zz4fap/t320_aprendizado_de_maquina/blob/main/labs/Laboratorio9.ipynb)"
   ]
  }
 ],
 "metadata": {
  "accelerator": "GPU",
  "colab": {
   "collapsed_sections": [],
   "name": "introdução_ao_tensorflow.ipynb",
   "provenance": []
  },
  "gpuClass": "standard",
  "kernelspec": {
   "display_name": "Python 3 (ipykernel)",
   "language": "python",
   "name": "python3"
  },
  "language_info": {
   "codemirror_mode": {
    "name": "ipython",
    "version": 3
   },
   "file_extension": ".py",
   "mimetype": "text/x-python",
   "name": "python",
   "nbconvert_exporter": "python",
   "pygments_lexer": "ipython3",
   "version": "3.9.7"
  }
 },
 "nbformat": 4,
 "nbformat_minor": 1
}
