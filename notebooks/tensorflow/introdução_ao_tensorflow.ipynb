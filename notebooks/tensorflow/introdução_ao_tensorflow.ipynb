{
  "cells": [
    {
      "cell_type": "markdown",
      "metadata": {
        "id": "jYysdyb-CaWM"
      },
      "source": [
        "# Introduçao ao Tensorflow"
      ]
    },
    {
      "cell_type": "markdown",
      "metadata": {
        "id": "1hc7kKg4o7rG"
      },
      "source": [
        "Neste tutorial criaremos um modelo de rede neural para **classificação de imagens de roupas**, como por exemplo tênis e camisetas.\n",
        "\n",
        "Na sequência, veremos como:\n",
        "\n",
        "1. Criar uma rede neural para classificação de imagens.\n",
        "2. Treinar essa rede neural.\n",
        "3. E, finalmente, avaliar o desempenho da rede."
      ]
    },
    {
      "cell_type": "markdown",
      "metadata": {
        "id": "FbVhjPpzn6BM"
      },
      "source": [
        "## Tensorflow\n",
        "\n",
        "TensorFlow é uma biblioteca de código aberto criada em 2015 pelo Google para aprendizado de máquina.\n",
        "\n",
        "Ela se tornou rapidamente uma das principais ferramentas para criação de redes neurais profundas, em inglês *deep learning*.\n",
        "\n",
        "O Tensorflow oferece **suporte a GPUs**, o que torna o **treinamento** de modelos de redes neurais **muito mais rápido**.\n",
        "\n",
        "Além disso, ela é utilizada para o **desenvolvimento** de aplicações de IA em **larga escala**.\n",
        "\n",
        "Entretanto, a API nativa do Tensorflow apresenta um **alto grau de flexibilidade** para a criação de redes neurais, o que **exige um conhecimento avançado** delas e de como configurá-las.\n",
        "\n",
        "## Keras\n",
        "\n",
        "+ É uma **API de alto nível** executada sobre o TensorFlow (e sobre outras bibliotecas de ML como a Theano) que possibilita a criação simples e rápida de redes neurais.\n",
        "    + Ou seja, possibilita a prototipagem rápida de redes neurais.\n",
        "\n",
        "\n",
        "<img src=\"https://github.com/zz4fap/t320_aprendizado_de_maquina/blob/main/figures/keras.png?raw=1\" width=\"300px\">\n",
        "\n",
        "+ Portanto, o Keras facilita uso do Tensorflow em detrimento de uma menor flexibilidade.\n",
        "\n",
        "+ Assim, neste tutorial usaremos o Keras para construir e treinar modelos de redes neurais que executem sobre o TensorFlow."
      ]
    },
    {
      "cell_type": "markdown",
      "metadata": {
        "id": "TpFsgUenx3jc"
      },
      "source": [
        "## Importe as bibliotecas necessárias.\n",
        "\n",
        "+ A forma mais simples de se instalar o tensorflow é através da interface gráfica da distribuição Anaconda.\n",
        "\n",
        "+ Ela também pode ser instalada via linha de comando com o gerenciador de pacotes `pip`:\n",
        "```bash\n",
        "pip install tensorflow\n",
        "```"
      ]
    },
    {
      "cell_type": "code",
      "execution_count": 1,
      "metadata": {
        "colab": {
          "base_uri": "https://localhost:8080/"
        },
        "id": "dzLKpmZICaWN",
        "outputId": "65887913-4fad-42c6-dbac-23108fe50983"
      },
      "outputs": [
        {
          "output_type": "stream",
          "name": "stdout",
          "text": [
            "2.15.0\n"
          ]
        }
      ],
      "source": [
        "# TensorFlow\n",
        "import tensorflow as tf\n",
        "\n",
        "# Bibliotecas Auxiliares\n",
        "import numpy as np\n",
        "import matplotlib.pyplot as plt\n",
        "import seaborn as sns\n",
        "from sklearn.metrics import confusion_matrix\n",
        "\n",
        "print(tf.__version__)"
      ]
    },
    {
      "cell_type": "markdown",
      "metadata": {
        "id": "yR0EdgrLCaWR"
      },
      "source": [
        "## Importe a base de dados Fashion MNIST"
      ]
    },
    {
      "cell_type": "markdown",
      "metadata": {
        "id": "DLdCchMdCaWQ"
      },
      "source": [
        "Esse tutorial usa a base de dados [Fashion MNIST](https://github.com/zalandoresearch/fashion-mnist) que contém 70.000 imagens em tons de cinza divididas em 10 categorias (ou classes).\n",
        "\n",
        "As imagens mostram **peças de roupa** com baixa resolução (28 por 28 pixels), como vemos abaixo.\n",
        "\n",
        "<table>\n",
        "  <tr><td>\n",
        "    <img src=\"https://tensorflow.org/images/fashion-mnist-sprite.png\"\n",
        "         alt=\"Fashion MNIST sprite\"  width=\"600\">\n",
        "  </td></tr>\n",
        "  <tr><td align=\"center\">\n",
        "    <b>Figure 1.</b> <a href=\"https://github.com/zalandoresearch/fashion-mnist\">Amostras de Fashion-MNIST</a> (por Zalando, MIT License).<br/>&nbsp;\n",
        "  </td></tr>\n",
        "</table>\n",
        "\n",
        "Usaremos 60.000 imagens para treinar nossa rede neural e 10.000 imagens para avaliar quão precisamente nossa rede aprendeu a classificar as imagens.\n",
        "\n",
        "Nós podemos acessar a base de dados *Fashion MNIST* diretamente do TensorFlow através da função `fashion_mnist.load_data()` do módulo `datasets`.\n",
        "\n",
        "Importe e carregue a base Fashion MNIST diretamente do TensorFlow:"
      ]
    },
    {
      "cell_type": "code",
      "execution_count": 2,
      "metadata": {
        "id": "7MqDQO0KCaWS",
        "colab": {
          "base_uri": "https://localhost:8080/"
        },
        "outputId": "85a6eb72-d969-42af-813c-1f5258835277"
      },
      "outputs": [
        {
          "output_type": "stream",
          "name": "stdout",
          "text": [
            "Downloading data from https://storage.googleapis.com/tensorflow/tf-keras-datasets/train-labels-idx1-ubyte.gz\n",
            "29515/29515 [==============================] - 0s 0us/step\n",
            "Downloading data from https://storage.googleapis.com/tensorflow/tf-keras-datasets/train-images-idx3-ubyte.gz\n",
            "26421880/26421880 [==============================] - 0s 0us/step\n",
            "Downloading data from https://storage.googleapis.com/tensorflow/tf-keras-datasets/t10k-labels-idx1-ubyte.gz\n",
            "5148/5148 [==============================] - 0s 0us/step\n",
            "Downloading data from https://storage.googleapis.com/tensorflow/tf-keras-datasets/t10k-images-idx3-ubyte.gz\n",
            "4422102/4422102 [==============================] - 0s 0us/step\n"
          ]
        }
      ],
      "source": [
        "(train_images, train_labels), (test_images, test_labels) = tf.keras.datasets.fashion_mnist.load_data()"
      ]
    },
    {
      "cell_type": "markdown",
      "metadata": {
        "id": "t9FDsUlxCaWW"
      },
      "source": [
        "A função `fashion_mnist.load_data()` retorna quatro arrays NumPy:\n",
        "\n",
        "* As *arrays* `train_images` e `train_labels` formam o *conjunto de treinamento*.\n",
        "* As *arrays* `test_images` e `test_labels` formam o *conjunto de validação*.\n",
        "\n",
        "As imagens são arrays NumPy de dimensão $28 \\times 28$ pixels. Os pixels têm valores inteiros entre 0 to 255. Os rótulos (i.e., *labels*) estão em uma array de inteiros e estão no intervalo de 0 a 9.\n",
        "\n",
        "O número do rótulo corresponde à classe de roupa que cada imagem representa:\n",
        "\n",
        "<table>\n",
        "  <tr>\n",
        "    <th>Label</th>\n",
        "    <th>Classe</th>\n",
        "  </tr>\n",
        "  <tr>\n",
        "    <td>0</td>\n",
        "    <td>Camisetas/Top (T-shirt/top)</td>\n",
        "  </tr>\n",
        "  <tr>\n",
        "    <td>1</td>\n",
        "    <td>Calça (Trouser)</td>\n",
        "  </tr>\n",
        "    <tr>\n",
        "    <td>2</td>\n",
        "    <td>Suéter (Pullover)</td>\n",
        "  </tr>\n",
        "    <tr>\n",
        "    <td>3</td>\n",
        "    <td>Vestidos (Dress)</td>\n",
        "  </tr>\n",
        "    <tr>\n",
        "    <td>4</td>\n",
        "    <td>Casaco (Coat)</td>\n",
        "  </tr>\n",
        "    <tr>\n",
        "    <td>5</td>\n",
        "    <td>Sandálias (Sandal)</td>\n",
        "  </tr>\n",
        "    <tr>\n",
        "    <td>6</td>\n",
        "    <td>Camisas (Shirt)</td>\n",
        "  </tr>\n",
        "    <tr>\n",
        "    <td>7</td>\n",
        "    <td>Tênis (Sneaker)</td>\n",
        "  </tr>\n",
        "    <tr>\n",
        "    <td>8</td>\n",
        "    <td>Bolsa (Bag)</td>\n",
        "  </tr>\n",
        "    <tr>\n",
        "    <td>9</td>\n",
        "    <td>Botas (Ankle boot)</td>\n",
        "  </tr>\n",
        "</table>\n",
        "\n",
        "Cada imagem contém um único objeto (i.e., uma peça de roupa) e, portanto, é mapeada em um só *rótulo*.\n",
        "\n",
        "O *nome das classes* não está incluído na base de dados. Portanto, armazenamos os nomes em uma lista para usá-los mais tarde quando plotarmos as imagens."
      ]
    },
    {
      "cell_type": "code",
      "execution_count": 3,
      "metadata": {
        "id": "IjnLH5S2CaWx"
      },
      "outputs": [],
      "source": [
        "class_names = ['T-shirt/top', 'Trouser', 'Pullover', 'Dress', 'Coat', 'Sandal', 'Shirt', 'Sneaker', 'Bag', 'Ankle boot']"
      ]
    },
    {
      "cell_type": "markdown",
      "metadata": {
        "id": "Brm0b_KACaWX"
      },
      "source": [
        "## Explore os dados\n",
        "\n",
        "Vamos explorar o formato da base de dados antes de treinar o modelo.\n",
        "\n",
        "O próximo comando mostra que existem 60.000 imagens no conjunto de treinamento e cada imagem é representada por $28 \\times 28$ pixels:"
      ]
    },
    {
      "cell_type": "code",
      "execution_count": 4,
      "metadata": {
        "colab": {
          "base_uri": "https://localhost:8080/"
        },
        "id": "zW5k_xz1CaWX",
        "outputId": "2edd5b02-3dc7-47b6-9fb0-2ae25873c8bf"
      },
      "outputs": [
        {
          "output_type": "execute_result",
          "data": {
            "text/plain": [
              "(60000, 28, 28)"
            ]
          },
          "metadata": {},
          "execution_count": 4
        }
      ],
      "source": [
        "train_images.shape"
      ]
    },
    {
      "cell_type": "markdown",
      "metadata": {
        "id": "cIAcvQqMCaWf"
      },
      "source": [
        "Do mesmo modo, existem 60.000 labels no conjunto de treinamento:"
      ]
    },
    {
      "cell_type": "code",
      "execution_count": 5,
      "metadata": {
        "colab": {
          "base_uri": "https://localhost:8080/"
        },
        "id": "TRFYHB2mCaWb",
        "outputId": "d9b3b3ab-18a5-49b4-cf8b-b767d00e95bb"
      },
      "outputs": [
        {
          "output_type": "execute_result",
          "data": {
            "text/plain": [
              "60000"
            ]
          },
          "metadata": {},
          "execution_count": 5
        }
      ],
      "source": [
        "len(train_labels)"
      ]
    },
    {
      "cell_type": "markdown",
      "metadata": {
        "id": "YSlYxFuRCaWk"
      },
      "source": [
        "Cada label é um valor inteiro entre 0 e 9:"
      ]
    },
    {
      "cell_type": "code",
      "execution_count": 6,
      "metadata": {
        "colab": {
          "base_uri": "https://localhost:8080/"
        },
        "id": "XKnCTHz4CaWg",
        "outputId": "0649ce87-a0b6-4355-f35d-c4b08348d14a"
      },
      "outputs": [
        {
          "output_type": "execute_result",
          "data": {
            "text/plain": [
              "array([9, 0, 0, ..., 3, 0, 5], dtype=uint8)"
            ]
          },
          "metadata": {},
          "execution_count": 6
        }
      ],
      "source": [
        "train_labels"
      ]
    },
    {
      "cell_type": "markdown",
      "metadata": {
        "id": "TMPI88iZpO2T"
      },
      "source": [
        "Existem 10.000 imagens no conjunto de validação. Novamente, cada imagem é representada por uma array com $28 \\times 28$ pixels:"
      ]
    },
    {
      "cell_type": "code",
      "execution_count": 7,
      "metadata": {
        "colab": {
          "base_uri": "https://localhost:8080/"
        },
        "id": "2KFnYlcwCaWl",
        "outputId": "31f9a2d6-d17e-4d96-e9a0-425e00d3fa85"
      },
      "outputs": [
        {
          "output_type": "execute_result",
          "data": {
            "text/plain": [
              "(10000, 28, 28)"
            ]
          },
          "metadata": {},
          "execution_count": 7
        }
      ],
      "source": [
        "test_images.shape"
      ]
    },
    {
      "cell_type": "markdown",
      "metadata": {
        "id": "rd0A0Iu0CaWq"
      },
      "source": [
        "Do mesmo modo, existem 10.000 labels no conjunto de validação:"
      ]
    },
    {
      "cell_type": "code",
      "execution_count": 8,
      "metadata": {
        "colab": {
          "base_uri": "https://localhost:8080/"
        },
        "id": "iJmPr5-ACaWn",
        "outputId": "f5d129a3-6fe3-4637-8d22-56c4aa513618"
      },
      "outputs": [
        {
          "output_type": "execute_result",
          "data": {
            "text/plain": [
              "10000"
            ]
          },
          "metadata": {},
          "execution_count": 8
        }
      ],
      "source": [
        "len(test_labels)"
      ]
    },
    {
      "cell_type": "markdown",
      "metadata": {
        "id": "ES6uQoLKCaWr"
      },
      "source": [
        "## Pré-processamento dos dados\n",
        "\n",
        "Os dados precisam ser pré-processados antes de treinar a rede.\n",
        "\n",
        "Se inspecionarmos a primeira imagem do conjunto de treinamento, veremos que os valores dos pixels são valores interios no intervalo 0 a 255:"
      ]
    },
    {
      "cell_type": "code",
      "execution_count": 9,
      "metadata": {
        "id": "xvpz3ReWW5z5",
        "outputId": "30504530-f932-4678-b345-98a704358ad6",
        "colab": {
          "base_uri": "https://localhost:8080/"
        }
      },
      "outputs": [
        {
          "output_type": "execute_result",
          "data": {
            "text/plain": [
              "dtype('uint8')"
            ]
          },
          "metadata": {},
          "execution_count": 9
        }
      ],
      "source": [
        "train_images.dtype"
      ]
    },
    {
      "cell_type": "code",
      "execution_count": 10,
      "metadata": {
        "colab": {
          "base_uri": "https://localhost:8080/",
          "height": 430
        },
        "id": "m4VEw8Ud9Quh",
        "outputId": "6bd367aa-6c72-4a14-ac64-059285b0d8eb"
      },
      "outputs": [
        {
          "output_type": "display_data",
          "data": {
            "text/plain": [
              "<Figure size 640x480 with 2 Axes>"
            ],
            "image/png": "[encoded data removed]"
          },
          "metadata": {}
        }
      ],
      "source": [
        "plt.figure()\n",
        "plt.imshow(train_images[0])\n",
        "plt.colorbar()\n",
        "plt.grid(False)\n",
        "plt.show()"
      ]
    },
    {
      "cell_type": "markdown",
      "metadata": {
        "id": "Wz7l27Lz9S1P"
      },
      "source": [
        "Portanto, para **melhorar a estabilidade** do treinamento e **aumentar a velocidade de convergência**, nós normalizamos os valores das imagens.\n",
        "\n",
        "Normalizamos os valores dos pixels de forma que fiquem no intervalo entre 0 e 1 antes de alimentar o modelo da rede neural. Para fazer isso, dividimos os valores por 255.\n",
        "\n",
        "É importante que o **conjunto de treinamento** e o **conjunto de validação** sejam pré-processados do mesmo modo:"
      ]
    },
    {
      "cell_type": "code",
      "execution_count": 11,
      "metadata": {
        "id": "bW5WzIPlCaWv"
      },
      "outputs": [],
      "source": [
        "train_images = train_images / 255.0\n",
        "\n",
        "test_images = test_images / 255.0"
      ]
    },
    {
      "cell_type": "markdown",
      "metadata": {
        "id": "cZLGNvdDW5z6"
      },
      "source": [
        "Depois da divisão por 255.0, o tipo dos pixels passa a ser float."
      ]
    },
    {
      "cell_type": "code",
      "execution_count": 12,
      "metadata": {
        "id": "ps40dBRHW5z6",
        "outputId": "76cb9a9e-7506-44dc-db02-fad6abd61539",
        "colab": {
          "base_uri": "https://localhost:8080/"
        }
      },
      "outputs": [
        {
          "output_type": "execute_result",
          "data": {
            "text/plain": [
              "dtype('float64')"
            ]
          },
          "metadata": {},
          "execution_count": 12
        }
      ],
      "source": [
        "train_images.dtype"
      ]
    },
    {
      "cell_type": "markdown",
      "metadata": {
        "id": "Ee638AlnCaWz"
      },
      "source": [
        "Para verificar que os dados estão no formato correto e que estamos prontos para construir e treinar a rede neural, vamos plotar as primeiras 25 imagens do *conjunto de treinamento* e mostrar o nome das classes de cada imagem."
      ]
    },
    {
      "cell_type": "code",
      "execution_count": 13,
      "metadata": {
        "colab": {
          "base_uri": "https://localhost:8080/",
          "height": 826
        },
        "id": "oZTImqg_CaW1",
        "outputId": "8b30b52e-3aac-42ca-a1db-89a76353054e"
      },
      "outputs": [
        {
          "output_type": "display_data",
          "data": {
            "text/plain": [
              "<Figure size 1000x1000 with 25 Axes>"
            ],
            "image/png": "[encoded data removed]"
          },
          "metadata": {}
        }
      ],
      "source": [
        "plt.figure(figsize=(10,10))\n",
        "for i in range(25):\n",
        "    plt.subplot(5,5,i+1)\n",
        "    plt.xticks([])\n",
        "    plt.yticks([])\n",
        "    plt.grid(False)\n",
        "    plt.imshow(train_images[i], cmap=plt.cm.binary)\n",
        "    plt.xlabel(class_names[train_labels[i]])\n",
        "plt.show()"
      ]
    },
    {
      "cell_type": "markdown",
      "metadata": {
        "id": "59veuiEZCaW4"
      },
      "source": [
        "## Construindo o modelo\n",
        "\n",
        "A construção da rede neural requer\n",
        "\n",
        "1.   Criar e configurar as camadas do modelo,\n",
        "2.   e depois, compilar o modelo."
      ]
    },
    {
      "cell_type": "markdown",
      "metadata": {
        "id": "Gxg1XGm0eOBy"
      },
      "source": [
        "### Montar as camadas\n",
        "\n",
        "O principal bloco de construção de uma rede neural é a camada (*layer*).\n",
        "\n",
        "Neste exemplo, usaremos camadas da classe `tf.keras.layers.Dense`. Essas camadas são totalmente conectadas, ou seja, as saídas da camada anterior se conectam a todos os nós da camada.\n",
        "\n",
        "A ideia é que as camadas vão extraindo representações dos dados de entrada da rede. Com sorte, essas representações serão significativas o suficiente para que ela classifique os dados de entrada.\n",
        "\n",
        "Nas redes de alimentação direta (*feed-forward*), como as Multi-Layer Perceptron, temos sequências de camadas que vão extraindo as informações dos dados de entrada.\n",
        "\n",
        "Portanto, o que vamos fazer é **sequencializar** (ou empilhar) várias camadas.\n",
        "\n",
        "Nós sequencializamos um grupo de camadas com um objeto da classe `keras.Sequential`.\n",
        "\n",
        "Essa classe é apropriada para empilhar camadas, onde cada camada tem exatamente um **tensor** de entrada e um tensor de saída.\n",
        "\n",
        "+ Um **tensor** é uma generalização de vetores e matrizes e é facilmente entendido como uma array multidimensional."
      ]
    },
    {
      "cell_type": "code",
      "execution_count": 14,
      "metadata": {
        "id": "9ODch-OFCaW4"
      },
      "outputs": [],
      "source": [
        "model = tf.keras.Sequential(\n",
        "    [\n",
        "        tf.keras.layers.Flatten(input_shape=(28, 28)),\n",
        "        tf.keras.layers.Dense(128, activation='relu'),\n",
        "        tf.keras.layers.Dense(10, activation='softmax')\n",
        "    ]\n",
        ")"
      ]
    },
    {
      "cell_type": "markdown",
      "metadata": {
        "id": "gut8A_7rCaW6"
      },
      "source": [
        "A primeira camada da rede, `tf.keras.layers.Flatten`, transforma o formato da imagem de uma array com duas dimensões (28 por 28 pixels) em uma array unidimensional com 784 pixels (i.e., 28 * 28 = 784 pixels).\n",
        "\n",
        "\n",
        "\n",
        "Essa camada não tem parâmetros a serem aprendidos durante o treinamento, ela só redimensiona os dados de entrada. Como o próprio nome diz, ela **achata** os dados de entrada.\n",
        "\n",
        "\n",
        "Por ser a primeira camada da rede neural, devemos definir o parâmetro `input_shape`, o qual define as dimensões dos exemplos de entrada da rede.\n",
        "\n",
        "\n",
        "Depois dos pixels serem achatados, a rede consiste de uma sequência de duas camadas do tipo `tf.keras.layers.Dense`. Essas são camadas chamadas de densamente ou totalmente conectadas. Isso significa que todos os sinais de entrada de uma camada são conectados a todos os nós (ou neurônios) daquela camada.\n",
        "\n",
        "\n",
        "\n",
        "A primeira camada `Dense`, que é única camada oculta desta rede, tem 128 nós e usa a função de ativação **relu** em todos seus nós.\n",
        "\n",
        "\n",
        "\n",
        "A segunda camada `Dense`, que é a camada de saída, tem 10 nós, pois temos 10 classes, usa uma função de ativação **softmax** e retorna uma array de 10 probabilidades.\n",
        "    \n",
        "+ Cada nó de saída da rede gera um valor que indica a probabilidade (ou **confiança**) de que aquela imagem de entrada pertença a uma das 10 classes. A soma das 10 probabilidades sempre resulta em 1 (propriedade da distribuição multinomial).\n"
      ]
    },
    {
      "cell_type": "markdown",
      "metadata": {
        "id": "SbQyaoqQIMo3"
      },
      "source": [
        "## Compilando o modelo\n",
        "\n",
        "Antes do modelo ser treinado, é necessário configurar alguns parâmetros necessários para o seu treinamento. Essa configuração é feita durante a etapa de **compilação** do modelo:\n",
        "\n",
        "* *loss*: define a **função de custo** a ser minimizada durante o processo de aprendizado. O objetivo é encontrar o conjunto de pesos que minimize essa função. A função de custo `sparse_categorical_crossentropy` calcula a entropia cruzada entre os rótulos e as predições feitas pela rede.\n",
        "\n",
        "\n",
        "* *optimizer*: define o algoritmo usado para atualizar os pesos da rede neural com base no conjunto de treinamento e na função de custo. Podemos usar o gradiente descendente estocástico (GDE) ou uma de suas várias versões, como o `Adam`, que é uma versão com ajuste adaptativo do passo de aprendizagem.\n",
        "\n",
        "\n",
        "\n",
        "* *metrics*: definimos as métricas usadas para monitorar o treinamento e validação do modelo. O exemplo abaixo usa a **acurácia** como métrica. Passamos uma lista, pois podemos definir mais de uma métrica a ser monitorada."
      ]
    },
    {
      "cell_type": "code",
      "execution_count": 15,
      "metadata": {
        "id": "Lhan11blCaW7"
      },
      "outputs": [],
      "source": [
        "model.compile(\n",
        "    loss='sparse_categorical_crossentropy',\n",
        "    optimizer='adam',\n",
        "    metrics=['accuracy']\n",
        ")"
      ]
    },
    {
      "cell_type": "markdown",
      "metadata": {
        "id": "qKF6uW-BCaW-"
      },
      "source": [
        "## Treinando o modelo\n",
        "\n",
        "Para treinar, usamos o método `fit`.\n",
        "\n",
        "\n",
        "O modelo é treinado por 25 épocas com o conjunto de treinamento, ou seja, `train_images` e `train_labels`. O número de épocas é configurado através do parâmetro `epochs`.\n",
        "\n",
        "\n",
        "O modelo é treinado usando **mini-batches** de tamanho igual a 32 amostras, que é o valor padrão do parâmetro `batch_size` do método `fit`.\n",
        "\n",
        "\n",
        "O método `fit` retorna um objeto do tipo `History` que contém um **dicionário** com o **histórico de valores da função de custo e da acurácia** ao longo das épocas de treinamento."
      ]
    },
    {
      "cell_type": "code",
      "execution_count": 16,
      "metadata": {
        "colab": {
          "base_uri": "https://localhost:8080/"
        },
        "id": "xvwvpA64CaW_",
        "outputId": "96abcfb9-cd92-47b4-9f28-bfbedcb278c7"
      },
      "outputs": [
        {
          "output_type": "stream",
          "name": "stdout",
          "text": [
            "Epoch 1/25\n",
            "1875/1875 [==============================] - 6s 2ms/step - loss: 0.4964 - accuracy: 0.8249\n",
            "Epoch 2/25\n",
            "1875/1875 [==============================] - 5s 3ms/step - loss: 0.3740 - accuracy: 0.8648\n",
            "Epoch 3/25\n",
            "1875/1875 [==============================] - 4s 2ms/step - loss: 0.3352 - accuracy: 0.8775\n",
            "Epoch 4/25\n",
            "1875/1875 [==============================] - 5s 3ms/step - loss: 0.3096 - accuracy: 0.8857\n",
            "Epoch 5/25\n",
            "1875/1875 [==============================] - 5s 3ms/step - loss: 0.2927 - accuracy: 0.8919\n",
            "Epoch 6/25\n",
            "1875/1875 [==============================] - 5s 3ms/step - loss: 0.2770 - accuracy: 0.8975\n",
            "Epoch 7/25\n",
            "1875/1875 [==============================] - 5s 3ms/step - loss: 0.2666 - accuracy: 0.9012\n",
            "Epoch 8/25\n",
            "1875/1875 [==============================] - 5s 2ms/step - loss: 0.2541 - accuracy: 0.9052\n",
            "Epoch 9/25\n",
            "1875/1875 [==============================] - 4s 2ms/step - loss: 0.2441 - accuracy: 0.9087\n",
            "Epoch 10/25\n",
            "1875/1875 [==============================] - 5s 3ms/step - loss: 0.2356 - accuracy: 0.9123\n",
            "Epoch 11/25\n",
            "1875/1875 [==============================] - 5s 2ms/step - loss: 0.2269 - accuracy: 0.9150\n",
            "Epoch 12/25\n",
            "1875/1875 [==============================] - 5s 2ms/step - loss: 0.2191 - accuracy: 0.9191\n",
            "Epoch 13/25\n",
            "1875/1875 [==============================] - 5s 3ms/step - loss: 0.2133 - accuracy: 0.9195\n",
            "Epoch 14/25\n",
            "1875/1875 [==============================] - 4s 2ms/step - loss: 0.2058 - accuracy: 0.9221\n",
            "Epoch 15/25\n",
            "1875/1875 [==============================] - 5s 2ms/step - loss: 0.1999 - accuracy: 0.9247\n",
            "Epoch 16/25\n",
            "1875/1875 [==============================] - 5s 3ms/step - loss: 0.1923 - accuracy: 0.9275\n",
            "Epoch 17/25\n",
            "1875/1875 [==============================] - 5s 3ms/step - loss: 0.1885 - accuracy: 0.9293\n",
            "Epoch 18/25\n",
            "1875/1875 [==============================] - 6s 3ms/step - loss: 0.1842 - accuracy: 0.9311\n",
            "Epoch 19/25\n",
            "1875/1875 [==============================] - 4s 2ms/step - loss: 0.1779 - accuracy: 0.9334\n",
            "Epoch 20/25\n",
            "1875/1875 [==============================] - 4s 2ms/step - loss: 0.1734 - accuracy: 0.9354\n",
            "Epoch 21/25\n",
            "1875/1875 [==============================] - 5s 3ms/step - loss: 0.1695 - accuracy: 0.9355\n",
            "Epoch 22/25\n",
            "1875/1875 [==============================] - 4s 2ms/step - loss: 0.1689 - accuracy: 0.9363\n",
            "Epoch 23/25\n",
            "1875/1875 [==============================] - 4s 2ms/step - loss: 0.1602 - accuracy: 0.9390\n",
            "Epoch 24/25\n",
            "1875/1875 [==============================] - 5s 3ms/step - loss: 0.1573 - accuracy: 0.9398\n",
            "Epoch 25/25\n",
            "1875/1875 [==============================] - 5s 2ms/step - loss: 0.1536 - accuracy: 0.9418\n"
          ]
        }
      ],
      "source": [
        "history = model.fit(train_images, train_labels, epochs=25)"
      ]
    },
    {
      "cell_type": "markdown",
      "metadata": {
        "id": "W3ZVOhugCaXA"
      },
      "source": [
        "À medida que o modelo treina, as métricas **loss** e **acurácia** de treinamento são mostradas.\n",
        "\n",
        "\n",
        "O modelo atinge uma acurácia de aproximadamente 94% com o conjunto de treinamento."
      ]
    },
    {
      "cell_type": "markdown",
      "metadata": {
        "id": "vz0exogweAMA"
      },
      "source": [
        "### Desempenho do modelo ao longo do treinamento\n",
        "\n",
        "Usamos as informações contidas no objeto do tipo `History` para plotar uma figura do erro/acurácia em função das épocas de treinamento."
      ]
    },
    {
      "cell_type": "code",
      "execution_count": 17,
      "metadata": {
        "colab": {
          "base_uri": "https://localhost:8080/",
          "height": 570
        },
        "id": "GpMAFlvFcnR1",
        "outputId": "decf375f-964b-4e94-ade7-7749dec36a46"
      },
      "outputs": [
        {
          "output_type": "display_data",
          "data": {
            "text/plain": [
              "<Figure size 800x600 with 1 Axes>"
            ],
            "image/png": "[encoded data removed]"
          },
          "metadata": {}
        }
      ],
      "source": [
        "plt.figure(figsize=(8, 6))\n",
        "plt.plot(history.history['accuracy'])\n",
        "plt.plot(history.history['loss'])\n",
        "plt.xlabel('epoch', fontsize=14)\n",
        "plt.legend(['Accuracy', 'Loss'], fontsize=14)\n",
        "plt.title('Desempenho do modelo ao longo do treinamento', fontsize=14)\n",
        "plt.grid()\n",
        "plt.show()"
      ]
    },
    {
      "cell_type": "markdown",
      "metadata": {
        "id": "oEw4bZgGCaXB"
      },
      "source": [
        "## Avaliando a acurácia\n",
        "\n",
        "Em seguida, verificamos o desempenho do modelo no conjunto de validação.\n",
        "\n",
        "\n",
        "Para avaliar o desempenho, usamos o método `evaluate` da classe `Model` passando as imagens e rótulos de validação."
      ]
    },
    {
      "cell_type": "code",
      "execution_count": 29,
      "metadata": {
        "colab": {
          "base_uri": "https://localhost:8080/"
        },
        "id": "VflXLEeECaXC",
        "outputId": "0ab317ae-a031-4435-ea42-4d82a522f98f"
      },
      "outputs": [
        {
          "output_type": "stream",
          "name": "stdout",
          "text": [
            "313/313 [==============================] - 1s 3ms/step - loss: 0.4133 - accuracy: 0.8767\n",
            "\n",
            "Test accuracy: 0.8766999840736389\n"
          ]
        }
      ],
      "source": [
        "test_loss, test_acc = model.evaluate(test_images, test_labels)\n",
        "\n",
        "print('\\nTest accuracy:', test_acc)"
      ]
    },
    {
      "cell_type": "markdown",
      "metadata": {
        "id": "yWfgsmVXCaXG"
      },
      "source": [
        "A acurácia com o conjunto de validação é um pouco menor do que a acurácia com o conjunto de treinamento.\n",
        "\n",
        "Essa diferença entre as duas acurácias representa um pequeno **sobreajuste**, em inglês, *overfitting*, do modelo no conjunto de treinamento."
      ]
    },
    {
      "cell_type": "markdown",
      "metadata": {
        "id": "xsoS7CPDCaXH"
      },
      "source": [
        "## Fazendo predições\n",
        "\n",
        "Usaremos o modelo treinado para realizar algumas predições de exemplos do conjunto de validação.\n",
        "\n",
        "\n",
        "Para realizar predições, usamos o método `predict` da classe `Model`."
      ]
    },
    {
      "cell_type": "code",
      "execution_count": 19,
      "metadata": {
        "id": "Gl91RPhdCaXI",
        "outputId": "a753047e-6d8f-4852-d3ef-be623be2f329",
        "colab": {
          "base_uri": "https://localhost:8080/"
        }
      },
      "outputs": [
        {
          "output_type": "stream",
          "name": "stdout",
          "text": [
            "313/313 [==============================] - 1s 1ms/step\n"
          ]
        }
      ],
      "source": [
        "predictions = model.predict(test_images)"
      ]
    },
    {
      "cell_type": "markdown",
      "metadata": {
        "id": "x9Kk1voUCaXJ"
      },
      "source": [
        "O modelo faz a predição para cada imagem no conjunto de validação e as atribuiu à variável `predictions`.\n",
        "\n",
        "Vamos verificar as dimensões desta variável."
      ]
    },
    {
      "cell_type": "code",
      "execution_count": 20,
      "metadata": {
        "id": "sOQvDZQ0W50G",
        "outputId": "2110b8cf-a2f0-497f-91f3-e062b4a7632b",
        "colab": {
          "base_uri": "https://localhost:8080/"
        }
      },
      "outputs": [
        {
          "output_type": "execute_result",
          "data": {
            "text/plain": [
              "(10000, 10)"
            ]
          },
          "metadata": {},
          "execution_count": 20
        }
      ],
      "source": [
        "predictions.shape"
      ]
    },
    {
      "cell_type": "markdown",
      "metadata": {
        "id": "sf0NpEIiW50G"
      },
      "source": [
        "Essas dimensões significam que temos para cada uma das 10.000 imagens, 10 valores de probabilidade, um valor para cada uma das 10 possíveis classes a que podem pertencer as imagens.\n",
        "\n",
        "\n",
        "Vamos olhar a saída para a primeira predição:"
      ]
    },
    {
      "cell_type": "code",
      "execution_count": 21,
      "metadata": {
        "colab": {
          "base_uri": "https://localhost:8080/"
        },
        "id": "3DmJEUinCaXK",
        "outputId": "6b7c6a0e-09e9-4676-fb56-cb5156c32d0d"
      },
      "outputs": [
        {
          "output_type": "execute_result",
          "data": {
            "text/plain": [
              "array([1.2497161e-11, 9.1091862e-17, 5.3236716e-12, 1.5379864e-11,\n",
              "       3.4905914e-15, 2.1169647e-06, 1.5675758e-11, 7.1697483e-05,\n",
              "       2.3419407e-14, 9.9992621e-01], dtype=float32)"
            ]
          },
          "metadata": {},
          "execution_count": 21
        }
      ],
      "source": [
        "predictions[0]"
      ]
    },
    {
      "cell_type": "markdown",
      "metadata": {
        "id": "-hw1hgeSCaXN"
      },
      "source": [
        "Como vemos acima, a predição para cada imagem é uma array com 10 valores.\n",
        "\n",
        "Cada valor representa a **confiança** (ou probabilidade) do modelo que a imagem pertença a cada uma das diferentes classes de roupa.\n",
        "\n",
        "Com a função `np.argmax`, podemos verificar qual classe, ou seja, o índice, tem a maior **probabilidade**."
      ]
    },
    {
      "cell_type": "code",
      "execution_count": 22,
      "metadata": {
        "colab": {
          "base_uri": "https://localhost:8080/"
        },
        "id": "qsqenuPnCaXO",
        "outputId": "c21e611e-6460-4b63-ba32-c45a9eb71fb8"
      },
      "outputs": [
        {
          "output_type": "execute_result",
          "data": {
            "text/plain": [
              "9"
            ]
          },
          "metadata": {},
          "execution_count": 22
        }
      ],
      "source": [
        "np.argmax(predictions[0])"
      ]
    },
    {
      "cell_type": "markdown",
      "metadata": {
        "id": "E51yS7iCCaXO"
      },
      "source": [
        "Então, o modelo está bastante confiante de que essa imagem é uma **bota**.\n",
        "\n",
        "Examinando os rótulos de validação, vemos que essa classificação está correta:"
      ]
    },
    {
      "cell_type": "code",
      "execution_count": 23,
      "metadata": {
        "colab": {
          "base_uri": "https://localhost:8080/"
        },
        "id": "Sd7Pgsu6CaXP",
        "outputId": "b1f01cd3-3998-46d8-909f-108ed485bcc8"
      },
      "outputs": [
        {
          "output_type": "execute_result",
          "data": {
            "text/plain": [
              "9"
            ]
          },
          "metadata": {},
          "execution_count": 23
        }
      ],
      "source": [
        "test_labels[0]"
      ]
    },
    {
      "cell_type": "markdown",
      "metadata": {
        "id": "DgAWoXmrJEiZ"
      },
      "source": [
        "## Plotando a matriz de confusão\n",
        "\n",
        "Plotamos a matriz de confusão para o conjunto de validação."
      ]
    },
    {
      "cell_type": "code",
      "execution_count": 24,
      "metadata": {
        "id": "GWVFbhpeW50H",
        "outputId": "2b371d5a-4519-4cae-ce71-6548d27c722c",
        "colab": {
          "base_uri": "https://localhost:8080/",
          "height": 466
        }
      },
      "outputs": [
        {
          "output_type": "stream",
          "name": "stdout",
          "text": [
            "313/313 [==============================] - 1s 2ms/step\n"
          ]
        },
        {
          "output_type": "display_data",
          "data": {
            "text/plain": [
              "<Figure size 640x480 with 1 Axes>"
            ],
            "image/png": "[encoded data removed]"
          },
          "metadata": {}
        }
      ],
      "source": [
        "# Predict.\n",
        "y_pred = np.argmax(model.predict(test_images), axis=1)\n",
        "\n",
        "# Plot the confusion matrix.\n",
        "mat = confusion_matrix(test_labels, y_pred)\n",
        "sns.heatmap(mat.T, square=True, annot=True, fmt='d', cbar=False, xticklabels=range(10), yticklabels=range(10), cmap=\"Blues\")\n",
        "plt.xlabel('True label')\n",
        "plt.ylabel('Predicted label')\n",
        "plt.show()"
      ]
    },
    {
      "cell_type": "markdown",
      "metadata": {
        "id": "FqZXH7643f4I"
      },
      "source": [
        "Percebam que o modelo se confunde com algumas classes. O principal motivo é a semelhança entre algumas delas e, claro, a baixa qualidade das imagens.\n",
        "\n",
        "Dois exemplos claros são\n",
        "\n",
        "+ Peças de roupa da classe 0 (Camisetas) sendo incorretamente classificadas como pertencentes à classe 6 (Camisas).\n",
        "+ Peças de roupa da classe 4 (Casacos) sendo incorretamente classificadas como pertencentes à classe 2 (Suéters)."
      ]
    },
    {
      "cell_type": "markdown",
      "metadata": {
        "id": "-TUN6PbUYHi1"
      },
      "source": [
        "## Usando uma GPU\n",
        "\n",
        "O treinamento que fizemos acima foi feito usando CPUs.\n",
        "\n",
        "\n",
        "Como esta é uma rede pequena, ela pode ser facilmente treinada em CPUs, mas conforme a rede se torna maior (i.e., mais camadas) e o conjunto de treinamento muito grande, a complexidade computacional necessária para o seu treinamento aumenta e, nesses casos, deve-se usar GPUs.\n",
        "\n",
        "\n",
        "Assim, para acelerar o treinamento de modelos muito grandes e com bases de dados muito grandes, podemos habilitar o uso de GPUs no Colab através do menu **Editar** e, em seguida, **Configurações de notebook**."
      ]
    },
    {
      "cell_type": "markdown",
      "metadata": {
        "id": "_lVQLB0KW50I"
      },
      "source": [
        "## Tarefa\n",
        "\n",
        "**OBS.: Este laboratório é opcional. Ele não faz parte dos 15% da nota de atividades, mas vale pontos extras.**\n",
        "\n",
        "1. <span style=\"color:blue\">**Laboratório #8 - Tensorflow**</span>: cliquem no link abaixo para accessar os exercícios do laboratório #8.\n",
        "\n",
        "[![Google Colab](https://badgen.net/badge/Launch/on%20Google%20Colab/blue?icon=terminal)](https://colab.research.google.com/github/zz4fap/t320_aprendizado_de_maquina/blob/main/labs/Laboratorio9.ipynb)"
      ]
    }
  ],
  "metadata": {
    "accelerator": "GPU",
    "colab": {
      "provenance": []
    },
    "gpuClass": "standard",
    "kernelspec": {
      "display_name": "Python 3 (ipykernel)",
      "language": "python",
      "name": "python3"
    },
    "language_info": {
      "codemirror_mode": {
        "name": "ipython",
        "version": 3
      },
      "file_extension": ".py",
      "mimetype": "text/x-python",
      "name": "python",
      "nbconvert_exporter": "python",
      "pygments_lexer": "ipython3",
      "version": "3.10.9"
    }
  },
  "nbformat": 4,
  "nbformat_minor": 0
}